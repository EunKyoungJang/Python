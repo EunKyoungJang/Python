{
 "cells": [
  {
   "cell_type": "code",
   "execution_count": 1,
   "id": "65a6f24c",
   "metadata": {},
   "outputs": [],
   "source": [
    "from IPython.core.interactiveshell import InteractiveShell\n",
    "InteractiveShell.ast_node_interactivity=\"all\""
   ]
  },
  {
   "cell_type": "code",
   "execution_count": 2,
   "id": "29c7cd22",
   "metadata": {},
   "outputs": [],
   "source": [
    "import numpy as np\n",
    "import json"
   ]
  },
  {
   "cell_type": "code",
   "execution_count": 3,
   "id": "c015ee0c",
   "metadata": {},
   "outputs": [],
   "source": [
    "with open(\"../card_data/json/202107.json\", \"r\", encoding=\"utf-8\") as f:\n",
    "    json_data = json.load(f)"
   ]
  },
  {
   "cell_type": "code",
   "execution_count": 4,
   "id": "bdfd4c04",
   "metadata": {},
   "outputs": [
    {
     "data": {
      "text/plain": [
       "array([['20210701', '', '13000', '', '식사', '일식', ''],\n",
       "       ['20210701', '', '13500', '', '식사', '카페', '바나프레소'],\n",
       "       ['20210701', '', '9700', '', '식사', '한식', ''],\n",
       "       ['20210702', '', '1400', '', '생활', '편의점', 'CU'],\n",
       "       ['20210702', '', '48000', '', '기타', '', ''],\n",
       "       ['20210702', '', '17500', '', '식사', '디저트', ''],\n",
       "       ['20210702', '', '8000', '', '식사', '한식', ''],\n",
       "       ['20210703', '', '14400', '', '식사', '카페', '아이스달달'],\n",
       "       ['20210703', '', '40000', '', '생활', '헤어', ''],\n",
       "       ['20210704', '', '10480', '8', '쇼핑', '온라인', '인터파크'],\n",
       "       ['20210705', '', '6300', '', '생활', '편의점', 'CU'],\n",
       "       ['20210705', '', '26900', '', '쇼핑', '온라인', '네이버'],\n",
       "       ['20210705', '', '9800', '', '식사', '카페', '해머스미스'],\n",
       "       ['20210705', '', '18980', '', '식사', '중식', ''],\n",
       "       ['20210706', '', '8000', '', '식사', '한식', ''],\n",
       "       ['20210707', '', '8000', '', '식사', '한식', ''],\n",
       "       ['20210708', '', '15550', '', '식사', '중식', ''],\n",
       "       ['20210708', '', '35200', '', '교통', '택시', ''],\n",
       "       ['20210708', '', '3600', '', '생활', '편의점', 'CU'],\n",
       "       ['20210708', '', '3500', '', '생활', '편의점', 'CU'],\n",
       "       ['20210709', '', '5300', '', '생활', '편의점', 'CU'],\n",
       "       ['20210709', '', '7400', '', '식사', '햄버거', '롯데리아'],\n",
       "       ['20210710', '', '17000', '', '식사', '치킨', '자담치킨'],\n",
       "       ['20210711', '', '34000', '', '식사', '디저트', ''],\n",
       "       ['20210712', '', '13000', '', '생활', '편의점', '세븐일레븐'],\n",
       "       ['20210712', '', '1300', '', '생활', '편의점', '세븐일레븐'],\n",
       "       ['20210712', '', '57600', '', '통신', '', ''],\n",
       "       ['20210712', '', '-2500', '', '기타', '할인', ''],\n",
       "       ['20210713', '', '5200', '', '생활', '편의점', 'GS25'],\n",
       "       ['20210713', '', '3500', '', '식사', '카페', '바나프레소'],\n",
       "       ['20210714', '', '13000', '', '식사', '레스토랑', ''],\n",
       "       ['20210714', '', '1200', '', '생활', '편의점', '세븐일레븐'],\n",
       "       ['20210714', '', '2500', '', '식사', '카페', '해머스미스'],\n",
       "       ['20210714', '', '11600', '', '식사', '카페', '해머스미스'],\n",
       "       ['20210715', '', '9500', '', '식사', '카페', '해머스미스'],\n",
       "       ['20210715', '', '54400', '', '의료', '병원', ''],\n",
       "       ['20210715', '', '-2000', '', '기타', '할인', ''],\n",
       "       ['20210715', '20210720', '55200', '', '교통', '버스 21', ''],\n",
       "       ['20210715', '', '1900', '', '생활', '편의점', 'CU'],\n",
       "       ['20210716', '', '30000', '', '식사', '햄버거', '롯데리아'],\n",
       "       ['20210716', '', '10100', '', '식사', '카페', '해머스미스'],\n",
       "       ['20210717', '', '1800', '', '생활', '편의점', 'GS25'],\n",
       "       ['20210718', '', '1800', '', '생활', '편의점', 'GS25'],\n",
       "       ['20210719', '', '14300', '', '식사', '카페', '해머스미스'],\n",
       "       ['20210720', '', '1700', '', '생활', '편의점', 'CU'],\n",
       "       ['20210720', '', '102900', '', '의료', '병원', ''],\n",
       "       ['20210720', '', '100000', '', '의료', '병원', ''],\n",
       "       ['20210720', '', '9700', '', '식사', '한식', ''],\n",
       "       ['20210721', '', '2250', '', '생활', '편의점', 'CU'],\n",
       "       ['20210721', '', '6600', '', '식사', '카페', '해머스미스'],\n",
       "       ['20210722', '', '-2500', '', '기타', '할인', ''],\n",
       "       ['20210722', '', '76500', '183', '문화', '도서', '교보문고'],\n",
       "       ['20210722', '', '-822', '', '기타', '포인트사용', ''],\n",
       "       ['20210722', '', '4500', '', '생활', '편의점', 'CU'],\n",
       "       ['20210722', '', '3500', '', '생활', '편의점', 'CU'],\n",
       "       ['20210722', '20210804', '3100', '', '교통', '지하철 2', ''],\n",
       "       ['20210723', '', '6700', '', '생활', '편의점', '세븐일레븐'],\n",
       "       ['20210723', '', '7400', '', '생활', '편의점', '세븐일레븐'],\n",
       "       ['20210723', '', '-7400', '', '생활', '편의점', '세븐일레븐'],\n",
       "       ['20210723', '', '10000', '', '생활', '편의점', '세븐일레븐'],\n",
       "       ['20210723', '', '8600', '', '식사', '카페', '해머스미스'],\n",
       "       ['20210724', '', '15600', '', '생활', '마트', '웰빙마트'],\n",
       "       ['20210726', '', '2150', '', '생활', '편의점', 'CU'],\n",
       "       ['20210727', '', '9600', '', '식사', '카페', '해머스미스'],\n",
       "       ['20210727', '', '1700', '', '생활', '편의점', '세븐일레븐'],\n",
       "       ['20210729', '', '60000', '144', '문화', '도서', '교보문고'],\n",
       "       ['20210729', '', '-2500', '', '기타', '할인', ''],\n",
       "       ['20210730', '', '1800', '', '식사', '카페', '스타벅스'],\n",
       "       ['20210730', '', '8900', '', '생활', '편의점', 'CU'],\n",
       "       ['20210730', '20210804', '45850', '', '교통', '버스 17', ''],\n",
       "       ['20210730', '', '100000', '', '식사', '카페', '스타벅스'],\n",
       "       ['20210730', '', '140000', '', '식사', '카페', '스타벅스'],\n",
       "       ['20210730', '', '3600', '', '생활', '편의점', '세븐일레븐'],\n",
       "       ['20210731', '', '3900', '', '의료', '병원', '']], dtype='<U8')"
      ]
     },
     "execution_count": 4,
     "metadata": {},
     "output_type": "execute_result"
    }
   ],
   "source": [
    "card_202107 = np.array(json_data[\"list\"])\n",
    "card_202107 = np.array(list(map(lambda x: list(x.values()), card_202107)))\n",
    "card_202107"
   ]
  },
  {
   "cell_type": "code",
   "execution_count": 5,
   "id": "b1b51527",
   "metadata": {},
   "outputs": [
    {
     "data": {
      "text/plain": [
       "array([['20210701', '13000', '식사', '일식'],\n",
       "       ['20210701', '13500', '식사', '카페'],\n",
       "       ['20210701', '9700', '식사', '한식'],\n",
       "       ['20210702', '1400', '생활', '편의점'],\n",
       "       ['20210702', '48000', '기타', ''],\n",
       "       ['20210702', '17500', '식사', '디저트'],\n",
       "       ['20210702', '8000', '식사', '한식'],\n",
       "       ['20210703', '14400', '식사', '카페'],\n",
       "       ['20210703', '40000', '생활', '헤어'],\n",
       "       ['20210704', '10480', '쇼핑', '온라인'],\n",
       "       ['20210705', '6300', '생활', '편의점'],\n",
       "       ['20210705', '26900', '쇼핑', '온라인'],\n",
       "       ['20210705', '9800', '식사', '카페'],\n",
       "       ['20210705', '18980', '식사', '중식'],\n",
       "       ['20210706', '8000', '식사', '한식'],\n",
       "       ['20210707', '8000', '식사', '한식'],\n",
       "       ['20210708', '15550', '식사', '중식'],\n",
       "       ['20210708', '35200', '교통', '택시'],\n",
       "       ['20210708', '3600', '생활', '편의점'],\n",
       "       ['20210708', '3500', '생활', '편의점'],\n",
       "       ['20210709', '5300', '생활', '편의점'],\n",
       "       ['20210709', '7400', '식사', '햄버거'],\n",
       "       ['20210710', '17000', '식사', '치킨'],\n",
       "       ['20210711', '34000', '식사', '디저트'],\n",
       "       ['20210712', '13000', '생활', '편의점'],\n",
       "       ['20210712', '1300', '생활', '편의점'],\n",
       "       ['20210712', '57600', '통신', ''],\n",
       "       ['20210712', '-2500', '기타', '할인'],\n",
       "       ['20210713', '5200', '생활', '편의점'],\n",
       "       ['20210713', '3500', '식사', '카페'],\n",
       "       ['20210714', '13000', '식사', '레스토랑'],\n",
       "       ['20210714', '1200', '생활', '편의점'],\n",
       "       ['20210714', '2500', '식사', '카페'],\n",
       "       ['20210714', '11600', '식사', '카페'],\n",
       "       ['20210715', '9500', '식사', '카페'],\n",
       "       ['20210715', '54400', '의료', '병원'],\n",
       "       ['20210715', '-2000', '기타', '할인'],\n",
       "       ['20210715', '55200', '교통', '버스 21'],\n",
       "       ['20210715', '1900', '생활', '편의점'],\n",
       "       ['20210716', '30000', '식사', '햄버거'],\n",
       "       ['20210716', '10100', '식사', '카페'],\n",
       "       ['20210717', '1800', '생활', '편의점'],\n",
       "       ['20210718', '1800', '생활', '편의점'],\n",
       "       ['20210719', '14300', '식사', '카페'],\n",
       "       ['20210720', '1700', '생활', '편의점'],\n",
       "       ['20210720', '102900', '의료', '병원'],\n",
       "       ['20210720', '100000', '의료', '병원'],\n",
       "       ['20210720', '9700', '식사', '한식'],\n",
       "       ['20210721', '2250', '생활', '편의점'],\n",
       "       ['20210721', '6600', '식사', '카페'],\n",
       "       ['20210722', '-2500', '기타', '할인'],\n",
       "       ['20210722', '76500', '문화', '도서'],\n",
       "       ['20210722', '-822', '기타', '포인트사용'],\n",
       "       ['20210722', '4500', '생활', '편의점'],\n",
       "       ['20210722', '3500', '생활', '편의점'],\n",
       "       ['20210722', '3100', '교통', '지하철 2'],\n",
       "       ['20210723', '6700', '생활', '편의점'],\n",
       "       ['20210723', '7400', '생활', '편의점'],\n",
       "       ['20210723', '-7400', '생활', '편의점'],\n",
       "       ['20210723', '10000', '생활', '편의점'],\n",
       "       ['20210723', '8600', '식사', '카페'],\n",
       "       ['20210724', '15600', '생활', '마트'],\n",
       "       ['20210726', '2150', '생활', '편의점'],\n",
       "       ['20210727', '9600', '식사', '카페'],\n",
       "       ['20210727', '1700', '생활', '편의점'],\n",
       "       ['20210729', '60000', '문화', '도서'],\n",
       "       ['20210729', '-2500', '기타', '할인'],\n",
       "       ['20210730', '1800', '식사', '카페'],\n",
       "       ['20210730', '8900', '생활', '편의점'],\n",
       "       ['20210730', '45850', '교통', '버스 17'],\n",
       "       ['20210730', '100000', '식사', '카페'],\n",
       "       ['20210730', '140000', '식사', '카페'],\n",
       "       ['20210730', '3600', '생활', '편의점'],\n",
       "       ['20210731', '3900', '의료', '병원']], dtype='<U8')"
      ]
     },
     "execution_count": 5,
     "metadata": {},
     "output_type": "execute_result"
    }
   ],
   "source": [
    "card_202107 = card_202107[:, [0, 2, 4, 5]]\n",
    "card_202107"
   ]
  },
  {
   "cell_type": "code",
   "execution_count": 6,
   "id": "9b491d51",
   "metadata": {},
   "outputs": [
    {
     "data": {
      "text/plain": [
       "18678.891891891893"
      ]
     },
     "execution_count": 6,
     "metadata": {},
     "output_type": "execute_result"
    },
    {
     "data": {
      "text/plain": [
       "8750.0"
      ]
     },
     "execution_count": 6,
     "metadata": {},
     "output_type": "execute_result"
    },
    {
     "data": {
      "text/plain": [
       "27872.73740984266"
      ]
     },
     "execution_count": 6,
     "metadata": {},
     "output_type": "execute_result"
    }
   ],
   "source": [
    "money = card_202107[:, 1].astype('int') \n",
    "np.mean(money) \n",
    "np.median(money) \n",
    "np.std(money) "
   ]
  },
  {
   "cell_type": "code",
   "execution_count": 7,
   "id": "4821af0b",
   "metadata": {},
   "outputs": [
    {
     "data": {
      "text/plain": [
       "array(['일식', '카페', '한식', '편의점', '', '디저트', '한식', '카페', '헤어', '온라인', '편의점',\n",
       "       '온라인', '카페', '중식', '한식', '한식', '중식', '택시', '편의점', '편의점', '편의점',\n",
       "       '햄버거', '치킨', '디저트', '편의점', '편의점', '', '할인', '편의점', '카페', '레스토랑',\n",
       "       '편의점', '카페', '카페', '카페', '병원', '할인', '버스 21', '편의점', '햄버거', '카페',\n",
       "       '편의점', '편의점', '카페', '편의점', '병원', '병원', '한식', '편의점', '카페', '할인',\n",
       "       '도서', '포인트사용', '편의점', '편의점', '지하철 2', '편의점', '편의점', '편의점', '편의점',\n",
       "       '카페', '마트', '편의점', '카페', '편의점', '도서', '할인', '카페', '편의점', '버스 17',\n",
       "       '카페', '카페', '편의점', '병원'], dtype='<U8')"
      ]
     },
     "execution_count": 7,
     "metadata": {},
     "output_type": "execute_result"
    },
    {
     "data": {
      "text/plain": [
       "15"
      ]
     },
     "execution_count": 7,
     "metadata": {},
     "output_type": "execute_result"
    },
    {
     "data": {
      "text/plain": [
       "24"
      ]
     },
     "execution_count": 7,
     "metadata": {},
     "output_type": "execute_result"
    }
   ],
   "source": [
    "#카테고리별 결제 빈도수 확인 \n",
    "#방법 1: list에서 count \n",
    "category = card_202107[:, 3]\n",
    "category\n",
    "list(category).count('카페')\n",
    "list(category).count('편의점')"
   ]
  },
  {
   "cell_type": "code",
   "execution_count": 8,
   "id": "f4ca5e5b",
   "metadata": {},
   "outputs": [
    {
     "data": {
      "text/plain": [
       "Counter({'편의점': 24,\n",
       "         '카페': 15,\n",
       "         '한식': 5,\n",
       "         '할인': 4,\n",
       "         '병원': 4,\n",
       "         '': 2,\n",
       "         '디저트': 2,\n",
       "         '온라인': 2,\n",
       "         '중식': 2,\n",
       "         '햄버거': 2,\n",
       "         '도서': 2,\n",
       "         '일식': 1,\n",
       "         '헤어': 1,\n",
       "         '택시': 1,\n",
       "         '치킨': 1,\n",
       "         '레스토랑': 1,\n",
       "         '버스 21': 1,\n",
       "         '포인트사용': 1,\n",
       "         '지하철 2': 1,\n",
       "         '마트': 1,\n",
       "         '버스 17': 1})"
      ]
     },
     "execution_count": 8,
     "metadata": {},
     "output_type": "execute_result"
    }
   ],
   "source": [
    "#방법 2: counter 모듈사용 \n",
    "from collections import Counter \n",
    "Counter(category) "
   ]
  },
  {
   "cell_type": "code",
   "execution_count": 9,
   "id": "028c98bf",
   "metadata": {},
   "outputs": [
    {
     "data": {
      "text/plain": [
       "array([ -7400,  -2500,  -2500,  -2500,  -2000,   -822,   1200,   1300,\n",
       "         1400,   1700,   1700,   1800,   1800,   1800,   1900,   2150,\n",
       "         2250,   2500,   3100,   3500,   3500,   3500,   3600,   3600,\n",
       "         3900,   4500,   5200,   5300,   6300,   6600,   6700,   7400,\n",
       "         7400,   8000,   8000,   8000,   8600,   8900,   9500,   9600,\n",
       "         9700,   9700,   9800,  10000,  10100,  10480,  11600,  13000,\n",
       "        13000,  13000,  13500,  14300,  14400,  15550,  15600,  17000,\n",
       "        17500,  18980,  26900,  30000,  34000,  35200,  40000,  45850,\n",
       "        48000,  54400,  55200,  57600,  60000,  76500, 100000, 100000,\n",
       "       102900, 140000])"
      ]
     },
     "execution_count": 9,
     "metadata": {},
     "output_type": "execute_result"
    },
    {
     "data": {
      "text/plain": [
       "array([140000, 102900, 100000, 100000,  76500,  60000,  57600,  55200,\n",
       "        54400,  48000,  45850,  40000,  35200,  34000,  30000,  26900,\n",
       "        18980,  17500,  17000,  15600,  15550,  14400,  14300,  13500,\n",
       "        13000,  13000,  13000,  11600,  10480,  10100,  10000,   9800,\n",
       "         9700,   9700,   9600,   9500,   8900,   8600,   8000,   8000,\n",
       "         8000,   7400,   7400,   6700,   6600,   6300,   5300,   5200,\n",
       "         4500,   3900,   3600,   3600,   3500,   3500,   3500,   3100,\n",
       "         2500,   2250,   2150,   1900,   1800,   1800,   1800,   1700,\n",
       "         1700,   1400,   1300,   1200,   -822,  -2000,  -2500,  -2500,\n",
       "        -2500,  -7400])"
      ]
     },
     "execution_count": 9,
     "metadata": {},
     "output_type": "execute_result"
    }
   ],
   "source": [
    "# 결제액 정렬 (올림/내림)해보기 \n",
    "np.sort(money, axis=0) \n",
    "np.sort(money, axis=0)[::-1] "
   ]
  },
  {
   "cell_type": "code",
   "execution_count": 10,
   "id": "b592ab09",
   "metadata": {},
   "outputs": [
    {
     "data": {
      "text/plain": [
       "6"
      ]
     },
     "execution_count": 10,
     "metadata": {},
     "output_type": "execute_result"
    }
   ],
   "source": [
    "#할인받은건수와 만원, 5만원 이상 결제건수 확인하기 \n",
    "len(money[money < 0]) "
   ]
  },
  {
   "cell_type": "code",
   "execution_count": 11,
   "id": "3918e870",
   "metadata": {},
   "outputs": [
    {
     "data": {
      "text/plain": [
       "9"
      ]
     },
     "execution_count": 11,
     "metadata": {},
     "output_type": "execute_result"
    }
   ],
   "source": [
    "#할인 6건 len(money[money >= 10000]) \n",
    "#만원 이상 결제액 31건 \n",
    "len(money[money >= 50000]) "
   ]
  },
  {
   "cell_type": "code",
   "execution_count": 12,
   "id": "e609bd19",
   "metadata": {},
   "outputs": [
    {
     "data": {
      "text/plain": [
       "(array([27, 36, 50, 52, 58, 66], dtype=int64),\n",
       " array([1, 1, 1, 1, 1, 1], dtype=int64))"
      ]
     },
     "execution_count": 12,
     "metadata": {},
     "output_type": "execute_result"
    }
   ],
   "source": [
    "#할인받은 항목 찾아내기 \n",
    "np.where((card_202107 == '-7400')|(card_202107 == '-2500')|(card_202107 == '-2000')|(card_202107 == '-822'))"
   ]
  },
  {
   "cell_type": "code",
   "execution_count": 13,
   "id": "3c9f4736",
   "metadata": {},
   "outputs": [
    {
     "data": {
      "text/plain": [
       "array([['20210712', '-2500', '기타', '할인'],\n",
       "       ['20210715', '-2000', '기타', '할인'],\n",
       "       ['20210722', '-2500', '기타', '할인'],\n",
       "       ['20210722', '-822', '기타', '포인트사용'],\n",
       "       ['20210723', '-7400', '생활', '편의점'],\n",
       "       ['20210729', '-2500', '기타', '할인']], dtype='<U8')"
      ]
     },
     "execution_count": 13,
     "metadata": {},
     "output_type": "execute_result"
    }
   ],
   "source": [
    "#인덱스 \n",
    "card_202107[[27, 36, 50, 52, 58, 66]]"
   ]
  },
  {
   "cell_type": "code",
   "execution_count": 14,
   "id": "bb970dcf",
   "metadata": {},
   "outputs": [
    {
     "name": "stdout",
     "output_type": "stream",
     "text": [
      "18678.891891891893\n"
     ]
    }
   ],
   "source": [
    "# 21년 7월 하루 평균 사용 금액은? \n",
    "mean_value = card_202107[:, 1].astype(\"float\").mean() \n",
    "print(mean_value) "
   ]
  },
  {
   "cell_type": "code",
   "execution_count": 15,
   "id": "24733950",
   "metadata": {},
   "outputs": [
    {
     "name": "stdout",
     "output_type": "stream",
     "text": [
      "74\n"
     ]
    }
   ],
   "source": [
    "# 21년 7월 총 결제 건 수 \n",
    "count_value = card_202107.shape[0] \n",
    "print(count_value) "
   ]
  },
  {
   "cell_type": "code",
   "execution_count": 16,
   "id": "a97f0ef8",
   "metadata": {},
   "outputs": [
    {
     "name": "stdout",
     "output_type": "stream",
     "text": [
      "91300.0\n"
     ]
    }
   ],
   "source": [
    "# 21년 7월 편의점에서 사용한 금액의 총 합계 금액은? \n",
    "condition = card_202107[:, 3] == \"편의점\" \n",
    "filter_values = card_202107[condition] \n",
    "sum_con_store = filter_values[:, 1].astype(\"float\").sum() \n",
    "print(sum_con_store) "
   ]
  },
  {
   "cell_type": "code",
   "execution_count": 17,
   "id": "043ed96e",
   "metadata": {},
   "outputs": [
    {
     "data": {
      "text/plain": [
       "2"
      ]
     },
     "execution_count": 17,
     "metadata": {},
     "output_type": "execute_result"
    }
   ],
   "source": [
    "# 21년 7월 '쇼핑'을 몇 번 했는가? \n",
    "condition = card_202107[:, 2] == \"쇼핑\" \n",
    "filter_value = card_202107[condition] \n",
    "shpping_count = filter_value.shape[0] \n",
    "shpping_count "
   ]
  },
  {
   "cell_type": "code",
   "execution_count": 18,
   "id": "3648537d",
   "metadata": {},
   "outputs": [],
   "source": [
    "# 7월 교통비가 전체 사용 금액에서 차지하는 비율은? \n",
    "# 1) 전체 사용 금액\n",
    "total_pay = card_202107[:, 1].astype(\"float\").sum() "
   ]
  },
  {
   "cell_type": "code",
   "execution_count": 19,
   "id": "c9af8451",
   "metadata": {},
   "outputs": [],
   "source": [
    "# 2) 교통비 금액 \n",
    "condition = card_202107[:, 2] == \"교통\" \n",
    "trans_pay = card_202107[condition][:, 1] \n",
    "trans_pay_value = trans_pay[0].astype(\"int\").sum() "
   ]
  },
  {
   "cell_type": "code",
   "execution_count": 20,
   "id": "b4a70f09",
   "metadata": {},
   "outputs": [
    {
     "name": "stdout",
     "output_type": "stream",
     "text": [
      "3.0\n"
     ]
    }
   ],
   "source": [
    "# 3) 전체 사용 금액 중 교통비 비율 \n",
    "print(((trans_pay_value/total_pay)*100).round()) "
   ]
  },
  {
   "cell_type": "code",
   "execution_count": 21,
   "id": "07f8ecf9",
   "metadata": {},
   "outputs": [
    {
     "name": "stdout",
     "output_type": "stream",
     "text": [
      "140000\n"
     ]
    }
   ],
   "source": [
    "# 21년 가장 크게 지출한 건의 금액은 얼마인가 (1회 결제 기준) \n",
    "pay_value = card_202107[:, 1] \n",
    "max_value = pay_value.astype(\"int\").max() \n",
    "print(max_value)"
   ]
  },
  {
   "cell_type": "code",
   "execution_count": 22,
   "id": "1f04e109",
   "metadata": {},
   "outputs": [],
   "source": [
    "# 대분류에 따른 소비금액은?\n",
    "\n",
    "import matplotlib.pyplot as plt\n",
    "import seaborn as sns\n",
    "import numpy as np"
   ]
  },
  {
   "cell_type": "code",
   "execution_count": 23,
   "id": "dfbfeebf",
   "metadata": {},
   "outputs": [],
   "source": [
    "plt.style.use(\"seaborn-v0_8\")\n",
    "plt.rc(\"font\", family=\"Malgun Gothic\")"
   ]
  },
  {
   "cell_type": "code",
   "execution_count": 24,
   "id": "12c07b35",
   "metadata": {},
   "outputs": [],
   "source": [
    "d = card_202107[card_202107[:, 1].astype(int) > 0]\n",
    "rows = d.shape[0]"
   ]
  },
  {
   "cell_type": "code",
   "execution_count": 25,
   "id": "e0a0fc26",
   "metadata": {},
   "outputs": [],
   "source": [
    "labels = np.unique(d[:, 2])\n",
    "amounts = [d[np.array([label == d[i][2] for i in range(rows)])][:, 1].astype(int).sum() for label in labels]\n",
    "data = np.array(sorted(zip(labels, amounts), key=lambda x: x[1], reverse=True))\n",
    "labels, amounts = data[:, 0], data[:, 1]"
   ]
  },
  {
   "cell_type": "code",
   "execution_count": 26,
   "id": "4fbb1f53",
   "metadata": {},
   "outputs": [
    {
     "data": {
      "text/plain": [
       "([<matplotlib.patches.Wedge at 0x1f31b305180>,\n",
       "  <matplotlib.patches.Wedge at 0x1f31b3050f0>,\n",
       "  <matplotlib.patches.Wedge at 0x1f31b305d50>,\n",
       "  <matplotlib.patches.Wedge at 0x1f31b3063e0>,\n",
       "  <matplotlib.patches.Wedge at 0x1f31b306a70>,\n",
       "  <matplotlib.patches.Wedge at 0x1f31b307100>,\n",
       "  <matplotlib.patches.Wedge at 0x1f31b307790>,\n",
       "  <matplotlib.patches.Wedge at 0x1f31b307e20>],\n",
       " [Text(1.050384842935816, 0.32663692646530545, '식사'),\n",
       "  Text(0.018512609405470393, -1.0998442086463884, '의료'),\n",
       "  Text(-0.872205071333105, -0.6702673448265353, '생활'),\n",
       "  Text(-1.0999922756347609, 0.004122322629326219, '교통'),\n",
       "  Text(-0.8934916848900383, 0.6416171826193254, '문화'),\n",
       "  Text(-0.5393485772079681, 0.9586986556075588, '통신'),\n",
       "  Text(-0.299210496746101, 1.0585240094759079, '기타'),\n",
       "  Text(-0.09216308096046283, 1.0961322760086372, '쇼핑')],\n",
       " [Text(0.8116610149958577, 0.2524012613595542, '40%'),\n",
       "  Text(0.014305198176954394, -0.8498796157722092, '19%'),\n",
       "  Text(-0.6739766460301264, -0.517933857365959, '11%'),\n",
       "  Text(-0.8499940311723152, 0.0031854311226611693, '10%'),\n",
       "  Text(-0.6904253928695749, 0.49579509566038776, '10%'),\n",
       "  Text(-0.41676935511524804, 0.7408125975149317, '4%'),\n",
       "  Text(-0.2312081111219871, 0.817950370958656, '3%'),\n",
       "  Text(-0.07121692619672126, 0.8470113041884924, '3%')])"
      ]
     },
     "execution_count": 26,
     "metadata": {},
     "output_type": "execute_result"
    },
    {
     "data": {
      "image/png": "[encoded data removed]",
      "text/plain": [
       "<Figure size 1000x600 with 1 Axes>"
      ]
     },
     "metadata": {},
     "output_type": "display_data"
    }
   ],
   "source": [
    "fig = plt.figure(figsize=(10, 6))\n",
    "ax = fig.add_subplot(111)\n",
    "\n",
    "ax.pie(amounts, labels=labels, colors=sns.color_palette(\"pastel\"), startangle=90, counterclock=False, autopct=\"%.0f%%\", pctdistance=0.85, textprops={'fontsize': 12})\n",
    "plt.show()"
   ]
  },
  {
   "cell_type": "code",
   "execution_count": 27,
   "id": "b943ce94",
   "metadata": {},
   "outputs": [
    {
     "data": {
      "text/plain": [
       "([<matplotlib.patches.Wedge at 0x1f31e619db0>,\n",
       "  <matplotlib.patches.Wedge at 0x1f31e619d20>,\n",
       "  <matplotlib.patches.Wedge at 0x1f31e61a950>,\n",
       "  <matplotlib.patches.Wedge at 0x1f31e61afe0>,\n",
       "  <matplotlib.patches.Wedge at 0x1f31e61b670>,\n",
       "  <matplotlib.patches.Wedge at 0x1f31e61bd00>,\n",
       "  <matplotlib.patches.Wedge at 0x1f31e6503d0>,\n",
       "  <matplotlib.patches.Wedge at 0x1f31e650a60>],\n",
       " [Text(1.0108524608137877, -0.43379407841360623, '카페'),\n",
       "  Text(-0.9787150842015044, -0.502112322051991, '디저트'),\n",
       "  Text(-1.0984513456389042, 0.058349303886858175, '한식'),\n",
       "  Text(-0.9643662493845278, 0.5291481239199654, '햄버거'),\n",
       "  Text(-0.6826030350134576, 0.8625851242575521, '중식'),\n",
       "  Text(-0.4113164340645348, 1.0202052690848227, '치킨'),\n",
       "  Text(-0.23641418111389087, 1.074294342798215, '레스토랑'),\n",
       "  Text(-0.07935552280595434, 1.0971338573757505, '일식')],\n",
       " [Text(0.7811132651742904, -0.3352045151377866, '63%'),\n",
       "  Text(-0.7562798377920715, -0.38799588522199296, '9%'),\n",
       "  Text(-0.8488033125391531, 0.04508809845802677, '8%'),\n",
       "  Text(-0.745192101797135, 0.4088871866654277, '7%'),\n",
       "  Text(-0.5274659816013081, 0.6665430505626538, '6%'),\n",
       "  Text(-0.317835426322595, 0.7883404352019083, '3%'),\n",
       "  Text(-0.1826836854061884, 0.8301365376168024, '2%'),\n",
       "  Text(-0.06132017671369198, 0.8477852534267163, '2%')])"
      ]
     },
     "execution_count": 27,
     "metadata": {},
     "output_type": "execute_result"
    },
    {
     "data": {
      "image/png": "[encoded data removed]",
      "text/plain": [
       "<Figure size 1000x600 with 1 Axes>"
      ]
     },
     "metadata": {},
     "output_type": "display_data"
    }
   ],
   "source": [
    "# 식사 중분류에 따른 소비금액은?\n",
    "\n",
    "meal_data = d[np.array([\"식사\" in d[i] for i in range(rows)])]\n",
    "meal_rows = meal_data.shape[0]\n",
    "\n",
    "labels = np.unique(meal_data[:, 3])\n",
    "amounts = [meal_data[np.array([label == meal_data[i][3] for i in range(meal_rows)])][:, 1].astype(int).sum() for label in labels]\n",
    "data = np.array(sorted(zip(labels, amounts), key=lambda x: x[1], reverse=True))\n",
    "labels, amounts = data[:, 0], data[:, 1]\n",
    "\n",
    "fig = plt.figure(figsize=(10, 6))\n",
    "ax = fig.add_subplot(111)\n",
    "\n",
    "ax.pie(amounts, labels=labels, colors=sns.color_palette(\"pastel\"), startangle=90, counterclock=False, autopct=\"%.0f%%\", pctdistance=0.85, textprops={'fontsize': 12})\n",
    "plt.show()"
   ]
  },
  {
   "cell_type": "code",
   "execution_count": 28,
   "id": "e8d7871a",
   "metadata": {},
   "outputs": [
    {
     "data": {
      "text/plain": [
       "<BarContainer object of 8 artists>"
      ]
     },
     "execution_count": 28,
     "metadata": {},
     "output_type": "execute_result"
    },
    {
     "data": {
      "text/plain": [
       "Text(0, 0.5, '평균 소비금액')"
      ]
     },
     "execution_count": 28,
     "metadata": {},
     "output_type": "execute_result"
    },
    {
     "data": {
      "image/png": "[encoded data removed]",
      "text/plain": [
       "<Figure size 1000x600 with 1 Axes>"
      ]
     },
     "metadata": {},
     "output_type": "display_data"
    }
   ],
   "source": [
    "# 대분류에 따른 평균 소비금액은?\n",
    "\n",
    "labels = np.unique(d[:, 2])\n",
    "amounts = [d[np.array([label == d[i][2] for i in range(rows)])][:, 1].astype(int).mean() for label in labels]\n",
    "\n",
    "fig = plt.figure(figsize=(10, 6))\n",
    "ax = fig.add_subplot(111)\n",
    "\n",
    "ax.bar(labels, amounts, color=sns.color_palette(\"pastel\"))\n",
    "ax.set_ylabel(\"평균 소비금액\")\n",
    "plt.show()"
   ]
  },
  {
   "cell_type": "code",
   "execution_count": 29,
   "id": "617816d1",
   "metadata": {},
   "outputs": [
    {
     "data": {
      "text/plain": [
       "<BarContainer object of 29 artists>"
      ]
     },
     "execution_count": 29,
     "metadata": {},
     "output_type": "execute_result"
    },
    {
     "data": {
      "text/plain": [
       "Text(0, 0.5, '일일 소비금액')"
      ]
     },
     "execution_count": 29,
     "metadata": {},
     "output_type": "execute_result"
    },
    {
     "data": {
      "image/png": "[encoded data removed]",
      "text/plain": [
       "<Figure size 1000x600 with 1 Axes>"
      ]
     },
     "metadata": {},
     "output_type": "display_data"
    }
   ],
   "source": [
    "# 하루에 소비한 금액은?\n",
    "\n",
    "labels = np.unique(d[:, 0])\n",
    "amounts = [d[np.array([label == d[i][0] for i in range(rows)])][:, 1].astype(int).mean() for label in labels]\n",
    "\n",
    "labels = list(map(lambda x: x[-2:], labels))\n",
    "\n",
    "fig = plt.figure(figsize=(10, 6))\n",
    "ax = fig.add_subplot(111)\n",
    "\n",
    "ax.bar(labels, amounts, color=sns.color_palette(\"pastel\"))\n",
    "ax.set_ylabel(\"일일 소비금액\")\n",
    "plt.show()"
   ]
  },
  {
   "cell_type": "code",
   "execution_count": 30,
   "id": "ef53292f",
   "metadata": {},
   "outputs": [
    {
     "data": {
      "text/plain": [
       "Text(0.5, 0, '1건당 사용금액')"
      ]
     },
     "execution_count": 30,
     "metadata": {},
     "output_type": "execute_result"
    },
    {
     "data": {
      "text/plain": [
       "[Text(0, 1, '')]"
      ]
     },
     "execution_count": 30,
     "metadata": {},
     "output_type": "execute_result"
    },
    {
     "data": {
      "text/plain": [
       "Text(0.5, 1.0, 'Q3 이상 소비 횟수')"
      ]
     },
     "execution_count": 30,
     "metadata": {},
     "output_type": "execute_result"
    },
    {
     "data": {
      "text/plain": [
       "<BarContainer object of 8 artists>"
      ]
     },
     "execution_count": 30,
     "metadata": {},
     "output_type": "execute_result"
    },
    {
     "data": {
      "image/png": "[encoded data removed]",
      "text/plain": [
       "<Figure size 1500x900 with 2 Axes>"
      ]
     },
     "metadata": {},
     "output_type": "display_data"
    }
   ],
   "source": [
    "# 어떤 곳에 순간적으로 많은 돈을 사용하는가?\n",
    "\n",
    "amounts = d[:, 1].astype(int)\n",
    "q3 = np.percentile(amounts, 75)\n",
    "\n",
    "rows = d.shape[0]\n",
    "singular_amounts = amounts[amounts > q3].astype(str)\n",
    "\n",
    "singular_point = d[np.array([d[i][1] in singular_amounts for i in range(rows)])]\n",
    "labels, counts = np.unique(singular_point[:, 2], return_counts=True)\n",
    "\n",
    "\n",
    "fig = plt.figure(figsize=(15, 9))\n",
    "ax1 = plt.subplot2grid((3, 5), (0, 0), colspan=3)\n",
    "ax2 = plt.subplot2grid((3, 5), (0, 3), colspan=2)\n",
    "\n",
    "ret_box = ax1.boxplot(amounts, vert=False)\n",
    "ax1.set_xlabel(\"1건당 사용금액\")\n",
    "ax1.set_yticklabels([])\n",
    "\n",
    "ax2.set_title(\"Q3 이상 소비 횟수\")\n",
    "ax2.bar(labels, counts, color=sns.color_palette(\"pastel\"))\n",
    "\n",
    "plt.show()"
   ]
  },
  {
   "cell_type": "code",
   "execution_count": 31,
   "id": "82641464",
   "metadata": {},
   "outputs": [
    {
     "name": "stdout",
     "output_type": "stream",
     "text": [
      "['20210701' '20210701' '20210701' '20210702' '20210702' '20210702'\n",
      " '20210702' '20210703' '20210703' '20210704' '20210705' '20210705'\n",
      " '20210705' '20210705' '20210706' '20210707' '20210708' '20210708'\n",
      " '20210708' '20210708' '20210709' '20210709' '20210710' '20210711'\n",
      " '20210712' '20210712' '20210712' '20210712' '20210713' '20210713'\n",
      " '20210714' '20210714' '20210714' '20210714' '20210715' '20210715'\n",
      " '20210715' '20210715' '20210715' '20210716' '20210716' '20210717'\n",
      " '20210718' '20210719' '20210720' '20210720' '20210720' '20210720'\n",
      " '20210721' '20210721' '20210722' '20210722' '20210722' '20210722'\n",
      " '20210722' '20210722' '20210723' '20210723' '20210723' '20210723'\n",
      " '20210723' '20210724' '20210726' '20210727' '20210727' '20210729'\n",
      " '20210729' '20210730' '20210730' '20210730' '20210730' '20210730'\n",
      " '20210730' '20210731']\n",
      "Counter({'20210722': 6, '20210730': 6, '20210715': 5, '20210723': 5, '20210702': 4, '20210705': 4, '20210708': 4, '20210712': 4, '20210714': 4, '20210720': 4, '20210701': 3, '20210703': 2, '20210709': 2, '20210713': 2, '20210716': 2, '20210721': 2, '20210727': 2, '20210729': 2, '20210704': 1, '20210706': 1, '20210707': 1, '20210710': 1, '20210711': 1, '20210717': 1, '20210718': 1, '20210719': 1, '20210724': 1, '20210726': 1, '20210731': 1})\n",
      "[('20210701', 3), ('20210702', 4), ('20210703', 2), ('20210704', 1), ('20210705', 4), ('20210706', 1), ('20210707', 1), ('20210708', 4), ('20210709', 2), ('20210710', 1), ('20210711', 1), ('20210712', 4), ('20210713', 2), ('20210714', 4), ('20210715', 5), ('20210716', 2), ('20210717', 1), ('20210718', 1), ('20210719', 1), ('20210720', 4), ('20210721', 2), ('20210722', 6), ('20210723', 5), ('20210724', 1), ('20210726', 1), ('20210727', 2), ('20210729', 2), ('20210730', 6), ('20210731', 1)]\n",
      "{'20210701': 3, '20210702': 4, '20210703': 2, '20210704': 1, '20210705': 4, '20210706': 1, '20210707': 1, '20210708': 4, '20210709': 2, '20210710': 1, '20210711': 1, '20210712': 4, '20210713': 2, '20210714': 4, '20210715': 5, '20210716': 2, '20210717': 1, '20210718': 1, '20210719': 1, '20210720': 4, '20210721': 2, '20210722': 6, '20210723': 5, '20210724': 1, '20210726': 1, '20210727': 2, '20210729': 2, '20210730': 6, '20210731': 1}\n",
      "----------------------------\n",
      "날짜별 빈도수\n",
      "20210701 => 3 회 사용\n",
      "20210702 => 4 회 사용\n",
      "20210703 => 2 회 사용\n",
      "20210704 => 1 회 사용\n",
      "20210705 => 4 회 사용\n",
      "20210706 => 1 회 사용\n",
      "20210707 => 1 회 사용\n",
      "20210708 => 4 회 사용\n",
      "20210709 => 2 회 사용\n",
      "20210710 => 1 회 사용\n",
      "20210711 => 1 회 사용\n",
      "20210712 => 4 회 사용\n",
      "20210713 => 2 회 사용\n",
      "20210714 => 4 회 사용\n",
      "20210715 => 5 회 사용\n",
      "20210716 => 2 회 사용\n",
      "20210717 => 1 회 사용\n",
      "20210718 => 1 회 사용\n",
      "20210719 => 1 회 사용\n",
      "20210720 => 4 회 사용\n",
      "20210721 => 2 회 사용\n",
      "20210722 => 6 회 사용\n",
      "20210723 => 5 회 사용\n",
      "20210724 => 1 회 사용\n",
      "20210726 => 1 회 사용\n",
      "20210727 => 2 회 사용\n",
      "20210729 => 2 회 사용\n",
      "20210730 => 6 회 사용\n",
      "20210731 => 1 회 사용\n"
     ]
    }
   ],
   "source": [
    "# 날짜별 빈도수\n",
    "\n",
    "from collections import Counter\n",
    "\n",
    "date = card_202107[:, 0]\n",
    "print(date)\n",
    "counter = Counter(date)\n",
    "print(counter)\n",
    "counter01 = sorted(counter.items())\n",
    "print(counter01)\n",
    "counter02=dict(counter01)\n",
    "print(counter02)\n",
    "print(\"----------------------------\")\n",
    "print(\"날짜별 빈도수\")\n",
    "for k in counter02.keys():\n",
    "    print(k, \"=>\", counter02[k] ,\"회 사용\")"
   ]
  },
  {
   "cell_type": "code",
   "execution_count": 32,
   "id": "c17350ca",
   "metadata": {},
   "outputs": [
    {
     "name": "stdout",
     "output_type": "stream",
     "text": [
      "20210701 총합 : 36200원\n",
      "20210702 총합 : 74900원\n",
      "20210703 총합 : 54400원\n",
      "20210704 총합 : 10480원\n",
      "20210705 총합 : 61980원\n",
      "20210706 총합 : 8000원\n",
      "20210707 총합 : 8000원\n",
      "20210708 총합 : 57850원\n",
      "20210709 총합 : 12700원\n",
      "20210710 총합 : 17000원\n",
      "20210711 총합 : 34000원\n",
      "20210712 총합 : 69400원\n",
      "20210713 총합 : 8700원\n",
      "20210714 총합 : 28300원\n",
      "20210715 총합 : 119000원\n",
      "20210716 총합 : 40100원\n",
      "20210717 총합 : 1800원\n",
      "20210718 총합 : 1800원\n",
      "20210719 총합 : 14300원\n",
      "20210720 총합 : 214300원\n",
      "20210721 총합 : 8850원\n",
      "20210722 총합 : 84278원\n",
      "20210723 총합 : 25300원\n",
      "20210724 총합 : 15600원\n",
      "20210726 총합 : 2150원\n",
      "20210727 총합 : 11300원\n",
      "20210729 총합 : 57500원\n",
      "20210730 총합 : 300150원\n",
      "20210731 총합 : 3900원\n"
     ]
    }
   ],
   "source": [
    "# 2021년 7월 날짜별 지출 총합  \n",
    "\n",
    "dates = card_202107[:,0]\n",
    "\n",
    "# print(dict(date_payment))\n",
    "# print(date)\n",
    "payment = card_202107[:, 1].astype('int')\n",
    "# print(payment)\n",
    "# print(\"-----------\")\n",
    "result = {}\n",
    "\n",
    "for date in dates:\n",
    "    date_payment = payment[dates == date].sum()\n",
    "    result[date] = date_payment\n",
    "# print(result)\n",
    "for key, value in result.items():\n",
    "    print(f\"{key} 총합 : {value}원\")  "
   ]
  },
  {
   "cell_type": "code",
   "execution_count": 33,
   "id": "07ef5b87",
   "metadata": {},
   "outputs": [
    {
     "name": "stdout",
     "output_type": "stream",
     "text": [
      "18679.0 원\n"
     ]
    }
   ],
   "source": [
    "# 2021년 7월 지출 평균값\n",
    "\n",
    "month_payment = np.around(card_202107[:, 1].astype(\"int\").sum()/len(card_202107[:, 2]))\n",
    "print(f\"{month_payment} 원\")"
   ]
  },
  {
   "cell_type": "code",
   "execution_count": 34,
   "id": "034bb977",
   "metadata": {},
   "outputs": [
    {
     "name": "stdout",
     "output_type": "stream",
     "text": [
      "8750.0 원\n"
     ]
    }
   ],
   "source": [
    "# 2021년 7월 지출 중위값\n",
    "\n",
    "month_payment = np.median(card_202107[:, 1].astype(\"int\"))\n",
    "print(f'{month_payment} 원')"
   ]
  },
  {
   "cell_type": "code",
   "execution_count": 35,
   "id": "d10bd027",
   "metadata": {},
   "outputs": [
    {
     "name": "stdout",
     "output_type": "stream",
     "text": [
      "['' '도서' '디저트' '레스토랑' '마트' '버스 17' '버스 21' '병원' '온라인' '일식' '중식' '지하철 2'\n",
      " '치킨' '카페' '택시' '편의점' '포인트사용' '한식' '할인' '햄버거' '헤어']\n"
     ]
    }
   ],
   "source": [
    "# 카테고리 의 종류는?\n",
    "print(np.unique(card_202107[:, 3]))"
   ]
  },
  {
   "cell_type": "code",
   "execution_count": 36,
   "id": "57279b83",
   "metadata": {},
   "outputs": [
    {
     "data": {
      "text/plain": [
       "array([['13000', '식사'],\n",
       "       ['13500', '식사'],\n",
       "       ['9700', '식사'],\n",
       "       ['1400', '생활'],\n",
       "       ['48000', '기타'],\n",
       "       ['17500', '식사'],\n",
       "       ['8000', '식사'],\n",
       "       ['14400', '식사'],\n",
       "       ['40000', '생활'],\n",
       "       ['10480', '쇼핑'],\n",
       "       ['6300', '생활'],\n",
       "       ['26900', '쇼핑'],\n",
       "       ['9800', '식사'],\n",
       "       ['18980', '식사'],\n",
       "       ['8000', '식사'],\n",
       "       ['8000', '식사'],\n",
       "       ['15550', '식사'],\n",
       "       ['35200', '교통'],\n",
       "       ['3600', '생활'],\n",
       "       ['3500', '생활'],\n",
       "       ['5300', '생활'],\n",
       "       ['7400', '식사'],\n",
       "       ['17000', '식사'],\n",
       "       ['34000', '식사'],\n",
       "       ['13000', '생활'],\n",
       "       ['1300', '생활'],\n",
       "       ['57600', '통신'],\n",
       "       ['-2500', '기타'],\n",
       "       ['5200', '생활'],\n",
       "       ['3500', '식사'],\n",
       "       ['13000', '식사'],\n",
       "       ['1200', '생활'],\n",
       "       ['2500', '식사'],\n",
       "       ['11600', '식사'],\n",
       "       ['9500', '식사'],\n",
       "       ['54400', '의료'],\n",
       "       ['-2000', '기타'],\n",
       "       ['55200', '교통'],\n",
       "       ['1900', '생활'],\n",
       "       ['30000', '식사'],\n",
       "       ['10100', '식사'],\n",
       "       ['1800', '생활'],\n",
       "       ['1800', '생활'],\n",
       "       ['14300', '식사'],\n",
       "       ['1700', '생활'],\n",
       "       ['102900', '의료'],\n",
       "       ['100000', '의료'],\n",
       "       ['9700', '식사'],\n",
       "       ['2250', '생활'],\n",
       "       ['6600', '식사'],\n",
       "       ['-2500', '기타'],\n",
       "       ['76500', '문화'],\n",
       "       ['-822', '기타'],\n",
       "       ['4500', '생활'],\n",
       "       ['3500', '생활'],\n",
       "       ['3100', '교통'],\n",
       "       ['6700', '생활'],\n",
       "       ['7400', '생활'],\n",
       "       ['-7400', '생활'],\n",
       "       ['10000', '생활'],\n",
       "       ['8600', '식사'],\n",
       "       ['15600', '생활'],\n",
       "       ['2150', '생활'],\n",
       "       ['9600', '식사'],\n",
       "       ['1700', '생활'],\n",
       "       ['60000', '문화'],\n",
       "       ['-2500', '기타'],\n",
       "       ['1800', '식사'],\n",
       "       ['8900', '생활'],\n",
       "       ['45850', '교통'],\n",
       "       ['100000', '식사'],\n",
       "       ['140000', '식사'],\n",
       "       ['3600', '생활'],\n",
       "       ['3900', '의료']], dtype='<U8')"
      ]
     },
     "execution_count": 36,
     "metadata": {},
     "output_type": "execute_result"
    },
    {
     "data": {
      "text/plain": [
       "array([['13000', '식사'],\n",
       "       ['13500', '식사'],\n",
       "       ['9700', '식사'],\n",
       "       ['1400', '생활'],\n",
       "       ['48000', '기타'],\n",
       "       ['17500', '식사'],\n",
       "       ['8000', '식사'],\n",
       "       ['14400', '식사'],\n",
       "       ['40000', '생활'],\n",
       "       ['10480', '쇼핑'],\n",
       "       ['6300', '생활'],\n",
       "       ['26900', '쇼핑'],\n",
       "       ['9800', '식사'],\n",
       "       ['18980', '식사'],\n",
       "       ['8000', '식사'],\n",
       "       ['8000', '식사'],\n",
       "       ['15550', '식사'],\n",
       "       ['35200', '교통'],\n",
       "       ['3600', '생활'],\n",
       "       ['3500', '생활'],\n",
       "       ['5300', '생활'],\n",
       "       ['7400', '식사'],\n",
       "       ['17000', '식사'],\n",
       "       ['34000', '식사'],\n",
       "       ['13000', '생활'],\n",
       "       ['1300', '생활'],\n",
       "       ['57600', '통신'],\n",
       "       ['-2500', '기타'],\n",
       "       ['5200', '생활'],\n",
       "       ['3500', '식사'],\n",
       "       ['13000', '식사'],\n",
       "       ['1200', '생활'],\n",
       "       ['2500', '식사'],\n",
       "       ['11600', '식사'],\n",
       "       ['9500', '식사'],\n",
       "       ['54400', '의료'],\n",
       "       ['-2000', '기타'],\n",
       "       ['55200', '교통'],\n",
       "       ['1900', '생활'],\n",
       "       ['30000', '식사'],\n",
       "       ['10100', '식사'],\n",
       "       ['1800', '생활'],\n",
       "       ['1800', '생활'],\n",
       "       ['14300', '식사'],\n",
       "       ['1700', '생활'],\n",
       "       ['102900', '의료'],\n",
       "       ['100000', '의료'],\n",
       "       ['9700', '식사'],\n",
       "       ['2250', '생활'],\n",
       "       ['6600', '식사'],\n",
       "       ['-2500', '기타'],\n",
       "       ['76500', '문화'],\n",
       "       ['-822', '기타'],\n",
       "       ['4500', '생활'],\n",
       "       ['3500', '생활'],\n",
       "       ['3100', '교통'],\n",
       "       ['6700', '생활'],\n",
       "       ['7400', '생활'],\n",
       "       ['-7400', '생활'],\n",
       "       ['10000', '생활'],\n",
       "       ['8600', '식사'],\n",
       "       ['15600', '생활'],\n",
       "       ['2150', '생활'],\n",
       "       ['9600', '식사'],\n",
       "       ['1700', '생활'],\n",
       "       ['60000', '문화'],\n",
       "       ['-2500', '기타'],\n",
       "       ['1800', '식사'],\n",
       "       ['8900', '생활'],\n",
       "       ['45850', '교통'],\n",
       "       ['100000', '식사'],\n",
       "       ['140000', '식사'],\n",
       "       ['3600', '생활'],\n",
       "       ['3900', '의료']], dtype='<U8')"
      ]
     },
     "execution_count": 36,
     "metadata": {},
     "output_type": "execute_result"
    },
    {
     "name": "stdout",
     "output_type": "stream",
     "text": [
      "'식사' count: 29\n"
     ]
    }
   ],
   "source": [
    "# 1.\n",
    "card_202107[:, 1:3]\n",
    "df_list = card_202107[:, 1:3]\n",
    "df_list\n",
    "count = np.count_nonzero(df_list[:, 1] == '식사')\n",
    "\n",
    "print(f\"'식사' count: {count}\")"
   ]
  },
  {
   "cell_type": "code",
   "execution_count": 37,
   "id": "839eac65",
   "metadata": {},
   "outputs": [
    {
     "data": {
      "text/plain": [
       "array([['13000', '식사'],\n",
       "       ['13500', '식사'],\n",
       "       ['9700', '식사'],\n",
       "       ['1400', '생활'],\n",
       "       ['48000', '기타'],\n",
       "       ['17500', '식사'],\n",
       "       ['8000', '식사'],\n",
       "       ['14400', '식사'],\n",
       "       ['40000', '생활'],\n",
       "       ['10480', '쇼핑'],\n",
       "       ['6300', '생활'],\n",
       "       ['26900', '쇼핑'],\n",
       "       ['9800', '식사'],\n",
       "       ['18980', '식사'],\n",
       "       ['8000', '식사'],\n",
       "       ['8000', '식사'],\n",
       "       ['15550', '식사'],\n",
       "       ['35200', '교통'],\n",
       "       ['3600', '생활'],\n",
       "       ['3500', '생활'],\n",
       "       ['5300', '생활'],\n",
       "       ['7400', '식사'],\n",
       "       ['17000', '식사'],\n",
       "       ['34000', '식사'],\n",
       "       ['13000', '생활'],\n",
       "       ['1300', '생활'],\n",
       "       ['57600', '통신'],\n",
       "       ['-2500', '기타'],\n",
       "       ['5200', '생활'],\n",
       "       ['3500', '식사'],\n",
       "       ['13000', '식사'],\n",
       "       ['1200', '생활'],\n",
       "       ['2500', '식사'],\n",
       "       ['11600', '식사'],\n",
       "       ['9500', '식사'],\n",
       "       ['54400', '의료'],\n",
       "       ['-2000', '기타'],\n",
       "       ['55200', '교통'],\n",
       "       ['1900', '생활'],\n",
       "       ['30000', '식사'],\n",
       "       ['10100', '식사'],\n",
       "       ['1800', '생활'],\n",
       "       ['1800', '생활'],\n",
       "       ['14300', '식사'],\n",
       "       ['1700', '생활'],\n",
       "       ['102900', '의료'],\n",
       "       ['100000', '의료'],\n",
       "       ['9700', '식사'],\n",
       "       ['2250', '생활'],\n",
       "       ['6600', '식사'],\n",
       "       ['-2500', '기타'],\n",
       "       ['76500', '문화'],\n",
       "       ['-822', '기타'],\n",
       "       ['4500', '생활'],\n",
       "       ['3500', '생활'],\n",
       "       ['3100', '교통'],\n",
       "       ['6700', '생활'],\n",
       "       ['7400', '생활'],\n",
       "       ['-7400', '생활'],\n",
       "       ['10000', '생활'],\n",
       "       ['8600', '식사'],\n",
       "       ['15600', '생활'],\n",
       "       ['2150', '생활'],\n",
       "       ['9600', '식사'],\n",
       "       ['1700', '생활'],\n",
       "       ['60000', '문화'],\n",
       "       ['-2500', '기타'],\n",
       "       ['1800', '식사'],\n",
       "       ['8900', '생활'],\n",
       "       ['45850', '교통'],\n",
       "       ['100000', '식사'],\n",
       "       ['140000', '식사'],\n",
       "       ['3600', '생활'],\n",
       "       ['3900', '의료']], dtype='<U8')"
      ]
     },
     "execution_count": 37,
     "metadata": {},
     "output_type": "execute_result"
    },
    {
     "data": {
      "text/plain": [
       "array([['13000', '식사'],\n",
       "       ['13500', '식사'],\n",
       "       ['9700', '식사'],\n",
       "       ['1400', '생활'],\n",
       "       ['48000', '기타'],\n",
       "       ['17500', '식사'],\n",
       "       ['8000', '식사'],\n",
       "       ['14400', '식사'],\n",
       "       ['40000', '생활'],\n",
       "       ['10480', '쇼핑'],\n",
       "       ['6300', '생활'],\n",
       "       ['26900', '쇼핑'],\n",
       "       ['9800', '식사'],\n",
       "       ['18980', '식사'],\n",
       "       ['8000', '식사'],\n",
       "       ['8000', '식사'],\n",
       "       ['15550', '식사'],\n",
       "       ['35200', '교통'],\n",
       "       ['3600', '생활'],\n",
       "       ['3500', '생활'],\n",
       "       ['5300', '생활'],\n",
       "       ['7400', '식사'],\n",
       "       ['17000', '식사'],\n",
       "       ['34000', '식사'],\n",
       "       ['13000', '생활'],\n",
       "       ['1300', '생활'],\n",
       "       ['57600', '통신'],\n",
       "       ['-2500', '기타'],\n",
       "       ['5200', '생활'],\n",
       "       ['3500', '식사'],\n",
       "       ['13000', '식사'],\n",
       "       ['1200', '생활'],\n",
       "       ['2500', '식사'],\n",
       "       ['11600', '식사'],\n",
       "       ['9500', '식사'],\n",
       "       ['54400', '의료'],\n",
       "       ['-2000', '기타'],\n",
       "       ['55200', '교통'],\n",
       "       ['1900', '생활'],\n",
       "       ['30000', '식사'],\n",
       "       ['10100', '식사'],\n",
       "       ['1800', '생활'],\n",
       "       ['1800', '생활'],\n",
       "       ['14300', '식사'],\n",
       "       ['1700', '생활'],\n",
       "       ['102900', '의료'],\n",
       "       ['100000', '의료'],\n",
       "       ['9700', '식사'],\n",
       "       ['2250', '생활'],\n",
       "       ['6600', '식사'],\n",
       "       ['-2500', '기타'],\n",
       "       ['76500', '문화'],\n",
       "       ['-822', '기타'],\n",
       "       ['4500', '생활'],\n",
       "       ['3500', '생활'],\n",
       "       ['3100', '교통'],\n",
       "       ['6700', '생활'],\n",
       "       ['7400', '생활'],\n",
       "       ['-7400', '생활'],\n",
       "       ['10000', '생활'],\n",
       "       ['8600', '식사'],\n",
       "       ['15600', '생활'],\n",
       "       ['2150', '생활'],\n",
       "       ['9600', '식사'],\n",
       "       ['1700', '생활'],\n",
       "       ['60000', '문화'],\n",
       "       ['-2500', '기타'],\n",
       "       ['1800', '식사'],\n",
       "       ['8900', '생활'],\n",
       "       ['45850', '교통'],\n",
       "       ['100000', '식사'],\n",
       "       ['140000', '식사'],\n",
       "       ['3600', '생활'],\n",
       "       ['3900', '의료']], dtype='<U8')"
      ]
     },
     "execution_count": 37,
     "metadata": {},
     "output_type": "execute_result"
    },
    {
     "name": "stdout",
     "output_type": "stream",
     "text": [
      "7월 식사 횟수: 29\n"
     ]
    }
   ],
   "source": [
    "# 2.\n",
    "card_202107[:, 1:3]\n",
    "df_list = card_202107[:, 1:3]\n",
    "df_list\n",
    "count = np.count_nonzero(df_list[:, 1] == '식사')\n",
    "\n",
    "print(f\"7월 식사 횟수: {count}\")"
   ]
  },
  {
   "cell_type": "code",
   "execution_count": 38,
   "id": "d64d0671",
   "metadata": {},
   "outputs": [
    {
     "name": "stdout",
     "output_type": "stream",
     "text": [
      "7월 식사에 쓴 금액: 565630원\n"
     ]
    }
   ],
   "source": [
    "# 3.\n",
    "costs_eats = df_list[df_list[:, 1] == '식사'][:, 0].astype(int)\n",
    "total_cost = np.sum(costs_eats)\n",
    "\n",
    "print(f\"7월 식사에 쓴 금액: {total_cost}원\")"
   ]
  },
  {
   "cell_type": "code",
   "execution_count": 39,
   "id": "875757e6",
   "metadata": {},
   "outputs": [
    {
     "data": {
      "text/plain": [
       "array([['13000', '식사', '일식'],\n",
       "       ['13500', '식사', '카페'],\n",
       "       ['9700', '식사', '한식'],\n",
       "       ['1400', '생활', '편의점'],\n",
       "       ['48000', '기타', ''],\n",
       "       ['17500', '식사', '디저트'],\n",
       "       ['8000', '식사', '한식'],\n",
       "       ['14400', '식사', '카페'],\n",
       "       ['40000', '생활', '헤어'],\n",
       "       ['10480', '쇼핑', '온라인'],\n",
       "       ['6300', '생활', '편의점'],\n",
       "       ['26900', '쇼핑', '온라인'],\n",
       "       ['9800', '식사', '카페'],\n",
       "       ['18980', '식사', '중식'],\n",
       "       ['8000', '식사', '한식'],\n",
       "       ['8000', '식사', '한식'],\n",
       "       ['15550', '식사', '중식'],\n",
       "       ['35200', '교통', '택시'],\n",
       "       ['3600', '생활', '편의점'],\n",
       "       ['3500', '생활', '편의점'],\n",
       "       ['5300', '생활', '편의점'],\n",
       "       ['7400', '식사', '햄버거'],\n",
       "       ['17000', '식사', '치킨'],\n",
       "       ['34000', '식사', '디저트'],\n",
       "       ['13000', '생활', '편의점'],\n",
       "       ['1300', '생활', '편의점'],\n",
       "       ['57600', '통신', ''],\n",
       "       ['-2500', '기타', '할인'],\n",
       "       ['5200', '생활', '편의점'],\n",
       "       ['3500', '식사', '카페'],\n",
       "       ['13000', '식사', '레스토랑'],\n",
       "       ['1200', '생활', '편의점'],\n",
       "       ['2500', '식사', '카페'],\n",
       "       ['11600', '식사', '카페'],\n",
       "       ['9500', '식사', '카페'],\n",
       "       ['54400', '의료', '병원'],\n",
       "       ['-2000', '기타', '할인'],\n",
       "       ['55200', '교통', '버스 21'],\n",
       "       ['1900', '생활', '편의점'],\n",
       "       ['30000', '식사', '햄버거'],\n",
       "       ['10100', '식사', '카페'],\n",
       "       ['1800', '생활', '편의점'],\n",
       "       ['1800', '생활', '편의점'],\n",
       "       ['14300', '식사', '카페'],\n",
       "       ['1700', '생활', '편의점'],\n",
       "       ['102900', '의료', '병원'],\n",
       "       ['100000', '의료', '병원'],\n",
       "       ['9700', '식사', '한식'],\n",
       "       ['2250', '생활', '편의점'],\n",
       "       ['6600', '식사', '카페'],\n",
       "       ['-2500', '기타', '할인'],\n",
       "       ['76500', '문화', '도서'],\n",
       "       ['-822', '기타', '포인트사용'],\n",
       "       ['4500', '생활', '편의점'],\n",
       "       ['3500', '생활', '편의점'],\n",
       "       ['3100', '교통', '지하철 2'],\n",
       "       ['6700', '생활', '편의점'],\n",
       "       ['7400', '생활', '편의점'],\n",
       "       ['-7400', '생활', '편의점'],\n",
       "       ['10000', '생활', '편의점'],\n",
       "       ['8600', '식사', '카페'],\n",
       "       ['15600', '생활', '마트'],\n",
       "       ['2150', '생활', '편의점'],\n",
       "       ['9600', '식사', '카페'],\n",
       "       ['1700', '생활', '편의점'],\n",
       "       ['60000', '문화', '도서'],\n",
       "       ['-2500', '기타', '할인'],\n",
       "       ['1800', '식사', '카페'],\n",
       "       ['8900', '생활', '편의점'],\n",
       "       ['45850', '교통', '버스 17'],\n",
       "       ['100000', '식사', '카페'],\n",
       "       ['140000', '식사', '카페'],\n",
       "       ['3600', '생활', '편의점'],\n",
       "       ['3900', '의료', '병원']], dtype='<U8')"
      ]
     },
     "execution_count": 39,
     "metadata": {},
     "output_type": "execute_result"
    },
    {
     "data": {
      "text/plain": [
       "array([['13000', '식사', '일식'],\n",
       "       ['13500', '식사', '카페'],\n",
       "       ['9700', '식사', '한식'],\n",
       "       ['1400', '생활', '편의점'],\n",
       "       ['48000', '기타', ''],\n",
       "       ['17500', '식사', '디저트'],\n",
       "       ['8000', '식사', '한식'],\n",
       "       ['14400', '식사', '카페'],\n",
       "       ['40000', '생활', '헤어'],\n",
       "       ['10480', '쇼핑', '온라인'],\n",
       "       ['6300', '생활', '편의점'],\n",
       "       ['26900', '쇼핑', '온라인'],\n",
       "       ['9800', '식사', '카페'],\n",
       "       ['18980', '식사', '중식'],\n",
       "       ['8000', '식사', '한식'],\n",
       "       ['8000', '식사', '한식'],\n",
       "       ['15550', '식사', '중식'],\n",
       "       ['35200', '교통', '택시'],\n",
       "       ['3600', '생활', '편의점'],\n",
       "       ['3500', '생활', '편의점'],\n",
       "       ['5300', '생활', '편의점'],\n",
       "       ['7400', '식사', '햄버거'],\n",
       "       ['17000', '식사', '치킨'],\n",
       "       ['34000', '식사', '디저트'],\n",
       "       ['13000', '생활', '편의점'],\n",
       "       ['1300', '생활', '편의점'],\n",
       "       ['57600', '통신', ''],\n",
       "       ['-2500', '기타', '할인'],\n",
       "       ['5200', '생활', '편의점'],\n",
       "       ['3500', '식사', '카페'],\n",
       "       ['13000', '식사', '레스토랑'],\n",
       "       ['1200', '생활', '편의점'],\n",
       "       ['2500', '식사', '카페'],\n",
       "       ['11600', '식사', '카페'],\n",
       "       ['9500', '식사', '카페'],\n",
       "       ['54400', '의료', '병원'],\n",
       "       ['-2000', '기타', '할인'],\n",
       "       ['55200', '교통', '버스 21'],\n",
       "       ['1900', '생활', '편의점'],\n",
       "       ['30000', '식사', '햄버거'],\n",
       "       ['10100', '식사', '카페'],\n",
       "       ['1800', '생활', '편의점'],\n",
       "       ['1800', '생활', '편의점'],\n",
       "       ['14300', '식사', '카페'],\n",
       "       ['1700', '생활', '편의점'],\n",
       "       ['102900', '의료', '병원'],\n",
       "       ['100000', '의료', '병원'],\n",
       "       ['9700', '식사', '한식'],\n",
       "       ['2250', '생활', '편의점'],\n",
       "       ['6600', '식사', '카페'],\n",
       "       ['-2500', '기타', '할인'],\n",
       "       ['76500', '문화', '도서'],\n",
       "       ['-822', '기타', '포인트사용'],\n",
       "       ['4500', '생활', '편의점'],\n",
       "       ['3500', '생활', '편의점'],\n",
       "       ['3100', '교통', '지하철 2'],\n",
       "       ['6700', '생활', '편의점'],\n",
       "       ['7400', '생활', '편의점'],\n",
       "       ['-7400', '생활', '편의점'],\n",
       "       ['10000', '생활', '편의점'],\n",
       "       ['8600', '식사', '카페'],\n",
       "       ['15600', '생활', '마트'],\n",
       "       ['2150', '생활', '편의점'],\n",
       "       ['9600', '식사', '카페'],\n",
       "       ['1700', '생활', '편의점'],\n",
       "       ['60000', '문화', '도서'],\n",
       "       ['-2500', '기타', '할인'],\n",
       "       ['1800', '식사', '카페'],\n",
       "       ['8900', '생활', '편의점'],\n",
       "       ['45850', '교통', '버스 17'],\n",
       "       ['100000', '식사', '카페'],\n",
       "       ['140000', '식사', '카페'],\n",
       "       ['3600', '생활', '편의점'],\n",
       "       ['3900', '의료', '병원']], dtype='<U8')"
      ]
     },
     "execution_count": 39,
     "metadata": {},
     "output_type": "execute_result"
    },
    {
     "data": {
      "text/plain": [
       "array([['13000', '일식'],\n",
       "       ['13500', '카페'],\n",
       "       ['9700', '한식'],\n",
       "       ['1400', '편의점'],\n",
       "       ['48000', ''],\n",
       "       ['17500', '디저트'],\n",
       "       ['8000', '한식'],\n",
       "       ['14400', '카페'],\n",
       "       ['40000', '헤어'],\n",
       "       ['10480', '온라인'],\n",
       "       ['6300', '편의점'],\n",
       "       ['26900', '온라인'],\n",
       "       ['9800', '카페'],\n",
       "       ['18980', '중식'],\n",
       "       ['8000', '한식'],\n",
       "       ['8000', '한식'],\n",
       "       ['15550', '중식'],\n",
       "       ['35200', '택시'],\n",
       "       ['3600', '편의점'],\n",
       "       ['3500', '편의점'],\n",
       "       ['5300', '편의점'],\n",
       "       ['7400', '햄버거'],\n",
       "       ['17000', '치킨'],\n",
       "       ['34000', '디저트'],\n",
       "       ['13000', '편의점'],\n",
       "       ['1300', '편의점'],\n",
       "       ['57600', ''],\n",
       "       ['-2500', '할인'],\n",
       "       ['5200', '편의점'],\n",
       "       ['3500', '카페'],\n",
       "       ['13000', '레스토랑'],\n",
       "       ['1200', '편의점'],\n",
       "       ['2500', '카페'],\n",
       "       ['11600', '카페'],\n",
       "       ['9500', '카페'],\n",
       "       ['54400', '병원'],\n",
       "       ['-2000', '할인'],\n",
       "       ['55200', '버스 21'],\n",
       "       ['1900', '편의점'],\n",
       "       ['30000', '햄버거'],\n",
       "       ['10100', '카페'],\n",
       "       ['1800', '편의점'],\n",
       "       ['1800', '편의점'],\n",
       "       ['14300', '카페'],\n",
       "       ['1700', '편의점'],\n",
       "       ['102900', '병원'],\n",
       "       ['100000', '병원'],\n",
       "       ['9700', '한식'],\n",
       "       ['2250', '편의점'],\n",
       "       ['6600', '카페'],\n",
       "       ['-2500', '할인'],\n",
       "       ['76500', '도서'],\n",
       "       ['-822', '포인트사용'],\n",
       "       ['4500', '편의점'],\n",
       "       ['3500', '편의점'],\n",
       "       ['3100', '지하철 2'],\n",
       "       ['6700', '편의점'],\n",
       "       ['7400', '편의점'],\n",
       "       ['-7400', '편의점'],\n",
       "       ['10000', '편의점'],\n",
       "       ['8600', '카페'],\n",
       "       ['15600', '마트'],\n",
       "       ['2150', '편의점'],\n",
       "       ['9600', '카페'],\n",
       "       ['1700', '편의점'],\n",
       "       ['60000', '도서'],\n",
       "       ['-2500', '할인'],\n",
       "       ['1800', '카페'],\n",
       "       ['8900', '편의점'],\n",
       "       ['45850', '버스 17'],\n",
       "       ['100000', '카페'],\n",
       "       ['140000', '카페'],\n",
       "       ['3600', '편의점'],\n",
       "       ['3900', '병원']], dtype='<U8')"
      ]
     },
     "execution_count": 39,
     "metadata": {},
     "output_type": "execute_result"
    },
    {
     "name": "stdout",
     "output_type": "stream",
     "text": [
      "카페에 쓴 금액: 355800원\n"
     ]
    }
   ],
   "source": [
    "# 4.\n",
    "card_202107[:, 1:4]\n",
    "df_list2 = card_202107[:, 1:4]\n",
    "df_list2\n",
    "#카페에 쓴 금액은?\n",
    "df_list3 = df_list2[:, [0, 2]]\n",
    "df_list3\n",
    "costs = df_list3[:, 0].astype(int)\n",
    "cafe_indices = np.where(df_list3[:,1]== '카페')\n",
    "total_cost_cafe = np.sum(costs[cafe_indices])\n",
    "print(f\"카페에 쓴 금액: {total_cost_cafe}원\")\n"
   ]
  },
  {
   "cell_type": "code",
   "execution_count": 40,
   "id": "20c13d00",
   "metadata": {},
   "outputs": [
    {
     "data": {
      "text/plain": [
       "300150"
      ]
     },
     "execution_count": 40,
     "metadata": {},
     "output_type": "execute_result"
    },
    {
     "name": "stdout",
     "output_type": "stream",
     "text": [
      "[20210730   300150]\n"
     ]
    }
   ],
   "source": [
    "# 21년 7월에 가장 지출이 많았던 날은? //0730 300,150지출\n",
    "\n",
    "day_ex = 0\n",
    "date = 20210701\n",
    "ex_list = []\n",
    "\n",
    "for i in card_202107:\n",
    "    if i[0].astype(int) == date:\n",
    "        day_ex += i[1].astype(int)\n",
    "        ex_list.append([date, day_ex])\n",
    "    else:\n",
    "        date += 1\n",
    "        day_ex = 0\n",
    "        day_ex += i[1].astype(int)\n",
    "        ex_list.append([date, day_ex])\n",
    "        \n",
    "ex_arr = np.array(ex_list)\n",
    "\n",
    "np.max(ex_arr[ex_arr < 20210701])\n",
    "\n",
    "for i in ex_arr:\n",
    "    if i[1] == 300150:\n",
    "        print(i)"
   ]
  },
  {
   "cell_type": "code",
   "execution_count": 41,
   "id": "cc2b81e2",
   "metadata": {},
   "outputs": [
    {
     "name": "stdout",
     "output_type": "stream",
     "text": [
      "139350 37678 136500 146900 37380 565630 261200 57600\n"
     ]
    }
   ],
   "source": [
    "# 21년 7월 한달중 가장많은 지출을 한 부분은? A. 식사 565,630지출\n",
    "\n",
    "gubun = np.unique(card_202107[:,2])\n",
    "bus=0\n",
    "etc=0\n",
    "cul=0\n",
    "life=0\n",
    "shop=0\n",
    "food=0\n",
    "medi=0\n",
    "call=0\n",
    "\n",
    "for i in card_202107:\n",
    "    if i[2] == gubun[0]:\n",
    "        bus +=i[1].astype(int) \n",
    "    elif i[2] == gubun[1]:\n",
    "        etc +=i[1].astype(int)\n",
    "    elif i[2] == gubun[2]:\n",
    "        cul +=i[1].astype(int)\n",
    "    elif i[2] == gubun[3]:\n",
    "        life +=i[1].astype(int)\n",
    "    elif i[2] == gubun[4]:\n",
    "        shop +=i[1].astype(int)\n",
    "    elif i[2] == gubun[5]:\n",
    "        food +=i[1].astype(int)\n",
    "    elif i[2] == gubun[6]:\n",
    "        medi +=i[1].astype(int)\n",
    "    else:\n",
    "        call +=i[1].astype(int)\n",
    "        \n",
    "print(bus, etc, cul, life, shop, food, medi, call)\n"
   ]
  },
  {
   "cell_type": "code",
   "execution_count": 42,
   "id": "63e96b87",
   "metadata": {},
   "outputs": [
    {
     "data": {
      "text/plain": [
       "array([ 37380,  37678,  57600, 136500, 139350, 146900, 261200, 565630])"
      ]
     },
     "execution_count": 42,
     "metadata": {},
     "output_type": "execute_result"
    }
   ],
   "source": [
    "bunryu = []\n",
    "\n",
    "for i in bus, etc, cul, life, shop, food, medi, call:\n",
    "    bunryu.append(i)\n",
    "\n",
    "np.sort(bunryu)"
   ]
  },
  {
   "cell_type": "code",
   "execution_count": 43,
   "id": "0f5d5b08",
   "metadata": {},
   "outputs": [
    {
     "name": "stdout",
     "output_type": "stream",
     "text": [
      "['20210701' '13000' '식사' '일식'] 1 회\n",
      "['20210701' '9700' '식사' '한식'] 2 회\n",
      "['20210702' '8000' '식사' '한식'] 3 회\n",
      "['20210705' '18980' '식사' '중식'] 4 회\n",
      "['20210706' '8000' '식사' '한식'] 5 회\n",
      "['20210707' '8000' '식사' '한식'] 6 회\n",
      "['20210708' '15550' '식사' '중식'] 7 회\n",
      "['20210709' '7400' '식사' '햄버거'] 8 회\n",
      "['20210710' '17000' '식사' '치킨'] 9 회\n",
      "['20210714' '13000' '식사' '레스토랑'] 10 회\n",
      "['20210716' '30000' '식사' '햄버거'] 11 회\n",
      "['20210720' '9700' '식사' '한식'] 12 회\n"
     ]
    }
   ],
   "source": [
    "# 21년 7월 외식을 한 횟수는? (단, 커피 및 간식 제외) 12회\n",
    "\n",
    "a=0\n",
    "for i in card_202107:\n",
    "    if i[2] == '식사':\n",
    "        if i[3] != '카페':\n",
    "            if i[3] != '디저트':\n",
    "                a += 1\n",
    "                print(i, a,'회')"
   ]
  },
  {
   "cell_type": "code",
   "execution_count": 44,
   "id": "93f1b85e",
   "metadata": {},
   "outputs": [
    {
     "data": {
      "text/plain": [
       "140000"
      ]
     },
     "execution_count": 44,
     "metadata": {},
     "output_type": "execute_result"
    },
    {
     "name": "stdout",
     "output_type": "stream",
     "text": [
      "['20210730' '140000' '식사' '카페']\n"
     ]
    }
   ],
   "source": [
    "# 21년 7월 중 가장 큰 금액을 지출한 건의 날짜와 지출내역은? A.['20210730' '140000' '식사' '카페']\n",
    "\n",
    "card_202107[:, 1].astype(int).max()\n",
    "\n",
    "for i in card_202107:\n",
    "    if i[1] == '140000':\n",
    "        print(i)"
   ]
  },
  {
   "cell_type": "code",
   "execution_count": 45,
   "id": "32e45eb1",
   "metadata": {},
   "outputs": [
    {
     "data": {
      "text/plain": [
       "9"
      ]
     },
     "execution_count": 45,
     "metadata": {},
     "output_type": "execute_result"
    }
   ],
   "source": [
    "# 21년 7월 한달 중 하루에 5만원이상 지출 한 일수는? A. 9일\n",
    "\n",
    "sum(card_202107[:,1].astype(int) > 50000 )"
   ]
  },
  {
   "cell_type": "code",
   "execution_count": 46,
   "id": "0d7d482c",
   "metadata": {},
   "outputs": [
    {
     "data": {
      "text/plain": [
       "array([['20210701', '12066.666666666666'],\n",
       "       ['20210702', '18725.0'],\n",
       "       ['20210703', '27200.0'],\n",
       "       ['20210704', '10480.0'],\n",
       "       ['20210705', '15495.0'],\n",
       "       ['20210706', '8000.0'],\n",
       "       ['20210707', '8000.0'],\n",
       "       ['20210708', '14462.5'],\n",
       "       ['20210709', '6350.0'],\n",
       "       ['20210710', '17000.0'],\n",
       "       ['20210711', '34000.0'],\n",
       "       ['20210712', '23133.333333333332'],\n",
       "       ['20210713', '4350.0'],\n",
       "       ['20210714', '7075.0'],\n",
       "       ['20210715', '29750.0'],\n",
       "       ['20210716', '20050.0'],\n",
       "       ['20210717', '1800.0'],\n",
       "       ['20210718', '1800.0'],\n",
       "       ['20210719', '14300.0'],\n",
       "       ['20210720', '53575.0'],\n",
       "       ['20210721', '4425.0'],\n",
       "       ['20210722', '21069.5'],\n",
       "       ['20210723', '6325.0'],\n",
       "       ['20210724', '15600.0'],\n",
       "       ['20210726', '2150.0'],\n",
       "       ['20210727', '5650.0'],\n",
       "       ['20210729', '57500.0'],\n",
       "       ['20210730', '50025.0'],\n",
       "       ['20210731', '3900.0']], dtype='<U32')"
      ]
     },
     "execution_count": 46,
     "metadata": {},
     "output_type": "execute_result"
    }
   ],
   "source": [
    "# 일일 평균 결제액\n",
    "s01 = set()\n",
    "s02 = list()\n",
    "for i in card_202107[:, 0]:\n",
    "    s01.add(i)\n",
    "l01 = list(s01)\n",
    "l01.sort()\n",
    "for i in l01:\n",
    "    r01 = 0\n",
    "    k = 0\n",
    "    for j in range(card_202107[:, 0].size):\n",
    "        if card_202107[j, 0] == i:\n",
    "            k += 1\n",
    "            r01 += card_202107[j, 1].astype(\"int\")\n",
    "            if card_202107[j, 1].astype(\"int\") < 0:\n",
    "                k -= 1\n",
    "            else:\n",
    "                pass\n",
    "        else:\n",
    "            pass\n",
    "    r01 = r01 / k\n",
    "    s02.append(r01)\n",
    "\n",
    "np.stack((np.array(l01), np.array(s02)), axis=1)"
   ]
  },
  {
   "cell_type": "code",
   "execution_count": 47,
   "id": "f898fc59",
   "metadata": {},
   "outputs": [
    {
     "data": {
      "text/plain": [
       "1.09"
      ]
     },
     "execution_count": 47,
     "metadata": {},
     "output_type": "execute_result"
    }
   ],
   "source": [
    "# 일일 평균 결제 횟수\n",
    "n = 0\n",
    "for i in card_202107[:, 1]:\n",
    "    if i.astype(\"int\") < 0:\n",
    "        n += 1\n",
    "else:\n",
    "    pass\n",
    "round(card_202107[:, 0].size/(card_202107[:, 0].size - n), 2)"
   ]
  },
  {
   "cell_type": "code",
   "execution_count": 48,
   "id": "862a073f",
   "metadata": {},
   "outputs": [
    {
     "data": {
      "text/plain": [
       "array([['교통', '4'],\n",
       "       ['기타', '6'],\n",
       "       ['문화', '2'],\n",
       "       ['생활', '26'],\n",
       "       ['쇼핑', '2'],\n",
       "       ['식사', '29'],\n",
       "       ['의료', '4'],\n",
       "       ['통신', '1']], dtype='<U21')"
      ]
     },
     "execution_count": 48,
     "metadata": {},
     "output_type": "execute_result"
    }
   ],
   "source": [
    "# 어떤 형태의 상품에 가장 소비를 많이 했는 지(대분류)\n",
    "arr2 = np.array(np.unique(card_202107[:, 2], return_counts=True)[1])\n",
    "arr1 = np.unique(card_202107[:, 2])\n",
    "np.stack((arr1, arr2), axis=1)"
   ]
  },
  {
   "cell_type": "code",
   "execution_count": 49,
   "id": "c64f92d9",
   "metadata": {},
   "outputs": [
    {
     "data": {
      "text/plain": [
       "array([['디저트', '2'],\n",
       "       ['레스토랑', '1'],\n",
       "       ['일식', '1'],\n",
       "       ['중식', '2'],\n",
       "       ['치킨', '1'],\n",
       "       ['카페', '15'],\n",
       "       ['한식', '5'],\n",
       "       ['햄버거', '2']], dtype='<U21')"
      ]
     },
     "execution_count": 49,
     "metadata": {},
     "output_type": "execute_result"
    }
   ],
   "source": [
    "# 가장 많이 소비한 대분류의 가장 빈도가 높은 중분류는 무엇인지\n",
    "arr3 = np.stack((arr1, arr2), axis=1)\n",
    "max01 = arr3[np.argmax(arr3[:, 1].astype(int), axis=0)]\n",
    "\n",
    "\n",
    "arr4 = card_202107[card_202107[:, 2] == max01[0]]\n",
    "arr5 = np.unique(arr4[:,3])\n",
    "arr6 = np.array(np.unique(arr4[:,3], return_counts=True)[1])\n",
    "np.stack((arr5, arr6), axis=1)"
   ]
  },
  {
   "cell_type": "code",
   "execution_count": 50,
   "id": "bc5ea013",
   "metadata": {},
   "outputs": [
    {
     "data": {
      "text/plain": [
       "array([['병원', '1'],\n",
       "       ['지하철 2', '1'],\n",
       "       ['카페', '8'],\n",
       "       ['편의점', '21'],\n",
       "       ['한식', '5'],\n",
       "       ['햄버거', '1']], dtype='<U21')"
      ]
     },
     "execution_count": 50,
     "metadata": {},
     "output_type": "execute_result"
    }
   ],
   "source": [
    "# 1만원 이하로 결제한 데이터 중 어디서 결제를 가장 많이 했는 지(가장 빈도가 높은 중분류)\n",
    "pay01 = card_202107[(card_202107[:, 1].astype(\"int\") < 10000) & (card_202107[:, 1].astype(\"int\") > 0)]\n",
    "pay02 = np.unique(pay01[:,3])\n",
    "pay03 = np.array(np.unique(pay01[:,3], return_counts=True)[1])\n",
    "\n",
    "np.stack((pay02, pay03), axis=1)"
   ]
  },
  {
   "cell_type": "code",
   "execution_count": 51,
   "id": "d1f29f6e",
   "metadata": {},
   "outputs": [
    {
     "data": {
      "text/plain": [
       "29"
      ]
     },
     "execution_count": 51,
     "metadata": {},
     "output_type": "execute_result"
    },
    {
     "data": {
      "text/plain": [
       "26"
      ]
     },
     "execution_count": 51,
     "metadata": {},
     "output_type": "execute_result"
    },
    {
     "data": {
      "text/plain": [
       "24"
      ]
     },
     "execution_count": 51,
     "metadata": {},
     "output_type": "execute_result"
    }
   ],
   "source": [
    "# 식사는 몇건했는지? 생활은 몇건했는지? ... \n",
    "card_202107[np.where(card_202107=='식사')].size \n",
    "card_202107[np.where(card_202107=='생활')].size \n",
    "card_202107[np.where(card_202107=='편의점')].size "
   ]
  },
  {
   "cell_type": "code",
   "execution_count": 52,
   "id": "51890269",
   "metadata": {},
   "outputs": [
    {
     "data": {
      "text/plain": [
       "140000"
      ]
     },
     "execution_count": 52,
     "metadata": {},
     "output_type": "execute_result"
    },
    {
     "data": {
      "text/plain": [
       "1200"
      ]
     },
     "execution_count": 52,
     "metadata": {},
     "output_type": "execute_result"
    }
   ],
   "source": [
    "# 결제 최대, 최소값 (최소는 마이너스(포인트 및 할인) 제외) \n",
    "card_202107[:,1].astype(\"int\").max() \n",
    "card_202107[card_202107[:,1].astype(\"int\")>0][:,1].astype(\"int\").min() "
   ]
  },
  {
   "cell_type": "code",
   "execution_count": 53,
   "id": "7b320d46",
   "metadata": {},
   "outputs": [
    {
     "data": {
      "text/plain": [
       "140000"
      ]
     },
     "execution_count": 53,
     "metadata": {},
     "output_type": "execute_result"
    },
    {
     "data": {
      "text/plain": [
       "1800"
      ]
     },
     "execution_count": 53,
     "metadata": {},
     "output_type": "execute_result"
    },
    {
     "data": {
      "text/plain": [
       "102900"
      ]
     },
     "execution_count": 53,
     "metadata": {},
     "output_type": "execute_result"
    },
    {
     "data": {
      "text/plain": [
       "3900"
      ]
     },
     "execution_count": 53,
     "metadata": {},
     "output_type": "execute_result"
    }
   ],
   "source": [
    "# 식사 중 최대(or 최소) 지출, 의료 중 최대(or 최소) 지출 \n",
    "card_202107[card_202107[:,2]=='식사'][:,1].astype(\"int\").max() \n",
    "card_202107[card_202107[:,2]=='식사'][:,1].astype(\"int\").min() \n",
    "card_202107[card_202107[:,2]=='의료'][:,1].astype(\"int\").max() \n",
    "card_202107[card_202107[:,2]=='의료'][:,1].astype(\"int\").min() "
   ]
  },
  {
   "cell_type": "code",
   "execution_count": 54,
   "id": "0f545057",
   "metadata": {},
   "outputs": [
    {
     "data": {
      "text/plain": [
       "array([18678.89])"
      ]
     },
     "execution_count": 54,
     "metadata": {},
     "output_type": "execute_result"
    }
   ],
   "source": [
    "# 7월 한달 평균 지출 (반올림 소수점 2자리) \n",
    "card_202107[:,1].astype(\"int\").mean()[np.set_printoptions(precision=2)] "
   ]
  },
  {
   "cell_type": "code",
   "execution_count": 55,
   "id": "905001f2",
   "metadata": {},
   "outputs": [
    {
     "data": {
      "text/plain": [
       "array([['20210723', '-7400', '생활', '편의점'],\n",
       "       ['20210729', '-2500', '기타', '할인'],\n",
       "       ['20210712', '-2500', '기타', '할인'],\n",
       "       ['20210722', '-2500', '기타', '할인'],\n",
       "       ['20210715', '-2000', '기타', '할인'],\n",
       "       ['20210722', '-822', '기타', '포인트사용'],\n",
       "       ['20210714', '1200', '생활', '편의점'],\n",
       "       ['20210712', '1300', '생활', '편의점'],\n",
       "       ['20210702', '1400', '생활', '편의점'],\n",
       "       ['20210727', '1700', '생활', '편의점'],\n",
       "       ['20210720', '1700', '생활', '편의점'],\n",
       "       ['20210718', '1800', '생활', '편의점'],\n",
       "       ['20210717', '1800', '생활', '편의점'],\n",
       "       ['20210730', '1800', '식사', '카페'],\n",
       "       ['20210715', '1900', '생활', '편의점'],\n",
       "       ['20210726', '2150', '생활', '편의점'],\n",
       "       ['20210721', '2250', '생활', '편의점'],\n",
       "       ['20210714', '2500', '식사', '카페'],\n",
       "       ['20210722', '3100', '교통', '지하철 2'],\n",
       "       ['20210722', '3500', '생활', '편의점'],\n",
       "       ['20210708', '3500', '생활', '편의점'],\n",
       "       ['20210713', '3500', '식사', '카페'],\n",
       "       ['20210730', '3600', '생활', '편의점'],\n",
       "       ['20210708', '3600', '생활', '편의점'],\n",
       "       ['20210731', '3900', '의료', '병원'],\n",
       "       ['20210722', '4500', '생활', '편의점'],\n",
       "       ['20210713', '5200', '생활', '편의점'],\n",
       "       ['20210709', '5300', '생활', '편의점'],\n",
       "       ['20210705', '6300', '생활', '편의점'],\n",
       "       ['20210721', '6600', '식사', '카페'],\n",
       "       ['20210723', '6700', '생활', '편의점'],\n",
       "       ['20210709', '7400', '식사', '햄버거'],\n",
       "       ['20210723', '7400', '생활', '편의점'],\n",
       "       ['20210706', '8000', '식사', '한식'],\n",
       "       ['20210707', '8000', '식사', '한식'],\n",
       "       ['20210702', '8000', '식사', '한식'],\n",
       "       ['20210723', '8600', '식사', '카페'],\n",
       "       ['20210730', '8900', '생활', '편의점'],\n",
       "       ['20210715', '9500', '식사', '카페'],\n",
       "       ['20210727', '9600', '식사', '카페'],\n",
       "       ['20210701', '9700', '식사', '한식'],\n",
       "       ['20210720', '9700', '식사', '한식'],\n",
       "       ['20210705', '9800', '식사', '카페'],\n",
       "       ['20210723', '10000', '생활', '편의점'],\n",
       "       ['20210716', '10100', '식사', '카페'],\n",
       "       ['20210704', '10480', '쇼핑', '온라인'],\n",
       "       ['20210714', '11600', '식사', '카페'],\n",
       "       ['20210712', '13000', '생활', '편의점'],\n",
       "       ['20210701', '13000', '식사', '일식'],\n",
       "       ['20210714', '13000', '식사', '레스토랑'],\n",
       "       ['20210701', '13500', '식사', '카페'],\n",
       "       ['20210719', '14300', '식사', '카페'],\n",
       "       ['20210703', '14400', '식사', '카페'],\n",
       "       ['20210708', '15550', '식사', '중식'],\n",
       "       ['20210724', '15600', '생활', '마트'],\n",
       "       ['20210710', '17000', '식사', '치킨'],\n",
       "       ['20210702', '17500', '식사', '디저트'],\n",
       "       ['20210705', '18980', '식사', '중식'],\n",
       "       ['20210705', '26900', '쇼핑', '온라인'],\n",
       "       ['20210716', '30000', '식사', '햄버거'],\n",
       "       ['20210711', '34000', '식사', '디저트'],\n",
       "       ['20210708', '35200', '교통', '택시'],\n",
       "       ['20210703', '40000', '생활', '헤어'],\n",
       "       ['20210730', '45850', '교통', '버스 17'],\n",
       "       ['20210702', '48000', '기타', ''],\n",
       "       ['20210715', '54400', '의료', '병원'],\n",
       "       ['20210715', '55200', '교통', '버스 21'],\n",
       "       ['20210712', '57600', '통신', ''],\n",
       "       ['20210729', '60000', '문화', '도서'],\n",
       "       ['20210722', '76500', '문화', '도서'],\n",
       "       ['20210730', '100000', '식사', '카페'],\n",
       "       ['20210720', '100000', '의료', '병원'],\n",
       "       ['20210720', '102900', '의료', '병원'],\n",
       "       ['20210730', '140000', '식사', '카페']], dtype='<U8')"
      ]
     },
     "execution_count": 55,
     "metadata": {},
     "output_type": "execute_result"
    }
   ],
   "source": [
    "# 결제금액 최소~최대 순으로 나열 \n",
    "card_202107[card_202107[:,1].astype(\"int\").argsort()]"
   ]
  },
  {
   "cell_type": "code",
   "execution_count": 56,
   "id": "c2e2156d",
   "metadata": {},
   "outputs": [
    {
     "name": "stdout",
     "output_type": "stream",
     "text": [
      "교통 : 139,350원 입니다. (10.08%)\n",
      "기타 : 37,678원 입니다. (2.73%)\n",
      "문화 : 136,500원 입니다. (9.88%)\n",
      "생활 : 146,900원 입니다. (10.63%)\n",
      "쇼핑 : 37,380원 입니다. (2.7%)\n",
      "식사 : 565,630원 입니다. (40.92%)\n",
      "의료 : 261,200원 입니다. (18.9%)\n",
      "통신 : 57,600원 입니다. (4.17%)\n"
     ]
    }
   ],
   "source": [
    "# 7월 카테고리별 소비 금액\n",
    "\n",
    "cj = card_202107.copy()\n",
    "\n",
    "items = np.unique(cj[:,2])\n",
    "total = cj[:,1].astype('int').sum()\n",
    "for item in items:\n",
    "    cost = cj[card_202107[:,2] == f'{item}'][:,1].astype('int').sum()\n",
    "    print(f'{item} : {cost:,}원 입니다. ({np.round(cost/total*100,2)}%)')  \n"
   ]
  },
  {
   "cell_type": "code",
   "execution_count": 57,
   "id": "00e3af76",
   "metadata": {},
   "outputs": [
    {
     "name": "stdout",
     "output_type": "stream",
     "text": [
      "01일 사용 금액 : 36,200원 (2.62%)\n",
      "02일 사용 금액 : 74,900원 (5.42%)\n",
      "03일 사용 금액 : 54,400원 (3.94%)\n",
      "04일 사용 금액 : 10,480원 (0.76%)\n",
      "05일 사용 금액 : 61,980원 (4.48%)\n",
      "06일 사용 금액 : 8,000원 (0.58%)\n",
      "07일 사용 금액 : 8,000원 (0.58%)\n",
      "08일 사용 금액 : 57,850원 (4.19%)\n",
      "09일 사용 금액 : 12,700원 (0.92%)\n",
      "10일 사용 금액 : 17,000원 (1.23%)\n",
      "11일 사용 금액 : 34,000원 (2.46%)\n",
      "12일 사용 금액 : 69,400원 (5.02%)\n",
      "13일 사용 금액 : 8,700원 (0.63%)\n",
      "14일 사용 금액 : 28,300원 (2.05%)\n",
      "15일 사용 금액 : 119,000원 (8.61%)\n",
      "16일 사용 금액 : 40,100원 (2.9%)\n",
      "17일 사용 금액 : 1,800원 (0.13%)\n",
      "18일 사용 금액 : 1,800원 (0.13%)\n",
      "19일 사용 금액 : 14,300원 (1.03%)\n",
      "20일 사용 금액 : 214,300원 (15.5%)\n",
      "21일 사용 금액 : 8,850원 (0.64%)\n",
      "22일 사용 금액 : 84,278원 (6.1%)\n",
      "23일 사용 금액 : 25,300원 (1.83%)\n",
      "24일 사용 금액 : 15,600원 (1.13%)\n",
      "25일 사용 금액 : 0원 (0.0%)\n",
      "26일 사용 금액 : 2,150원 (0.16%)\n",
      "27일 사용 금액 : 11,300원 (0.82%)\n",
      "28일 사용 금액 : 0원 (0.0%)\n",
      "29일 사용 금액 : 57,500원 (4.16%)\n",
      "30일 사용 금액 : 300,150원 (21.71%)\n",
      "31일 사용 금액 : 3,900원 (0.28%)\n",
      "월초 소비액 : 341,510원 \n",
      "월중 소비액 : 531,700원\n",
      "월말 소비액 : 509,028원\n"
     ]
    }
   ],
   "source": [
    "# 7월 날짜별 소비 금액\n",
    "# for i in range(1,32):\n",
    "#     cost = card_202107_json[card_202107_json[:,0] == f'2021070{i}'][:,1] if i < 10 else card_202107_json[card_202107_json[:,0] == f'202107{i}'][:,1]\n",
    "#     print(cost)\n",
    "\n",
    "total = cj[:,1].astype('int').sum()\n",
    "date_cost = dict()\n",
    "for i in range(1,32):\n",
    "    if i < 10:\n",
    "        cost = cj[cj[:,0] == f'2021070{i}'][:,1].astype('int').sum()\n",
    "        date_cost[f'{i}'] = cost\n",
    "        print(f'0{i}일 사용 금액 : {cost:,}원 ({np.round(cost/total*100,2)}%)')\n",
    "    else:\n",
    "        cost = cj[cj[:,0] == f'202107{i}'][:,1].astype('int').sum()\n",
    "        date_cost[f'{i}'] = cost\n",
    "        print(f'{i}일 사용 금액 : {cost:,}원 ({np.round(cost/total*100,2)}%)')\n",
    "month_st = 0\n",
    "month_md = 0\n",
    "month_ed = 0\n",
    "for k in date_cost:\n",
    "    if int(k) < 11:\n",
    "        month_st += date_cost[k]\n",
    "    elif int(k) < 21:\n",
    "        month_md += date_cost[k]\n",
    "    else:\n",
    "        month_ed += date_cost[k]\n",
    "print(f'월초 소비액 : {month_st:,}원 \\n월중 소비액 : {month_md:,}원\\n월말 소비액 : {month_ed:,}원')"
   ]
  },
  {
   "cell_type": "code",
   "execution_count": 58,
   "id": "7d966303",
   "metadata": {
    "scrolled": true
   },
   "outputs": [
    {
     "name": "stdout",
     "output_type": "stream",
     "text": [
      "카테고리 : 금액 (전체 식사 중 비율) \n",
      " -----------------------\n",
      "디저트 : 51,500원, (9.1%)\n",
      "레스토랑 : 13,000원, (2.3%)\n",
      "일식 : 13,000원, (2.3%)\n",
      "중식 : 34,530원, (6.1%)\n",
      "치킨 : 17,000원, (3.01%)\n",
      "카페 : 355,800원, (62.9%)\n",
      "한식 : 43,400원, (7.67%)\n",
      "햄버거 : 37,400원, (6.61%)\n"
     ]
    }
   ],
   "source": [
    "# 7월 식사 비율\n",
    "\n",
    "print('카테고리 : 금액 (전체 식사 중 비율) \\n -----------------------')\n",
    "items = np.unique(cj[cj[:,2] == '식사'][:,3])\n",
    "totalMeal = cj[cj[:,2]=='식사'][:,1].astype('int').sum()\n",
    "for item in items:\n",
    "    cost = cj[card_202107[:,3] == f'{item}'][:,1].astype('int').sum()\n",
    "    print(f'{item} : {cost:,}원, ({np.round(cost/totalMeal*100,2)}%)')\n"
   ]
  },
  {
   "cell_type": "code",
   "execution_count": 59,
   "id": "17ea0ad8",
   "metadata": {},
   "outputs": [
    {
     "data": {
      "text/plain": [
       "array([['20210701', '13000', '식사', '일식', ''],\n",
       "       ['20210701', '13500', '식사', '카페', '바나프레소'],\n",
       "       ['20210701', '9700', '식사', '한식', ''],\n",
       "       ['20210702', '1400', '생활', '편의점', 'CU'],\n",
       "       ['20210702', '48000', '기타', '', ''],\n",
       "       ['20210702', '17500', '식사', '디저트', ''],\n",
       "       ['20210702', '8000', '식사', '한식', ''],\n",
       "       ['20210703', '14400', '식사', '카페', '아이스달달'],\n",
       "       ['20210703', '40000', '생활', '헤어', ''],\n",
       "       ['20210704', '10480', '쇼핑', '온라인', '인터파크'],\n",
       "       ['20210705', '6300', '생활', '편의점', 'CU'],\n",
       "       ['20210705', '26900', '쇼핑', '온라인', '네이버'],\n",
       "       ['20210705', '9800', '식사', '카페', '해머스미스'],\n",
       "       ['20210705', '18980', '식사', '중식', ''],\n",
       "       ['20210706', '8000', '식사', '한식', ''],\n",
       "       ['20210707', '8000', '식사', '한식', ''],\n",
       "       ['20210708', '15550', '식사', '중식', ''],\n",
       "       ['20210708', '35200', '교통', '택시', ''],\n",
       "       ['20210708', '3600', '생활', '편의점', 'CU'],\n",
       "       ['20210708', '3500', '생활', '편의점', 'CU'],\n",
       "       ['20210709', '5300', '생활', '편의점', 'CU'],\n",
       "       ['20210709', '7400', '식사', '햄버거', '롯데리아'],\n",
       "       ['20210710', '17000', '식사', '치킨', '자담치킨'],\n",
       "       ['20210711', '34000', '식사', '디저트', ''],\n",
       "       ['20210712', '13000', '생활', '편의점', '세븐일레븐'],\n",
       "       ['20210712', '1300', '생활', '편의점', '세븐일레븐'],\n",
       "       ['20210712', '57600', '통신', '', ''],\n",
       "       ['20210712', '-2500', '기타', '할인', ''],\n",
       "       ['20210713', '5200', '생활', '편의점', 'GS25'],\n",
       "       ['20210713', '3500', '식사', '카페', '바나프레소'],\n",
       "       ['20210714', '13000', '식사', '레스토랑', ''],\n",
       "       ['20210714', '1200', '생활', '편의점', '세븐일레븐'],\n",
       "       ['20210714', '2500', '식사', '카페', '해머스미스'],\n",
       "       ['20210714', '11600', '식사', '카페', '해머스미스'],\n",
       "       ['20210715', '9500', '식사', '카페', '해머스미스'],\n",
       "       ['20210715', '54400', '의료', '병원', ''],\n",
       "       ['20210715', '-2000', '기타', '할인', ''],\n",
       "       ['20210715', '55200', '교통', '버스 21', ''],\n",
       "       ['20210715', '1900', '생활', '편의점', 'CU'],\n",
       "       ['20210716', '30000', '식사', '햄버거', '롯데리아'],\n",
       "       ['20210716', '10100', '식사', '카페', '해머스미스'],\n",
       "       ['20210717', '1800', '생활', '편의점', 'GS25'],\n",
       "       ['20210718', '1800', '생활', '편의점', 'GS25'],\n",
       "       ['20210719', '14300', '식사', '카페', '해머스미스'],\n",
       "       ['20210720', '1700', '생활', '편의점', 'CU'],\n",
       "       ['20210720', '102900', '의료', '병원', ''],\n",
       "       ['20210720', '100000', '의료', '병원', ''],\n",
       "       ['20210720', '9700', '식사', '한식', ''],\n",
       "       ['20210721', '2250', '생활', '편의점', 'CU'],\n",
       "       ['20210721', '6600', '식사', '카페', '해머스미스'],\n",
       "       ['20210722', '-2500', '기타', '할인', ''],\n",
       "       ['20210722', '76500', '문화', '도서', '교보문고'],\n",
       "       ['20210722', '-822', '기타', '포인트사용', ''],\n",
       "       ['20210722', '4500', '생활', '편의점', 'CU'],\n",
       "       ['20210722', '3500', '생활', '편의점', 'CU'],\n",
       "       ['20210722', '3100', '교통', '지하철 2', ''],\n",
       "       ['20210723', '6700', '생활', '편의점', '세븐일레븐'],\n",
       "       ['20210723', '7400', '생활', '편의점', '세븐일레븐'],\n",
       "       ['20210723', '-7400', '생활', '편의점', '세븐일레븐'],\n",
       "       ['20210723', '10000', '생활', '편의점', '세븐일레븐'],\n",
       "       ['20210723', '8600', '식사', '카페', '해머스미스'],\n",
       "       ['20210724', '15600', '생활', '마트', '웰빙마트'],\n",
       "       ['20210726', '2150', '생활', '편의점', 'CU'],\n",
       "       ['20210727', '9600', '식사', '카페', '해머스미스'],\n",
       "       ['20210727', '1700', '생활', '편의점', '세븐일레븐'],\n",
       "       ['20210729', '60000', '문화', '도서', '교보문고'],\n",
       "       ['20210729', '-2500', '기타', '할인', ''],\n",
       "       ['20210730', '1800', '식사', '카페', '스타벅스'],\n",
       "       ['20210730', '8900', '생활', '편의점', 'CU'],\n",
       "       ['20210730', '45850', '교통', '버스 17', ''],\n",
       "       ['20210730', '100000', '식사', '카페', '스타벅스'],\n",
       "       ['20210730', '140000', '식사', '카페', '스타벅스'],\n",
       "       ['20210730', '3600', '생활', '편의점', '세븐일레븐'],\n",
       "       ['20210731', '3900', '의료', '병원', '']], dtype='<U8')"
      ]
     },
     "execution_count": 59,
     "metadata": {},
     "output_type": "execute_result"
    }
   ],
   "source": [
    "# 21년 7월 데이터\n",
    "detail_cj = np.loadtxt(\"../card_data/csv/202107.csv\", \n",
    "                         encoding=\"utf-8\",\n",
    "                        delimiter=\",\",\n",
    "                        dtype=\"str\",\n",
    "                        skiprows=1,\n",
    "                        usecols=(0, 2, 4, 5, 6))\n",
    "detail_cj"
   ]
  },
  {
   "cell_type": "code",
   "execution_count": 60,
   "id": "44c8f879",
   "metadata": {},
   "outputs": [
    {
     "name": "stdout",
     "output_type": "stream",
     "text": [
      "---------편의점 이용빈도 수---------\n",
      "CU : 12회 이용\n",
      "GS25 : 3회 이용\n",
      "세븐일레븐 : 9회 이용\n",
      "---------카페 이용빈도 수---------\n",
      "바나프레소 : 2회 이용\n",
      "스타벅스 : 3회 이용\n",
      "아이스달달 : 1회 이용\n",
      "해머스미스 : 9회 이용\n"
     ]
    }
   ],
   "source": [
    "# 편의점, 카페 이용 빈도\n",
    "# detail_cj = card_202107[:, [0,2,4,5,6]]  # --> 소분류까지 가져온 데이터\n",
    "\n",
    "print('---------편의점 이용빈도 수---------')\n",
    "ex01 = detail_cj[detail_cj[:,2]=='생활']\n",
    "c_store = ex01[ex01[:,3]=='편의점']\n",
    "c_cnt = list(np.unique(c_store[:,4], return_counts=True))\n",
    "c_dict = dict()\n",
    "for i in range(3):\n",
    "    c_dict[f'{c_cnt[0][i]}'] = c_cnt[1][i]\n",
    "for k, v in c_dict.items():\n",
    "    print(f'{k} : {v}회 이용')\n",
    "\n",
    "print('---------카페 이용빈도 수---------')\n",
    "ex02 = detail_cj[detail_cj[:,2]=='식사']\n",
    "cafe = ex02[ex02[:,3]=='카페']\n",
    "cf_cnt = list(np.unique(cafe[:,4], return_counts=True))\n",
    "cf_dict = dict()\n",
    "for i in range(len(cf_cnt[0])):\n",
    "    cf_dict[f'{cf_cnt[0][i]}'] = cf_cnt[1][i]\n",
    "for k, v in cf_dict.items():\n",
    "    print(f'{k} : {v}회 이용')\n"
   ]
  },
  {
   "cell_type": "code",
   "execution_count": 61,
   "id": "82754963",
   "metadata": {},
   "outputs": [
    {
     "name": "stdout",
     "output_type": "stream",
     "text": [
      "20210722 : 6회 이용\n",
      "20210730 : 6회 이용\n",
      "20210715 : 5회 이용\n",
      "20210723 : 5회 이용\n",
      "20210702 : 4회 이용\n",
      "20210705 : 4회 이용\n",
      "20210708 : 4회 이용\n",
      "20210712 : 4회 이용\n",
      "20210714 : 4회 이용\n",
      "20210720 : 4회 이용\n",
      "20210701 : 3회 이용\n",
      "20210703 : 2회 이용\n",
      "20210709 : 2회 이용\n",
      "20210713 : 2회 이용\n",
      "20210716 : 2회 이용\n",
      "20210721 : 2회 이용\n",
      "20210727 : 2회 이용\n",
      "20210729 : 2회 이용\n",
      "20210704 : 1회 이용\n",
      "20210706 : 1회 이용\n",
      "20210707 : 1회 이용\n",
      "20210710 : 1회 이용\n",
      "20210711 : 1회 이용\n",
      "20210717 : 1회 이용\n",
      "20210718 : 1회 이용\n",
      "20210719 : 1회 이용\n",
      "20210724 : 1회 이용\n",
      "20210726 : 1회 이용\n",
      "20210731 : 1회 이용\n"
     ]
    }
   ],
   "source": [
    "# 7월중 카드 사용 빈도가 높은 순서대로\n",
    "\n",
    "date_dict = dict()\n",
    "date = list(np.unique(cj[:,0], return_counts = True))\n",
    "for i in range(len(date[0])):\n",
    "    date_dict[f'{date[0][i]}'] = date[1][i]\n",
    "    \n",
    "date_dict = dict(sorted(date_dict.items(), key=lambda x:x[1], reverse = True))\n",
    "for key, value in date_dict.items():\n",
    "    print(f'{key} : {value}회 이용')\n"
   ]
  },
  {
   "cell_type": "code",
   "execution_count": 62,
   "id": "595b2fd2",
   "metadata": {},
   "outputs": [
    {
     "name": "stdout",
     "output_type": "stream",
     "text": [
      "{'교통': 139350, '기타': 37678, '문화': 136500, '생활': 146900, '쇼핑': 37380, '식사': 565630, '의료': 261200, '통신': 57600}\n",
      "Requirement already satisfied: matplotlib in c:\\users\\student\\anaconda3\\envs\\dsde04\\lib\\site-packages (3.7.1)\n",
      "Requirement already satisfied: contourpy>=1.0.1 in c:\\users\\student\\anaconda3\\envs\\dsde04\\lib\\site-packages (from matplotlib) (1.1.0)\n",
      "Requirement already satisfied: cycler>=0.10 in c:\\users\\student\\anaconda3\\envs\\dsde04\\lib\\site-packages (from matplotlib) (0.11.0)\n",
      "Requirement already satisfied: fonttools>=4.22.0 in c:\\users\\student\\anaconda3\\envs\\dsde04\\lib\\site-packages (from matplotlib) (4.40.0)\n",
      "Requirement already satisfied: kiwisolver>=1.0.1 in c:\\users\\student\\anaconda3\\envs\\dsde04\\lib\\site-packages (from matplotlib) (1.4.4)\n",
      "Requirement already satisfied: numpy>=1.20 in c:\\users\\student\\anaconda3\\envs\\dsde04\\lib\\site-packages (from matplotlib) (1.25.0)\n",
      "Requirement already satisfied: packaging>=20.0 in c:\\users\\student\\anaconda3\\envs\\dsde04\\lib\\site-packages (from matplotlib) (23.1)\n",
      "Requirement already satisfied: pillow>=6.2.0 in c:\\users\\student\\anaconda3\\envs\\dsde04\\lib\\site-packages (from matplotlib) (10.0.0)\n",
      "Requirement already satisfied: pyparsing>=2.3.1 in c:\\users\\student\\anaconda3\\envs\\dsde04\\lib\\site-packages (from matplotlib) (3.1.0)\n",
      "Requirement already satisfied: python-dateutil>=2.7 in c:\\users\\student\\anaconda3\\envs\\dsde04\\lib\\site-packages (from matplotlib) (2.8.2)\n",
      "Requirement already satisfied: six>=1.5 in c:\\users\\student\\anaconda3\\envs\\dsde04\\lib\\site-packages (from python-dateutil>=2.7->matplotlib) (1.16.0)\n",
      "Note: you may need to restart the kernel to use updated packages.\n"
     ]
    },
    {
     "data": {
      "text/plain": [
       "([<matplotlib.patches.Wedge at 0x1f31d44b400>,\n",
       "  <matplotlib.patches.Wedge at 0x1f31d470400>,\n",
       "  <matplotlib.patches.Wedge at 0x1f31d4710c0>,\n",
       "  <matplotlib.patches.Wedge at 0x1f31d471750>,\n",
       "  <matplotlib.patches.Wedge at 0x1f31d471de0>,\n",
       "  <matplotlib.patches.Wedge at 0x1f31d472470>,\n",
       "  <matplotlib.patches.Wedge at 0x1f31d44b550>,\n",
       "  <matplotlib.patches.Wedge at 0x1f31d473160>],\n",
       " [Text(0.34259540368550045, 1.0452886631804486, '교통'),\n",
       "  Text(0.7245566842622199, 0.8276579071639067, '기타'),\n",
       "  Text(0.9876779672699856, 0.4842439808293227, '문화'),\n",
       "  Text(1.0805615183634523, -0.20588056011209685, '생활'),\n",
       "  Text(0.903429142234145, -0.6275474364237951, '쇼핑'),\n",
       "  Text(-0.4352952143311401, -1.0102069473035746, '식사'),\n",
       "  Text(-0.8303840060342285, 0.7214308023106212, '의료'),\n",
       "  Text(-0.14359548486693327, 1.0905871522834985, '통신')],\n",
       " [Text(0.18687022019209112, 0.570157452643881, '10.1%'),\n",
       "  Text(0.3952127368703017, 0.45144976754394905, '2.7%'),\n",
       "  Text(0.5387334366927193, 0.2641330804523578, '9.9%'),\n",
       "  Text(0.5893971918346103, -0.112298487333871, '10.6%'),\n",
       "  Text(0.4927795321277154, -0.34229860168570636, '2.7%'),\n",
       "  Text(-0.23743375327153093, -0.5510219712564951, '40.9%'),\n",
       "  Text(-0.45293673056412453, 0.3935077103512479, '18.9%'),\n",
       "  Text(-0.07832480992741814, 0.5948657194273628, '4.2%')])"
      ]
     },
     "execution_count": 62,
     "metadata": {},
     "output_type": "execute_result"
    },
    {
     "data": {
      "image/png": "[encoded data removed]",
      "text/plain": [
       "<Figure size 800x550 with 1 Axes>"
      ]
     },
     "metadata": {},
     "output_type": "display_data"
    }
   ],
   "source": [
    "# 1. 사용자 소비습관(어디에 가장 소비를 많이 하는가요?)\n",
    "\n",
    "card_category = np.unique(card_202107[:, 2])\n",
    "cate_dict = dict()\n",
    "for i in card_category:\n",
    "    globals()[\"{}\".format(i)] = card_202107[card_202107[:, 2]==i]\n",
    "    current = globals()[\"{}\".format(i)].copy()\n",
    "    cate_dict[\"{}\".format(i)] = current[:, 1].astype(\"int\").sum()\n",
    "\n",
    "print(cate_dict)\n",
    "\n",
    "%pip install matplotlib\n",
    "\n",
    "\n",
    "# 한글 설정 : plt.rc\n",
    "from matplotlib import font_manager, rc\n",
    "import matplotlib\n",
    "import matplotlib.pyplot as plt\n",
    "\n",
    "# 폰트 경로\n",
    "font_path = \"C:\\Windows\\Fonts\\H2GTRM.TTF\"\n",
    "# 폰트 이름 가져오기\n",
    "font_name = font_manager.FontProperties(fname=font_path).get_name()\n",
    "# 폰트 설정\n",
    "matplotlib.rc(\"font\", family=font_name)\n",
    "\n",
    "fig, ax = plt.subplots()\n",
    "ax.pie(cate_dict.values(), labels=cate_dict.keys(), autopct=\"%1.1f%%\", startangle=90, counterclock=False)"
   ]
  },
  {
   "cell_type": "code",
   "execution_count": 63,
   "id": "e9bd3591",
   "metadata": {},
   "outputs": [
    {
     "data": {
      "text/plain": [
       "19504.48275862069"
      ]
     },
     "execution_count": 63,
     "metadata": {},
     "output_type": "execute_result"
    }
   ],
   "source": [
    "# 2. 식사 카테고리 평균 사용 금액\n",
    "식사[:, 1].astype(\"int\").mean()"
   ]
  },
  {
   "cell_type": "code",
   "execution_count": 64,
   "id": "62b15af4",
   "metadata": {},
   "outputs": [
    {
     "data": {
      "text/plain": [
       "([<matplotlib.patches.Wedge at 0x1f31ec5dc90>,\n",
       "  <matplotlib.patches.Wedge at 0x1f301f786d0>,\n",
       "  <matplotlib.patches.Wedge at 0x1f31ec5e860>],\n",
       " [Text(0.46021775404133053, 0.9990994038959055, '~0709'),\n",
       "  Text(1.0843283786452051, -0.1850188294867871, '0710~0719'),\n",
       "  Text(-1.0622734426305482, -0.2856136080123694, '0720~')],\n",
       " [Text(0.25102786584072573, 0.5449633112159483, '13.7%'),\n",
       "  Text(0.5914518428973845, -0.1009193615382475, '27.9%'),\n",
       "  Text(-0.5794218777984809, -0.15578924073401967, '58.4%')])"
      ]
     },
     "execution_count": 64,
     "metadata": {},
     "output_type": "execute_result"
    },
    {
     "data": {
      "image/png": "[encoded data removed]",
      "text/plain": [
       "<Figure size 800x550 with 1 Axes>"
      ]
     },
     "metadata": {},
     "output_type": "display_data"
    }
   ],
   "source": [
    "# 3. 7월의 상, 중, 하반기 소비량의 비율\n",
    "f = card_202107[card_202107[:, 0]<\"20210710\"][:, 1].astype(\"int\").sum()\n",
    "s = card_202107[card_202107[:, 0]<\"20210720\"][:, 1].astype(\"int\").sum()\n",
    "t = card_202107[card_202107[:, 0]<\"20210731\"][:, 1].astype(\"int\").sum()\n",
    "\n",
    "fig, ax = plt.subplots()\n",
    "ax.pie([f, s, t], labels=[\"~0709\", \"0710~0719\", \"0720~\"], autopct=\"%1.1f%%\", startangle=90, counterclock=False)\n"
   ]
  },
  {
   "cell_type": "code",
   "execution_count": 65,
   "id": "a94eadf7",
   "metadata": {
    "scrolled": true
   },
   "outputs": [
    {
     "data": {
      "text/plain": [
       "{'교통': 139350,\n",
       " '기타': 37678,\n",
       " '문화': 136500,\n",
       " '생활': 146900,\n",
       " '쇼핑': 37380,\n",
       " '식사': 565630,\n",
       " '의료': 257300,\n",
       " '통신': 57600}"
      ]
     },
     "execution_count": 65,
     "metadata": {},
     "output_type": "execute_result"
    },
    {
     "data": {
      "text/plain": [
       "([<matplotlib.patches.Wedge at 0x1f31ecc1270>,\n",
       "  <matplotlib.patches.Wedge at 0x1f31ecc1180>,\n",
       "  <matplotlib.patches.Wedge at 0x1f31ecc1f60>,\n",
       "  <matplotlib.patches.Wedge at 0x1f31ecc2500>,\n",
       "  <matplotlib.patches.Wedge at 0x1f31ecc2b90>,\n",
       "  <matplotlib.patches.Wedge at 0x1f31ecc3220>,\n",
       "  <matplotlib.patches.Wedge at 0x1f31ecc1240>,\n",
       "  <matplotlib.patches.Wedge at 0x1f31ecc3f10>],\n",
       " [Text(0.3435319998671475, 1.0449812271362957, '교통'),\n",
       "  Text(0.7262391387188704, 0.826182009845817, '기타'),\n",
       "  Text(0.9892007089926554, 0.4811257188390867, '문화'),\n",
       "  Text(1.0795234152845472, -0.21125623269477078, '생활'),\n",
       "  Text(0.8995448317802037, -0.6331027528115204, '쇼핑'),\n",
       "  Text(-0.4454158366532619, -1.0057856294750263, '식사'),\n",
       "  Text(-0.8257001358795298, 0.726786960263134, '의료'),\n",
       "  Text(-0.14399947861786752, 1.0905338830856117, '통신')],\n",
       " [Text(0.1873810908366259, 0.5699897602561612, '10.1%'),\n",
       "  Text(0.39613043930120195, 0.45064473264317284, '2.7%'),\n",
       "  Text(0.5395640230869029, 0.26243221027586544, '9.9%'),\n",
       "  Text(0.5888309537915711, -0.11523067237896586, '10.7%'),\n",
       "  Text(0.4906608173346565, -0.3453287742608293, '2.7%'),\n",
       "  Text(-0.24295409271996102, -0.5486103433500142, '41.0%'),\n",
       "  Text(-0.4503818922979253, 0.3964292510526185, '18.7%'),\n",
       "  Text(-0.07854517015520045, 0.5948366635012426, '4.2%')])"
      ]
     },
     "execution_count": 65,
     "metadata": {},
     "output_type": "execute_result"
    },
    {
     "data": {
      "image/png": "[encoded data removed]",
      "text/plain": [
       "<Figure size 800x550 with 1 Axes>"
      ]
     },
     "metadata": {},
     "output_type": "display_data"
    }
   ],
   "source": [
    "# 4. 7월의 하반기의 소비 패턴 -> 1에서 보여주었던 7월 전체 소비 패턴과 비슷\n",
    "# => 무엇때문에 소비가 급격하게 늘었지? -> 5에서 찾아보았던 1회 지출 금액이 많은 순서대로 데이터를 확인하니\n",
    "# 통신을 제외한 의료, 문화의 소비가 20일 이후 많았음을 알 수 있음\n",
    "aft_0720 = card_202107[card_202107[:, 0]<\"20210731\"]\n",
    "cate_type = list(np.unique(aft_0720[:, 2]))\n",
    "cate_sum = dict()\n",
    "for i in cate_type:\n",
    "    cate_sum[i] = aft_0720[aft_0720[:, 2] == i][:, 1].astype(\"int\").sum()\n",
    "cate_sum\n",
    "\n",
    "fig, ax = plt.subplots()\n",
    "ax.pie(cate_sum.values(), labels=cate_sum.keys(), autopct=\"%1.1f%%\", startangle=90, counterclock=False)"
   ]
  },
  {
   "cell_type": "code",
   "execution_count": 66,
   "id": "f51d909e",
   "metadata": {},
   "outputs": [
    {
     "data": {
      "text/plain": [
       "([<matplotlib.patches.Wedge at 0x1f31ed1f1f0>,\n",
       "  <matplotlib.patches.Wedge at 0x1f31ed1f100>,\n",
       "  <matplotlib.patches.Wedge at 0x1f31ed1fee0>,\n",
       "  <matplotlib.patches.Wedge at 0x1f31ed50550>,\n",
       "  <matplotlib.patches.Wedge at 0x1f31ed50c10>,\n",
       "  <matplotlib.patches.Wedge at 0x1f31ed512a0>,\n",
       "  <matplotlib.patches.Wedge at 0x1f31ed1f1c0>,\n",
       "  <matplotlib.patches.Wedge at 0x1f31ed51f90>],\n",
       " [Text(0.4246900634004444, 1.0147109687240632, '교통'),\n",
       "  Text(0.8366412922335675, 0.7141647905979029, '기타'),\n",
       "  Text(1.08901988709612, -0.15503446555251546, '문화'),\n",
       "  Text(0.6106733498207895, -0.9149197012955049, '생활'),\n",
       "  Text(0.3372531721955539, -1.0470244972511562, '쇼핑'),\n",
       "  Text(-0.134919362843881, -1.0916944469629775, '식사'),\n",
       "  Text(-0.9742023590697039, -0.510812845945581, '의료'),\n",
       "  Text(-0.6703994862311361, 0.8721035081118691, '통신')],\n",
       " [Text(0.23164912549115146, 0.5534787102131253, '12.6%'),\n",
       "  Text(0.456349795763764, 0.38954443123521976, '2.3%'),\n",
       "  Text(0.5940108475069745, -0.08456425393773569, '24.7%'),\n",
       "  Text(0.3330945544477033, -0.49904710979754807, '2.0%'),\n",
       "  Text(0.18395627574302936, -0.5711042712279033, '6.8%'),\n",
       "  Text(-0.07359237973302599, -0.5954696983434422, '7.1%'),\n",
       "  Text(-0.5313831049471112, -0.27862518869758957, '23.6%'),\n",
       "  Text(-0.3656724470351651, 0.47569282260647394, '20.9%')])"
      ]
     },
     "execution_count": 66,
     "metadata": {},
     "output_type": "execute_result"
    },
    {
     "data": {
      "image/png": "[encoded data removed]",
      "text/plain": [
       "<Figure size 800x550 with 1 Axes>"
      ]
     },
     "metadata": {},
     "output_type": "display_data"
    }
   ],
   "source": [
    "# 5. 카테고리 별 1회 사용량 평균 금액(한번 사용 시 지출되는 금액)\n",
    "\n",
    "cate_count = dict(zip(list(np.unique(card_202107[:, 2], return_counts=True)[0]), list(np.unique(card_202107[:, 2], return_counts=True)[1])))\n",
    "cate_tot = dict()\n",
    "for i in cate_count.keys():\n",
    "    cate_tot[i] = (card_202107[card_202107[:, 2]==i][:, 1].astype(\"int\").sum()) / cate_count[i]\n",
    "\n",
    "fig, ax = plt.subplots()\n",
    "ax.pie(cate_tot.values(), labels=cate_tot.keys(), autopct=\"%1.1f%%\", startangle=90, counterclock=False)"
   ]
  },
  {
   "cell_type": "code",
   "execution_count": 67,
   "id": "a9f59f52",
   "metadata": {},
   "outputs": [
    {
     "name": "stdout",
     "output_type": "stream",
     "text": [
      "[ 13000  13500   9700   1400  48000  17500   8000  14400  40000  10480\n",
      "   6300  26900   9800  18980   8000   8000  15550  35200   3600   3500\n",
      "   5300   7400  17000  34000  13000   1300  57600  -2500   5200   3500\n",
      "  13000   1200   2500  11600   9500  54400  -2000  55200   1900  30000\n",
      "  10100   1800   1800  14300   1700 102900 100000   9700   2250   6600\n",
      "  -2500  76500   -822   4500   3500   3100   6700   7400  -7400  10000\n",
      "   8600  15600   2150   9600   1700  60000  -2500   1800   8900  45850\n",
      " 100000 140000   3600   3900]\n"
     ]
    }
   ],
   "source": [
    "# 1.\n",
    "card_202107_money = card_202107[:, 1].astype(\"int\") \n",
    "print(card_202107_money) \n"
   ]
  },
  {
   "cell_type": "code",
   "execution_count": 68,
   "id": "c8804815",
   "metadata": {},
   "outputs": [
    {
     "data": {
      "text/plain": [
       "27872.73740984266"
      ]
     },
     "execution_count": 68,
     "metadata": {},
     "output_type": "execute_result"
    }
   ],
   "source": [
    "# 2. 카드 사용 표준편차 값 \n",
    "card_202107_money.std()"
   ]
  },
  {
   "cell_type": "code",
   "execution_count": 69,
   "id": "b7e07b15",
   "metadata": {},
   "outputs": [
    {
     "data": {
      "text/plain": [
       "8750.0"
      ]
     },
     "execution_count": 69,
     "metadata": {},
     "output_type": "execute_result"
    }
   ],
   "source": [
    "# 3. 카드 사용 중간 값 \n",
    "np.median(card_202107_money)"
   ]
  },
  {
   "cell_type": "code",
   "execution_count": 70,
   "id": "583222bd",
   "metadata": {},
   "outputs": [
    {
     "data": {
      "text/plain": [
       "140000"
      ]
     },
     "execution_count": 70,
     "metadata": {},
     "output_type": "execute_result"
    }
   ],
   "source": [
    "# 4. 카드 사용 최고 큰 값 \n",
    "np.max(card_202107_money)"
   ]
  },
  {
   "cell_type": "code",
   "execution_count": 71,
   "id": "0a8cb08e",
   "metadata": {},
   "outputs": [
    {
     "data": {
      "text/plain": [
       "-7400"
      ]
     },
     "execution_count": 71,
     "metadata": {},
     "output_type": "execute_result"
    }
   ],
   "source": [
    "# 6. 카드 사용 최소 값 \n",
    "np.min(card_202107_money)"
   ]
  },
  {
   "cell_type": "code",
   "execution_count": 72,
   "id": "af698b28",
   "metadata": {},
   "outputs": [
    {
     "data": {
      "text/plain": [
       "[<matplotlib.lines.Line2D at 0x1f31ecfafe0>]"
      ]
     },
     "execution_count": 72,
     "metadata": {},
     "output_type": "execute_result"
    },
    {
     "data": {
      "text/plain": [
       "([<matplotlib.axis.XTick at 0x1f31ed89810>,\n",
       "  <matplotlib.axis.XTick at 0x1f31ed897e0>,\n",
       "  <matplotlib.axis.XTick at 0x1f31ed88f70>,\n",
       "  <matplotlib.axis.XTick at 0x1f31edb5cf0>],\n",
       " [Text(0, 0, '20210701'),\n",
       "  Text(3, 0, '20210702'),\n",
       "  Text(11, 0, '20210705'),\n",
       "  Text(13, 0, '20210705')])"
      ]
     },
     "execution_count": 72,
     "metadata": {},
     "output_type": "execute_result"
    },
    {
     "data": {
      "text/plain": [
       "Text(0.5, 1.0, \"leeyoungil's card 2017 on July\")"
      ]
     },
     "execution_count": 72,
     "metadata": {},
     "output_type": "execute_result"
    },
    {
     "data": {
      "text/plain": [
       "'\\n요청하신 피드백\\n- 실행값이 에러인 것은 아닙니다. \\n다만 현재 그래프로 그리고 싶은 값의 형태가 선그래프와 어울리지 않아요!\\n'"
      ]
     },
     "execution_count": 72,
     "metadata": {},
     "output_type": "execute_result"
    },
    {
     "data": {
      "image/png": "[encoded data removed]",
      "text/plain": [
       "<Figure size 800x550 with 1 Axes>"
      ]
     },
     "metadata": {},
     "output_type": "display_data"
    }
   ],
   "source": [
    "# 7. 0,3,11,13번째 행에 속한 날짜들을 그래프로 나타내기(실행값 에러) \n",
    "import matplotlib.pyplot as plt \n",
    "selected_dates = [0, 3, 11, 13] \n",
    "plt.plot(dates, card_202107_money, \"--\") \n",
    "plt.xticks(selected_dates, dates[selected_dates]) \n",
    "plt.title(\"leeyoungil's card 2017 on July\")\n",
    "\"\"\"\n",
    "요청하신 피드백\n",
    "- 실행값이 에러인 것은 아닙니다. \n",
    "다만 현재 그래프로 그리고 싶은 값의 형태가 선그래프와 어울리지 않아요!\n",
    "\"\"\""
   ]
  },
  {
   "cell_type": "code",
   "execution_count": 73,
   "id": "04e752e8",
   "metadata": {},
   "outputs": [
    {
     "data": {
      "text/plain": [
       "array([0., 0., 0., 0., 0., 0., 0., 0.])"
      ]
     },
     "execution_count": 73,
     "metadata": {},
     "output_type": "execute_result"
    }
   ],
   "source": [
    "# 카테고리 종류, 사용 횟수\n",
    "cate = card_202107[:, 2]\n",
    "unique_cate, cate_idx = np.unique(cate, return_inverse=True)\n",
    "cate_total = np.zeros_like(unique_cate, dtype='float')\n",
    "cate_total"
   ]
  },
  {
   "cell_type": "code",
   "execution_count": 74,
   "id": "4b947649",
   "metadata": {},
   "outputs": [],
   "source": [
    "# add.at(A, index, B)\n",
    "spending_list = card_202107[:, 1].astype(\"int\")\n",
    "np.add.at(cate_total, cate_idx, spending_list)"
   ]
  },
  {
   "cell_type": "code",
   "execution_count": 75,
   "id": "634df158",
   "metadata": {},
   "outputs": [
    {
     "name": "stdout",
     "output_type": "stream",
     "text": [
      "이번 달 카테고리별 지출 합계: \n",
      "[['교통' '139350.0']\n",
      " ['기타' '37678.0']\n",
      " ['문화' '136500.0']\n",
      " ['생활' '146900.0']\n",
      " ['쇼핑' '37380.0']\n",
      " ['식사' '565630.0']\n",
      " ['의료' '261200.0']\n",
      " ['통신' '57600.0']]\n"
     ]
    }
   ],
   "source": [
    "# cate_total_result = dict(zip(unique_cate, cate_total))\n",
    "cate_total_result = np.column_stack((unique_cate, cate_total))\n",
    "print('이번 달 카테고리별 지출 합계: ')\n",
    "print(cate_total_result)"
   ]
  },
  {
   "cell_type": "code",
   "execution_count": 76,
   "id": "6f9cd15a",
   "metadata": {},
   "outputs": [
    {
     "data": {
      "text/plain": [
       "[4, 6, 2, 26, 2, 29, 4, 1]"
      ]
     },
     "execution_count": 76,
     "metadata": {},
     "output_type": "execute_result"
    },
    {
     "data": {
      "text/plain": [
       "'식사'"
      ]
     },
     "execution_count": 76,
     "metadata": {},
     "output_type": "execute_result"
    },
    {
     "data": {
      "text/plain": [
       "'통신'"
      ]
     },
     "execution_count": 76,
     "metadata": {},
     "output_type": "execute_result"
    }
   ],
   "source": [
    "# 가장 많이/적게 쓴 카테고리 \n",
    "cate_cnt = list(np.unique(card_202107[:, 2], return_counts=True)[1])\n",
    "cate_cnt\n",
    "most_used = unique_cate[np.argmax(cate_cnt)]\n",
    "most_used\n",
    "\n",
    "least_used = unique_cate[np.argmin(cate_cnt)]\n",
    "least_used"
   ]
  },
  {
   "cell_type": "code",
   "execution_count": 77,
   "id": "cb551eb6",
   "metadata": {},
   "outputs": [
    {
     "data": {
      "text/plain": [
       "'20210730'"
      ]
     },
     "execution_count": 77,
     "metadata": {},
     "output_type": "execute_result"
    },
    {
     "data": {
      "text/plain": [
       "'20210717'"
      ]
     },
     "execution_count": 77,
     "metadata": {},
     "output_type": "execute_result"
    }
   ],
   "source": [
    "#가장 많이 쓴 날짜 \n",
    "dates = card_202107[:, 0]\n",
    "\n",
    "unique_dates, date_idx = np.unique(dates, return_inverse=True)\n",
    "date_totals = np.bincount(date_idx, weights=spending_list)\n",
    "\n",
    "most_spent_date = unique_dates[np.argmax(date_totals)]\n",
    "most_spent_date\n",
    "\n",
    "least_spent_date = unique_dates[np.argmin(date_totals)]\n",
    "least_spent_date\n"
   ]
  },
  {
   "cell_type": "code",
   "execution_count": 78,
   "id": "389e451e",
   "metadata": {},
   "outputs": [
    {
     "data": {
      "text/plain": [
       "(array([27, 36, 50, 52, 58, 66], dtype=int64),)"
      ]
     },
     "execution_count": 78,
     "metadata": {},
     "output_type": "execute_result"
    },
    {
     "name": "stdout",
     "output_type": "stream",
     "text": [
      "['기타' '기타' '기타' '기타' '생활' '기타']\n",
      "['할인' '할인' '할인' '포인트사용' '편의점' '할인']\n"
     ]
    }
   ],
   "source": [
    "# 환불한 것들의 카테고리\n",
    "refunds_idx = np.where(spending_list < 0)\n",
    "refunds_idx\n",
    "\n",
    "print(cate[refunds_idx])\n",
    "print(card_202107[:, 3][refunds_idx])"
   ]
  },
  {
   "cell_type": "code",
   "execution_count": 79,
   "id": "38e410fa",
   "metadata": {},
   "outputs": [
    {
     "data": {
      "text/plain": [
       "array([['20200701', '1900', '식사', '카페'],\n",
       "       ['20200701', '18100', '생활', '편의점'],\n",
       "       ['20200701', '-905', '기타', '할인'],\n",
       "       ['20200702', '20700', '식사', '햄버거'],\n",
       "       ['20200703', '-645', '기타', '할인'],\n",
       "       ['20200703', '12900', '생활', '편의점'],\n",
       "       ['20200703', '3400', '생활', '편의점'],\n",
       "       ['20200703', '10900', '식사', '카페'],\n",
       "       ['20200703', '-2180', '기타', '할인'],\n",
       "       ['20200706', '16000', '식사', '한식'],\n",
       "       ['20200707', '1900', '식사', '카페'],\n",
       "       ['20200707', '10500', '식사', '카페'],\n",
       "       ['20200707', '8200', '생활', '편의점'],\n",
       "       ['20200707', '2400', '생활', '편의점'],\n",
       "       ['20200708', '1500', '식사', '카페'],\n",
       "       ['20200708', '7500', '식사', '카페'],\n",
       "       ['20200708', '4100', '식사', '카페'],\n",
       "       ['20200709', '-2500', '기타', '할인'],\n",
       "       ['20200709', '60000', '문화', '도서'],\n",
       "       ['20200709', '1400', '생활', '편의점'],\n",
       "       ['20200709', '14000', '식사', '한식'],\n",
       "       ['20200710', '3100', '식사', '카페'],\n",
       "       ['20200710', '7000', '식사', '순대'],\n",
       "       ['20200711', '-1000', '기타', '할인'],\n",
       "       ['20200711', '5600', '생활', '편의점'],\n",
       "       ['20200711', '23520', '생활', '편의점'],\n",
       "       ['20200711', '4000', '생활', '편의점'],\n",
       "       ['20200711', '8200', '생활', '편의점'],\n",
       "       ['20200711', '-4000', '생활', '편의점'],\n",
       "       ['20200712', '8100', '생활', '편의점'],\n",
       "       ['20200713', '41600', '통신', ''],\n",
       "       ['20200713', '1500', '식사', '카페'],\n",
       "       ['20200713', '14000', '유흥', '술'],\n",
       "       ['20200714', '14030', '식사', '디저트'],\n",
       "       ['20200714', '14000', '식사', '분식'],\n",
       "       ['20200714', '1500', '식사', '카페'],\n",
       "       ['20200714', '3400', '생활', '편의점'],\n",
       "       ['20200715', '1900', '식사', '카페'],\n",
       "       ['20200715', '21000', '식사', '중식'],\n",
       "       ['20200715', '-2000', '기타', '할인'],\n",
       "       ['20200715', '58400', '교통', '버스 22'],\n",
       "       ['20200716', '8000', '식사', '카페'],\n",
       "       ['20200716', '4200', '식사', '카페'],\n",
       "       ['20200716', '34000', '식사', '중식'],\n",
       "       ['20200716', '2000', '생활', '편의점'],\n",
       "       ['20200716', '2900', '식사', '카페'],\n",
       "       ['20200717', '5800', '식사', '카페'],\n",
       "       ['20200717', '16000', '식사', '한식'],\n",
       "       ['20200717', '1800', '식사', '카페'],\n",
       "       ['20200718', '44920', '생활', '마트'],\n",
       "       ['20200718', '8400', '식사', '디저트'],\n",
       "       ['20200720', '4000', '생활', '편의점'],\n",
       "       ['20200721', '1900', '식사', '카페'],\n",
       "       ['20200721', '5500', '생활', '편의점'],\n",
       "       ['20200721', '24000', '식사', '한식'],\n",
       "       ['20200722', '18900', '식사', '중식'],\n",
       "       ['20200722', '10000', '식사', '돈까스'],\n",
       "       ['20200723', '20500', '식사', '분식'],\n",
       "       ['20200723', '1500', '식사', '카페'],\n",
       "       ['20200723', '4500', '생활', '편의점'],\n",
       "       ['20200724', '24900', '식사', '디저트'],\n",
       "       ['20200724', '7500', '식사', '분식'],\n",
       "       ['20200724', '7800', '생활', '편의점'],\n",
       "       ['20200724', '700', '식사', '카페'],\n",
       "       ['20200727', '18000', '식사', '분식'],\n",
       "       ['20200727', '1900', '식사', '카페'],\n",
       "       ['20200727', '7000', '유흥', '술'],\n",
       "       ['20200728', '1500', '식사', '카페'],\n",
       "       ['20200729', '6000', '식사', '카페'],\n",
       "       ['20200729', '10460', '생활', '오피스'],\n",
       "       ['20200730', '1500', '식사', '카페'],\n",
       "       ['20200730', '14300', '식사', '햄버거'],\n",
       "       ['20200730', '7600', '식사', '햄버거'],\n",
       "       ['20200730', '18000', '식사', '한식'],\n",
       "       ['20200730', '5500', '식사', '카페'],\n",
       "       ['20200731', '62000', '교통', '버스 23'],\n",
       "       ['20200731', '1500', '식사', '카페'],\n",
       "       ['20200731', '7000', '유흥', '술']], dtype='<U8')"
      ]
     },
     "execution_count": 79,
     "metadata": {},
     "output_type": "execute_result"
    },
    {
     "data": {
      "text/plain": [
       "835000.0"
      ]
     },
     "execution_count": 79,
     "metadata": {},
     "output_type": "execute_result"
    },
    {
     "data": {
      "text/plain": [
       "2217238"
      ]
     },
     "execution_count": 79,
     "metadata": {},
     "output_type": "execute_result"
    }
   ],
   "source": [
    "# 전년 동기 대비 지출\n",
    "\n",
    "card_202007 = np.loadtxt('../card_data/csv/202007.csv',\n",
    "                         delimiter=',', dtype='str', usecols=(0, 2, 4, 5), skiprows=1, encoding=\"utf-8\")\n",
    "card_202007\n",
    "\n",
    "total_202007 = card_202007[:, 1].astype('float').sum()\n",
    "total_202007\n",
    "\n",
    "card_combined = np.vstack((card_202107, card_202007))# 2021, 2020 7월 데이터\n",
    "spending_combined = card_combined[:, 1].astype('int')\n",
    "spending_combined.sum()"
   ]
  },
  {
   "cell_type": "code",
   "execution_count": 80,
   "id": "80bafe6f",
   "metadata": {},
   "outputs": [
    {
     "name": "stdout",
     "output_type": "stream",
     "text": [
      "<class 'numpy.ndarray'>\n"
     ]
    },
    {
     "data": {
      "text/plain": [
       "[numpy.datetime64('20210701-01-01'),\n",
       " numpy.datetime64('20210701-01-01'),\n",
       " numpy.datetime64('20210701-01-01'),\n",
       " numpy.datetime64('20210702-01-01'),\n",
       " numpy.datetime64('20210702-01-01'),\n",
       " numpy.datetime64('20210702-01-01'),\n",
       " numpy.datetime64('20210702-01-01'),\n",
       " numpy.datetime64('20210703-01-01'),\n",
       " numpy.datetime64('20210703-01-01'),\n",
       " numpy.datetime64('20210704-01-01'),\n",
       " numpy.datetime64('20210705-01-01'),\n",
       " numpy.datetime64('20210705-01-01'),\n",
       " numpy.datetime64('20210705-01-01'),\n",
       " numpy.datetime64('20210705-01-01'),\n",
       " numpy.datetime64('20210706-01-01'),\n",
       " numpy.datetime64('20210707-01-01'),\n",
       " numpy.datetime64('20210708-01-01'),\n",
       " numpy.datetime64('20210708-01-01'),\n",
       " numpy.datetime64('20210708-01-01'),\n",
       " numpy.datetime64('20210708-01-01'),\n",
       " numpy.datetime64('20210709-01-01'),\n",
       " numpy.datetime64('20210709-01-01'),\n",
       " numpy.datetime64('20210710-01-01'),\n",
       " numpy.datetime64('20210711-01-01'),\n",
       " numpy.datetime64('20210712-01-01'),\n",
       " numpy.datetime64('20210712-01-01'),\n",
       " numpy.datetime64('20210712-01-01'),\n",
       " numpy.datetime64('20210712-01-01'),\n",
       " numpy.datetime64('20210713-01-01'),\n",
       " numpy.datetime64('20210713-01-01'),\n",
       " numpy.datetime64('20210714-01-01'),\n",
       " numpy.datetime64('20210714-01-01'),\n",
       " numpy.datetime64('20210714-01-01'),\n",
       " numpy.datetime64('20210714-01-01'),\n",
       " numpy.datetime64('20210715-01-01'),\n",
       " numpy.datetime64('20210715-01-01'),\n",
       " numpy.datetime64('20210715-01-01'),\n",
       " numpy.datetime64('20210715-01-01'),\n",
       " numpy.datetime64('20210715-01-01'),\n",
       " numpy.datetime64('20210716-01-01'),\n",
       " numpy.datetime64('20210716-01-01'),\n",
       " numpy.datetime64('20210717-01-01'),\n",
       " numpy.datetime64('20210718-01-01'),\n",
       " numpy.datetime64('20210719-01-01'),\n",
       " numpy.datetime64('20210720-01-01'),\n",
       " numpy.datetime64('20210720-01-01'),\n",
       " numpy.datetime64('20210720-01-01'),\n",
       " numpy.datetime64('20210720-01-01'),\n",
       " numpy.datetime64('20210721-01-01'),\n",
       " numpy.datetime64('20210721-01-01'),\n",
       " numpy.datetime64('20210722-01-01'),\n",
       " numpy.datetime64('20210722-01-01'),\n",
       " numpy.datetime64('20210722-01-01'),\n",
       " numpy.datetime64('20210722-01-01'),\n",
       " numpy.datetime64('20210722-01-01'),\n",
       " numpy.datetime64('20210722-01-01'),\n",
       " numpy.datetime64('20210723-01-01'),\n",
       " numpy.datetime64('20210723-01-01'),\n",
       " numpy.datetime64('20210723-01-01'),\n",
       " numpy.datetime64('20210723-01-01'),\n",
       " numpy.datetime64('20210723-01-01'),\n",
       " numpy.datetime64('20210724-01-01'),\n",
       " numpy.datetime64('20210726-01-01'),\n",
       " numpy.datetime64('20210727-01-01'),\n",
       " numpy.datetime64('20210727-01-01'),\n",
       " numpy.datetime64('20210729-01-01'),\n",
       " numpy.datetime64('20210729-01-01'),\n",
       " numpy.datetime64('20210730-01-01'),\n",
       " numpy.datetime64('20210730-01-01'),\n",
       " numpy.datetime64('20210730-01-01'),\n",
       " numpy.datetime64('20210730-01-01'),\n",
       " numpy.datetime64('20210730-01-01'),\n",
       " numpy.datetime64('20210730-01-01'),\n",
       " numpy.datetime64('20210731-01-01')]"
      ]
     },
     "execution_count": 80,
     "metadata": {},
     "output_type": "execute_result"
    }
   ],
   "source": [
    "# 어느 요일에 많이 지출?\n",
    "dates = (card_202107[:, 0])\n",
    "print(type(dates))\n",
    "\n",
    "dates = [np.datetime64(date, 'D') for date in dates]\n",
    "dates"
   ]
  },
  {
   "cell_type": "code",
   "execution_count": 81,
   "id": "a2cda21a",
   "metadata": {},
   "outputs": [
    {
     "data": {
      "text/plain": [
       "Counter({'식사': 29,\n",
       "         '생활': 26,\n",
       "         '기타': 6,\n",
       "         '교통': 4,\n",
       "         '의료': 4,\n",
       "         '쇼핑': 2,\n",
       "         '문화': 2,\n",
       "         '통신': 1})"
      ]
     },
     "execution_count": 81,
     "metadata": {},
     "output_type": "execute_result"
    }
   ],
   "source": [
    "# 1. 카테고리별 카드 이용 횟수\n",
    "\n",
    "import collections\n",
    "collections.Counter(card_202107[:, 2])"
   ]
  },
  {
   "cell_type": "code",
   "execution_count": 82,
   "id": "bb0b8780",
   "metadata": {},
   "outputs": [
    {
     "name": "stdout",
     "output_type": "stream",
     "text": [
      "교통: 139,350원 (10.08%)\n",
      "기타: 37,678원 (2.73%)\n",
      "문화: 136,500원 (9.88%)\n",
      "생활: 146,900원 (10.63%)\n",
      "쇼핑: 37,380원 (2.7%)\n",
      "식사: 565,630원 (40.92%)\n",
      "의료: 261,200원 (18.9%)\n",
      "통신: 57,600원 (4.17%)\n"
     ]
    }
   ],
   "source": [
    "# 2. 카테고리별 사용 금액 & 비중\n",
    "\n",
    "card_cate = list(np.unique(card_202107[:, 2], return_counts=True)[0])\n",
    "\n",
    "total = card_202107[:, 1].astype(\"int\").sum()\n",
    "\n",
    "for cate in card_cate:\n",
    "    catesum = sum(list(map(int, card_202107[card_202107[:, 2] == cate, 1])))\n",
    "    print(f'{cate}: {format(catesum, \",d\")}원 ({round(catesum/total*100, 2)}%)')\n"
   ]
  },
  {
   "cell_type": "code",
   "execution_count": 83,
   "id": "d3d26db7",
   "metadata": {},
   "outputs": [
    {
     "name": "stdout",
     "output_type": "stream",
     "text": [
      "2021년 7월 01일: 36,200원\n",
      "2021년 7월 02일: 74,900원\n",
      "2021년 7월 03일: 54,400원\n",
      "2021년 7월 04일: 10,480원\n",
      "2021년 7월 05일: 61,980원\n",
      "2021년 7월 06일: 8,000원\n",
      "2021년 7월 07일: 8,000원\n",
      "2021년 7월 08일: 57,850원\n",
      "2021년 7월 09일: 12,700원\n",
      "2021년 7월 10일: 17,000원\n",
      "2021년 7월 11일: 34,000원\n",
      "2021년 7월 12일: 69,400원\n",
      "2021년 7월 13일: 8,700원\n",
      "2021년 7월 14일: 28,300원\n",
      "2021년 7월 15일: 119,000원\n",
      "2021년 7월 16일: 40,100원\n",
      "2021년 7월 17일: 1,800원\n",
      "2021년 7월 18일: 1,800원\n",
      "2021년 7월 19일: 14,300원\n",
      "2021년 7월 20일: 214,300원\n",
      "2021년 7월 21일: 8,850원\n",
      "2021년 7월 22일: 84,278원\n",
      "2021년 7월 23일: 25,300원\n",
      "2021년 7월 24일: 15,600원\n",
      "2021년 7월 26일: 2,150원\n",
      "2021년 7월 27일: 11,300원\n",
      "2021년 7월 29일: 57,500원\n",
      "2021년 7월 30일: 300,150원\n",
      "2021년 7월 31일: 3,900원\n"
     ]
    }
   ],
   "source": [
    "# 3. 날짜별 사용 금액\n",
    "\n",
    "card_date = list(np.unique(card_202107[:, 0], return_counts=True)[0])\n",
    "\n",
    "for date in card_date:\n",
    "    datesum = sum(list(map(int, card_202107[card_202107[:, 0] == date, 1])))\n",
    "    date = date[:4] + \"년 \" + date[5:6] +\"월 \" + date[6:] + \"일\"\n",
    "    print(f'{date}: {format(datesum, \",d\")}원')\n"
   ]
  },
  {
   "cell_type": "code",
   "execution_count": 84,
   "id": "3b509824",
   "metadata": {},
   "outputs": [
    {
     "name": "stdout",
     "output_type": "stream",
     "text": [
      "2021년 7월 총 17722원 환불\n"
     ]
    }
   ],
   "source": [
    "# 4. 환불 금액\n",
    "\n",
    "refund = sum(list(map(int, card_202107[card_202107[:, 1].astype(\"int\") < 0, 1]))) * -1\n",
    "print(f'2021년 7월 총 {refund}원 환불')"
   ]
  },
  {
   "cell_type": "code",
   "execution_count": 85,
   "id": "f72acf7a",
   "metadata": {},
   "outputs": [
    {
     "name": "stdout",
     "output_type": "stream",
     "text": [
      "엥겔 지수: 40.92%\n"
     ]
    }
   ],
   "source": [
    "# 5. 엥겔 지수: '생활' 카테고리는 식비에 포함되지 않는다는 가정 하에\n",
    "\n",
    "total = card_202107[:, 1].astype(\"int\").sum()\n",
    "food = sum(list(map(int, card_202107[card_202107[:, 2] == \"식사\", 1])))\n",
    "engel = round(food/total*100, 2)\n",
    "\n",
    "print(f'엥겔 지수: {engel}%')\n"
   ]
  },
  {
   "cell_type": "code",
   "execution_count": 86,
   "id": "691a5884",
   "metadata": {},
   "outputs": [
    {
     "name": "stdout",
     "output_type": "stream",
     "text": [
      "2021년 7월 편의점 이용 횟수: 24회, 이용 금액: 91300원\n"
     ]
    }
   ],
   "source": [
    "# 6. 편의점 이용 횟수 & 금액\n",
    "\n",
    "import collections\n",
    "conv_count = collections.Counter(card_202107[:, 3] == \"편의점\")[1]\n",
    "conv_sum = sum(list(map(int, card_202107[card_202107[:, 3] == \"편의점\", 1])))\n",
    "\n",
    "print(f'2021년 7월 편의점 이용 횟수: {conv_count}회, 이용 금액: {conv_sum}원')\n"
   ]
  },
  {
   "cell_type": "code",
   "execution_count": 87,
   "id": "c4b5236a",
   "metadata": {},
   "outputs": [
    {
     "data": {
      "text/plain": [
       "array([['20210701', '', '13000', '', '식사', '일식', ''],\n",
       "       ['20210701', '', '13500', '', '식사', '카페', '바나프레소'],\n",
       "       ['20210701', '', '9700', '', '식사', '한식', ''],\n",
       "       ['20210702', '', '1400', '', '생활', '편의점', 'CU'],\n",
       "       ['20210702', '', '48000', '', '기타', '', ''],\n",
       "       ['20210702', '', '17500', '', '식사', '디저트', ''],\n",
       "       ['20210702', '', '8000', '', '식사', '한식', ''],\n",
       "       ['20210703', '', '14400', '', '식사', '카페', '아이스달달'],\n",
       "       ['20210703', '', '40000', '', '생활', '헤어', ''],\n",
       "       ['20210704', '', '10480', '8', '쇼핑', '온라인', '인터파크'],\n",
       "       ['20210705', '', '6300', '', '생활', '편의점', 'CU'],\n",
       "       ['20210705', '', '26900', '', '쇼핑', '온라인', '네이버'],\n",
       "       ['20210705', '', '9800', '', '식사', '카페', '해머스미스'],\n",
       "       ['20210705', '', '18980', '', '식사', '중식', ''],\n",
       "       ['20210706', '', '8000', '', '식사', '한식', ''],\n",
       "       ['20210707', '', '8000', '', '식사', '한식', ''],\n",
       "       ['20210708', '', '15550', '', '식사', '중식', ''],\n",
       "       ['20210708', '', '35200', '', '교통', '택시', ''],\n",
       "       ['20210708', '', '3600', '', '생활', '편의점', 'CU'],\n",
       "       ['20210708', '', '3500', '', '생활', '편의점', 'CU'],\n",
       "       ['20210709', '', '5300', '', '생활', '편의점', 'CU'],\n",
       "       ['20210709', '', '7400', '', '식사', '햄버거', '롯데리아'],\n",
       "       ['20210710', '', '17000', '', '식사', '치킨', '자담치킨'],\n",
       "       ['20210711', '', '34000', '', '식사', '디저트', ''],\n",
       "       ['20210712', '', '13000', '', '생활', '편의점', '세븐일레븐'],\n",
       "       ['20210712', '', '1300', '', '생활', '편의점', '세븐일레븐'],\n",
       "       ['20210712', '', '57600', '', '통신', '', ''],\n",
       "       ['20210712', '', '-2500', '', '기타', '할인', ''],\n",
       "       ['20210713', '', '5200', '', '생활', '편의점', 'GS25'],\n",
       "       ['20210713', '', '3500', '', '식사', '카페', '바나프레소'],\n",
       "       ['20210714', '', '13000', '', '식사', '레스토랑', ''],\n",
       "       ['20210714', '', '1200', '', '생활', '편의점', '세븐일레븐'],\n",
       "       ['20210714', '', '2500', '', '식사', '카페', '해머스미스'],\n",
       "       ['20210714', '', '11600', '', '식사', '카페', '해머스미스'],\n",
       "       ['20210715', '', '9500', '', '식사', '카페', '해머스미스'],\n",
       "       ['20210715', '', '54400', '', '의료', '병원', ''],\n",
       "       ['20210715', '', '-2000', '', '기타', '할인', ''],\n",
       "       ['20210715', '20210720', '55200', '', '교통', '버스 21', ''],\n",
       "       ['20210715', '', '1900', '', '생활', '편의점', 'CU'],\n",
       "       ['20210716', '', '30000', '', '식사', '햄버거', '롯데리아'],\n",
       "       ['20210716', '', '10100', '', '식사', '카페', '해머스미스'],\n",
       "       ['20210717', '', '1800', '', '생활', '편의점', 'GS25'],\n",
       "       ['20210718', '', '1800', '', '생활', '편의점', 'GS25'],\n",
       "       ['20210719', '', '14300', '', '식사', '카페', '해머스미스'],\n",
       "       ['20210720', '', '1700', '', '생활', '편의점', 'CU'],\n",
       "       ['20210720', '', '102900', '', '의료', '병원', ''],\n",
       "       ['20210720', '', '100000', '', '의료', '병원', ''],\n",
       "       ['20210720', '', '9700', '', '식사', '한식', ''],\n",
       "       ['20210721', '', '2250', '', '생활', '편의점', 'CU'],\n",
       "       ['20210721', '', '6600', '', '식사', '카페', '해머스미스'],\n",
       "       ['20210722', '', '-2500', '', '기타', '할인', ''],\n",
       "       ['20210722', '', '76500', '183', '문화', '도서', '교보문고'],\n",
       "       ['20210722', '', '-822', '', '기타', '포인트사용', ''],\n",
       "       ['20210722', '', '4500', '', '생활', '편의점', 'CU'],\n",
       "       ['20210722', '', '3500', '', '생활', '편의점', 'CU'],\n",
       "       ['20210722', '20210804', '3100', '', '교통', '지하철 2', ''],\n",
       "       ['20210723', '', '6700', '', '생활', '편의점', '세븐일레븐'],\n",
       "       ['20210723', '', '7400', '', '생활', '편의점', '세븐일레븐'],\n",
       "       ['20210723', '', '-7400', '', '생활', '편의점', '세븐일레븐'],\n",
       "       ['20210723', '', '10000', '', '생활', '편의점', '세븐일레븐'],\n",
       "       ['20210723', '', '8600', '', '식사', '카페', '해머스미스'],\n",
       "       ['20210724', '', '15600', '', '생활', '마트', '웰빙마트'],\n",
       "       ['20210726', '', '2150', '', '생활', '편의점', 'CU'],\n",
       "       ['20210727', '', '9600', '', '식사', '카페', '해머스미스'],\n",
       "       ['20210727', '', '1700', '', '생활', '편의점', '세븐일레븐'],\n",
       "       ['20210729', '', '60000', '144', '문화', '도서', '교보문고'],\n",
       "       ['20210729', '', '-2500', '', '기타', '할인', ''],\n",
       "       ['20210730', '', '1800', '', '식사', '카페', '스타벅스'],\n",
       "       ['20210730', '', '8900', '', '생활', '편의점', 'CU'],\n",
       "       ['20210730', '20210804', '45850', '', '교통', '버스 17', ''],\n",
       "       ['20210730', '', '100000', '', '식사', '카페', '스타벅스'],\n",
       "       ['20210730', '', '140000', '', '식사', '카페', '스타벅스'],\n",
       "       ['20210730', '', '3600', '', '생활', '편의점', '세븐일레븐'],\n",
       "       ['20210731', '', '3900', '', '의료', '병원', '']], dtype='<U8')"
      ]
     },
     "execution_count": 87,
     "metadata": {},
     "output_type": "execute_result"
    }
   ],
   "source": [
    "with open(\"../card_data/json/202107.json\", \"r\", encoding=\"utf-8\") as f:\n",
    "    json_data = json.load(f)\n",
    "card_202107 = np.array(json_data[\"list\"])\n",
    "card_202107 = np.array(list(map(lambda x: list(x.values()), card_202107)))\n",
    "card_202107"
   ]
  },
  {
   "cell_type": "code",
   "execution_count": 88,
   "id": "e2c9edaa",
   "metadata": {},
   "outputs": [],
   "source": [
    "# 7. 카페 브랜드별 이용 횟수 & 금액 & 금액 비중\n",
    "\n",
    "import collections\n",
    "\n",
    "cafes = list(np.unique(card_202107[card_202107[:, 3] == \"카페\", 4]))\n",
    "total = sum(list(map(int, card_202107[card_202107[:, 3] == \"카페\", 1])))\n",
    "\n",
    "for cafe in cafes:\n",
    "    cafe_count = collections.Counter(card_202107[:, 4] == cafe)[1]\n",
    "    cafe_sum = sum(list(map(int, card_202107[card_202107[:, 4] == cafe, 1])))\n",
    "    print(f'2021년 7월 {cafe} 이용 횟수: {cafe_count}회 | 이용 금액: {format(cafe_sum, \",d\")}원 ({round(cafe_sum/total*100, 2)}%)')"
   ]
  },
  {
   "cell_type": "code",
   "execution_count": 89,
   "id": "c099b069",
   "metadata": {},
   "outputs": [],
   "source": [
    "# 8. 재미로 추측해본:\n",
    "# 남성, 직장이 강남구일 가능성 매우 높음, 버스로 출퇴근하며 집이 멀다\n",
    "# 대부분 집-회사 패턴, 부모님과 거주 가능성 있음 (혹은 주거생활비 카드가 따로 있음)"
   ]
  },
  {
   "cell_type": "code",
   "execution_count": 90,
   "id": "9b70fcbd",
   "metadata": {},
   "outputs": [
    {
     "data": {
      "text/plain": [
       "array([['20210701', '', '13000', '', '식사', '일식', ''],\n",
       "       ['20210701', '', '13500', '', '식사', '카페', '바나프레소'],\n",
       "       ['20210701', '', '9700', '', '식사', '한식', ''],\n",
       "       ['20210702', '', '1400', '', '생활', '편의점', 'CU'],\n",
       "       ['20210702', '', '48000', '', '기타', '', ''],\n",
       "       ['20210702', '', '17500', '', '식사', '디저트', ''],\n",
       "       ['20210702', '', '8000', '', '식사', '한식', ''],\n",
       "       ['20210703', '', '14400', '', '식사', '카페', '아이스달달'],\n",
       "       ['20210703', '', '40000', '', '생활', '헤어', ''],\n",
       "       ['20210704', '', '10480', '8', '쇼핑', '온라인', '인터파크'],\n",
       "       ['20210705', '', '6300', '', '생활', '편의점', 'CU'],\n",
       "       ['20210705', '', '26900', '', '쇼핑', '온라인', '네이버'],\n",
       "       ['20210705', '', '9800', '', '식사', '카페', '해머스미스'],\n",
       "       ['20210705', '', '18980', '', '식사', '중식', ''],\n",
       "       ['20210706', '', '8000', '', '식사', '한식', ''],\n",
       "       ['20210707', '', '8000', '', '식사', '한식', ''],\n",
       "       ['20210708', '', '15550', '', '식사', '중식', ''],\n",
       "       ['20210708', '', '35200', '', '교통', '택시', ''],\n",
       "       ['20210708', '', '3600', '', '생활', '편의점', 'CU'],\n",
       "       ['20210708', '', '3500', '', '생활', '편의점', 'CU'],\n",
       "       ['20210709', '', '5300', '', '생활', '편의점', 'CU'],\n",
       "       ['20210709', '', '7400', '', '식사', '햄버거', '롯데리아'],\n",
       "       ['20210710', '', '17000', '', '식사', '치킨', '자담치킨'],\n",
       "       ['20210711', '', '34000', '', '식사', '디저트', ''],\n",
       "       ['20210712', '', '13000', '', '생활', '편의점', '세븐일레븐'],\n",
       "       ['20210712', '', '1300', '', '생활', '편의점', '세븐일레븐'],\n",
       "       ['20210712', '', '57600', '', '통신', '', ''],\n",
       "       ['20210712', '', '-2500', '', '기타', '할인', ''],\n",
       "       ['20210713', '', '5200', '', '생활', '편의점', 'GS25'],\n",
       "       ['20210713', '', '3500', '', '식사', '카페', '바나프레소'],\n",
       "       ['20210714', '', '13000', '', '식사', '레스토랑', ''],\n",
       "       ['20210714', '', '1200', '', '생활', '편의점', '세븐일레븐'],\n",
       "       ['20210714', '', '2500', '', '식사', '카페', '해머스미스'],\n",
       "       ['20210714', '', '11600', '', '식사', '카페', '해머스미스'],\n",
       "       ['20210715', '', '9500', '', '식사', '카페', '해머스미스'],\n",
       "       ['20210715', '', '54400', '', '의료', '병원', ''],\n",
       "       ['20210715', '', '-2000', '', '기타', '할인', ''],\n",
       "       ['20210715', '20210720', '55200', '', '교통', '버스 21', ''],\n",
       "       ['20210715', '', '1900', '', '생활', '편의점', 'CU'],\n",
       "       ['20210716', '', '30000', '', '식사', '햄버거', '롯데리아'],\n",
       "       ['20210716', '', '10100', '', '식사', '카페', '해머스미스'],\n",
       "       ['20210717', '', '1800', '', '생활', '편의점', 'GS25'],\n",
       "       ['20210718', '', '1800', '', '생활', '편의점', 'GS25'],\n",
       "       ['20210719', '', '14300', '', '식사', '카페', '해머스미스'],\n",
       "       ['20210720', '', '1700', '', '생활', '편의점', 'CU'],\n",
       "       ['20210720', '', '102900', '', '의료', '병원', ''],\n",
       "       ['20210720', '', '100000', '', '의료', '병원', ''],\n",
       "       ['20210720', '', '9700', '', '식사', '한식', ''],\n",
       "       ['20210721', '', '2250', '', '생활', '편의점', 'CU'],\n",
       "       ['20210721', '', '6600', '', '식사', '카페', '해머스미스'],\n",
       "       ['20210722', '', '-2500', '', '기타', '할인', ''],\n",
       "       ['20210722', '', '76500', '183', '문화', '도서', '교보문고'],\n",
       "       ['20210722', '', '-822', '', '기타', '포인트사용', ''],\n",
       "       ['20210722', '', '4500', '', '생활', '편의점', 'CU'],\n",
       "       ['20210722', '', '3500', '', '생활', '편의점', 'CU'],\n",
       "       ['20210722', '20210804', '3100', '', '교통', '지하철 2', ''],\n",
       "       ['20210723', '', '6700', '', '생활', '편의점', '세븐일레븐'],\n",
       "       ['20210723', '', '7400', '', '생활', '편의점', '세븐일레븐'],\n",
       "       ['20210723', '', '-7400', '', '생활', '편의점', '세븐일레븐'],\n",
       "       ['20210723', '', '10000', '', '생활', '편의점', '세븐일레븐'],\n",
       "       ['20210723', '', '8600', '', '식사', '카페', '해머스미스'],\n",
       "       ['20210724', '', '15600', '', '생활', '마트', '웰빙마트'],\n",
       "       ['20210726', '', '2150', '', '생활', '편의점', 'CU'],\n",
       "       ['20210727', '', '9600', '', '식사', '카페', '해머스미스'],\n",
       "       ['20210727', '', '1700', '', '생활', '편의점', '세븐일레븐'],\n",
       "       ['20210729', '', '60000', '144', '문화', '도서', '교보문고'],\n",
       "       ['20210729', '', '-2500', '', '기타', '할인', ''],\n",
       "       ['20210730', '', '1800', '', '식사', '카페', '스타벅스'],\n",
       "       ['20210730', '', '8900', '', '생활', '편의점', 'CU'],\n",
       "       ['20210730', '20210804', '45850', '', '교통', '버스 17', ''],\n",
       "       ['20210730', '', '100000', '', '식사', '카페', '스타벅스'],\n",
       "       ['20210730', '', '140000', '', '식사', '카페', '스타벅스'],\n",
       "       ['20210730', '', '3600', '', '생활', '편의점', '세븐일레븐'],\n",
       "       ['20210731', '', '3900', '', '의료', '병원', '']], dtype='<U8')"
      ]
     },
     "execution_count": 90,
     "metadata": {},
     "output_type": "execute_result"
    },
    {
     "data": {
      "text/plain": [
       "array([['20210701', '13000', '식사', '일식'],\n",
       "       ['20210701', '13500', '식사', '카페'],\n",
       "       ['20210701', '9700', '식사', '한식'],\n",
       "       ['20210702', '1400', '생활', '편의점'],\n",
       "       ['20210702', '48000', '기타', ''],\n",
       "       ['20210702', '17500', '식사', '디저트'],\n",
       "       ['20210702', '8000', '식사', '한식'],\n",
       "       ['20210703', '14400', '식사', '카페'],\n",
       "       ['20210703', '40000', '생활', '헤어'],\n",
       "       ['20210704', '10480', '쇼핑', '온라인'],\n",
       "       ['20210705', '6300', '생활', '편의점'],\n",
       "       ['20210705', '26900', '쇼핑', '온라인'],\n",
       "       ['20210705', '9800', '식사', '카페'],\n",
       "       ['20210705', '18980', '식사', '중식'],\n",
       "       ['20210706', '8000', '식사', '한식'],\n",
       "       ['20210707', '8000', '식사', '한식'],\n",
       "       ['20210708', '15550', '식사', '중식'],\n",
       "       ['20210708', '35200', '교통', '택시'],\n",
       "       ['20210708', '3600', '생활', '편의점'],\n",
       "       ['20210708', '3500', '생활', '편의점'],\n",
       "       ['20210709', '5300', '생활', '편의점'],\n",
       "       ['20210709', '7400', '식사', '햄버거'],\n",
       "       ['20210710', '17000', '식사', '치킨'],\n",
       "       ['20210711', '34000', '식사', '디저트'],\n",
       "       ['20210712', '13000', '생활', '편의점'],\n",
       "       ['20210712', '1300', '생활', '편의점'],\n",
       "       ['20210712', '57600', '통신', ''],\n",
       "       ['20210712', '-2500', '기타', '할인'],\n",
       "       ['20210713', '5200', '생활', '편의점'],\n",
       "       ['20210713', '3500', '식사', '카페'],\n",
       "       ['20210714', '13000', '식사', '레스토랑'],\n",
       "       ['20210714', '1200', '생활', '편의점'],\n",
       "       ['20210714', '2500', '식사', '카페'],\n",
       "       ['20210714', '11600', '식사', '카페'],\n",
       "       ['20210715', '9500', '식사', '카페'],\n",
       "       ['20210715', '54400', '의료', '병원'],\n",
       "       ['20210715', '-2000', '기타', '할인'],\n",
       "       ['20210715', '55200', '교통', '버스 21'],\n",
       "       ['20210715', '1900', '생활', '편의점'],\n",
       "       ['20210716', '30000', '식사', '햄버거'],\n",
       "       ['20210716', '10100', '식사', '카페'],\n",
       "       ['20210717', '1800', '생활', '편의점'],\n",
       "       ['20210718', '1800', '생활', '편의점'],\n",
       "       ['20210719', '14300', '식사', '카페'],\n",
       "       ['20210720', '1700', '생활', '편의점'],\n",
       "       ['20210720', '102900', '의료', '병원'],\n",
       "       ['20210720', '100000', '의료', '병원'],\n",
       "       ['20210720', '9700', '식사', '한식'],\n",
       "       ['20210721', '2250', '생활', '편의점'],\n",
       "       ['20210721', '6600', '식사', '카페'],\n",
       "       ['20210722', '-2500', '기타', '할인'],\n",
       "       ['20210722', '76500', '문화', '도서'],\n",
       "       ['20210722', '-822', '기타', '포인트사용'],\n",
       "       ['20210722', '4500', '생활', '편의점'],\n",
       "       ['20210722', '3500', '생활', '편의점'],\n",
       "       ['20210722', '3100', '교통', '지하철 2'],\n",
       "       ['20210723', '6700', '생활', '편의점'],\n",
       "       ['20210723', '7400', '생활', '편의점'],\n",
       "       ['20210723', '-7400', '생활', '편의점'],\n",
       "       ['20210723', '10000', '생활', '편의점'],\n",
       "       ['20210723', '8600', '식사', '카페'],\n",
       "       ['20210724', '15600', '생활', '마트'],\n",
       "       ['20210726', '2150', '생활', '편의점'],\n",
       "       ['20210727', '9600', '식사', '카페'],\n",
       "       ['20210727', '1700', '생활', '편의점'],\n",
       "       ['20210729', '60000', '문화', '도서'],\n",
       "       ['20210729', '-2500', '기타', '할인'],\n",
       "       ['20210730', '1800', '식사', '카페'],\n",
       "       ['20210730', '8900', '생활', '편의점'],\n",
       "       ['20210730', '45850', '교통', '버스 17'],\n",
       "       ['20210730', '100000', '식사', '카페'],\n",
       "       ['20210730', '140000', '식사', '카페'],\n",
       "       ['20210730', '3600', '생활', '편의점'],\n",
       "       ['20210731', '3900', '의료', '병원']], dtype='<U8')"
      ]
     },
     "execution_count": 90,
     "metadata": {},
     "output_type": "execute_result"
    }
   ],
   "source": [
    "with open(\"../card_data/json/202107.json\", \"r\", encoding=\"utf-8\") as f:\n",
    "    json_data = json.load(f)\n",
    "card_202107 = np.array(json_data[\"list\"])\n",
    "card_202107 = np.array(list(map(lambda x: list(x.values()), card_202107)))\n",
    "card_202107\n",
    "card_202107 = card_202107[:, [0, 2, 4, 5]]\n",
    "card_202107"
   ]
  },
  {
   "cell_type": "code",
   "execution_count": 91,
   "id": "947a2450",
   "metadata": {},
   "outputs": [
    {
     "data": {
      "text/plain": [
       "array(['13000', '13500', '9700', '1400', '48000', '17500', '8000',\n",
       "       '14400', '40000', '10480', '6300', '26900', '9800', '18980',\n",
       "       '8000', '8000', '15550', '35200', '3600', '3500', '5300', '7400',\n",
       "       '17000', '34000', '13000', '1300', '57600', '-2500', '5200',\n",
       "       '3500', '13000', '1200', '2500', '11600', '9500', '54400', '-2000',\n",
       "       '55200', '1900', '30000', '10100', '1800', '1800', '14300', '1700',\n",
       "       '102900', '100000', '9700', '2250', '6600', '-2500', '76500',\n",
       "       '-822', '4500', '3500', '3100', '6700', '7400', '-7400', '10000',\n",
       "       '8600', '15600', '2150', '9600', '1700', '60000', '-2500', '1800',\n",
       "       '8900', '45850', '100000', '140000', '3600', '3900'], dtype='<U8')"
      ]
     },
     "execution_count": 91,
     "metadata": {},
     "output_type": "execute_result"
    }
   ],
   "source": [
    "### 7월에 쓴 것 중에 가장 비싼 금액은? \n",
    "july_expensive = card_202107[:, 1] \n",
    "july_expensive "
   ]
  },
  {
   "cell_type": "code",
   "execution_count": 92,
   "id": "89699064",
   "metadata": {},
   "outputs": [
    {
     "data": {
      "text/plain": [
       "{'': 2,\n",
       " '도서': 2,\n",
       " '디저트': 2,\n",
       " '레스토랑': 1,\n",
       " '마트': 1,\n",
       " '버스 17': 1,\n",
       " '버스 21': 1,\n",
       " '병원': 4,\n",
       " '온라인': 2,\n",
       " '일식': 1,\n",
       " '중식': 2,\n",
       " '지하철 2': 1,\n",
       " '치킨': 1,\n",
       " '카페': 15,\n",
       " '택시': 1,\n",
       " '편의점': 24,\n",
       " '포인트사용': 1,\n",
       " '한식': 5,\n",
       " '할인': 4,\n",
       " '햄버거': 2,\n",
       " '헤어': 1}"
      ]
     },
     "execution_count": 92,
     "metadata": {},
     "output_type": "execute_result"
    }
   ],
   "source": [
    "### 소 카테고리들에 얼마나 사용했는가? \n",
    "small_ctgry, cnt = np.unique(card_202107[:, 3], return_counts=True) \n",
    "small_ctgry_dict = dict(zip(small_ctgry, cnt)) \n",
    "small_ctgry_dict "
   ]
  },
  {
   "cell_type": "code",
   "execution_count": 93,
   "id": "784dde77",
   "metadata": {},
   "outputs": [
    {
     "data": {
      "text/plain": [
       "array([ 57600,  54400,  55200, 102900, 100000,  76500,  60000, 100000,\n",
       "       140000])"
      ]
     },
     "execution_count": 93,
     "metadata": {},
     "output_type": "execute_result"
    }
   ],
   "source": [
    "### 7월에 사용한 금액 중에서 5만원이 넘는 금액들 \n",
    "morethan5man = card_202107[:, 1].astype(\"int\") \n",
    "morethan5man[morethan5man > 50000] "
   ]
  },
  {
   "cell_type": "code",
   "execution_count": 94,
   "id": "2b53a0cb",
   "metadata": {},
   "outputs": [
    {
     "data": {
      "text/plain": [
       "18679.0"
      ]
     },
     "execution_count": 94,
     "metadata": {},
     "output_type": "execute_result"
    }
   ],
   "source": [
    "### 하루에 평균 얼마를 사용했는지 \n",
    "per_day = card_202107[:, 1].astype(\"int\").mean() \n",
    "np.round(per_day) "
   ]
  },
  {
   "cell_type": "code",
   "execution_count": 95,
   "id": "fd683d2d",
   "metadata": {},
   "outputs": [
    {
     "name": "stdout",
     "output_type": "stream",
     "text": [
      "편의점 이용 횟수 : 24\n"
     ]
    }
   ],
   "source": [
    "### 이용일씨는 7월에 편의점에 몇번 갔는가? \n",
    "cnt_con_store = list(card_202107[:,3]).count('편의점') \n",
    "print('편의점 이용 횟수 :', cnt_con_store)"
   ]
  },
  {
   "cell_type": "code",
   "execution_count": 96,
   "id": "9983e144",
   "metadata": {},
   "outputs": [
    {
     "ename": "AttributeError",
     "evalue": "'numpy.ndarray' object has no attribute 'values'",
     "output_type": "error",
     "traceback": [
      "\u001b[1;31m---------------------------------------------------------------------------\u001b[0m",
      "\u001b[1;31mAttributeError\u001b[0m                            Traceback (most recent call last)",
      "Cell \u001b[1;32mIn[96], line 3\u001b[0m\n\u001b[0;32m      1\u001b[0m \u001b[38;5;66;03m# 1. 금액이 큰 순서대로 뽑기 \u001b[39;00m\n\u001b[0;32m      2\u001b[0m \u001b[38;5;66;03m# 리스트로 바꾸기 \u001b[39;00m\n\u001b[1;32m----> 3\u001b[0m card_202107\u001b[38;5;241m=\u001b[39m\u001b[38;5;28;43mlist\u001b[39;49m\u001b[43m(\u001b[49m\u001b[38;5;28;43mmap\u001b[39;49m\u001b[43m(\u001b[49m\u001b[38;5;28;43;01mlambda\u001b[39;49;00m\u001b[43m \u001b[49m\u001b[43mx\u001b[49m\u001b[43m:\u001b[49m\u001b[43m \u001b[49m\u001b[38;5;28;43mlist\u001b[39;49m\u001b[43m(\u001b[49m\u001b[43mx\u001b[49m\u001b[38;5;241;43m.\u001b[39;49m\u001b[43mvalues\u001b[49m\u001b[43m(\u001b[49m\u001b[43m)\u001b[49m\u001b[43m)\u001b[49m\u001b[43m,\u001b[49m\u001b[43m \u001b[49m\u001b[43mcard_202107\u001b[49m\u001b[43m)\u001b[49m\u001b[43m)\u001b[49m \n\u001b[0;32m      4\u001b[0m card_202107 \n\u001b[0;32m      5\u001b[0m \u001b[38;5;66;03m# 금액순으로 바꾸기(인데 안됌) \u001b[39;00m\n",
      "Cell \u001b[1;32mIn[96], line 3\u001b[0m, in \u001b[0;36m<lambda>\u001b[1;34m(x)\u001b[0m\n\u001b[0;32m      1\u001b[0m \u001b[38;5;66;03m# 1. 금액이 큰 순서대로 뽑기 \u001b[39;00m\n\u001b[0;32m      2\u001b[0m \u001b[38;5;66;03m# 리스트로 바꾸기 \u001b[39;00m\n\u001b[1;32m----> 3\u001b[0m card_202107\u001b[38;5;241m=\u001b[39m\u001b[38;5;28mlist\u001b[39m(\u001b[38;5;28mmap\u001b[39m(\u001b[38;5;28;01mlambda\u001b[39;00m x: \u001b[38;5;28mlist\u001b[39m(\u001b[43mx\u001b[49m\u001b[38;5;241;43m.\u001b[39;49m\u001b[43mvalues\u001b[49m()), card_202107)) \n\u001b[0;32m      4\u001b[0m card_202107 \n\u001b[0;32m      5\u001b[0m \u001b[38;5;66;03m# 금액순으로 바꾸기(인데 안됌) \u001b[39;00m\n",
      "\u001b[1;31mAttributeError\u001b[0m: 'numpy.ndarray' object has no attribute 'values'"
     ]
    }
   ],
   "source": [
    "# 1. 금액이 큰 순서대로 뽑기 \n",
    "# 리스트로 바꾸기 \n",
    "card_202107=list(map(lambda x: list(x.values()), card_202107)) \n",
    "card_202107 \n",
    "# 금액순으로 바꾸기(인데 안됌) \n",
    "card_202107.sort(key = lambda x: x[2]) \n",
    "card_202107 "
   ]
  },
  {
   "cell_type": "code",
   "execution_count": 97,
   "id": "3bc7d538",
   "metadata": {},
   "outputs": [],
   "source": [
    "with open(\"../card_data/json/202107.json\", \"r\", encoding=\"utf-8\") as f:\n",
    "    json_data = json.load(f)"
   ]
  },
  {
   "cell_type": "code",
   "execution_count": 98,
   "id": "c7fea92b",
   "metadata": {},
   "outputs": [
    {
     "ename": "SyntaxError",
     "evalue": "invalid syntax (995195553.py, line 2)",
     "output_type": "error",
     "traceback": [
      "\u001b[1;36m  Cell \u001b[1;32mIn[98], line 2\u001b[1;36m\u001b[0m\n\u001b[1;33m    json_data card = json_data[\"list\"] card for meal in filter(lambda x : x[\"대분류\"] == \"식사\",card)\u001b[0m\n\u001b[1;37m              ^\u001b[0m\n\u001b[1;31mSyntaxError\u001b[0m\u001b[1;31m:\u001b[0m invalid syntax\n"
     ]
    }
   ],
   "source": [
    "# 2. 대분류가 \"식사\" 인 리스트만 뽑기\n",
    "json_data card = json_data[\"list\"] card for meal in filter(lambda x : x[\"대분류\"] == \"식사\",card) \n",
    "print(meal) "
   ]
  },
  {
   "cell_type": "code",
   "execution_count": 99,
   "id": "562df778",
   "metadata": {},
   "outputs": [
    {
     "data": {
      "text/plain": [
       "[{'이용일': '20210701',\n",
       "  '결제일': '',\n",
       "  '금액': '13000',\n",
       "  '포인트리금액': '',\n",
       "  '대분류': '식사',\n",
       "  '중분류': '일식',\n",
       "  '소분류': ''},\n",
       " {'이용일': '20210701',\n",
       "  '결제일': '',\n",
       "  '금액': '13500',\n",
       "  '포인트리금액': '',\n",
       "  '대분류': '식사',\n",
       "  '중분류': '카페',\n",
       "  '소분류': '바나프레소'},\n",
       " {'이용일': '20210701',\n",
       "  '결제일': '',\n",
       "  '금액': '9700',\n",
       "  '포인트리금액': '',\n",
       "  '대분류': '식사',\n",
       "  '중분류': '한식',\n",
       "  '소분류': ''},\n",
       " {'이용일': '20210702',\n",
       "  '결제일': '',\n",
       "  '금액': '1400',\n",
       "  '포인트리금액': '',\n",
       "  '대분류': '생활',\n",
       "  '중분류': '편의점',\n",
       "  '소분류': 'CU'},\n",
       " {'이용일': '20210702',\n",
       "  '결제일': '',\n",
       "  '금액': '48000',\n",
       "  '포인트리금액': '',\n",
       "  '대분류': '기타',\n",
       "  '중분류': '',\n",
       "  '소분류': ''},\n",
       " {'이용일': '20210702',\n",
       "  '결제일': '',\n",
       "  '금액': '17500',\n",
       "  '포인트리금액': '',\n",
       "  '대분류': '식사',\n",
       "  '중분류': '디저트',\n",
       "  '소분류': ''},\n",
       " {'이용일': '20210702',\n",
       "  '결제일': '',\n",
       "  '금액': '8000',\n",
       "  '포인트리금액': '',\n",
       "  '대분류': '식사',\n",
       "  '중분류': '한식',\n",
       "  '소분류': ''},\n",
       " {'이용일': '20210703',\n",
       "  '결제일': '',\n",
       "  '금액': '14400',\n",
       "  '포인트리금액': '',\n",
       "  '대분류': '식사',\n",
       "  '중분류': '카페',\n",
       "  '소분류': '아이스달달'},\n",
       " {'이용일': '20210703',\n",
       "  '결제일': '',\n",
       "  '금액': '40000',\n",
       "  '포인트리금액': '',\n",
       "  '대분류': '생활',\n",
       "  '중분류': '헤어',\n",
       "  '소분류': ''},\n",
       " {'이용일': '20210704',\n",
       "  '결제일': '',\n",
       "  '금액': '10480',\n",
       "  '포인트리금액': '8',\n",
       "  '대분류': '쇼핑',\n",
       "  '중분류': '온라인',\n",
       "  '소분류': '인터파크'},\n",
       " {'이용일': '20210705',\n",
       "  '결제일': '',\n",
       "  '금액': '6300',\n",
       "  '포인트리금액': '',\n",
       "  '대분류': '생활',\n",
       "  '중분류': '편의점',\n",
       "  '소분류': 'CU'},\n",
       " {'이용일': '20210705',\n",
       "  '결제일': '',\n",
       "  '금액': '26900',\n",
       "  '포인트리금액': '',\n",
       "  '대분류': '쇼핑',\n",
       "  '중분류': '온라인',\n",
       "  '소분류': '네이버'},\n",
       " {'이용일': '20210705',\n",
       "  '결제일': '',\n",
       "  '금액': '9800',\n",
       "  '포인트리금액': '',\n",
       "  '대분류': '식사',\n",
       "  '중분류': '카페',\n",
       "  '소분류': '해머스미스'},\n",
       " {'이용일': '20210705',\n",
       "  '결제일': '',\n",
       "  '금액': '18980',\n",
       "  '포인트리금액': '',\n",
       "  '대분류': '식사',\n",
       "  '중분류': '중식',\n",
       "  '소분류': ''},\n",
       " {'이용일': '20210706',\n",
       "  '결제일': '',\n",
       "  '금액': '8000',\n",
       "  '포인트리금액': '',\n",
       "  '대분류': '식사',\n",
       "  '중분류': '한식',\n",
       "  '소분류': ''},\n",
       " {'이용일': '20210707',\n",
       "  '결제일': '',\n",
       "  '금액': '8000',\n",
       "  '포인트리금액': '',\n",
       "  '대분류': '식사',\n",
       "  '중분류': '한식',\n",
       "  '소분류': ''},\n",
       " {'이용일': '20210708',\n",
       "  '결제일': '',\n",
       "  '금액': '15550',\n",
       "  '포인트리금액': '',\n",
       "  '대분류': '식사',\n",
       "  '중분류': '중식',\n",
       "  '소분류': ''},\n",
       " {'이용일': '20210708',\n",
       "  '결제일': '',\n",
       "  '금액': '35200',\n",
       "  '포인트리금액': '',\n",
       "  '대분류': '교통',\n",
       "  '중분류': '택시',\n",
       "  '소분류': ''},\n",
       " {'이용일': '20210708',\n",
       "  '결제일': '',\n",
       "  '금액': '3600',\n",
       "  '포인트리금액': '',\n",
       "  '대분류': '생활',\n",
       "  '중분류': '편의점',\n",
       "  '소분류': 'CU'},\n",
       " {'이용일': '20210708',\n",
       "  '결제일': '',\n",
       "  '금액': '3500',\n",
       "  '포인트리금액': '',\n",
       "  '대분류': '생활',\n",
       "  '중분류': '편의점',\n",
       "  '소분류': 'CU'},\n",
       " {'이용일': '20210709',\n",
       "  '결제일': '',\n",
       "  '금액': '5300',\n",
       "  '포인트리금액': '',\n",
       "  '대분류': '생활',\n",
       "  '중분류': '편의점',\n",
       "  '소분류': 'CU'},\n",
       " {'이용일': '20210709',\n",
       "  '결제일': '',\n",
       "  '금액': '7400',\n",
       "  '포인트리금액': '',\n",
       "  '대분류': '식사',\n",
       "  '중분류': '햄버거',\n",
       "  '소분류': '롯데리아'},\n",
       " {'이용일': '20210710',\n",
       "  '결제일': '',\n",
       "  '금액': '17000',\n",
       "  '포인트리금액': '',\n",
       "  '대분류': '식사',\n",
       "  '중분류': '치킨',\n",
       "  '소분류': '자담치킨'},\n",
       " {'이용일': '20210711',\n",
       "  '결제일': '',\n",
       "  '금액': '34000',\n",
       "  '포인트리금액': '',\n",
       "  '대분류': '식사',\n",
       "  '중분류': '디저트',\n",
       "  '소분류': ''},\n",
       " {'이용일': '20210712',\n",
       "  '결제일': '',\n",
       "  '금액': '13000',\n",
       "  '포인트리금액': '',\n",
       "  '대분류': '생활',\n",
       "  '중분류': '편의점',\n",
       "  '소분류': '세븐일레븐'},\n",
       " {'이용일': '20210712',\n",
       "  '결제일': '',\n",
       "  '금액': '1300',\n",
       "  '포인트리금액': '',\n",
       "  '대분류': '생활',\n",
       "  '중분류': '편의점',\n",
       "  '소분류': '세븐일레븐'},\n",
       " {'이용일': '20210712',\n",
       "  '결제일': '',\n",
       "  '금액': '57600',\n",
       "  '포인트리금액': '',\n",
       "  '대분류': '통신',\n",
       "  '중분류': '',\n",
       "  '소분류': ''},\n",
       " {'이용일': '20210712',\n",
       "  '결제일': '',\n",
       "  '금액': '-2500',\n",
       "  '포인트리금액': '',\n",
       "  '대분류': '기타',\n",
       "  '중분류': '할인',\n",
       "  '소분류': ''},\n",
       " {'이용일': '20210713',\n",
       "  '결제일': '',\n",
       "  '금액': '5200',\n",
       "  '포인트리금액': '',\n",
       "  '대분류': '생활',\n",
       "  '중분류': '편의점',\n",
       "  '소분류': 'GS25'},\n",
       " {'이용일': '20210713',\n",
       "  '결제일': '',\n",
       "  '금액': '3500',\n",
       "  '포인트리금액': '',\n",
       "  '대분류': '식사',\n",
       "  '중분류': '카페',\n",
       "  '소분류': '바나프레소'},\n",
       " {'이용일': '20210714',\n",
       "  '결제일': '',\n",
       "  '금액': '13000',\n",
       "  '포인트리금액': '',\n",
       "  '대분류': '식사',\n",
       "  '중분류': '레스토랑',\n",
       "  '소분류': ''},\n",
       " {'이용일': '20210714',\n",
       "  '결제일': '',\n",
       "  '금액': '1200',\n",
       "  '포인트리금액': '',\n",
       "  '대분류': '생활',\n",
       "  '중분류': '편의점',\n",
       "  '소분류': '세븐일레븐'},\n",
       " {'이용일': '20210714',\n",
       "  '결제일': '',\n",
       "  '금액': '2500',\n",
       "  '포인트리금액': '',\n",
       "  '대분류': '식사',\n",
       "  '중분류': '카페',\n",
       "  '소분류': '해머스미스'},\n",
       " {'이용일': '20210714',\n",
       "  '결제일': '',\n",
       "  '금액': '11600',\n",
       "  '포인트리금액': '',\n",
       "  '대분류': '식사',\n",
       "  '중분류': '카페',\n",
       "  '소분류': '해머스미스'},\n",
       " {'이용일': '20210715',\n",
       "  '결제일': '',\n",
       "  '금액': '9500',\n",
       "  '포인트리금액': '',\n",
       "  '대분류': '식사',\n",
       "  '중분류': '카페',\n",
       "  '소분류': '해머스미스'},\n",
       " {'이용일': '20210715',\n",
       "  '결제일': '',\n",
       "  '금액': '54400',\n",
       "  '포인트리금액': '',\n",
       "  '대분류': '의료',\n",
       "  '중분류': '병원',\n",
       "  '소분류': ''},\n",
       " {'이용일': '20210715',\n",
       "  '결제일': '',\n",
       "  '금액': '-2000',\n",
       "  '포인트리금액': '',\n",
       "  '대분류': '기타',\n",
       "  '중분류': '할인',\n",
       "  '소분류': ''},\n",
       " {'이용일': '20210715',\n",
       "  '결제일': '20210720',\n",
       "  '금액': '55200',\n",
       "  '포인트리금액': '',\n",
       "  '대분류': '교통',\n",
       "  '중분류': '버스 21',\n",
       "  '소분류': ''},\n",
       " {'이용일': '20210715',\n",
       "  '결제일': '',\n",
       "  '금액': '1900',\n",
       "  '포인트리금액': '',\n",
       "  '대분류': '생활',\n",
       "  '중분류': '편의점',\n",
       "  '소분류': 'CU'},\n",
       " {'이용일': '20210716',\n",
       "  '결제일': '',\n",
       "  '금액': '30000',\n",
       "  '포인트리금액': '',\n",
       "  '대분류': '식사',\n",
       "  '중분류': '햄버거',\n",
       "  '소분류': '롯데리아'},\n",
       " {'이용일': '20210716',\n",
       "  '결제일': '',\n",
       "  '금액': '10100',\n",
       "  '포인트리금액': '',\n",
       "  '대분류': '식사',\n",
       "  '중분류': '카페',\n",
       "  '소분류': '해머스미스'},\n",
       " {'이용일': '20210717',\n",
       "  '결제일': '',\n",
       "  '금액': '1800',\n",
       "  '포인트리금액': '',\n",
       "  '대분류': '생활',\n",
       "  '중분류': '편의점',\n",
       "  '소분류': 'GS25'},\n",
       " {'이용일': '20210718',\n",
       "  '결제일': '',\n",
       "  '금액': '1800',\n",
       "  '포인트리금액': '',\n",
       "  '대분류': '생활',\n",
       "  '중분류': '편의점',\n",
       "  '소분류': 'GS25'},\n",
       " {'이용일': '20210719',\n",
       "  '결제일': '',\n",
       "  '금액': '14300',\n",
       "  '포인트리금액': '',\n",
       "  '대분류': '식사',\n",
       "  '중분류': '카페',\n",
       "  '소분류': '해머스미스'},\n",
       " {'이용일': '20210720',\n",
       "  '결제일': '',\n",
       "  '금액': '1700',\n",
       "  '포인트리금액': '',\n",
       "  '대분류': '생활',\n",
       "  '중분류': '편의점',\n",
       "  '소분류': 'CU'},\n",
       " {'이용일': '20210720',\n",
       "  '결제일': '',\n",
       "  '금액': '102900',\n",
       "  '포인트리금액': '',\n",
       "  '대분류': '의료',\n",
       "  '중분류': '병원',\n",
       "  '소분류': ''},\n",
       " {'이용일': '20210720',\n",
       "  '결제일': '',\n",
       "  '금액': '100000',\n",
       "  '포인트리금액': '',\n",
       "  '대분류': '의료',\n",
       "  '중분류': '병원',\n",
       "  '소분류': ''},\n",
       " {'이용일': '20210720',\n",
       "  '결제일': '',\n",
       "  '금액': '9700',\n",
       "  '포인트리금액': '',\n",
       "  '대분류': '식사',\n",
       "  '중분류': '한식',\n",
       "  '소분류': ''},\n",
       " {'이용일': '20210721',\n",
       "  '결제일': '',\n",
       "  '금액': '2250',\n",
       "  '포인트리금액': '',\n",
       "  '대분류': '생활',\n",
       "  '중분류': '편의점',\n",
       "  '소분류': 'CU'},\n",
       " {'이용일': '20210721',\n",
       "  '결제일': '',\n",
       "  '금액': '6600',\n",
       "  '포인트리금액': '',\n",
       "  '대분류': '식사',\n",
       "  '중분류': '카페',\n",
       "  '소분류': '해머스미스'},\n",
       " {'이용일': '20210722',\n",
       "  '결제일': '',\n",
       "  '금액': '-2500',\n",
       "  '포인트리금액': '',\n",
       "  '대분류': '기타',\n",
       "  '중분류': '할인',\n",
       "  '소분류': ''},\n",
       " {'이용일': '20210722',\n",
       "  '결제일': '',\n",
       "  '금액': '76500',\n",
       "  '포인트리금액': '183',\n",
       "  '대분류': '문화',\n",
       "  '중분류': '도서',\n",
       "  '소분류': '교보문고'},\n",
       " {'이용일': '20210722',\n",
       "  '결제일': '',\n",
       "  '금액': '-822',\n",
       "  '포인트리금액': '',\n",
       "  '대분류': '기타',\n",
       "  '중분류': '포인트사용',\n",
       "  '소분류': ''},\n",
       " {'이용일': '20210722',\n",
       "  '결제일': '',\n",
       "  '금액': '4500',\n",
       "  '포인트리금액': '',\n",
       "  '대분류': '생활',\n",
       "  '중분류': '편의점',\n",
       "  '소분류': 'CU'},\n",
       " {'이용일': '20210722',\n",
       "  '결제일': '',\n",
       "  '금액': '3500',\n",
       "  '포인트리금액': '',\n",
       "  '대분류': '생활',\n",
       "  '중분류': '편의점',\n",
       "  '소분류': 'CU'},\n",
       " {'이용일': '20210722',\n",
       "  '결제일': '20210804',\n",
       "  '금액': '3100',\n",
       "  '포인트리금액': '',\n",
       "  '대분류': '교통',\n",
       "  '중분류': '지하철 2',\n",
       "  '소분류': ''},\n",
       " {'이용일': '20210723',\n",
       "  '결제일': '',\n",
       "  '금액': '6700',\n",
       "  '포인트리금액': '',\n",
       "  '대분류': '생활',\n",
       "  '중분류': '편의점',\n",
       "  '소분류': '세븐일레븐'},\n",
       " {'이용일': '20210723',\n",
       "  '결제일': '',\n",
       "  '금액': '7400',\n",
       "  '포인트리금액': '',\n",
       "  '대분류': '생활',\n",
       "  '중분류': '편의점',\n",
       "  '소분류': '세븐일레븐'},\n",
       " {'이용일': '20210723',\n",
       "  '결제일': '',\n",
       "  '금액': '-7400',\n",
       "  '포인트리금액': '',\n",
       "  '대분류': '생활',\n",
       "  '중분류': '편의점',\n",
       "  '소분류': '세븐일레븐'},\n",
       " {'이용일': '20210723',\n",
       "  '결제일': '',\n",
       "  '금액': '10000',\n",
       "  '포인트리금액': '',\n",
       "  '대분류': '생활',\n",
       "  '중분류': '편의점',\n",
       "  '소분류': '세븐일레븐'},\n",
       " {'이용일': '20210723',\n",
       "  '결제일': '',\n",
       "  '금액': '8600',\n",
       "  '포인트리금액': '',\n",
       "  '대분류': '식사',\n",
       "  '중분류': '카페',\n",
       "  '소분류': '해머스미스'},\n",
       " {'이용일': '20210724',\n",
       "  '결제일': '',\n",
       "  '금액': '15600',\n",
       "  '포인트리금액': '',\n",
       "  '대분류': '생활',\n",
       "  '중분류': '마트',\n",
       "  '소분류': '웰빙마트'},\n",
       " {'이용일': '20210726',\n",
       "  '결제일': '',\n",
       "  '금액': '2150',\n",
       "  '포인트리금액': '',\n",
       "  '대분류': '생활',\n",
       "  '중분류': '편의점',\n",
       "  '소분류': 'CU'},\n",
       " {'이용일': '20210727',\n",
       "  '결제일': '',\n",
       "  '금액': '9600',\n",
       "  '포인트리금액': '',\n",
       "  '대분류': '식사',\n",
       "  '중분류': '카페',\n",
       "  '소분류': '해머스미스'},\n",
       " {'이용일': '20210727',\n",
       "  '결제일': '',\n",
       "  '금액': '1700',\n",
       "  '포인트리금액': '',\n",
       "  '대분류': '생활',\n",
       "  '중분류': '편의점',\n",
       "  '소분류': '세븐일레븐'},\n",
       " {'이용일': '20210729',\n",
       "  '결제일': '',\n",
       "  '금액': '60000',\n",
       "  '포인트리금액': '144',\n",
       "  '대분류': '문화',\n",
       "  '중분류': '도서',\n",
       "  '소분류': '교보문고'},\n",
       " {'이용일': '20210729',\n",
       "  '결제일': '',\n",
       "  '금액': '-2500',\n",
       "  '포인트리금액': '',\n",
       "  '대분류': '기타',\n",
       "  '중분류': '할인',\n",
       "  '소분류': ''},\n",
       " {'이용일': '20210730',\n",
       "  '결제일': '',\n",
       "  '금액': '1800',\n",
       "  '포인트리금액': '',\n",
       "  '대분류': '식사',\n",
       "  '중분류': '카페',\n",
       "  '소분류': '스타벅스'},\n",
       " {'이용일': '20210730',\n",
       "  '결제일': '',\n",
       "  '금액': '8900',\n",
       "  '포인트리금액': '',\n",
       "  '대분류': '생활',\n",
       "  '중분류': '편의점',\n",
       "  '소분류': 'CU'},\n",
       " {'이용일': '20210730',\n",
       "  '결제일': '20210804',\n",
       "  '금액': '45850',\n",
       "  '포인트리금액': '',\n",
       "  '대분류': '교통',\n",
       "  '중분류': '버스 17',\n",
       "  '소분류': ''},\n",
       " {'이용일': '20210730',\n",
       "  '결제일': '',\n",
       "  '금액': '100000',\n",
       "  '포인트리금액': '',\n",
       "  '대분류': '식사',\n",
       "  '중분류': '카페',\n",
       "  '소분류': '스타벅스'},\n",
       " {'이용일': '20210730',\n",
       "  '결제일': '',\n",
       "  '금액': '140000',\n",
       "  '포인트리금액': '',\n",
       "  '대분류': '식사',\n",
       "  '중분류': '카페',\n",
       "  '소분류': '스타벅스'},\n",
       " {'이용일': '20210730',\n",
       "  '결제일': '',\n",
       "  '금액': '3600',\n",
       "  '포인트리금액': '',\n",
       "  '대분류': '생활',\n",
       "  '중분류': '편의점',\n",
       "  '소분류': '세븐일레븐'},\n",
       " {'이용일': '20210731',\n",
       "  '결제일': '',\n",
       "  '금액': '3900',\n",
       "  '포인트리금액': '',\n",
       "  '대분류': '의료',\n",
       "  '중분류': '병원',\n",
       "  '소분류': ''}]"
      ]
     },
     "execution_count": 99,
     "metadata": {},
     "output_type": "execute_result"
    },
    {
     "ename": "TypeError",
     "evalue": "int() argument must be a string, a bytes-like object or a real number, not 'list'",
     "output_type": "error",
     "traceback": [
      "\u001b[1;31m---------------------------------------------------------------------------\u001b[0m",
      "\u001b[1;31mTypeError\u001b[0m                                 Traceback (most recent call last)",
      "Cell \u001b[1;32mIn[99], line 4\u001b[0m\n\u001b[0;32m      2\u001b[0m card \u001b[38;5;241m=\u001b[39m json_data[\u001b[38;5;124m\"\u001b[39m\u001b[38;5;124mlist\u001b[39m\u001b[38;5;124m\"\u001b[39m] \n\u001b[0;32m      3\u001b[0m card \n\u001b[1;32m----> 4\u001b[0m \u001b[38;5;28;01mfor\u001b[39;00m expensive \u001b[38;5;129;01min\u001b[39;00m \u001b[38;5;28mfilter\u001b[39m(\u001b[38;5;28;01mlambda\u001b[39;00m x : \u001b[38;5;28mint\u001b[39m([\u001b[38;5;124m\"\u001b[39m\u001b[38;5;124m금액\u001b[39m\u001b[38;5;124m\"\u001b[39m]) \u001b[38;5;241m>\u001b[39m\u001b[38;5;241m=\u001b[39m \u001b[38;5;124m\"\u001b[39m\u001b[38;5;124m30000\u001b[39m\u001b[38;5;124m\"\u001b[39m,card): \u001b[38;5;28mprint\u001b[39m(expensive) \n",
      "Cell \u001b[1;32mIn[99], line 4\u001b[0m, in \u001b[0;36m<lambda>\u001b[1;34m(x)\u001b[0m\n\u001b[0;32m      2\u001b[0m card \u001b[38;5;241m=\u001b[39m json_data[\u001b[38;5;124m\"\u001b[39m\u001b[38;5;124mlist\u001b[39m\u001b[38;5;124m\"\u001b[39m] \n\u001b[0;32m      3\u001b[0m card \n\u001b[1;32m----> 4\u001b[0m \u001b[38;5;28;01mfor\u001b[39;00m expensive \u001b[38;5;129;01min\u001b[39;00m \u001b[38;5;28mfilter\u001b[39m(\u001b[38;5;28;01mlambda\u001b[39;00m x : \u001b[38;5;28;43mint\u001b[39;49m\u001b[43m(\u001b[49m\u001b[43m[\u001b[49m\u001b[38;5;124;43m\"\u001b[39;49m\u001b[38;5;124;43m금액\u001b[39;49m\u001b[38;5;124;43m\"\u001b[39;49m\u001b[43m]\u001b[49m\u001b[43m)\u001b[49m \u001b[38;5;241m>\u001b[39m\u001b[38;5;241m=\u001b[39m \u001b[38;5;124m\"\u001b[39m\u001b[38;5;124m30000\u001b[39m\u001b[38;5;124m\"\u001b[39m,card): \u001b[38;5;28mprint\u001b[39m(expensive) \n",
      "\u001b[1;31mTypeError\u001b[0m: int() argument must be a string, a bytes-like object or a real number, not 'list'"
     ]
    }
   ],
   "source": [
    "# 3. 금액이 30000원 이상인 리스트만 뽑자 \n",
    "card = json_data[\"list\"] \n",
    "card \n",
    "for expensive in filter(lambda x : int([\"금액\"]) >= \"30000\",card): print(expensive) "
   ]
  },
  {
   "cell_type": "code",
   "execution_count": 100,
   "id": "b11b9f77",
   "metadata": {},
   "outputs": [
    {
     "data": {
      "text/plain": [
       "18678"
      ]
     },
     "execution_count": 100,
     "metadata": {},
     "output_type": "execute_result"
    }
   ],
   "source": [
    "# 1회 평균 지불 금액은?\n",
    "int(sum(card_202107[:, 1].astype(\"float32\")) / len(card_202107))  "
   ]
  },
  {
   "cell_type": "code",
   "execution_count": 101,
   "id": "3ad205cf",
   "metadata": {},
   "outputs": [
    {
     "data": {
      "text/plain": [
       "355800.0"
      ]
     },
     "execution_count": 101,
     "metadata": {},
     "output_type": "execute_result"
    }
   ],
   "source": [
    "# 카페에서 얼마를 썼을까? \n",
    "card_202107[card_202107[:, 3] == '카페'][:, 1].astype(\"float32\").sum() "
   ]
  },
  {
   "cell_type": "code",
   "execution_count": 102,
   "id": "0e8df140",
   "metadata": {},
   "outputs": [
    {
     "name": "stdout",
     "output_type": "stream",
     "text": [
      "{'디저트': 2, '레스토랑': 1, '일식': 1, '중식': 2, '치킨': 1, '카페': 15, '한식': 5, '햄버거': 2}\n",
      "카페:15\n"
     ]
    }
   ],
   "source": [
    "# 식사를 각각 어떤 음식으로 몇 번 먹었을까? 그리고 그 중 가장 많이 먹은 것은? \n",
    "food, num = np.unique(card_202107[card_202107[:, 2] == '식사', 3], return_counts=True) \n",
    "monthfood = dict(zip(food, num)) \n",
    "print(monthfood) \n",
    "print(str(max(monthfood, key=monthfood.get))+\":\"+str(max(monthfood.values()))) "
   ]
  },
  {
   "cell_type": "code",
   "execution_count": 103,
   "id": "223fc448",
   "metadata": {},
   "outputs": [
    {
     "data": {
      "text/plain": [
       "140000.0"
      ]
     },
     "execution_count": 103,
     "metadata": {},
     "output_type": "execute_result"
    }
   ],
   "source": [
    "# 7월에 가장 많이 쓴 금액은 얼마를 쓴걸까? \n",
    "card_202107[:, 1].astype(\"float32\").max() "
   ]
  },
  {
   "cell_type": "code",
   "execution_count": 104,
   "id": "984254de",
   "metadata": {},
   "outputs": [
    {
     "data": {
      "text/plain": [
       "array(['13000', '13500', '9700', '1400', '48000', '17500', '8000',\n",
       "       '14400', '40000', '10480', '6300', '26900', '9800', '18980',\n",
       "       '8000', '8000', '15550', '35200', '3600', '3500', '5300', '7400',\n",
       "       '17000', '34000', '13000', '1300', '57600', '-2500', '5200',\n",
       "       '3500', '13000', '1200', '2500', '11600', '9500', '54400', '-2000',\n",
       "       '55200', '1900', '30000', '10100', '1800', '1800', '14300', '1700',\n",
       "       '102900', '100000', '9700', '2250', '6600', '-2500', '76500',\n",
       "       '-822', '4500', '3500', '3100', '6700', '7400', '-7400', '10000',\n",
       "       '8600', '15600', '2150', '9600', '1700', '60000', '-2500', '1800',\n",
       "       '8900', '45850', '100000', '140000', '3600', '3900'], dtype='<U8')"
      ]
     },
     "execution_count": 104,
     "metadata": {},
     "output_type": "execute_result"
    }
   ],
   "source": [
    "# 1) 환불 금액이 얼마인지?\n",
    "discounts = card_202107[:, 1]\n",
    "discounts"
   ]
  },
  {
   "cell_type": "code",
   "execution_count": 105,
   "id": "273fd88a",
   "metadata": {},
   "outputs": [
    {
     "data": {
      "text/plain": [
       "array([['20210701', '13000', '식사', '일식'],\n",
       "       ['20210701', '13500', '식사', '카페'],\n",
       "       ['20210702', '48000', '기타', ''],\n",
       "       ['20210702', '17500', '식사', '디저트'],\n",
       "       ['20210703', '14400', '식사', '카페'],\n",
       "       ['20210703', '40000', '생활', '헤어'],\n",
       "       ['20210704', '10480', '쇼핑', '온라인'],\n",
       "       ['20210705', '26900', '쇼핑', '온라인'],\n",
       "       ['20210705', '18980', '식사', '중식'],\n",
       "       ['20210708', '15550', '식사', '중식'],\n",
       "       ['20210708', '35200', '교통', '택시'],\n",
       "       ['20210710', '17000', '식사', '치킨'],\n",
       "       ['20210711', '34000', '식사', '디저트'],\n",
       "       ['20210712', '13000', '생활', '편의점'],\n",
       "       ['20210712', '57600', '통신', ''],\n",
       "       ['20210714', '13000', '식사', '레스토랑'],\n",
       "       ['20210714', '11600', '식사', '카페'],\n",
       "       ['20210715', '54400', '의료', '병원'],\n",
       "       ['20210715', '55200', '교통', '버스 21'],\n",
       "       ['20210716', '30000', '식사', '햄버거'],\n",
       "       ['20210716', '10100', '식사', '카페'],\n",
       "       ['20210719', '14300', '식사', '카페'],\n",
       "       ['20210720', '102900', '의료', '병원'],\n",
       "       ['20210720', '100000', '의료', '병원'],\n",
       "       ['20210722', '76500', '문화', '도서'],\n",
       "       ['20210723', '10000', '생활', '편의점'],\n",
       "       ['20210724', '15600', '생활', '마트'],\n",
       "       ['20210729', '60000', '문화', '도서'],\n",
       "       ['20210730', '45850', '교통', '버스 17'],\n",
       "       ['20210730', '100000', '식사', '카페'],\n",
       "       ['20210730', '140000', '식사', '카페']], dtype='<U8')"
      ]
     },
     "execution_count": 105,
     "metadata": {},
     "output_type": "execute_result"
    }
   ],
   "source": [
    "# 2) 만원 이상 결제한 금액의 내역 추출\n",
    "m_list = card_202107[:, 1].astype(int)\n",
    "filter01 = card_202107[m_list >= 10000]\n",
    "filter01"
   ]
  },
  {
   "cell_type": "code",
   "execution_count": 106,
   "id": "959f8cfa",
   "metadata": {},
   "outputs": [
    {
     "data": {
      "text/plain": [
       "array(['식사', '식사', '식사', '생활', '기타', '식사', '식사', '식사', '생활', '쇼핑', '생활',\n",
       "       '쇼핑', '식사', '식사', '식사', '식사', '식사', '교통', '생활', '생활', '생활', '식사',\n",
       "       '식사', '식사', '생활', '생활', '통신', '기타', '생활', '식사', '식사', '생활', '식사',\n",
       "       '식사', '식사', '의료', '기타', '교통', '생활', '식사', '식사', '생활', '생활', '식사',\n",
       "       '생활', '의료', '의료', '식사', '생활', '식사', '기타', '문화', '기타', '생활', '생활',\n",
       "       '교통', '생활', '생활', '생활', '생활', '식사', '생활', '생활', '식사', '생활', '문화',\n",
       "       '기타', '식사', '생활', '교통', '식사', '식사', '생활', '의료'], dtype='<U8')"
      ]
     },
     "execution_count": 106,
     "metadata": {},
     "output_type": "execute_result"
    },
    {
     "name": "stdout",
     "output_type": "stream",
     "text": [
      "교통: 4건\n",
      "기타: 6건\n",
      "문화: 2건\n",
      "생활: 26건\n",
      "쇼핑: 2건\n",
      "식사: 29건\n",
      "의료: 4건\n",
      "통신: 1건\n"
     ]
    }
   ],
   "source": [
    "# 3) 항목별 결제 건수\n",
    "card_202107 = np.loadtxt(\"../card_data/csv/202107.csv\", encoding=\"utf-8\", delimiter=\",\", dtype=\"str\", skiprows=1, usecols=(0, 2, 4, 5))\n",
    "item = card_202107[:, 2]\n",
    "item\n",
    "unique_item, counts = np.unique(item, return_counts=True)\n",
    "for item, count in zip(unique_item, counts):\n",
    "    print(f\"{item}: {count}건\")"
   ]
  },
  {
   "cell_type": "code",
   "execution_count": 107,
   "id": "6b6f0c81",
   "metadata": {},
   "outputs": [
    {
     "data": {
      "text/plain": [
       "1382238"
      ]
     },
     "execution_count": 107,
     "metadata": {},
     "output_type": "execute_result"
    }
   ],
   "source": [
    "# 4) 할인받은 금액([3] == \"할인\")\n",
    "discounts = card_202107[:, 1]\n",
    "# discounts\n",
    "# ?????  ([3]== \"할인\")\n",
    "discounts = discounts.astype(int)\n",
    "total_discount = np.sum(discounts)\n",
    "total_discount"
   ]
  },
  {
   "cell_type": "code",
   "execution_count": 108,
   "id": "0fcdf4a3",
   "metadata": {},
   "outputs": [
    {
     "data": {
      "text/plain": [
       "140000"
      ]
     },
     "execution_count": 108,
     "metadata": {},
     "output_type": "execute_result"
    }
   ],
   "source": [
    "# 5) 가장 많이 쓴 금액 찾기\n",
    "money = np.array(card_202107 )[:, 1].astype(int)\n",
    "max_money = np.max(money)\n",
    "max_money"
   ]
  },
  {
   "cell_type": "code",
   "execution_count": null,
   "id": "71c78953",
   "metadata": {},
   "outputs": [],
   "source": []
  }
 ],
 "metadata": {
  "kernelspec": {
   "display_name": "Python 3 (ipykernel)",
   "language": "python",
   "name": "python3"
  },
  "language_info": {
   "codemirror_mode": {
    "name": "ipython",
    "version": 3
   },
   "file_extension": ".py",
   "mimetype": "text/x-python",
   "name": "python",
   "nbconvert_exporter": "python",
   "pygments_lexer": "ipython3",
   "version": "3.10.11"
  }
 },
 "nbformat": 4,
 "nbformat_minor": 5
}
