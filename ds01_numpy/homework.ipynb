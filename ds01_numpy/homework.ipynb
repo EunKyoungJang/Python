{
 "cells": [
  {
   "cell_type": "code",
   "execution_count": 2,
   "id": "81902a5e",
   "metadata": {},
   "outputs": [],
   "source": [
    "import pandas as pd"
   ]
  },
  {
   "cell_type": "code",
   "execution_count": 3,
   "id": "3355d72b",
   "metadata": {},
   "outputs": [],
   "source": [
    "from IPython.core.interactiveshell import InteractiveShell\n",
    "InteractiveShell.ast_node_interactivity=\"all\""
   ]
  },
  {
   "cell_type": "code",
   "execution_count": 44,
   "id": "02479762",
   "metadata": {},
   "outputs": [
    {
     "data": {
      "text/html": [
       "<div>\n",
       "<style scoped>\n",
       "    .dataframe tbody tr th:only-of-type {\n",
       "        vertical-align: middle;\n",
       "    }\n",
       "\n",
       "    .dataframe tbody tr th {\n",
       "        vertical-align: top;\n",
       "    }\n",
       "\n",
       "    .dataframe thead th {\n",
       "        text-align: right;\n",
       "    }\n",
       "</style>\n",
       "<table border=\"1\" class=\"dataframe\">\n",
       "  <thead>\n",
       "    <tr style=\"text-align: right;\">\n",
       "      <th></th>\n",
       "      <th>이용일</th>\n",
       "      <th>결제일</th>\n",
       "      <th>금액</th>\n",
       "      <th>포인트리금액</th>\n",
       "      <th>대분류</th>\n",
       "      <th>중분류</th>\n",
       "      <th>소분류</th>\n",
       "    </tr>\n",
       "  </thead>\n",
       "  <tbody>\n",
       "    <tr>\n",
       "      <th>0</th>\n",
       "      <td>20200701</td>\n",
       "      <td>NaN</td>\n",
       "      <td>1900</td>\n",
       "      <td>19.0</td>\n",
       "      <td>식사</td>\n",
       "      <td>카페</td>\n",
       "      <td>카페7그램</td>\n",
       "    </tr>\n",
       "    <tr>\n",
       "      <th>1</th>\n",
       "      <td>20200701</td>\n",
       "      <td>NaN</td>\n",
       "      <td>18100</td>\n",
       "      <td>NaN</td>\n",
       "      <td>생활</td>\n",
       "      <td>편의점</td>\n",
       "      <td>GS25</td>\n",
       "    </tr>\n",
       "    <tr>\n",
       "      <th>2</th>\n",
       "      <td>20200701</td>\n",
       "      <td>NaN</td>\n",
       "      <td>-905</td>\n",
       "      <td>NaN</td>\n",
       "      <td>기타</td>\n",
       "      <td>할인</td>\n",
       "      <td>NaN</td>\n",
       "    </tr>\n",
       "    <tr>\n",
       "      <th>3</th>\n",
       "      <td>20200702</td>\n",
       "      <td>NaN</td>\n",
       "      <td>20700</td>\n",
       "      <td>NaN</td>\n",
       "      <td>식사</td>\n",
       "      <td>햄버거</td>\n",
       "      <td>롯데리아</td>\n",
       "    </tr>\n",
       "    <tr>\n",
       "      <th>4</th>\n",
       "      <td>20200703</td>\n",
       "      <td>NaN</td>\n",
       "      <td>-645</td>\n",
       "      <td>NaN</td>\n",
       "      <td>기타</td>\n",
       "      <td>할인</td>\n",
       "      <td>NaN</td>\n",
       "    </tr>\n",
       "    <tr>\n",
       "      <th>...</th>\n",
       "      <td>...</td>\n",
       "      <td>...</td>\n",
       "      <td>...</td>\n",
       "      <td>...</td>\n",
       "      <td>...</td>\n",
       "      <td>...</td>\n",
       "      <td>...</td>\n",
       "    </tr>\n",
       "    <tr>\n",
       "      <th>73</th>\n",
       "      <td>20200730</td>\n",
       "      <td>NaN</td>\n",
       "      <td>18000</td>\n",
       "      <td>NaN</td>\n",
       "      <td>식사</td>\n",
       "      <td>한식</td>\n",
       "      <td>NaN</td>\n",
       "    </tr>\n",
       "    <tr>\n",
       "      <th>74</th>\n",
       "      <td>20200730</td>\n",
       "      <td>NaN</td>\n",
       "      <td>5500</td>\n",
       "      <td>NaN</td>\n",
       "      <td>식사</td>\n",
       "      <td>카페</td>\n",
       "      <td>바나프레소</td>\n",
       "    </tr>\n",
       "    <tr>\n",
       "      <th>75</th>\n",
       "      <td>20200731</td>\n",
       "      <td>20200805.0</td>\n",
       "      <td>62000</td>\n",
       "      <td>NaN</td>\n",
       "      <td>교통</td>\n",
       "      <td>버스 23</td>\n",
       "      <td>NaN</td>\n",
       "    </tr>\n",
       "    <tr>\n",
       "      <th>76</th>\n",
       "      <td>20200731</td>\n",
       "      <td>NaN</td>\n",
       "      <td>1500</td>\n",
       "      <td>15.0</td>\n",
       "      <td>식사</td>\n",
       "      <td>카페</td>\n",
       "      <td>카페7그램</td>\n",
       "    </tr>\n",
       "    <tr>\n",
       "      <th>77</th>\n",
       "      <td>20200731</td>\n",
       "      <td>NaN</td>\n",
       "      <td>7000</td>\n",
       "      <td>NaN</td>\n",
       "      <td>유흥</td>\n",
       "      <td>술</td>\n",
       "      <td>NaN</td>\n",
       "    </tr>\n",
       "  </tbody>\n",
       "</table>\n",
       "<p>78 rows × 7 columns</p>\n",
       "</div>"
      ],
      "text/plain": [
       "         이용일         결제일     금액  포인트리금액 대분류    중분류    소분류\n",
       "0   20200701         NaN   1900    19.0  식사     카페  카페7그램\n",
       "1   20200701         NaN  18100     NaN  생활    편의점   GS25\n",
       "2   20200701         NaN   -905     NaN  기타     할인    NaN\n",
       "3   20200702         NaN  20700     NaN  식사    햄버거   롯데리아\n",
       "4   20200703         NaN   -645     NaN  기타     할인    NaN\n",
       "..       ...         ...    ...     ...  ..    ...    ...\n",
       "73  20200730         NaN  18000     NaN  식사     한식    NaN\n",
       "74  20200730         NaN   5500     NaN  식사     카페  바나프레소\n",
       "75  20200731  20200805.0  62000     NaN  교통  버스 23    NaN\n",
       "76  20200731         NaN   1500    15.0  식사     카페  카페7그램\n",
       "77  20200731         NaN   7000     NaN  유흥      술    NaN\n",
       "\n",
       "[78 rows x 7 columns]"
      ]
     },
     "execution_count": 44,
     "metadata": {},
     "output_type": "execute_result"
    },
    {
     "data": {
      "text/html": [
       "<div>\n",
       "<style scoped>\n",
       "    .dataframe tbody tr th:only-of-type {\n",
       "        vertical-align: middle;\n",
       "    }\n",
       "\n",
       "    .dataframe tbody tr th {\n",
       "        vertical-align: top;\n",
       "    }\n",
       "\n",
       "    .dataframe thead th {\n",
       "        text-align: right;\n",
       "    }\n",
       "</style>\n",
       "<table border=\"1\" class=\"dataframe\">\n",
       "  <thead>\n",
       "    <tr style=\"text-align: right;\">\n",
       "      <th></th>\n",
       "      <th>이용일</th>\n",
       "      <th>결제일</th>\n",
       "      <th>금액</th>\n",
       "      <th>포인트리금액</th>\n",
       "      <th>대분류</th>\n",
       "      <th>중분류</th>\n",
       "      <th>소분류</th>\n",
       "    </tr>\n",
       "  </thead>\n",
       "  <tbody>\n",
       "    <tr>\n",
       "      <th>0</th>\n",
       "      <td>20200602</td>\n",
       "      <td>NaN</td>\n",
       "      <td>13500</td>\n",
       "      <td>NaN</td>\n",
       "      <td>생활</td>\n",
       "      <td>편의점</td>\n",
       "      <td>CU</td>\n",
       "    </tr>\n",
       "    <tr>\n",
       "      <th>1</th>\n",
       "      <td>20200603</td>\n",
       "      <td>NaN</td>\n",
       "      <td>14700</td>\n",
       "      <td>NaN</td>\n",
       "      <td>생활</td>\n",
       "      <td>편의점</td>\n",
       "      <td>세븐일레븐</td>\n",
       "    </tr>\n",
       "    <tr>\n",
       "      <th>2</th>\n",
       "      <td>20200603</td>\n",
       "      <td>NaN</td>\n",
       "      <td>27600</td>\n",
       "      <td>NaN</td>\n",
       "      <td>생활</td>\n",
       "      <td>편의점</td>\n",
       "      <td>세븐일레븐</td>\n",
       "    </tr>\n",
       "    <tr>\n",
       "      <th>3</th>\n",
       "      <td>20200603</td>\n",
       "      <td>NaN</td>\n",
       "      <td>1900</td>\n",
       "      <td>19.0</td>\n",
       "      <td>식사</td>\n",
       "      <td>카페</td>\n",
       "      <td>카페7그램</td>\n",
       "    </tr>\n",
       "    <tr>\n",
       "      <th>4</th>\n",
       "      <td>20200603</td>\n",
       "      <td>NaN</td>\n",
       "      <td>12400</td>\n",
       "      <td>NaN</td>\n",
       "      <td>생활</td>\n",
       "      <td>편의점</td>\n",
       "      <td>GS25</td>\n",
       "    </tr>\n",
       "    <tr>\n",
       "      <th>...</th>\n",
       "      <td>...</td>\n",
       "      <td>...</td>\n",
       "      <td>...</td>\n",
       "      <td>...</td>\n",
       "      <td>...</td>\n",
       "      <td>...</td>\n",
       "      <td>...</td>\n",
       "    </tr>\n",
       "    <tr>\n",
       "      <th>77</th>\n",
       "      <td>20200628</td>\n",
       "      <td>NaN</td>\n",
       "      <td>19500</td>\n",
       "      <td>NaN</td>\n",
       "      <td>생활</td>\n",
       "      <td>마트</td>\n",
       "      <td>웰빙마트</td>\n",
       "    </tr>\n",
       "    <tr>\n",
       "      <th>78</th>\n",
       "      <td>20200629</td>\n",
       "      <td>NaN</td>\n",
       "      <td>3600</td>\n",
       "      <td>NaN</td>\n",
       "      <td>생활</td>\n",
       "      <td>편의점</td>\n",
       "      <td>세븐일레븐</td>\n",
       "    </tr>\n",
       "    <tr>\n",
       "      <th>79</th>\n",
       "      <td>20200630</td>\n",
       "      <td>NaN</td>\n",
       "      <td>1900</td>\n",
       "      <td>19.0</td>\n",
       "      <td>식사</td>\n",
       "      <td>카페</td>\n",
       "      <td>카페7그램</td>\n",
       "    </tr>\n",
       "    <tr>\n",
       "      <th>80</th>\n",
       "      <td>20200630</td>\n",
       "      <td>20200703.0</td>\n",
       "      <td>58400</td>\n",
       "      <td>NaN</td>\n",
       "      <td>교통</td>\n",
       "      <td>버스 22</td>\n",
       "      <td>NaN</td>\n",
       "    </tr>\n",
       "    <tr>\n",
       "      <th>81</th>\n",
       "      <td>20200630</td>\n",
       "      <td>NaN</td>\n",
       "      <td>14000</td>\n",
       "      <td>NaN</td>\n",
       "      <td>유흥</td>\n",
       "      <td>술</td>\n",
       "      <td>NaN</td>\n",
       "    </tr>\n",
       "  </tbody>\n",
       "</table>\n",
       "<p>82 rows × 7 columns</p>\n",
       "</div>"
      ],
      "text/plain": [
       "         이용일         결제일     금액  포인트리금액 대분류    중분류    소분류\n",
       "0   20200602         NaN  13500     NaN  생활    편의점     CU\n",
       "1   20200603         NaN  14700     NaN  생활    편의점  세븐일레븐\n",
       "2   20200603         NaN  27600     NaN  생활    편의점  세븐일레븐\n",
       "3   20200603         NaN   1900    19.0  식사     카페  카페7그램\n",
       "4   20200603         NaN  12400     NaN  생활    편의점   GS25\n",
       "..       ...         ...    ...     ...  ..    ...    ...\n",
       "77  20200628         NaN  19500     NaN  생활     마트   웰빙마트\n",
       "78  20200629         NaN   3600     NaN  생활    편의점  세븐일레븐\n",
       "79  20200630         NaN   1900    19.0  식사     카페  카페7그램\n",
       "80  20200630  20200703.0  58400     NaN  교통  버스 22    NaN\n",
       "81  20200630         NaN  14000     NaN  유흥      술    NaN\n",
       "\n",
       "[82 rows x 7 columns]"
      ]
     },
     "execution_count": 44,
     "metadata": {},
     "output_type": "execute_result"
    }
   ],
   "source": [
    "card_202007 = pd.read_csv(\"../card_data/csv/202007.csv\")\n",
    "card_202007\n",
    "card_202006 = pd.read_csv(\"../card_data/csv/202006.csv\")\n",
    "card_202006"
   ]
  },
  {
   "cell_type": "code",
   "execution_count": 45,
   "id": "85d73db1",
   "metadata": {},
   "outputs": [
    {
     "data": {
      "text/html": [
       "<div>\n",
       "<style scoped>\n",
       "    .dataframe tbody tr th:only-of-type {\n",
       "        vertical-align: middle;\n",
       "    }\n",
       "\n",
       "    .dataframe tbody tr th {\n",
       "        vertical-align: top;\n",
       "    }\n",
       "\n",
       "    .dataframe thead th {\n",
       "        text-align: right;\n",
       "    }\n",
       "</style>\n",
       "<table border=\"1\" class=\"dataframe\">\n",
       "  <thead>\n",
       "    <tr style=\"text-align: right;\">\n",
       "      <th></th>\n",
       "      <th>이용일</th>\n",
       "      <th>금액</th>\n",
       "      <th>대분류</th>\n",
       "      <th>중분류</th>\n",
       "      <th>소분류</th>\n",
       "    </tr>\n",
       "  </thead>\n",
       "  <tbody>\n",
       "    <tr>\n",
       "      <th>0</th>\n",
       "      <td>20200701</td>\n",
       "      <td>1900</td>\n",
       "      <td>식사</td>\n",
       "      <td>카페</td>\n",
       "      <td>카페7그램</td>\n",
       "    </tr>\n",
       "    <tr>\n",
       "      <th>1</th>\n",
       "      <td>20200701</td>\n",
       "      <td>18100</td>\n",
       "      <td>생활</td>\n",
       "      <td>편의점</td>\n",
       "      <td>GS25</td>\n",
       "    </tr>\n",
       "    <tr>\n",
       "      <th>2</th>\n",
       "      <td>20200701</td>\n",
       "      <td>-905</td>\n",
       "      <td>기타</td>\n",
       "      <td>할인</td>\n",
       "      <td>NaN</td>\n",
       "    </tr>\n",
       "    <tr>\n",
       "      <th>3</th>\n",
       "      <td>20200702</td>\n",
       "      <td>20700</td>\n",
       "      <td>식사</td>\n",
       "      <td>햄버거</td>\n",
       "      <td>롯데리아</td>\n",
       "    </tr>\n",
       "    <tr>\n",
       "      <th>4</th>\n",
       "      <td>20200703</td>\n",
       "      <td>-645</td>\n",
       "      <td>기타</td>\n",
       "      <td>할인</td>\n",
       "      <td>NaN</td>\n",
       "    </tr>\n",
       "    <tr>\n",
       "      <th>...</th>\n",
       "      <td>...</td>\n",
       "      <td>...</td>\n",
       "      <td>...</td>\n",
       "      <td>...</td>\n",
       "      <td>...</td>\n",
       "    </tr>\n",
       "    <tr>\n",
       "      <th>73</th>\n",
       "      <td>20200730</td>\n",
       "      <td>18000</td>\n",
       "      <td>식사</td>\n",
       "      <td>한식</td>\n",
       "      <td>NaN</td>\n",
       "    </tr>\n",
       "    <tr>\n",
       "      <th>74</th>\n",
       "      <td>20200730</td>\n",
       "      <td>5500</td>\n",
       "      <td>식사</td>\n",
       "      <td>카페</td>\n",
       "      <td>바나프레소</td>\n",
       "    </tr>\n",
       "    <tr>\n",
       "      <th>75</th>\n",
       "      <td>20200731</td>\n",
       "      <td>62000</td>\n",
       "      <td>교통</td>\n",
       "      <td>버스 23</td>\n",
       "      <td>NaN</td>\n",
       "    </tr>\n",
       "    <tr>\n",
       "      <th>76</th>\n",
       "      <td>20200731</td>\n",
       "      <td>1500</td>\n",
       "      <td>식사</td>\n",
       "      <td>카페</td>\n",
       "      <td>카페7그램</td>\n",
       "    </tr>\n",
       "    <tr>\n",
       "      <th>77</th>\n",
       "      <td>20200731</td>\n",
       "      <td>7000</td>\n",
       "      <td>유흥</td>\n",
       "      <td>술</td>\n",
       "      <td>NaN</td>\n",
       "    </tr>\n",
       "  </tbody>\n",
       "</table>\n",
       "<p>78 rows × 5 columns</p>\n",
       "</div>"
      ],
      "text/plain": [
       "         이용일     금액 대분류    중분류    소분류\n",
       "0   20200701   1900  식사     카페  카페7그램\n",
       "1   20200701  18100  생활    편의점   GS25\n",
       "2   20200701   -905  기타     할인    NaN\n",
       "3   20200702  20700  식사    햄버거   롯데리아\n",
       "4   20200703   -645  기타     할인    NaN\n",
       "..       ...    ...  ..    ...    ...\n",
       "73  20200730  18000  식사     한식    NaN\n",
       "74  20200730   5500  식사     카페  바나프레소\n",
       "75  20200731  62000  교통  버스 23    NaN\n",
       "76  20200731   1500  식사     카페  카페7그램\n",
       "77  20200731   7000  유흥      술    NaN\n",
       "\n",
       "[78 rows x 5 columns]"
      ]
     },
     "execution_count": 45,
     "metadata": {},
     "output_type": "execute_result"
    }
   ],
   "source": [
    "card02 = card_202007[[\"이용일\", \"금액\", \"대분류\", \"중분류\", \"소분류\"]]\n",
    "card02"
   ]
  },
  {
   "cell_type": "code",
   "execution_count": 99,
   "id": "94cc2984",
   "metadata": {},
   "outputs": [
    {
     "data": {
      "text/html": [
       "<div>\n",
       "<style scoped>\n",
       "    .dataframe tbody tr th:only-of-type {\n",
       "        vertical-align: middle;\n",
       "    }\n",
       "\n",
       "    .dataframe tbody tr th {\n",
       "        vertical-align: top;\n",
       "    }\n",
       "\n",
       "    .dataframe thead th {\n",
       "        text-align: right;\n",
       "    }\n",
       "</style>\n",
       "<table border=\"1\" class=\"dataframe\">\n",
       "  <thead>\n",
       "    <tr style=\"text-align: right;\">\n",
       "      <th></th>\n",
       "      <th>결제일</th>\n",
       "      <th>금액</th>\n",
       "      <th>포인트리금액</th>\n",
       "      <th>대분류</th>\n",
       "      <th>중분류</th>\n",
       "      <th>소분류</th>\n",
       "    </tr>\n",
       "    <tr>\n",
       "      <th>이용일</th>\n",
       "      <th></th>\n",
       "      <th></th>\n",
       "      <th></th>\n",
       "      <th></th>\n",
       "      <th></th>\n",
       "      <th></th>\n",
       "    </tr>\n",
       "  </thead>\n",
       "  <tbody>\n",
       "    <tr>\n",
       "      <th>20200701</th>\n",
       "      <td>NaN</td>\n",
       "      <td>-905</td>\n",
       "      <td>NaN</td>\n",
       "      <td>기타</td>\n",
       "      <td>할인</td>\n",
       "      <td>NaN</td>\n",
       "    </tr>\n",
       "    <tr>\n",
       "      <th>20200703</th>\n",
       "      <td>NaN</td>\n",
       "      <td>-645</td>\n",
       "      <td>NaN</td>\n",
       "      <td>기타</td>\n",
       "      <td>할인</td>\n",
       "      <td>NaN</td>\n",
       "    </tr>\n",
       "    <tr>\n",
       "      <th>20200703</th>\n",
       "      <td>NaN</td>\n",
       "      <td>-2180</td>\n",
       "      <td>NaN</td>\n",
       "      <td>기타</td>\n",
       "      <td>할인</td>\n",
       "      <td>NaN</td>\n",
       "    </tr>\n",
       "    <tr>\n",
       "      <th>20200709</th>\n",
       "      <td>NaN</td>\n",
       "      <td>-2500</td>\n",
       "      <td>NaN</td>\n",
       "      <td>기타</td>\n",
       "      <td>할인</td>\n",
       "      <td>NaN</td>\n",
       "    </tr>\n",
       "    <tr>\n",
       "      <th>20200711</th>\n",
       "      <td>NaN</td>\n",
       "      <td>-1000</td>\n",
       "      <td>NaN</td>\n",
       "      <td>기타</td>\n",
       "      <td>할인</td>\n",
       "      <td>NaN</td>\n",
       "    </tr>\n",
       "    <tr>\n",
       "      <th>20200715</th>\n",
       "      <td>NaN</td>\n",
       "      <td>-2000</td>\n",
       "      <td>NaN</td>\n",
       "      <td>기타</td>\n",
       "      <td>할인</td>\n",
       "      <td>NaN</td>\n",
       "    </tr>\n",
       "  </tbody>\n",
       "</table>\n",
       "</div>"
      ],
      "text/plain": [
       "          결제일    금액  포인트리금액 대분류 중분류  소분류\n",
       "이용일                                     \n",
       "20200701  NaN  -905     NaN  기타  할인  NaN\n",
       "20200703  NaN  -645     NaN  기타  할인  NaN\n",
       "20200703  NaN -2180     NaN  기타  할인  NaN\n",
       "20200709  NaN -2500     NaN  기타  할인  NaN\n",
       "20200711  NaN -1000     NaN  기타  할인  NaN\n",
       "20200715  NaN -2000     NaN  기타  할인  NaN"
      ]
     },
     "execution_count": 99,
     "metadata": {},
     "output_type": "execute_result"
    },
    {
     "data": {
      "text/plain": [
       "<BarContainer object of 6 artists>"
      ]
     },
     "execution_count": 99,
     "metadata": {},
     "output_type": "execute_result"
    },
    {
     "data": {
      "image/png": "[encoded data removed]",
      "text/plain": [
       "<Figure size 640x480 with 1 Axes>"
      ]
     },
     "metadata": {},
     "output_type": "display_data"
    }
   ],
   "source": [
    "# 1) 할인 받은 금액\n",
    "card01 = pd.DataFrame(card_202007)\n",
    "discount = card01[card01[\"중분류\"] == \"할인\"]\n",
    "df01 = discount.set_index(\"이용일\")\n",
    "df01\n",
    "\n",
    "plt.bar(df01.index, -df01[\"금액\"])\n",
    "\n",
    "# 윗줄이 할인 받은 내역인가? 어디에서 할인 받았는지 알고 싶은데... \n",
    "# 위에 금액이 할인 전 금액? 후 금액? \n",
    "# 어떻게 엮어주어야하나?\n",
    "# 인덱스 대분류로 바꾸기...는 NaN  그럼 이용일로 변경해보자"
   ]
  },
  {
   "cell_type": "code",
   "execution_count": 47,
   "id": "d5e7381f",
   "metadata": {},
   "outputs": [
    {
     "data": {
      "text/html": [
       "<div>\n",
       "<style scoped>\n",
       "    .dataframe tbody tr th:only-of-type {\n",
       "        vertical-align: middle;\n",
       "    }\n",
       "\n",
       "    .dataframe tbody tr th {\n",
       "        vertical-align: top;\n",
       "    }\n",
       "\n",
       "    .dataframe thead th {\n",
       "        text-align: right;\n",
       "    }\n",
       "</style>\n",
       "<table border=\"1\" class=\"dataframe\">\n",
       "  <thead>\n",
       "    <tr style=\"text-align: right;\">\n",
       "      <th></th>\n",
       "      <th>결제일</th>\n",
       "      <th>금액</th>\n",
       "      <th>포인트리금액</th>\n",
       "      <th>대분류</th>\n",
       "      <th>중분류</th>\n",
       "      <th>소분류</th>\n",
       "    </tr>\n",
       "    <tr>\n",
       "      <th>이용일</th>\n",
       "      <th></th>\n",
       "      <th></th>\n",
       "      <th></th>\n",
       "      <th></th>\n",
       "      <th></th>\n",
       "      <th></th>\n",
       "    </tr>\n",
       "  </thead>\n",
       "  <tbody>\n",
       "    <tr>\n",
       "      <th>20200701</th>\n",
       "      <td>NaN</td>\n",
       "      <td>-905</td>\n",
       "      <td>NaN</td>\n",
       "      <td>기타</td>\n",
       "      <td>할인</td>\n",
       "      <td>NaN</td>\n",
       "    </tr>\n",
       "    <tr>\n",
       "      <th>20200703</th>\n",
       "      <td>NaN</td>\n",
       "      <td>-645</td>\n",
       "      <td>NaN</td>\n",
       "      <td>기타</td>\n",
       "      <td>할인</td>\n",
       "      <td>NaN</td>\n",
       "    </tr>\n",
       "    <tr>\n",
       "      <th>20200703</th>\n",
       "      <td>NaN</td>\n",
       "      <td>-2180</td>\n",
       "      <td>NaN</td>\n",
       "      <td>기타</td>\n",
       "      <td>할인</td>\n",
       "      <td>NaN</td>\n",
       "    </tr>\n",
       "    <tr>\n",
       "      <th>20200709</th>\n",
       "      <td>NaN</td>\n",
       "      <td>-2500</td>\n",
       "      <td>NaN</td>\n",
       "      <td>기타</td>\n",
       "      <td>할인</td>\n",
       "      <td>NaN</td>\n",
       "    </tr>\n",
       "    <tr>\n",
       "      <th>20200711</th>\n",
       "      <td>NaN</td>\n",
       "      <td>-1000</td>\n",
       "      <td>NaN</td>\n",
       "      <td>기타</td>\n",
       "      <td>할인</td>\n",
       "      <td>NaN</td>\n",
       "    </tr>\n",
       "    <tr>\n",
       "      <th>20200715</th>\n",
       "      <td>NaN</td>\n",
       "      <td>-2000</td>\n",
       "      <td>NaN</td>\n",
       "      <td>기타</td>\n",
       "      <td>할인</td>\n",
       "      <td>NaN</td>\n",
       "    </tr>\n",
       "  </tbody>\n",
       "</table>\n",
       "</div>"
      ],
      "text/plain": [
       "          결제일    금액  포인트리금액 대분류 중분류  소분류\n",
       "이용일                                     \n",
       "20200701  NaN  -905     NaN  기타  할인  NaN\n",
       "20200703  NaN  -645     NaN  기타  할인  NaN\n",
       "20200703  NaN -2180     NaN  기타  할인  NaN\n",
       "20200709  NaN -2500     NaN  기타  할인  NaN\n",
       "20200711  NaN -1000     NaN  기타  할인  NaN\n",
       "20200715  NaN -2000     NaN  기타  할인  NaN"
      ]
     },
     "execution_count": 47,
     "metadata": {},
     "output_type": "execute_result"
    }
   ],
   "source": [
    "df = pd.DataFrame(card_202007)\n",
    "discount_rows = df[df['중분류'] == '할인']\n",
    "df2 = discount_rows.set_index(\"이용일\")\n",
    "df2"
   ]
  },
  {
   "cell_type": "code",
   "execution_count": null,
   "id": "17d8940a",
   "metadata": {},
   "outputs": [],
   "source": []
  },
  {
   "cell_type": "code",
   "execution_count": 48,
   "id": "4af95b77",
   "metadata": {},
   "outputs": [],
   "source": [
    "import matplotlib.pyplot as plt"
   ]
  },
  {
   "cell_type": "code",
   "execution_count": 49,
   "id": "28a11936",
   "metadata": {},
   "outputs": [
    {
     "data": {
      "text/plain": [
       "<BarContainer object of 6 artists>"
      ]
     },
     "execution_count": 49,
     "metadata": {},
     "output_type": "execute_result"
    },
    {
     "data": {
      "image/png": "[encoded data removed]",
      "text/plain": [
       "<Figure size 640x480 with 1 Axes>"
      ]
     },
     "metadata": {},
     "output_type": "display_data"
    }
   ],
   "source": [
    "plt.bar(df2.index, -df2[\"금액\"])\n",
    "#  차트를 어떻게 뒤집지...?  -를 양수로 바꿔주고 그래프 그리면..?\n",
    "# x축 이용일로 바꾸고 싶은데.."
   ]
  },
  {
   "cell_type": "code",
   "execution_count": 50,
   "id": "05cd68a9",
   "metadata": {},
   "outputs": [],
   "source": [
    "# 2) 소비가 가장 많은 항목 순서대로 정렬 + 그래프\n",
    "card02= pd.DataFrame(card_202007)\n",
    "\n"
   ]
  },
  {
   "cell_type": "code",
   "execution_count": null,
   "id": "a763d690",
   "metadata": {},
   "outputs": [],
   "source": []
  },
  {
   "cell_type": "code",
   "execution_count": null,
   "id": "294cd0e5",
   "metadata": {},
   "outputs": [],
   "source": []
  },
  {
   "cell_type": "code",
   "execution_count": 67,
   "id": "99cdd04c",
   "metadata": {},
   "outputs": [
    {
     "ename": "ValueError",
     "evalue": "Grouper and axis must be same length",
     "output_type": "error",
     "traceback": [
      "\u001b[1;31m---------------------------------------------------------------------------\u001b[0m",
      "\u001b[1;31mValueError\u001b[0m                                Traceback (most recent call last)",
      "Cell \u001b[1;32mIn[67], line 2\u001b[0m\n\u001b[0;32m      1\u001b[0m \u001b[38;5;66;03m# 3) 6월 대비 소비변동 추세선 \u001b[39;00m\n\u001b[1;32m----> 2\u001b[0m \u001b[43mcard_202007\u001b[49m\u001b[38;5;241;43m.\u001b[39;49m\u001b[43mgroupby\u001b[49m\u001b[43m(\u001b[49m\u001b[43m[\u001b[49m\u001b[43m[\u001b[49m\u001b[38;5;124;43m\"\u001b[39;49m\u001b[38;5;124;43m대분류\u001b[39;49m\u001b[38;5;124;43m\"\u001b[39;49m\u001b[43m,\u001b[49m\u001b[43m \u001b[49m\u001b[38;5;124;43m\"\u001b[39;49m\u001b[38;5;124;43m중분류\u001b[39;49m\u001b[38;5;124;43m\"\u001b[39;49m\u001b[43m,\u001b[49m\u001b[43m \u001b[49m\u001b[38;5;124;43m\"\u001b[39;49m\u001b[38;5;124;43m소분류\u001b[39;49m\u001b[38;5;124;43m\"\u001b[39;49m\u001b[43m]\u001b[49m\u001b[43m]\u001b[49m\u001b[43m)\u001b[49m\u001b[38;5;241m.\u001b[39mcounts()\n\u001b[0;32m      3\u001b[0m \u001b[38;5;66;03m# card06 = card_202006[[\"이용일\", \"금액\", \"대분류\", \"중분류\", \"소분류\"]]\u001b[39;00m\n\u001b[0;32m      4\u001b[0m \u001b[38;5;66;03m# card06\u001b[39;00m\n\u001b[0;32m      5\u001b[0m \u001b[38;5;66;03m# card07 = card_202007[[\"이용일\", \"금액\", \"대분류\", \"중분류\", \"소분류\"]]\u001b[39;00m\n\u001b[0;32m      6\u001b[0m \u001b[38;5;66;03m# card07\u001b[39;00m\n",
      "File \u001b[1;32mC:\\Program Files (x86)\\ANACONDA3\\envs\\dsde04\\lib\\site-packages\\pandas\\core\\frame.py:8252\u001b[0m, in \u001b[0;36mDataFrame.groupby\u001b[1;34m(self, by, axis, level, as_index, sort, group_keys, observed, dropna)\u001b[0m\n\u001b[0;32m   8249\u001b[0m     \u001b[38;5;28;01mraise\u001b[39;00m \u001b[38;5;167;01mTypeError\u001b[39;00m(\u001b[38;5;124m\"\u001b[39m\u001b[38;5;124mYou have to supply one of \u001b[39m\u001b[38;5;124m'\u001b[39m\u001b[38;5;124mby\u001b[39m\u001b[38;5;124m'\u001b[39m\u001b[38;5;124m and \u001b[39m\u001b[38;5;124m'\u001b[39m\u001b[38;5;124mlevel\u001b[39m\u001b[38;5;124m'\u001b[39m\u001b[38;5;124m\"\u001b[39m)\n\u001b[0;32m   8250\u001b[0m axis \u001b[38;5;241m=\u001b[39m \u001b[38;5;28mself\u001b[39m\u001b[38;5;241m.\u001b[39m_get_axis_number(axis)\n\u001b[1;32m-> 8252\u001b[0m \u001b[38;5;28;01mreturn\u001b[39;00m \u001b[43mDataFrameGroupBy\u001b[49m\u001b[43m(\u001b[49m\n\u001b[0;32m   8253\u001b[0m \u001b[43m    \u001b[49m\u001b[43mobj\u001b[49m\u001b[38;5;241;43m=\u001b[39;49m\u001b[38;5;28;43mself\u001b[39;49m\u001b[43m,\u001b[49m\n\u001b[0;32m   8254\u001b[0m \u001b[43m    \u001b[49m\u001b[43mkeys\u001b[49m\u001b[38;5;241;43m=\u001b[39;49m\u001b[43mby\u001b[49m\u001b[43m,\u001b[49m\n\u001b[0;32m   8255\u001b[0m \u001b[43m    \u001b[49m\u001b[43maxis\u001b[49m\u001b[38;5;241;43m=\u001b[39;49m\u001b[43maxis\u001b[49m\u001b[43m,\u001b[49m\n\u001b[0;32m   8256\u001b[0m \u001b[43m    \u001b[49m\u001b[43mlevel\u001b[49m\u001b[38;5;241;43m=\u001b[39;49m\u001b[43mlevel\u001b[49m\u001b[43m,\u001b[49m\n\u001b[0;32m   8257\u001b[0m \u001b[43m    \u001b[49m\u001b[43mas_index\u001b[49m\u001b[38;5;241;43m=\u001b[39;49m\u001b[43mas_index\u001b[49m\u001b[43m,\u001b[49m\n\u001b[0;32m   8258\u001b[0m \u001b[43m    \u001b[49m\u001b[43msort\u001b[49m\u001b[38;5;241;43m=\u001b[39;49m\u001b[43msort\u001b[49m\u001b[43m,\u001b[49m\n\u001b[0;32m   8259\u001b[0m \u001b[43m    \u001b[49m\u001b[43mgroup_keys\u001b[49m\u001b[38;5;241;43m=\u001b[39;49m\u001b[43mgroup_keys\u001b[49m\u001b[43m,\u001b[49m\n\u001b[0;32m   8260\u001b[0m \u001b[43m    \u001b[49m\u001b[43mobserved\u001b[49m\u001b[38;5;241;43m=\u001b[39;49m\u001b[43mobserved\u001b[49m\u001b[43m,\u001b[49m\n\u001b[0;32m   8261\u001b[0m \u001b[43m    \u001b[49m\u001b[43mdropna\u001b[49m\u001b[38;5;241;43m=\u001b[39;49m\u001b[43mdropna\u001b[49m\u001b[43m,\u001b[49m\n\u001b[0;32m   8262\u001b[0m \u001b[43m\u001b[49m\u001b[43m)\u001b[49m\n",
      "File \u001b[1;32mC:\\Program Files (x86)\\ANACONDA3\\envs\\dsde04\\lib\\site-packages\\pandas\\core\\groupby\\groupby.py:931\u001b[0m, in \u001b[0;36mGroupBy.__init__\u001b[1;34m(self, obj, keys, axis, level, grouper, exclusions, selection, as_index, sort, group_keys, observed, dropna)\u001b[0m\n\u001b[0;32m    928\u001b[0m \u001b[38;5;28mself\u001b[39m\u001b[38;5;241m.\u001b[39mdropna \u001b[38;5;241m=\u001b[39m dropna\n\u001b[0;32m    930\u001b[0m \u001b[38;5;28;01mif\u001b[39;00m grouper \u001b[38;5;129;01mis\u001b[39;00m \u001b[38;5;28;01mNone\u001b[39;00m:\n\u001b[1;32m--> 931\u001b[0m     grouper, exclusions, obj \u001b[38;5;241m=\u001b[39m \u001b[43mget_grouper\u001b[49m\u001b[43m(\u001b[49m\n\u001b[0;32m    932\u001b[0m \u001b[43m        \u001b[49m\u001b[43mobj\u001b[49m\u001b[43m,\u001b[49m\n\u001b[0;32m    933\u001b[0m \u001b[43m        \u001b[49m\u001b[43mkeys\u001b[49m\u001b[43m,\u001b[49m\n\u001b[0;32m    934\u001b[0m \u001b[43m        \u001b[49m\u001b[43maxis\u001b[49m\u001b[38;5;241;43m=\u001b[39;49m\u001b[43maxis\u001b[49m\u001b[43m,\u001b[49m\n\u001b[0;32m    935\u001b[0m \u001b[43m        \u001b[49m\u001b[43mlevel\u001b[49m\u001b[38;5;241;43m=\u001b[39;49m\u001b[43mlevel\u001b[49m\u001b[43m,\u001b[49m\n\u001b[0;32m    936\u001b[0m \u001b[43m        \u001b[49m\u001b[43msort\u001b[49m\u001b[38;5;241;43m=\u001b[39;49m\u001b[43msort\u001b[49m\u001b[43m,\u001b[49m\n\u001b[0;32m    937\u001b[0m \u001b[43m        \u001b[49m\u001b[43mobserved\u001b[49m\u001b[38;5;241;43m=\u001b[39;49m\u001b[43mobserved\u001b[49m\u001b[43m,\u001b[49m\n\u001b[0;32m    938\u001b[0m \u001b[43m        \u001b[49m\u001b[43mdropna\u001b[49m\u001b[38;5;241;43m=\u001b[39;49m\u001b[38;5;28;43mself\u001b[39;49m\u001b[38;5;241;43m.\u001b[39;49m\u001b[43mdropna\u001b[49m\u001b[43m,\u001b[49m\n\u001b[0;32m    939\u001b[0m \u001b[43m    \u001b[49m\u001b[43m)\u001b[49m\n\u001b[0;32m    941\u001b[0m \u001b[38;5;28mself\u001b[39m\u001b[38;5;241m.\u001b[39mobj \u001b[38;5;241m=\u001b[39m obj\n\u001b[0;32m    942\u001b[0m \u001b[38;5;28mself\u001b[39m\u001b[38;5;241m.\u001b[39maxis \u001b[38;5;241m=\u001b[39m obj\u001b[38;5;241m.\u001b[39m_get_axis_number(axis)\n",
      "File \u001b[1;32mC:\\Program Files (x86)\\ANACONDA3\\envs\\dsde04\\lib\\site-packages\\pandas\\core\\groupby\\grouper.py:996\u001b[0m, in \u001b[0;36mget_grouper\u001b[1;34m(obj, key, axis, level, sort, observed, validate, dropna)\u001b[0m\n\u001b[0;32m    991\u001b[0m         in_axis \u001b[38;5;241m=\u001b[39m \u001b[38;5;28;01mFalse\u001b[39;00m\n\u001b[0;32m    993\u001b[0m     \u001b[38;5;66;03m# create the Grouping\u001b[39;00m\n\u001b[0;32m    994\u001b[0m     \u001b[38;5;66;03m# allow us to passing the actual Grouping as the gpr\u001b[39;00m\n\u001b[0;32m    995\u001b[0m     ping \u001b[38;5;241m=\u001b[39m (\n\u001b[1;32m--> 996\u001b[0m         \u001b[43mGrouping\u001b[49m\u001b[43m(\u001b[49m\n\u001b[0;32m    997\u001b[0m \u001b[43m            \u001b[49m\u001b[43mgroup_axis\u001b[49m\u001b[43m,\u001b[49m\n\u001b[0;32m    998\u001b[0m \u001b[43m            \u001b[49m\u001b[43mgpr\u001b[49m\u001b[43m,\u001b[49m\n\u001b[0;32m    999\u001b[0m \u001b[43m            \u001b[49m\u001b[43mobj\u001b[49m\u001b[38;5;241;43m=\u001b[39;49m\u001b[43mobj\u001b[49m\u001b[43m,\u001b[49m\n\u001b[0;32m   1000\u001b[0m \u001b[43m            \u001b[49m\u001b[43mlevel\u001b[49m\u001b[38;5;241;43m=\u001b[39;49m\u001b[43mlevel\u001b[49m\u001b[43m,\u001b[49m\n\u001b[0;32m   1001\u001b[0m \u001b[43m            \u001b[49m\u001b[43msort\u001b[49m\u001b[38;5;241;43m=\u001b[39;49m\u001b[43msort\u001b[49m\u001b[43m,\u001b[49m\n\u001b[0;32m   1002\u001b[0m \u001b[43m            \u001b[49m\u001b[43mobserved\u001b[49m\u001b[38;5;241;43m=\u001b[39;49m\u001b[43mobserved\u001b[49m\u001b[43m,\u001b[49m\n\u001b[0;32m   1003\u001b[0m \u001b[43m            \u001b[49m\u001b[43min_axis\u001b[49m\u001b[38;5;241;43m=\u001b[39;49m\u001b[43min_axis\u001b[49m\u001b[43m,\u001b[49m\n\u001b[0;32m   1004\u001b[0m \u001b[43m            \u001b[49m\u001b[43mdropna\u001b[49m\u001b[38;5;241;43m=\u001b[39;49m\u001b[43mdropna\u001b[49m\u001b[43m,\u001b[49m\n\u001b[0;32m   1005\u001b[0m \u001b[43m        \u001b[49m\u001b[43m)\u001b[49m\n\u001b[0;32m   1006\u001b[0m         \u001b[38;5;28;01mif\u001b[39;00m \u001b[38;5;129;01mnot\u001b[39;00m \u001b[38;5;28misinstance\u001b[39m(gpr, Grouping)\n\u001b[0;32m   1007\u001b[0m         \u001b[38;5;28;01melse\u001b[39;00m gpr\n\u001b[0;32m   1008\u001b[0m     )\n\u001b[0;32m   1010\u001b[0m     groupings\u001b[38;5;241m.\u001b[39mappend(ping)\n\u001b[0;32m   1012\u001b[0m \u001b[38;5;28;01mif\u001b[39;00m \u001b[38;5;28mlen\u001b[39m(groupings) \u001b[38;5;241m==\u001b[39m \u001b[38;5;241m0\u001b[39m \u001b[38;5;129;01mand\u001b[39;00m \u001b[38;5;28mlen\u001b[39m(obj):\n",
      "File \u001b[1;32mC:\\Program Files (x86)\\ANACONDA3\\envs\\dsde04\\lib\\site-packages\\pandas\\core\\groupby\\grouper.py:522\u001b[0m, in \u001b[0;36mGrouping.__init__\u001b[1;34m(self, index, grouper, obj, level, sort, observed, in_axis, dropna, uniques)\u001b[0m\n\u001b[0;32m    520\u001b[0m \u001b[38;5;28mself\u001b[39m\u001b[38;5;241m.\u001b[39mlevel \u001b[38;5;241m=\u001b[39m level\n\u001b[0;32m    521\u001b[0m \u001b[38;5;28mself\u001b[39m\u001b[38;5;241m.\u001b[39m_orig_grouper \u001b[38;5;241m=\u001b[39m grouper\n\u001b[1;32m--> 522\u001b[0m grouping_vector \u001b[38;5;241m=\u001b[39m \u001b[43m_convert_grouper\u001b[49m\u001b[43m(\u001b[49m\u001b[43mindex\u001b[49m\u001b[43m,\u001b[49m\u001b[43m \u001b[49m\u001b[43mgrouper\u001b[49m\u001b[43m)\u001b[49m\n\u001b[0;32m    523\u001b[0m \u001b[38;5;28mself\u001b[39m\u001b[38;5;241m.\u001b[39m_all_grouper \u001b[38;5;241m=\u001b[39m \u001b[38;5;28;01mNone\u001b[39;00m\n\u001b[0;32m    524\u001b[0m \u001b[38;5;28mself\u001b[39m\u001b[38;5;241m.\u001b[39m_orig_cats \u001b[38;5;241m=\u001b[39m \u001b[38;5;28;01mNone\u001b[39;00m\n",
      "File \u001b[1;32mC:\\Program Files (x86)\\ANACONDA3\\envs\\dsde04\\lib\\site-packages\\pandas\\core\\groupby\\grouper.py:1038\u001b[0m, in \u001b[0;36m_convert_grouper\u001b[1;34m(axis, grouper)\u001b[0m\n\u001b[0;32m   1036\u001b[0m \u001b[38;5;28;01melif\u001b[39;00m \u001b[38;5;28misinstance\u001b[39m(grouper, (\u001b[38;5;28mlist\u001b[39m, \u001b[38;5;28mtuple\u001b[39m, Index, Categorical, np\u001b[38;5;241m.\u001b[39mndarray)):\n\u001b[0;32m   1037\u001b[0m     \u001b[38;5;28;01mif\u001b[39;00m \u001b[38;5;28mlen\u001b[39m(grouper) \u001b[38;5;241m!=\u001b[39m \u001b[38;5;28mlen\u001b[39m(axis):\n\u001b[1;32m-> 1038\u001b[0m         \u001b[38;5;28;01mraise\u001b[39;00m \u001b[38;5;167;01mValueError\u001b[39;00m(\u001b[38;5;124m\"\u001b[39m\u001b[38;5;124mGrouper and axis must be same length\u001b[39m\u001b[38;5;124m\"\u001b[39m)\n\u001b[0;32m   1040\u001b[0m     \u001b[38;5;28;01mif\u001b[39;00m \u001b[38;5;28misinstance\u001b[39m(grouper, (\u001b[38;5;28mlist\u001b[39m, \u001b[38;5;28mtuple\u001b[39m)):\n\u001b[0;32m   1041\u001b[0m         grouper \u001b[38;5;241m=\u001b[39m com\u001b[38;5;241m.\u001b[39masarray_tuplesafe(grouper)\n",
      "\u001b[1;31mValueError\u001b[0m: Grouper and axis must be same length"
     ]
    }
   ],
   "source": [
    "# 3) 6월 대비 소비변동 추세선 \n",
    "card_202007.groupby([[\"대분류\", \"중분류\", \"소분류\"]]).count()\n",
    "# card06 = card_202006[[\"이용일\", \"금액\", \"대분류\", \"중분류\", \"소분류\"]]\n",
    "# card06\n",
    "# card07 = card_202007[[\"이용일\", \"금액\", \"대분류\", \"중분류\", \"소분류\"]]\n",
    "# card07"
   ]
  },
  {
   "cell_type": "code",
   "execution_count": 70,
   "id": "2df32468",
   "metadata": {
    "scrolled": true
   },
   "outputs": [
    {
     "data": {
      "text/plain": [
       "대분류\n",
       "식사    30\n",
       "생활    28\n",
       "기타     9\n",
       "교통     7\n",
       "유흥     4\n",
       "문화     2\n",
       "통신     1\n",
       "쇼핑     1\n",
       "Name: count, dtype: int64"
      ]
     },
     "execution_count": 70,
     "metadata": {},
     "output_type": "execute_result"
    },
    {
     "data": {
      "text/plain": [
       "대분류\n",
       "식사    45\n",
       "생활    20\n",
       "기타     6\n",
       "유흥     3\n",
       "교통     2\n",
       "문화     1\n",
       "통신     1\n",
       "Name: count, dtype: int64"
      ]
     },
     "execution_count": 70,
     "metadata": {},
     "output_type": "execute_result"
    }
   ],
   "source": [
    "category06 = card06[\"대분류\"].value_counts()\n",
    "category06\n",
    "category07 = card07[\"대분류\"].value_counts()\n",
    "category07"
   ]
  },
  {
   "cell_type": "code",
   "execution_count": 93,
   "id": "69d66b70",
   "metadata": {},
   "outputs": [
    {
     "data": {
      "text/plain": [
       "<BarContainer object of 8 artists>"
      ]
     },
     "execution_count": 93,
     "metadata": {},
     "output_type": "execute_result"
    },
    {
     "data": {
      "text/plain": [
       "<BarContainer object of 7 artists>"
      ]
     },
     "execution_count": 93,
     "metadata": {},
     "output_type": "execute_result"
    },
    {
     "data": {
      "text/plain": [
       "Text(0.5, 1.0, '6, 7월 지출 비교')"
      ]
     },
     "execution_count": 93,
     "metadata": {},
     "output_type": "execute_result"
    },
    {
     "data": {
      "text/plain": [
       "Text(0.5, 0, '대분류')"
      ]
     },
     "execution_count": 93,
     "metadata": {},
     "output_type": "execute_result"
    },
    {
     "data": {
      "text/plain": [
       "Text(0, 0.5, '건수')"
      ]
     },
     "execution_count": 93,
     "metadata": {},
     "output_type": "execute_result"
    },
    {
     "data": {
      "text/plain": [
       "<matplotlib.legend.Legend at 0x210a1bd6290>"
      ]
     },
     "execution_count": 93,
     "metadata": {},
     "output_type": "execute_result"
    },
    {
     "data": {
      "image/png": "[encoded data removed]",
      "text/plain": [
       "<Figure size 640x480 with 1 Axes>"
      ]
     },
     "metadata": {},
     "output_type": "display_data"
    }
   ],
   "source": [
    "d01=[\"식사\", \"생활\", \"기타\",\"유흥\",\"교통\",\"문화\",\"통신\",\"쇼핑\"]\n",
    "d02=[8]\n",
    "plt.bar(category06.index, category06)\n",
    "plt.bar(category07.index, category07)\n",
    "# plt.plot(category06)\n",
    "# plt.plot(category06)\n",
    "plt.title(\"6, 7월 지출 비교\") # 제목\n",
    "plt.xlabel(\"대분류\") # x축 이름\n",
    "plt.ylabel(\"건수\") # y축 이름\n",
    "plt.legend(['6월','7월']) # 범례\n",
    "plt.show()"
   ]
  },
  {
   "cell_type": "code",
   "execution_count": null,
   "id": "cbd05633",
   "metadata": {},
   "outputs": [],
   "source": [
    "plt.plot(category06)\n",
    "plt.title(\"6, 7월 지출 비교\")\n",
    "plt.xticks(x, labels)\n"
   ]
  },
  {
   "cell_type": "code",
   "execution_count": 54,
   "id": "b4718453",
   "metadata": {},
   "outputs": [
    {
     "name": "stdout",
     "output_type": "stream",
     "text": [
      "Requirement already satisfied: matplotlib in c:\\program files (x86)\\anaconda3\\envs\\dsde04\\lib\\site-packages (3.7.1)\n",
      "Requirement already satisfied: contourpy>=1.0.1 in c:\\program files (x86)\\anaconda3\\envs\\dsde04\\lib\\site-packages (from matplotlib) (1.1.0)\n",
      "Requirement already satisfied: cycler>=0.10 in c:\\program files (x86)\\anaconda3\\envs\\dsde04\\lib\\site-packages (from matplotlib) (0.11.0)\n",
      "Requirement already satisfied: fonttools>=4.22.0 in c:\\program files (x86)\\anaconda3\\envs\\dsde04\\lib\\site-packages (from matplotlib) (4.40.0)\n",
      "Requirement already satisfied: kiwisolver>=1.0.1 in c:\\program files (x86)\\anaconda3\\envs\\dsde04\\lib\\site-packages (from matplotlib) (1.4.4)\n",
      "Requirement already satisfied: numpy>=1.20 in c:\\program files (x86)\\anaconda3\\envs\\dsde04\\lib\\site-packages (from matplotlib) (1.25.0)\n",
      "Requirement already satisfied: packaging>=20.0 in c:\\program files (x86)\\anaconda3\\envs\\dsde04\\lib\\site-packages (from matplotlib) (23.1)\n",
      "Requirement already satisfied: pillow>=6.2.0 in c:\\program files (x86)\\anaconda3\\envs\\dsde04\\lib\\site-packages (from matplotlib) (10.0.0)\n",
      "Requirement already satisfied: pyparsing>=2.3.1 in c:\\program files (x86)\\anaconda3\\envs\\dsde04\\lib\\site-packages (from matplotlib) (3.1.0)\n",
      "Requirement already satisfied: python-dateutil>=2.7 in c:\\program files (x86)\\anaconda3\\envs\\dsde04\\lib\\site-packages (from matplotlib) (2.8.2)\n",
      "Requirement already satisfied: six>=1.5 in c:\\program files (x86)\\anaconda3\\envs\\dsde04\\lib\\site-packages (from python-dateutil>=2.7->matplotlib) (1.16.0)\n",
      "Note: you may need to restart the kernel to use updated packages.\n",
      "Requirement already satisfied: seaborn in c:\\program files (x86)\\anaconda3\\envs\\dsde04\\lib\\site-packages (0.12.2)\n",
      "Requirement already satisfied: numpy!=1.24.0,>=1.17 in c:\\program files (x86)\\anaconda3\\envs\\dsde04\\lib\\site-packages (from seaborn) (1.25.0)\n",
      "Requirement already satisfied: pandas>=0.25 in c:\\program files (x86)\\anaconda3\\envs\\dsde04\\lib\\site-packages (from seaborn) (2.0.3)\n",
      "Requirement already satisfied: matplotlib!=3.6.1,>=3.1 in c:\\program files (x86)\\anaconda3\\envs\\dsde04\\lib\\site-packages (from seaborn) (3.7.1)\n",
      "Requirement already satisfied: contourpy>=1.0.1 in c:\\program files (x86)\\anaconda3\\envs\\dsde04\\lib\\site-packages (from matplotlib!=3.6.1,>=3.1->seaborn) (1.1.0)\n",
      "Requirement already satisfied: cycler>=0.10 in c:\\program files (x86)\\anaconda3\\envs\\dsde04\\lib\\site-packages (from matplotlib!=3.6.1,>=3.1->seaborn) (0.11.0)\n",
      "Requirement already satisfied: fonttools>=4.22.0 in c:\\program files (x86)\\anaconda3\\envs\\dsde04\\lib\\site-packages (from matplotlib!=3.6.1,>=3.1->seaborn) (4.40.0)\n",
      "Requirement already satisfied: kiwisolver>=1.0.1 in c:\\program files (x86)\\anaconda3\\envs\\dsde04\\lib\\site-packages (from matplotlib!=3.6.1,>=3.1->seaborn) (1.4.4)\n",
      "Requirement already satisfied: packaging>=20.0 in c:\\program files (x86)\\anaconda3\\envs\\dsde04\\lib\\site-packages (from matplotlib!=3.6.1,>=3.1->seaborn) (23.1)\n",
      "Requirement already satisfied: pillow>=6.2.0 in c:\\program files (x86)\\anaconda3\\envs\\dsde04\\lib\\site-packages (from matplotlib!=3.6.1,>=3.1->seaborn) (10.0.0)\n",
      "Requirement already satisfied: pyparsing>=2.3.1 in c:\\program files (x86)\\anaconda3\\envs\\dsde04\\lib\\site-packages (from matplotlib!=3.6.1,>=3.1->seaborn) (3.1.0)\n",
      "Requirement already satisfied: python-dateutil>=2.7 in c:\\program files (x86)\\anaconda3\\envs\\dsde04\\lib\\site-packages (from matplotlib!=3.6.1,>=3.1->seaborn) (2.8.2)\n",
      "Requirement already satisfied: pytz>=2020.1 in c:\\program files (x86)\\anaconda3\\envs\\dsde04\\lib\\site-packages (from pandas>=0.25->seaborn) (2023.3)\n",
      "Requirement already satisfied: tzdata>=2022.1 in c:\\program files (x86)\\anaconda3\\envs\\dsde04\\lib\\site-packages (from pandas>=0.25->seaborn) (2023.3)\n",
      "Requirement already satisfied: six>=1.5 in c:\\program files (x86)\\anaconda3\\envs\\dsde04\\lib\\site-packages (from python-dateutil>=2.7->matplotlib!=3.6.1,>=3.1->seaborn) (1.16.0)\n",
      "Note: you may need to restart the kernel to use updated packages.\n"
     ]
    }
   ],
   "source": [
    "%pip install matplotlib\n",
    "%pip install seaborn"
   ]
  },
  {
   "cell_type": "code",
   "execution_count": 95,
   "id": "75640e7e",
   "metadata": {
    "scrolled": true
   },
   "outputs": [
    {
     "data": {
      "text/plain": [
       "([<matplotlib.patches.Wedge at 0x2109eae66b0>,\n",
       "  <matplotlib.patches.Wedge at 0x2109eae5840>,\n",
       "  <matplotlib.patches.Wedge at 0x2109eae4a90>,\n",
       "  <matplotlib.patches.Wedge at 0x2109eae5ff0>,\n",
       "  <matplotlib.patches.Wedge at 0x2109eae47c0>,\n",
       "  <matplotlib.patches.Wedge at 0x210a0569420>,\n",
       "  <matplotlib.patches.Wedge at 0x210a056b730>,\n",
       "  <matplotlib.patches.Wedge at 0x210a0280820>,\n",
       "  <matplotlib.patches.Wedge at 0x210a02810c0>,\n",
       "  <matplotlib.patches.Wedge at 0x210a02818a0>,\n",
       "  <matplotlib.patches.Wedge at 0x2109eae6650>,\n",
       "  <matplotlib.patches.Wedge at 0x210a05afb50>,\n",
       "  <matplotlib.patches.Wedge at 0x210a2078f40>,\n",
       "  <matplotlib.patches.Wedge at 0x210a083cd60>],\n",
       " [Text(0.9190366040825596, 0.604459858349913, '한식'),\n",
       "  Text(0.06395935083321623, 1.0981389718250572, '편의점'),\n",
       "  Text(-0.6568744241012363, 0.8823355319614354, '분식'),\n",
       "  Text(-1.0703493512602231, 0.2536774847258217, '중식'),\n",
       "  Text(-1.033661890692157, -0.3762221361519223, '햄버거'),\n",
       "  Text(-0.7548658155281625, -0.8001109926422724, '카페'),\n",
       "  Text(-0.3154835705989096, -1.053788459171082, '디저트'),\n",
       "  Text(0.06395929942562105, -1.0981389748192092, '도서'),\n",
       "  Text(0.3154835459332104, -1.0537884665555075, '술'),\n",
       "  Text(0.5499999925673779, -0.952627948454109, '버스 22'),\n",
       "  Text(0.7548657968002127, -0.8001110103111819, '마트'),\n",
       "  Text(0.9190365899341549, -0.6044598798615175, '돈까스'),\n",
       "  Text(1.033661881886042, -0.37622216034652506, '오피스'),\n",
       "  Text(1.0925621934054306, -0.12770220648491112, '버스 23')],\n",
       " [Text(0.5012926931359415, 0.3297053772817707, '18.5%'),\n",
       "  Text(0.03488691863629976, 0.5989848937227584, '11.1%'),\n",
       "  Text(-0.35829514041885613, 0.48127392652441925, '11.1%'),\n",
       "  Text(-0.5838269188692126, 0.13836953712317546, '11.1%'),\n",
       "  Text(-0.5638155767411764, -0.20521207426468485, '7.4%'),\n",
       "  Text(-0.4117449902880886, -0.4364241778048758, '7.4%'),\n",
       "  Text(-0.1720819475994052, -0.5747937050024083, '7.4%'),\n",
       "  Text(0.03488689059579329, -0.5989848953559322, '3.7%'),\n",
       "  Text(0.17208193414538744, -0.5747937090302768, '3.7%'),\n",
       "  Text(0.2999999959458424, -0.5196152446113321, '3.7%'),\n",
       "  Text(0.41174498007284327, -0.4364241874424628, '3.7%'),\n",
       "  Text(0.5012926854186299, -0.3297053890153731, '3.7%'),\n",
       "  Text(0.563815571937841, -0.2052120874617409, '3.7%'),\n",
       "  Text(0.5959430145847803, -0.0696557489917697, '3.7%')])"
      ]
     },
     "execution_count": 95,
     "metadata": {},
     "output_type": "execute_result"
    },
    {
     "data": {
      "text/plain": [
       "Text(0.5, 1.0, '만원 이상 소비 항목 비율')"
      ]
     },
     "execution_count": 95,
     "metadata": {},
     "output_type": "execute_result"
    },
    {
     "data": {
      "image/png": "[encoded data removed]",
      "text/plain": [
       "<Figure size 640x480 with 1 Axes>"
      ]
     },
     "metadata": {},
     "output_type": "display_data"
    }
   ],
   "source": [
    "# 4) 만원 이상 소비 항목  \n",
    "card04 = pd.DataFrame(card_202007)\n",
    "df_list = card04[card04['금액'] >= 10000]\n",
    "counts = df_list['중분류'].value_counts()\n",
    "plt.rc(\"font\", family = \"Malgun Gothic\")\n",
    "plt.pie(x=counts, labels=counts.index, autopct=\"%1.1f%%\")\n",
    "plt.title('만원 이상 소비 항목 비율')\n",
    "plt.show()"
   ]
  },
  {
   "cell_type": "code",
   "execution_count": null,
   "id": "9c059d9c",
   "metadata": {},
   "outputs": [],
   "source": []
  },
  {
   "cell_type": "code",
   "execution_count": null,
   "id": "4e2af423",
   "metadata": {},
   "outputs": [],
   "source": []
  },
  {
   "cell_type": "code",
   "execution_count": 94,
   "id": "7839124d",
   "metadata": {},
   "outputs": [
    {
     "data": {
      "text/plain": [
       "중분류\n",
       "카페     25\n",
       "한식      5\n",
       "분식      4\n",
       "햄버거     3\n",
       "디저트     3\n",
       "중식      3\n",
       "순대      1\n",
       "돈까스     1\n",
       "Name: count, dtype: int64"
      ]
     },
     "execution_count": 94,
     "metadata": {},
     "output_type": "execute_result"
    }
   ],
   "source": [
    "# 5) 대분류 식사 중 항목별 분류 = 원형그래프\n",
    "card05 = pd.DataFrame(card_202007)\n",
    "df_card07= card05[card05['대분류'] == '식사']\n",
    "category_card = df_card07['중분류'].value_counts()\n",
    "category_card"
   ]
  },
  {
   "cell_type": "code",
   "execution_count": 62,
   "id": "10a46256",
   "metadata": {},
   "outputs": [
    {
     "data": {
      "text/plain": [
       "([<matplotlib.patches.Wedge at 0x210a03039a0>,\n",
       "  <matplotlib.patches.Wedge at 0x210a03038b0>,\n",
       "  <matplotlib.patches.Wedge at 0x210a03285e0>,\n",
       "  <matplotlib.patches.Wedge at 0x210a0328c70>,\n",
       "  <matplotlib.patches.Wedge at 0x210a0329300>,\n",
       "  <matplotlib.patches.Wedge at 0x210a0329990>,\n",
       "  <matplotlib.patches.Wedge at 0x210a032a020>,\n",
       "  <matplotlib.patches.Wedge at 0x210a032a6b0>],\n",
       " [Text(-0.1910130855889933, 1.083288512416601, '카페'),\n",
       "  Text(-0.842648767902488, -0.7070665131035546, '한식'),\n",
       "  Text(-0.26611389473707, -1.067325346381256, '분식'),\n",
       "  Text(0.26611429445789536, -1.067325246719657, '햄버거'),\n",
       "  Text(0.6772278117731579, -0.8668116813708386, '디저트'),\n",
       "  Text(0.971242475976076, -0.5164184861716914, '중식'),\n",
       "  Text(1.0759624185322416, -0.2287025883243337, '순대'),\n",
       "  Text(1.0973204749125505, -0.07673184044250939, '돈까스')],\n",
       " [Text(-0.10418895577581451, 0.5908846431363277, '55.6%'),\n",
       "  Text(-0.4596266006740843, -0.38567264351102976, '11.1%'),\n",
       "  Text(-0.14515303349294725, -0.5821774616625032, '8.9%'),\n",
       "  Text(0.14515325152248834, -0.582177407301631, '6.7%'),\n",
       "  Text(0.3693969882399043, -0.47280637165682105, '6.7%'),\n",
       "  Text(0.5297686232596778, -0.2816828106391044, '6.7%'),\n",
       "  Text(0.5868885919266772, -0.12474686635872746, '2.2%'),\n",
       "  Text(0.5985384408613911, -0.04185373115045966, '2.2%')])"
      ]
     },
     "execution_count": 62,
     "metadata": {},
     "output_type": "execute_result"
    },
    {
     "data": {
      "text/plain": [
       "Text(0.5, 1.0, '7월 대분류 식사 중 항목별 분류')"
      ]
     },
     "execution_count": 62,
     "metadata": {},
     "output_type": "execute_result"
    },
    {
     "data": {
      "image/png": "[encoded data removed]",
      "text/plain": [
       "<Figure size 640x480 with 1 Axes>"
      ]
     },
     "metadata": {},
     "output_type": "display_data"
    }
   ],
   "source": [
    "plt.rc(\"font\", family = \"Malgun Gothic\")\n",
    "plt.pie(x=category_card, labels=category_card.index, autopct=\"%1.1f%%\")\n",
    "plt.title('7월 대분류 식사 중 항목별 분류')\n",
    "plt.show()"
   ]
  },
  {
   "cell_type": "code",
   "execution_count": null,
   "id": "89111916",
   "metadata": {},
   "outputs": [],
   "source": []
  }
 ],
 "metadata": {
  "kernelspec": {
   "display_name": "Python 3 (ipykernel)",
   "language": "python",
   "name": "python3"
  },
  "language_info": {
   "codemirror_mode": {
    "name": "ipython",
    "version": 3
   },
   "file_extension": ".py",
   "mimetype": "text/x-python",
   "name": "python",
   "nbconvert_exporter": "python",
   "pygments_lexer": "ipython3",
   "version": "3.10.11"
  }
 },
 "nbformat": 4,
 "nbformat_minor": 5
}
