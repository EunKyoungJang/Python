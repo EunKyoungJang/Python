{
 "cells": [
  {
   "cell_type": "code",
   "execution_count": 4,
   "id": "aa8ff14a",
   "metadata": {},
   "outputs": [],
   "source": [
    "import seaborn as sns\n",
    "\n",
    "from sklearn.preprocessing import StandardScaler\n",
    "from sklearn.model_selection import train_test_split\n",
    "\n",
    "from sklearn.naive_bayes import GaussianNB\n",
    "from sklearn.neighbors import KNeighborsClassifier\n",
    "from sklearn.tree import DecisionTreeClassifier\n",
    "\n",
    "from sklearn.metrics import accuracy_score, r2_score, precision_score, recall_score, roc_auc_score\n",
    "# sklearn.metrics import  평가 5개하기"
   ]
  },
  {
   "cell_type": "code",
   "execution_count": 5,
   "id": "8b345d3c",
   "metadata": {},
   "outputs": [],
   "source": [
    "penguins = sns.load_dataset(\"penguins\")"
   ]
  },
  {
   "cell_type": "code",
   "execution_count": 6,
   "id": "e429d220",
   "metadata": {},
   "outputs": [
    {
     "data": {
      "text/plain": [
       "species              0\n",
       "island               0\n",
       "bill_length_mm       0\n",
       "bill_depth_mm        0\n",
       "flipper_length_mm    0\n",
       "body_mass_g          0\n",
       "sex                  9\n",
       "dtype: int64"
      ]
     },
     "execution_count": 6,
     "metadata": {},
     "output_type": "execute_result"
    }
   ],
   "source": [
    "penguins.dropna(subset=[\"bill_length_mm\"], inplace=True)\n",
    "penguins.isna().sum()"
   ]
  },
  {
   "cell_type": "code",
   "execution_count": 7,
   "id": "899a6b86",
   "metadata": {},
   "outputs": [],
   "source": [
    "# 데이터 준비 (탐색적 분석 eda)\n",
    "\n",
    "x = penguins[[\"bill_length_mm\", \"bill_depth_mm\", \"flipper_length_mm\", \"body_mass_g\"]]\n",
    "y = penguins[\"species\"].map(lambda x: 0 if x==\"Adelie\" else 1 if x==\"Gentoo\" else 2)"
   ]
  },
  {
   "cell_type": "code",
   "execution_count": 8,
   "id": "7c4fb61c",
   "metadata": {},
   "outputs": [],
   "source": [
    "#  나이브 베이즈, knn(k=3), 의사결정트리(depth=3) 로 \n",
    "#  펭귄의 종을 예측하는 모델을 만들고 학습하자!\n",
    "\n",
    "# 각 모델의 정확도를 , r2스코어, precisiom스코어, recall스코어\n",
    "#  rox auc 스코어를 각각 출력하자\n"
   ]
  },
  {
   "cell_type": "code",
   "execution_count": 9,
   "id": "a0865e28",
   "metadata": {},
   "outputs": [
    {
     "data": {
      "text/plain": [
       "(342, 4)"
      ]
     },
     "execution_count": 9,
     "metadata": {},
     "output_type": "execute_result"
    }
   ],
   "source": [
    "x.shape"
   ]
  },
  {
   "cell_type": "code",
   "execution_count": 10,
   "id": "6e118698",
   "metadata": {},
   "outputs": [
    {
     "data": {
      "text/plain": [
       "(342,)"
      ]
     },
     "execution_count": 10,
     "metadata": {},
     "output_type": "execute_result"
    }
   ],
   "source": [
    "y.shape"
   ]
  },
  {
   "cell_type": "code",
   "execution_count": 24,
   "id": "6d9e3def",
   "metadata": {},
   "outputs": [],
   "source": [
    "#  1-1 스케일링\n",
    "#  데이터의 분포가 다르다  = 그러면 스케일링 하자\n",
    "x_scale = StandardScaler().fit_transform(x)"
   ]
  },
  {
   "cell_type": "code",
   "execution_count": 30,
   "id": "4bf13633",
   "metadata": {},
   "outputs": [],
   "source": [
    "# 2. 데이터 분할 - 모의고사(검증) 보게 하려고 검증데이터 따로 잘라낸 것\n",
    "x_train, x_test, y_train, y_test = train_test_split(x_scale, y, test_size=0.3, random_state=1)"
   ]
  },
  {
   "cell_type": "code",
   "execution_count": 35,
   "id": "7149a750",
   "metadata": {},
   "outputs": [],
   "source": [
    "model_list = [GaussianNB(), KNeighborsClassifier(n_neighbors=3), DecisionTreeClassifier(max_depth=3)]\n",
    "# 모델이 3개가 있으니 LIST로 묶어서 써주겠다.\n",
    "# 질문을 많이하면 과적합이 일어날 수 있다.\n",
    "# 과적합이란? 모델이 훈련 데이터에 너무 잘 맞아서 새로운 데이터를 잘 예측 못하는거"
   ]
  },
  {
   "cell_type": "code",
   "execution_count": 40,
   "id": "98e35329",
   "metadata": {},
   "outputs": [
    {
     "name": "stdout",
     "output_type": "stream",
     "text": [
      "**GaussianNB**\n",
      "accuracy : 0.9611650485436893\n",
      "r2 score : 0.7138888888888888\n",
      "precision score : [0.93617021 1.         0.9375    ]\n",
      "recall score : [0.97777778 1.         0.83333333]\n",
      "roc auc score : 0.9921810699588477\n",
      "**KNeighborsClassifier**\n",
      "accuracy : 0.9902912621359223\n",
      "r2 score : 0.9284722222222223\n",
      "precision score : [0.97826087 1.         1.        ]\n",
      "recall score : [1.         1.         0.94444444]\n",
      "roc auc score : 0.9997942386831276\n",
      "**DecisionTreeClassifier**\n",
      "accuracy : 0.9611650485436893\n",
      "r2 score : 0.7675347222222222\n",
      "precision score : [0.93617021 1.         0.94117647]\n",
      "recall score : [0.97777778 0.975      0.88888889]\n",
      "roc auc score : 0.9951748971193416\n"
     ]
    }
   ],
   "source": [
    "for model in model_list:\n",
    "#     4. 학습\n",
    "    model.fit(x_train, y_train)\n",
    "    \n",
    "#     5. 평가\n",
    "    predict = model.predict(x_test)\n",
    "    proba = model.predict_proba(x_test)\n",
    "    \n",
    "    print(f\"**{model.__class__.__name__}**\")\n",
    "    print(f\"accuracy : {accuracy_score(y_test, predict)}\")\n",
    "    print(f\"r2 score : {r2_score(y_test, predict)}\")\n",
    "    print(f\"precision score : {precision_score(y_test, predict, average=None)}\")\n",
    "    print(f\"recall score : {recall_score(y_test, predict, average=None)}\")\n",
    "    print(f\"roc auc score : {roc_auc_score(y_test, proba, multi_class='ovo')}\")"
   ]
  },
  {
   "cell_type": "code",
   "execution_count": null,
   "id": "7297a91e",
   "metadata": {
    "scrolled": true
   },
   "outputs": [],
   "source": []
  },
  {
   "cell_type": "code",
   "execution_count": null,
   "id": "39b9e7b6",
   "metadata": {},
   "outputs": [],
   "source": []
  },
  {
   "cell_type": "code",
   "execution_count": null,
   "id": "cd6f5414",
   "metadata": {
    "scrolled": true
   },
   "outputs": [],
   "source": []
  },
  {
   "cell_type": "code",
   "execution_count": null,
   "id": "35e7002e",
   "metadata": {},
   "outputs": [],
   "source": []
  },
  {
   "cell_type": "code",
   "execution_count": null,
   "id": "fb0deb8c",
   "metadata": {},
   "outputs": [],
   "source": []
  },
  {
   "cell_type": "code",
   "execution_count": null,
   "id": "266c0079",
   "metadata": {},
   "outputs": [],
   "source": []
  },
  {
   "cell_type": "code",
   "execution_count": null,
   "id": "896363ae",
   "metadata": {},
   "outputs": [],
   "source": []
  },
  {
   "cell_type": "code",
   "execution_count": null,
   "id": "a5bc4d8a",
   "metadata": {},
   "outputs": [],
   "source": []
  }
 ],
 "metadata": {
  "kernelspec": {
   "display_name": "Python 3 (ipykernel)",
   "language": "python",
   "name": "python3"
  },
  "language_info": {
   "codemirror_mode": {
    "name": "ipython",
    "version": 3
   },
   "file_extension": ".py",
   "mimetype": "text/x-python",
   "name": "python",
   "nbconvert_exporter": "python",
   "pygments_lexer": "ipython3",
   "version": "3.10.11"
  }
 },
 "nbformat": 4,
 "nbformat_minor": 5
}
