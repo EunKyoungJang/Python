{
 "cells": [
  {
   "cell_type": "code",
   "execution_count": 40,
   "id": "be4935a1",
   "metadata": {},
   "outputs": [],
   "source": [
    "import pandas as pd"
   ]
  },
  {
   "cell_type": "code",
   "execution_count": 41,
   "id": "4cc38a09",
   "metadata": {},
   "outputs": [
    {
     "data": {
      "text/html": [
       "<div>\n",
       "<style scoped>\n",
       "    .dataframe tbody tr th:only-of-type {\n",
       "        vertical-align: middle;\n",
       "    }\n",
       "\n",
       "    .dataframe tbody tr th {\n",
       "        vertical-align: top;\n",
       "    }\n",
       "\n",
       "    .dataframe thead th {\n",
       "        text-align: right;\n",
       "    }\n",
       "</style>\n",
       "<table border=\"1\" class=\"dataframe\">\n",
       "  <thead>\n",
       "    <tr style=\"text-align: right;\">\n",
       "      <th></th>\n",
       "      <th>고유식별번호(ID)</th>\n",
       "      <th>최종가중치</th>\n",
       "      <th>학교고유번호(ID)</th>\n",
       "      <th>도시규모</th>\n",
       "      <th>도시규모별분석용</th>\n",
       "      <th>학년도</th>\n",
       "      <th>광역시도</th>\n",
       "      <th>시도별</th>\n",
       "      <th>학교급별</th>\n",
       "      <th>학교명</th>\n",
       "      <th>...</th>\n",
       "      <th>키</th>\n",
       "      <th>몸무게</th>\n",
       "      <th>혈당식전(mgdl)</th>\n",
       "      <th>총콜레스테롤(mgdl)</th>\n",
       "      <th>간기능(AST)단위(UL)</th>\n",
       "      <th>간기능(ALT)단위(UL)</th>\n",
       "      <th>혈색소(gdl)</th>\n",
       "      <th>간염검사</th>\n",
       "      <th>수축기</th>\n",
       "      <th>이완기</th>\n",
       "    </tr>\n",
       "  </thead>\n",
       "  <tbody>\n",
       "    <tr>\n",
       "      <th>0</th>\n",
       "      <td>Aa011남10101</td>\n",
       "      <td>169.550665</td>\n",
       "      <td>Aa01</td>\n",
       "      <td>대도시/중소도시</td>\n",
       "      <td>특별/광역시</td>\n",
       "      <td>2015</td>\n",
       "      <td>서울</td>\n",
       "      <td>서울특별시교육청</td>\n",
       "      <td>1</td>\n",
       "      <td>서울대도초등학교</td>\n",
       "      <td>...</td>\n",
       "      <td>125.8</td>\n",
       "      <td>27.3</td>\n",
       "      <td>NaN</td>\n",
       "      <td>NaN</td>\n",
       "      <td>NaN</td>\n",
       "      <td>NaN</td>\n",
       "      <td>NaN</td>\n",
       "      <td>NaN</td>\n",
       "      <td>77.0</td>\n",
       "      <td>58.0</td>\n",
       "    </tr>\n",
       "    <tr>\n",
       "      <th>1</th>\n",
       "      <td>Aa011남10102</td>\n",
       "      <td>169.550665</td>\n",
       "      <td>Aa01</td>\n",
       "      <td>대도시/중소도시</td>\n",
       "      <td>특별/광역시</td>\n",
       "      <td>2015</td>\n",
       "      <td>서울</td>\n",
       "      <td>서울특별시교육청</td>\n",
       "      <td>1</td>\n",
       "      <td>서울대도초등학교</td>\n",
       "      <td>...</td>\n",
       "      <td>124.3</td>\n",
       "      <td>25.4</td>\n",
       "      <td>NaN</td>\n",
       "      <td>NaN</td>\n",
       "      <td>NaN</td>\n",
       "      <td>NaN</td>\n",
       "      <td>NaN</td>\n",
       "      <td>NaN</td>\n",
       "      <td>83.0</td>\n",
       "      <td>51.0</td>\n",
       "    </tr>\n",
       "    <tr>\n",
       "      <th>2</th>\n",
       "      <td>Aa011남10103</td>\n",
       "      <td>169.550665</td>\n",
       "      <td>Aa01</td>\n",
       "      <td>대도시/중소도시</td>\n",
       "      <td>특별/광역시</td>\n",
       "      <td>2015</td>\n",
       "      <td>서울</td>\n",
       "      <td>서울특별시교육청</td>\n",
       "      <td>1</td>\n",
       "      <td>서울대도초등학교</td>\n",
       "      <td>...</td>\n",
       "      <td>119.2</td>\n",
       "      <td>23.5</td>\n",
       "      <td>NaN</td>\n",
       "      <td>NaN</td>\n",
       "      <td>NaN</td>\n",
       "      <td>NaN</td>\n",
       "      <td>NaN</td>\n",
       "      <td>NaN</td>\n",
       "      <td>103.0</td>\n",
       "      <td>65.0</td>\n",
       "    </tr>\n",
       "    <tr>\n",
       "      <th>3</th>\n",
       "      <td>Aa011남10104</td>\n",
       "      <td>169.550665</td>\n",
       "      <td>Aa01</td>\n",
       "      <td>대도시/중소도시</td>\n",
       "      <td>특별/광역시</td>\n",
       "      <td>2015</td>\n",
       "      <td>서울</td>\n",
       "      <td>서울특별시교육청</td>\n",
       "      <td>1</td>\n",
       "      <td>서울대도초등학교</td>\n",
       "      <td>...</td>\n",
       "      <td>115.0</td>\n",
       "      <td>20.0</td>\n",
       "      <td>NaN</td>\n",
       "      <td>NaN</td>\n",
       "      <td>NaN</td>\n",
       "      <td>NaN</td>\n",
       "      <td>NaN</td>\n",
       "      <td>NaN</td>\n",
       "      <td>92.0</td>\n",
       "      <td>66.0</td>\n",
       "    </tr>\n",
       "    <tr>\n",
       "      <th>4</th>\n",
       "      <td>Aa011남10105</td>\n",
       "      <td>169.550665</td>\n",
       "      <td>Aa01</td>\n",
       "      <td>대도시/중소도시</td>\n",
       "      <td>특별/광역시</td>\n",
       "      <td>2015</td>\n",
       "      <td>서울</td>\n",
       "      <td>서울특별시교육청</td>\n",
       "      <td>1</td>\n",
       "      <td>서울대도초등학교</td>\n",
       "      <td>...</td>\n",
       "      <td>120.0</td>\n",
       "      <td>33.5</td>\n",
       "      <td>NaN</td>\n",
       "      <td>NaN</td>\n",
       "      <td>NaN</td>\n",
       "      <td>NaN</td>\n",
       "      <td>NaN</td>\n",
       "      <td>NaN</td>\n",
       "      <td>102.0</td>\n",
       "      <td>59.0</td>\n",
       "    </tr>\n",
       "    <tr>\n",
       "      <th>...</th>\n",
       "      <td>...</td>\n",
       "      <td>...</td>\n",
       "      <td>...</td>\n",
       "      <td>...</td>\n",
       "      <td>...</td>\n",
       "      <td>...</td>\n",
       "      <td>...</td>\n",
       "      <td>...</td>\n",
       "      <td>...</td>\n",
       "      <td>...</td>\n",
       "      <td>...</td>\n",
       "      <td>...</td>\n",
       "      <td>...</td>\n",
       "      <td>...</td>\n",
       "      <td>...</td>\n",
       "      <td>...</td>\n",
       "      <td>...</td>\n",
       "      <td>...</td>\n",
       "      <td>...</td>\n",
       "      <td>...</td>\n",
       "      <td>...</td>\n",
       "    </tr>\n",
       "    <tr>\n",
       "      <th>9681</th>\n",
       "      <td>Ac343남30106</td>\n",
       "      <td>25.790895</td>\n",
       "      <td>Ac34</td>\n",
       "      <td>대도시/중소도시</td>\n",
       "      <td>특별/광역시</td>\n",
       "      <td>2015</td>\n",
       "      <td>서울</td>\n",
       "      <td>서울특별시교육청</td>\n",
       "      <td>3</td>\n",
       "      <td>세종과학고등학교</td>\n",
       "      <td>...</td>\n",
       "      <td>176.1</td>\n",
       "      <td>50.4</td>\n",
       "      <td>NaN</td>\n",
       "      <td>NaN</td>\n",
       "      <td>NaN</td>\n",
       "      <td>NaN</td>\n",
       "      <td>NaN</td>\n",
       "      <td>NaN</td>\n",
       "      <td>NaN</td>\n",
       "      <td>NaN</td>\n",
       "    </tr>\n",
       "    <tr>\n",
       "      <th>9682</th>\n",
       "      <td>Ac343남30107</td>\n",
       "      <td>25.790895</td>\n",
       "      <td>Ac34</td>\n",
       "      <td>대도시/중소도시</td>\n",
       "      <td>특별/광역시</td>\n",
       "      <td>2015</td>\n",
       "      <td>서울</td>\n",
       "      <td>서울특별시교육청</td>\n",
       "      <td>3</td>\n",
       "      <td>세종과학고등학교</td>\n",
       "      <td>...</td>\n",
       "      <td>174.1</td>\n",
       "      <td>88.8</td>\n",
       "      <td>NaN</td>\n",
       "      <td>NaN</td>\n",
       "      <td>NaN</td>\n",
       "      <td>NaN</td>\n",
       "      <td>NaN</td>\n",
       "      <td>NaN</td>\n",
       "      <td>NaN</td>\n",
       "      <td>NaN</td>\n",
       "    </tr>\n",
       "    <tr>\n",
       "      <th>9683</th>\n",
       "      <td>Ac343남30108</td>\n",
       "      <td>25.790895</td>\n",
       "      <td>Ac34</td>\n",
       "      <td>대도시/중소도시</td>\n",
       "      <td>특별/광역시</td>\n",
       "      <td>2015</td>\n",
       "      <td>서울</td>\n",
       "      <td>서울특별시교육청</td>\n",
       "      <td>3</td>\n",
       "      <td>세종과학고등학교</td>\n",
       "      <td>...</td>\n",
       "      <td>169.5</td>\n",
       "      <td>63.2</td>\n",
       "      <td>NaN</td>\n",
       "      <td>NaN</td>\n",
       "      <td>NaN</td>\n",
       "      <td>NaN</td>\n",
       "      <td>NaN</td>\n",
       "      <td>NaN</td>\n",
       "      <td>NaN</td>\n",
       "      <td>NaN</td>\n",
       "    </tr>\n",
       "    <tr>\n",
       "      <th>9684</th>\n",
       "      <td>Ac343여30101</td>\n",
       "      <td>23.325794</td>\n",
       "      <td>Ac34</td>\n",
       "      <td>대도시/중소도시</td>\n",
       "      <td>특별/광역시</td>\n",
       "      <td>2015</td>\n",
       "      <td>서울</td>\n",
       "      <td>서울특별시교육청</td>\n",
       "      <td>3</td>\n",
       "      <td>세종과학고등학교</td>\n",
       "      <td>...</td>\n",
       "      <td>159.2</td>\n",
       "      <td>52.9</td>\n",
       "      <td>NaN</td>\n",
       "      <td>NaN</td>\n",
       "      <td>NaN</td>\n",
       "      <td>NaN</td>\n",
       "      <td>NaN</td>\n",
       "      <td>NaN</td>\n",
       "      <td>NaN</td>\n",
       "      <td>NaN</td>\n",
       "    </tr>\n",
       "    <tr>\n",
       "      <th>9685</th>\n",
       "      <td>Ac343여30102</td>\n",
       "      <td>23.325794</td>\n",
       "      <td>Ac34</td>\n",
       "      <td>대도시/중소도시</td>\n",
       "      <td>특별/광역시</td>\n",
       "      <td>2015</td>\n",
       "      <td>서울</td>\n",
       "      <td>서울특별시교육청</td>\n",
       "      <td>3</td>\n",
       "      <td>세종과학고등학교</td>\n",
       "      <td>...</td>\n",
       "      <td>162.0</td>\n",
       "      <td>67.7</td>\n",
       "      <td>NaN</td>\n",
       "      <td>NaN</td>\n",
       "      <td>NaN</td>\n",
       "      <td>NaN</td>\n",
       "      <td>NaN</td>\n",
       "      <td>NaN</td>\n",
       "      <td>NaN</td>\n",
       "      <td>NaN</td>\n",
       "    </tr>\n",
       "  </tbody>\n",
       "</table>\n",
       "<p>9686 rows × 25 columns</p>\n",
       "</div>"
      ],
      "text/plain": [
       "       고유식별번호(ID)       최종가중치 학교고유번호(ID)      도시규모 도시규모별분석용   학년도 광역시도  \\\n",
       "0     Aa011남10101  169.550665       Aa01  대도시/중소도시   특별/광역시  2015   서울   \n",
       "1     Aa011남10102  169.550665       Aa01  대도시/중소도시   특별/광역시  2015   서울   \n",
       "2     Aa011남10103  169.550665       Aa01  대도시/중소도시   특별/광역시  2015   서울   \n",
       "3     Aa011남10104  169.550665       Aa01  대도시/중소도시   특별/광역시  2015   서울   \n",
       "4     Aa011남10105  169.550665       Aa01  대도시/중소도시   특별/광역시  2015   서울   \n",
       "...           ...         ...        ...       ...      ...   ...  ...   \n",
       "9681  Ac343남30106   25.790895       Ac34  대도시/중소도시   특별/광역시  2015   서울   \n",
       "9682  Ac343남30107   25.790895       Ac34  대도시/중소도시   특별/광역시  2015   서울   \n",
       "9683  Ac343남30108   25.790895       Ac34  대도시/중소도시   특별/광역시  2015   서울   \n",
       "9684  Ac343여30101   23.325794       Ac34  대도시/중소도시   특별/광역시  2015   서울   \n",
       "9685  Ac343여30102   23.325794       Ac34  대도시/중소도시   특별/광역시  2015   서울   \n",
       "\n",
       "           시도별  학교급별       학교명  ...      키   몸무게  혈당식전(mgdl) 총콜레스테롤(mgdl)  \\\n",
       "0     서울특별시교육청     1  서울대도초등학교  ...  125.8  27.3         NaN          NaN   \n",
       "1     서울특별시교육청     1  서울대도초등학교  ...  124.3  25.4         NaN          NaN   \n",
       "2     서울특별시교육청     1  서울대도초등학교  ...  119.2  23.5         NaN          NaN   \n",
       "3     서울특별시교육청     1  서울대도초등학교  ...  115.0  20.0         NaN          NaN   \n",
       "4     서울특별시교육청     1  서울대도초등학교  ...  120.0  33.5         NaN          NaN   \n",
       "...        ...   ...       ...  ...    ...   ...         ...          ...   \n",
       "9681  서울특별시교육청     3  세종과학고등학교  ...  176.1  50.4         NaN          NaN   \n",
       "9682  서울특별시교육청     3  세종과학고등학교  ...  174.1  88.8         NaN          NaN   \n",
       "9683  서울특별시교육청     3  세종과학고등학교  ...  169.5  63.2         NaN          NaN   \n",
       "9684  서울특별시교육청     3  세종과학고등학교  ...  159.2  52.9         NaN          NaN   \n",
       "9685  서울특별시교육청     3  세종과학고등학교  ...  162.0  67.7         NaN          NaN   \n",
       "\n",
       "     간기능(AST)단위(UL)  간기능(ALT)단위(UL)  혈색소(gdl)  간염검사    수축기   이완기  \n",
       "0               NaN             NaN       NaN   NaN   77.0  58.0  \n",
       "1               NaN             NaN       NaN   NaN   83.0  51.0  \n",
       "2               NaN             NaN       NaN   NaN  103.0  65.0  \n",
       "3               NaN             NaN       NaN   NaN   92.0  66.0  \n",
       "4               NaN             NaN       NaN   NaN  102.0  59.0  \n",
       "...             ...             ...       ...   ...    ...   ...  \n",
       "9681            NaN             NaN       NaN   NaN    NaN   NaN  \n",
       "9682            NaN             NaN       NaN   NaN    NaN   NaN  \n",
       "9683            NaN             NaN       NaN   NaN    NaN   NaN  \n",
       "9684            NaN             NaN       NaN   NaN    NaN   NaN  \n",
       "9685            NaN             NaN       NaN   NaN    NaN   NaN  \n",
       "\n",
       "[9686 rows x 25 columns]"
      ]
     },
     "execution_count": 41,
     "metadata": {},
     "output_type": "execute_result"
    }
   ],
   "source": [
    "df = pd.read_csv(\"../datasets/weight_height.csv\", encoding=\"euc-kr\")\n",
    "df"
   ]
  },
  {
   "cell_type": "code",
   "execution_count": 42,
   "id": "4f81d2ef",
   "metadata": {},
   "outputs": [],
   "source": [
    "# 몸무게와 학년, 키를 학습시키자.\n",
    "# 몸무게와 학년으로 키를 예측하자.\n",
    "\n",
    "# 학년은 1학년부터 ~ 12학년으로 만들자."
   ]
  },
  {
   "cell_type": "code",
   "execution_count": 43,
   "id": "1fee8fe0",
   "metadata": {},
   "outputs": [
    {
     "name": "stderr",
     "output_type": "stream",
     "text": [
      "C:\\Users\\Admin\\AppData\\Local\\Temp\\ipykernel_11632\\2103735169.py:2: SettingWithCopyWarning: \n",
      "A value is trying to be set on a copy of a slice from a DataFrame.\n",
      "Try using .loc[row_indexer,col_indexer] = value instead\n",
      "\n",
      "See the caveats in the documentation: https://pandas.pydata.org/pandas-docs/stable/user_guide/indexing.html#returning-a-view-versus-a-copy\n",
      "  df[\"grade\"] = list(map(lambda x: 0 if x[-4:] == \"초등학교\"\n",
      "C:\\Users\\Admin\\AppData\\Local\\Temp\\ipykernel_11632\\2103735169.py:5: SettingWithCopyWarning: \n",
      "A value is trying to be set on a copy of a slice from a DataFrame\n",
      "\n",
      "See the caveats in the documentation: https://pandas.pydata.org/pandas-docs/stable/user_guide/indexing.html#returning-a-view-versus-a-copy\n",
      "  df.drop([\"학교명\", \"학년\"], axis='columns', inplace=True)\n"
     ]
    },
    {
     "data": {
      "text/html": [
       "<div>\n",
       "<style scoped>\n",
       "    .dataframe tbody tr th:only-of-type {\n",
       "        vertical-align: middle;\n",
       "    }\n",
       "\n",
       "    .dataframe tbody tr th {\n",
       "        vertical-align: top;\n",
       "    }\n",
       "\n",
       "    .dataframe thead th {\n",
       "        text-align: right;\n",
       "    }\n",
       "</style>\n",
       "<table border=\"1\" class=\"dataframe\">\n",
       "  <thead>\n",
       "    <tr style=\"text-align: right;\">\n",
       "      <th></th>\n",
       "      <th>gender</th>\n",
       "      <th>height</th>\n",
       "      <th>weight</th>\n",
       "      <th>grade</th>\n",
       "    </tr>\n",
       "  </thead>\n",
       "  <tbody>\n",
       "    <tr>\n",
       "      <th>0</th>\n",
       "      <td>남</td>\n",
       "      <td>125.8</td>\n",
       "      <td>27.3</td>\n",
       "      <td>1</td>\n",
       "    </tr>\n",
       "    <tr>\n",
       "      <th>1</th>\n",
       "      <td>남</td>\n",
       "      <td>124.3</td>\n",
       "      <td>25.4</td>\n",
       "      <td>1</td>\n",
       "    </tr>\n",
       "    <tr>\n",
       "      <th>2</th>\n",
       "      <td>남</td>\n",
       "      <td>119.2</td>\n",
       "      <td>23.5</td>\n",
       "      <td>1</td>\n",
       "    </tr>\n",
       "    <tr>\n",
       "      <th>3</th>\n",
       "      <td>남</td>\n",
       "      <td>115.0</td>\n",
       "      <td>20.0</td>\n",
       "      <td>1</td>\n",
       "    </tr>\n",
       "    <tr>\n",
       "      <th>4</th>\n",
       "      <td>남</td>\n",
       "      <td>120.0</td>\n",
       "      <td>33.5</td>\n",
       "      <td>1</td>\n",
       "    </tr>\n",
       "    <tr>\n",
       "      <th>...</th>\n",
       "      <td>...</td>\n",
       "      <td>...</td>\n",
       "      <td>...</td>\n",
       "      <td>...</td>\n",
       "    </tr>\n",
       "    <tr>\n",
       "      <th>9681</th>\n",
       "      <td>남</td>\n",
       "      <td>176.1</td>\n",
       "      <td>50.4</td>\n",
       "      <td>12</td>\n",
       "    </tr>\n",
       "    <tr>\n",
       "      <th>9682</th>\n",
       "      <td>남</td>\n",
       "      <td>174.1</td>\n",
       "      <td>88.8</td>\n",
       "      <td>12</td>\n",
       "    </tr>\n",
       "    <tr>\n",
       "      <th>9683</th>\n",
       "      <td>남</td>\n",
       "      <td>169.5</td>\n",
       "      <td>63.2</td>\n",
       "      <td>12</td>\n",
       "    </tr>\n",
       "    <tr>\n",
       "      <th>9684</th>\n",
       "      <td>여</td>\n",
       "      <td>159.2</td>\n",
       "      <td>52.9</td>\n",
       "      <td>12</td>\n",
       "    </tr>\n",
       "    <tr>\n",
       "      <th>9685</th>\n",
       "      <td>여</td>\n",
       "      <td>162.0</td>\n",
       "      <td>67.7</td>\n",
       "      <td>12</td>\n",
       "    </tr>\n",
       "  </tbody>\n",
       "</table>\n",
       "<p>9686 rows × 4 columns</p>\n",
       "</div>"
      ],
      "text/plain": [
       "     gender  height  weight  grade\n",
       "0         남   125.8    27.3      1\n",
       "1         남   124.3    25.4      1\n",
       "2         남   119.2    23.5      1\n",
       "3         남   115.0    20.0      1\n",
       "4         남   120.0    33.5      1\n",
       "...     ...     ...     ...    ...\n",
       "9681      남   176.1    50.4     12\n",
       "9682      남   174.1    88.8     12\n",
       "9683      남   169.5    63.2     12\n",
       "9684      여   159.2    52.9     12\n",
       "9685      여   162.0    67.7     12\n",
       "\n",
       "[9686 rows x 4 columns]"
      ]
     },
     "execution_count": 43,
     "metadata": {},
     "output_type": "execute_result"
    }
   ],
   "source": [
    "df = df[[\"학교명\", \"학년\", \"성별\", \"키\", \"몸무게\"]]\n",
    "df[\"grade\"] = list(map(lambda x: 0 if x[-4:] == \"초등학교\" \n",
    "                      else 6 if x[-3:] == \"중학교\"\n",
    "                      else 9, df[\"학교명\"])) + df[\"학년\"]\n",
    "df.drop([\"학교명\", \"학년\"], axis='columns', inplace=True)\n",
    "df.columns = [\"gender\", \"height\", \"weight\", \"grade\"]\n",
    "df"
   ]
  },
  {
   "cell_type": "code",
   "execution_count": 44,
   "id": "8f2ffb8f",
   "metadata": {},
   "outputs": [],
   "source": [
    "# 몸무게와 학년, 키를 학습시키자.\n",
    "# 몸무게와 학년으로 키를 예측하자."
   ]
  },
  {
   "cell_type": "code",
   "execution_count": 45,
   "id": "cae5e5ba",
   "metadata": {},
   "outputs": [
    {
     "name": "stdout",
     "output_type": "stream",
     "text": [
      "gender    0\n",
      "height    0\n",
      "weight    4\n",
      "grade     0\n",
      "dtype: int64\n",
      "gender    0\n",
      "height    0\n",
      "weight    4\n",
      "grade     0\n",
      "dtype: int64\n"
     ]
    }
   ],
   "source": [
    "print(df.isnull().sum())\n",
    "print(df.isna().sum())"
   ]
  },
  {
   "cell_type": "code",
   "execution_count": 46,
   "id": "28e8b4d9",
   "metadata": {},
   "outputs": [
    {
     "name": "stderr",
     "output_type": "stream",
     "text": [
      "C:\\Users\\Admin\\AppData\\Local\\Temp\\ipykernel_11632\\2053667463.py:1: SettingWithCopyWarning: \n",
      "A value is trying to be set on a copy of a slice from a DataFrame\n",
      "\n",
      "See the caveats in the documentation: https://pandas.pydata.org/pandas-docs/stable/user_guide/indexing.html#returning-a-view-versus-a-copy\n",
      "  df.dropna(inplace=True)\n"
     ]
    },
    {
     "data": {
      "text/plain": [
       "(9682, 4)"
      ]
     },
     "execution_count": 46,
     "metadata": {},
     "output_type": "execute_result"
    }
   ],
   "source": [
    "df.dropna(inplace=True)\n",
    "df.shape"
   ]
  },
  {
   "cell_type": "code",
   "execution_count": 47,
   "id": "1a196506",
   "metadata": {},
   "outputs": [],
   "source": [
    "# 1.데이터 준비\n",
    "gender_condition = df[\"gender\"] == \"남\"\n",
    "x = df[gender_condition][[\"weight\", \"grade\"]]\n",
    "y = df[gender_condition][[\"height\"]]\n",
    "# x가 두 개니까 2차원 [[]]   y= x1, x2  +  w1, w2 +b   => w1 *x1 +w2* x2 +b\n",
    "# 다항식(곡선)을 늘려주겠다 = 꾸불꾸불, 곡선을 많이 주겠다. 그리고 이 말은 차원이 달라진다는 뜻"
   ]
  },
  {
   "cell_type": "code",
   "execution_count": 48,
   "id": "4b9761cd",
   "metadata": {},
   "outputs": [],
   "source": [
    "from sklearn.preprocessing import PolynomialFeatures"
   ]
  },
  {
   "cell_type": "code",
   "execution_count": 49,
   "id": "a40a6d1c",
   "metadata": {},
   "outputs": [],
   "source": [
    "poly = PolynomialFeatures(degree=3)\n",
    "poly.fit(x)\n",
    "x_poly = poly.transform(x)\n",
    "# 3차 다항식 3제곱 나오니까"
   ]
  },
  {
   "cell_type": "code",
   "execution_count": 50,
   "id": "544a5e00",
   "metadata": {},
   "outputs": [
    {
     "data": {
      "text/plain": [
       "array(['1', 'weight', 'grade', 'weight^2', 'weight grade', 'grade^2',\n",
       "       'weight^3', 'weight^2 grade', 'weight grade^2', 'grade^3'],\n",
       "      dtype=object)"
      ]
     },
     "execution_count": 50,
     "metadata": {},
     "output_type": "execute_result"
    }
   ],
   "source": [
    "poly.get_feature_names_out()\n",
    "# 복잡한 모델이 됐으니까 내가 표현하는 것을 잘 표현하고 싶어서 PolynomialFeatures 사용"
   ]
  },
  {
   "cell_type": "code",
   "execution_count": 51,
   "id": "f7ebd113",
   "metadata": {},
   "outputs": [],
   "source": [
    "#  2.데이터 분할\n",
    "from sklearn.model_selection import train_test_split"
   ]
  },
  {
   "cell_type": "code",
   "execution_count": 52,
   "id": "50e95f75",
   "metadata": {},
   "outputs": [],
   "source": [
    "x_train, x_test, y_train, y_test = train_test_split(x_poly, y, test_size=0.3, random_state=1)"
   ]
  },
  {
   "cell_type": "code",
   "execution_count": 59,
   "id": "1ef812f2",
   "metadata": {},
   "outputs": [],
   "source": [
    "# 3. 모델 선택\n",
    "from sklearn.linear_model import LinearRegression"
   ]
  },
  {
   "cell_type": "code",
   "execution_count": 61,
   "id": "282e4d3e",
   "metadata": {},
   "outputs": [],
   "source": [
    "model = LinearRegression()"
   ]
  },
  {
   "cell_type": "code",
   "execution_count": 62,
   "id": "1660fe00",
   "metadata": {},
   "outputs": [
    {
     "data": {
      "text/html": [
       "<style>#sk-container-id-1 {color: black;}#sk-container-id-1 pre{padding: 0;}#sk-container-id-1 div.sk-toggleable {background-color: white;}#sk-container-id-1 label.sk-toggleable__label {cursor: pointer;display: block;width: 100%;margin-bottom: 0;padding: 0.3em;box-sizing: border-box;text-align: center;}#sk-container-id-1 label.sk-toggleable__label-arrow:before {content: \"▸\";float: left;margin-right: 0.25em;color: #696969;}#sk-container-id-1 label.sk-toggleable__label-arrow:hover:before {color: black;}#sk-container-id-1 div.sk-estimator:hover label.sk-toggleable__label-arrow:before {color: black;}#sk-container-id-1 div.sk-toggleable__content {max-height: 0;max-width: 0;overflow: hidden;text-align: left;background-color: #f0f8ff;}#sk-container-id-1 div.sk-toggleable__content pre {margin: 0.2em;color: black;border-radius: 0.25em;background-color: #f0f8ff;}#sk-container-id-1 input.sk-toggleable__control:checked~div.sk-toggleable__content {max-height: 200px;max-width: 100%;overflow: auto;}#sk-container-id-1 input.sk-toggleable__control:checked~label.sk-toggleable__label-arrow:before {content: \"▾\";}#sk-container-id-1 div.sk-estimator input.sk-toggleable__control:checked~label.sk-toggleable__label {background-color: #d4ebff;}#sk-container-id-1 div.sk-label input.sk-toggleable__control:checked~label.sk-toggleable__label {background-color: #d4ebff;}#sk-container-id-1 input.sk-hidden--visually {border: 0;clip: rect(1px 1px 1px 1px);clip: rect(1px, 1px, 1px, 1px);height: 1px;margin: -1px;overflow: hidden;padding: 0;position: absolute;width: 1px;}#sk-container-id-1 div.sk-estimator {font-family: monospace;background-color: #f0f8ff;border: 1px dotted black;border-radius: 0.25em;box-sizing: border-box;margin-bottom: 0.5em;}#sk-container-id-1 div.sk-estimator:hover {background-color: #d4ebff;}#sk-container-id-1 div.sk-parallel-item::after {content: \"\";width: 100%;border-bottom: 1px solid gray;flex-grow: 1;}#sk-container-id-1 div.sk-label:hover label.sk-toggleable__label {background-color: #d4ebff;}#sk-container-id-1 div.sk-serial::before {content: \"\";position: absolute;border-left: 1px solid gray;box-sizing: border-box;top: 0;bottom: 0;left: 50%;z-index: 0;}#sk-container-id-1 div.sk-serial {display: flex;flex-direction: column;align-items: center;background-color: white;padding-right: 0.2em;padding-left: 0.2em;position: relative;}#sk-container-id-1 div.sk-item {position: relative;z-index: 1;}#sk-container-id-1 div.sk-parallel {display: flex;align-items: stretch;justify-content: center;background-color: white;position: relative;}#sk-container-id-1 div.sk-item::before, #sk-container-id-1 div.sk-parallel-item::before {content: \"\";position: absolute;border-left: 1px solid gray;box-sizing: border-box;top: 0;bottom: 0;left: 50%;z-index: -1;}#sk-container-id-1 div.sk-parallel-item {display: flex;flex-direction: column;z-index: 1;position: relative;background-color: white;}#sk-container-id-1 div.sk-parallel-item:first-child::after {align-self: flex-end;width: 50%;}#sk-container-id-1 div.sk-parallel-item:last-child::after {align-self: flex-start;width: 50%;}#sk-container-id-1 div.sk-parallel-item:only-child::after {width: 0;}#sk-container-id-1 div.sk-dashed-wrapped {border: 1px dashed gray;margin: 0 0.4em 0.5em 0.4em;box-sizing: border-box;padding-bottom: 0.4em;background-color: white;}#sk-container-id-1 div.sk-label label {font-family: monospace;font-weight: bold;display: inline-block;line-height: 1.2em;}#sk-container-id-1 div.sk-label-container {text-align: center;}#sk-container-id-1 div.sk-container {/* jupyter's `normalize.less` sets `[hidden] { display: none; }` but bootstrap.min.css set `[hidden] { display: none !important; }` so we also need the `!important` here to be able to override the default hidden behavior on the sphinx rendered scikit-learn.org. See: https://github.com/scikit-learn/scikit-learn/issues/21755 */display: inline-block !important;position: relative;}#sk-container-id-1 div.sk-text-repr-fallback {display: none;}</style><div id=\"sk-container-id-1\" class=\"sk-top-container\"><div class=\"sk-text-repr-fallback\"><pre>LinearRegression()</pre><b>In a Jupyter environment, please rerun this cell to show the HTML representation or trust the notebook. <br />On GitHub, the HTML representation is unable to render, please try loading this page with nbviewer.org.</b></div><div class=\"sk-container\" hidden><div class=\"sk-item\"><div class=\"sk-estimator sk-toggleable\"><input class=\"sk-toggleable__control sk-hidden--visually\" id=\"sk-estimator-id-1\" type=\"checkbox\" checked><label for=\"sk-estimator-id-1\" class=\"sk-toggleable__label sk-toggleable__label-arrow\">LinearRegression</label><div class=\"sk-toggleable__content\"><pre>LinearRegression()</pre></div></div></div></div></div>"
      ],
      "text/plain": [
       "LinearRegression()"
      ]
     },
     "execution_count": 62,
     "metadata": {},
     "output_type": "execute_result"
    }
   ],
   "source": [
    "#  4. 모델 학습\n",
    "model.fit(x_train, y_train)"
   ]
  },
  {
   "cell_type": "code",
   "execution_count": 63,
   "id": "5123ec6d",
   "metadata": {},
   "outputs": [
    {
     "data": {
      "text/plain": [
       "0.9223088929555134"
      ]
     },
     "execution_count": 63,
     "metadata": {},
     "output_type": "execute_result"
    }
   ],
   "source": [
    "#  5. 평가\n",
    "model.score(x_train, y_train)"
   ]
  },
  {
   "cell_type": "code",
   "execution_count": 64,
   "id": "4f87a2c5",
   "metadata": {
    "scrolled": true
   },
   "outputs": [],
   "source": [
    "#  6. 예측\n",
    "predict = model.predict(x_test)\n",
    "# 이산형은 그리기 어렵다."
   ]
  },
  {
   "cell_type": "code",
   "execution_count": 65,
   "id": "0ce07758",
   "metadata": {},
   "outputs": [
    {
     "data": {
      "text/html": [
       "<div>\n",
       "<style scoped>\n",
       "    .dataframe tbody tr th:only-of-type {\n",
       "        vertical-align: middle;\n",
       "    }\n",
       "\n",
       "    .dataframe tbody tr th {\n",
       "        vertical-align: top;\n",
       "    }\n",
       "\n",
       "    .dataframe thead th {\n",
       "        text-align: right;\n",
       "    }\n",
       "</style>\n",
       "<table border=\"1\" class=\"dataframe\">\n",
       "  <thead>\n",
       "    <tr style=\"text-align: right;\">\n",
       "      <th></th>\n",
       "      <th>height</th>\n",
       "      <th>predict</th>\n",
       "    </tr>\n",
       "  </thead>\n",
       "  <tbody>\n",
       "    <tr>\n",
       "      <th>4289</th>\n",
       "      <td>158.0</td>\n",
       "      <td>155.559689</td>\n",
       "    </tr>\n",
       "    <tr>\n",
       "      <th>9577</th>\n",
       "      <td>169.6</td>\n",
       "      <td>170.353998</td>\n",
       "    </tr>\n",
       "    <tr>\n",
       "      <th>639</th>\n",
       "      <td>136.5</td>\n",
       "      <td>142.636031</td>\n",
       "    </tr>\n",
       "    <tr>\n",
       "      <th>7826</th>\n",
       "      <td>172.6</td>\n",
       "      <td>175.409300</td>\n",
       "    </tr>\n",
       "    <tr>\n",
       "      <th>8532</th>\n",
       "      <td>174.0</td>\n",
       "      <td>174.832055</td>\n",
       "    </tr>\n",
       "    <tr>\n",
       "      <th>...</th>\n",
       "      <td>...</td>\n",
       "      <td>...</td>\n",
       "    </tr>\n",
       "    <tr>\n",
       "      <th>1766</th>\n",
       "      <td>144.3</td>\n",
       "      <td>147.794236</td>\n",
       "    </tr>\n",
       "    <tr>\n",
       "      <th>7625</th>\n",
       "      <td>172.9</td>\n",
       "      <td>174.687727</td>\n",
       "    </tr>\n",
       "    <tr>\n",
       "      <th>1367</th>\n",
       "      <td>153.9</td>\n",
       "      <td>159.616252</td>\n",
       "    </tr>\n",
       "    <tr>\n",
       "      <th>5963</th>\n",
       "      <td>170.5</td>\n",
       "      <td>169.898377</td>\n",
       "    </tr>\n",
       "    <tr>\n",
       "      <th>9314</th>\n",
       "      <td>176.4</td>\n",
       "      <td>174.305810</td>\n",
       "    </tr>\n",
       "  </tbody>\n",
       "</table>\n",
       "<p>1490 rows × 2 columns</p>\n",
       "</div>"
      ],
      "text/plain": [
       "      height     predict\n",
       "4289   158.0  155.559689\n",
       "9577   169.6  170.353998\n",
       "639    136.5  142.636031\n",
       "7826   172.6  175.409300\n",
       "8532   174.0  174.832055\n",
       "...      ...         ...\n",
       "1766   144.3  147.794236\n",
       "7625   172.9  174.687727\n",
       "1367   153.9  159.616252\n",
       "5963   170.5  169.898377\n",
       "9314   176.4  174.305810\n",
       "\n",
       "[1490 rows x 2 columns]"
      ]
     },
     "execution_count": 65,
     "metadata": {},
     "output_type": "execute_result"
    }
   ],
   "source": [
    "y_test[\"predict\"] = predict\n",
    "y_test"
   ]
  },
  {
   "cell_type": "code",
   "execution_count": 68,
   "id": "fb7ae041",
   "metadata": {},
   "outputs": [
    {
     "name": "stderr",
     "output_type": "stream",
     "text": [
      "C:\\Program Files (x86)\\ANACONDA3\\envs\\dsde04\\lib\\site-packages\\sklearn\\base.py:464: UserWarning: X does not have valid feature names, but PolynomialFeatures was fitted with feature names\n",
      "  warnings.warn(\n"
     ]
    },
    {
     "data": {
      "text/plain": [
       "array([[174.85447456]])"
      ]
     },
     "execution_count": 68,
     "metadata": {},
     "output_type": "execute_result"
    }
   ],
   "source": [
    "# 몸무게가 78kg, 학년이 12학년인 \n",
    "model.predict(poly.transform([[78, 12]]))"
   ]
  },
  {
   "cell_type": "code",
   "execution_count": 73,
   "id": "0d1d28ae",
   "metadata": {},
   "outputs": [],
   "source": [
    "import numpy as np\n",
    "import matplotlib.pyplot as plt"
   ]
  },
  {
   "cell_type": "code",
   "execution_count": 74,
   "id": "498831d1",
   "metadata": {},
   "outputs": [],
   "source": [
    "x_pred = np.linspace(x[\"weight\"].min(),x[\"weight\"].max(), x[\"weight\"].size)"
   ]
  },
  {
   "cell_type": "code",
   "execution_count": 76,
   "id": "5c0a9e12",
   "metadata": {},
   "outputs": [
    {
     "data": {
      "image/png": "[encoded data removed]",
      "text/plain": [
       "<Figure size 640x480 with 1 Axes>"
      ]
     },
     "metadata": {},
     "output_type": "display_data"
    }
   ],
   "source": [
    "plt.scatter(x[\"weight\"], y[\"height\"], alpha=0.5)\n",
    "for grade in x[\"grade\"].unique():\n",
    "    df = pd.DataFrame(x_pred, columns=[\"weight\"])\n",
    "    df[\"grade\"] = np.full(x_pred.size, grade)\n",
    "    \n",
    "    y_pred= model.predict(poly.transform(df))\n",
    "    \n",
    "    plt.plot(x_pred, y_pred, label=grade)\n",
    "    \n",
    "plt.legend()\n",
    "plt.show()\n",
    "# 파란색 = 전체 데이터\n",
    "# 12개 grade\n",
    "# 1학년 - 12학년거까지 그려봐라"
   ]
  },
  {
   "cell_type": "code",
   "execution_count": null,
   "id": "21db3156",
   "metadata": {},
   "outputs": [],
   "source": []
  }
 ],
 "metadata": {
  "kernelspec": {
   "display_name": "Python 3 (ipykernel)",
   "language": "python",
   "name": "python3"
  },
  "language_info": {
   "codemirror_mode": {
    "name": "ipython",
    "version": 3
   },
   "file_extension": ".py",
   "mimetype": "text/x-python",
   "name": "python",
   "nbconvert_exporter": "python",
   "pygments_lexer": "ipython3",
   "version": "3.10.11"
  }
 },
 "nbformat": 4,
 "nbformat_minor": 5
}
