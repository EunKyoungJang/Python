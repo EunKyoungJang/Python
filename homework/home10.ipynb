{
 "cells": [
  {
   "cell_type": "code",
   "execution_count": 3,
   "id": "ffa21a0c",
   "metadata": {},
   "outputs": [],
   "source": [
    "import matplotlib.pyplot as plt\n",
    "import pandas as pd\n",
    "import seaborn as sns\n",
    "\n",
    "from sklearn.preprocessing import StandardScaler\n",
    "from sklearn.cluster import KMeans, estimate_bandwidth, DBSCAN\n",
    "from sklearn.metrics.cluster import silhouette_score, adjusted_rand_score\n",
    "from sklearn.metrics import normalized_mutual_info_score"
   ]
  },
  {
   "cell_type": "code",
   "execution_count": 5,
   "id": "337b4a8c",
   "metadata": {},
   "outputs": [],
   "source": [
    "penguins = sns.load_dataset(\"penguins\")\n",
    "penguins = penguins.sample(frac=1).reset_index(drop=True)"
   ]
  },
  {
   "cell_type": "markdown",
   "id": "e0f68a21",
   "metadata": {},
   "source": [
    "펭귄의 bill_length_mm, bill_depth_mm, flipper_length_mm, body_mass_g를 가지고 스케일링 후 군집 분석 하자.\n",
    "\n",
    "- kmeans는 최적의 k를 찾을 수 있도록 elbow graph 그리고, 실루엣 점수로 그래프 그린 후 k를 확정하여 학습하자.\n",
    "- meanshift는 estimate_bandwidth로 최적의 대역폭을 찾아서 설정 후 학습하자.\n",
    "\n",
    "\n",
    "* 분할하지 않고 그냥 학습!(y는 species)\n",
    "\n",
    "\n",
    "- 각 모델의 ari, nmi, 실루엣 점수를 출력하자\n",
    "\n"
   ]
  },
  {
   "cell_type": "code",
   "execution_count": null,
   "id": "393e5057",
   "metadata": {},
   "outputs": [],
   "source": []
  }
 ],
 "metadata": {
  "kernelspec": {
   "display_name": "Python 3 (ipykernel)",
   "language": "python",
   "name": "python3"
  },
  "language_info": {
   "codemirror_mode": {
    "name": "ipython",
    "version": 3
   },
   "file_extension": ".py",
   "mimetype": "text/x-python",
   "name": "python",
   "nbconvert_exporter": "python",
   "pygments_lexer": "ipython3",
   "version": "3.10.11"
  }
 },
 "nbformat": 4,
 "nbformat_minor": 5
}
