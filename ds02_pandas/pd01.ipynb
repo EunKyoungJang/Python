{
 "cells": [
  {
   "cell_type": "code",
   "execution_count": 1,
   "id": "5ee28e10",
   "metadata": {},
   "outputs": [
    {
     "name": "stdout",
     "output_type": "stream",
     "text": [
      "Requirement already satisfied: pandas in c:\\program files (x86)\\anaconda3\\envs\\dsde04\\lib\\site-packages (2.0.3)\n",
      "Requirement already satisfied: python-dateutil>=2.8.2 in c:\\program files (x86)\\anaconda3\\envs\\dsde04\\lib\\site-packages (from pandas) (2.8.2)\n",
      "Requirement already satisfied: pytz>=2020.1 in c:\\program files (x86)\\anaconda3\\envs\\dsde04\\lib\\site-packages (from pandas) (2023.3)\n",
      "Requirement already satisfied: tzdata>=2022.1 in c:\\program files (x86)\\anaconda3\\envs\\dsde04\\lib\\site-packages (from pandas) (2023.3)\n",
      "Requirement already satisfied: numpy>=1.21.0 in c:\\program files (x86)\\anaconda3\\envs\\dsde04\\lib\\site-packages (from pandas) (1.25.0)\n",
      "Requirement already satisfied: six>=1.5 in c:\\program files (x86)\\anaconda3\\envs\\dsde04\\lib\\site-packages (from python-dateutil>=2.8.2->pandas) (1.16.0)\n",
      "Note: you may need to restart the kernel to use updated packages.\n"
     ]
    }
   ],
   "source": [
    "%pip install pandas"
   ]
  },
  {
   "cell_type": "code",
   "execution_count": 2,
   "id": "a001b1e4",
   "metadata": {},
   "outputs": [],
   "source": [
    "import numpy as np\n",
    "import pandas as pd"
   ]
  },
  {
   "cell_type": "code",
   "execution_count": 9,
   "id": "9597b875",
   "metadata": {},
   "outputs": [
    {
     "name": "stdout",
     "output_type": "stream",
     "text": [
      "RangeIndex(start=0, stop=7, step=1)\n",
      "<class 'pandas.core.series.Series'>\n",
      "<class 'pandas.core.indexes.range.RangeIndex'>\n",
      "[19  2  8 22 42 32 39]\n",
      "<class 'numpy.ndarray'>\n"
     ]
    }
   ],
   "source": [
    "# 로또 1000회차\n",
    "numbers = [19, 2, 8, 22, 42, 32, 39]\n",
    "lotto = pd.Series(data=numbers)\n",
    "lotto\n",
    "\n",
    "print(lotto.index)\n",
    "print(type(lotto))\n",
    "print(type(lotto.index))\n",
    "\n",
    "print(lotto.values)\n",
    "print(type(lotto.values))"
   ]
  },
  {
   "cell_type": "code",
   "execution_count": 10,
   "id": "bc510e9d",
   "metadata": {},
   "outputs": [
    {
     "data": {
      "text/plain": [
       "array([ 4,  4,  8, 43,  2,  2])"
      ]
     },
     "execution_count": 10,
     "metadata": {},
     "output_type": "execute_result"
    }
   ],
   "source": [
    "random_num = np.random.randint(1, 45, 6)\n",
    "random_num"
   ]
  },
  {
   "cell_type": "code",
   "execution_count": 13,
   "id": "8cffe8d2",
   "metadata": {},
   "outputs": [
    {
     "data": {
      "text/plain": [
       "0     4.0\n",
       "1     4.0\n",
       "2     8.0\n",
       "3    43.0\n",
       "4     2.0\n",
       "5     2.0\n",
       "dtype: float64"
      ]
     },
     "execution_count": 13,
     "metadata": {},
     "output_type": "execute_result"
    }
   ],
   "source": [
    "today_lotto = pd.Series(random_num, dtype=\"float\")\n",
    "today_lotto\n",
    "# 앞에 숫자 해당 데이터의 인덱스  .Series는 앞에 인덱스를 붙여주고 이게 표가 된다. "
   ]
  },
  {
   "cell_type": "code",
   "execution_count": 14,
   "id": "b7c524c2",
   "metadata": {},
   "outputs": [
    {
     "data": {
      "text/plain": [
       "False"
      ]
     },
     "execution_count": 14,
     "metadata": {},
     "output_type": "execute_result"
    }
   ],
   "source": [
    "today_lotto.is_unique"
   ]
  },
  {
   "cell_type": "code",
   "execution_count": 15,
   "id": "c9fcda34",
   "metadata": {},
   "outputs": [
    {
     "data": {
      "text/plain": [
       "False"
      ]
     },
     "execution_count": 15,
     "metadata": {},
     "output_type": "execute_result"
    }
   ],
   "source": [
    "today_lotto.is_monotonic_increasing"
   ]
  },
  {
   "cell_type": "code",
   "execution_count": 16,
   "id": "026f58a9",
   "metadata": {},
   "outputs": [
    {
     "data": {
      "text/plain": [
       "0     100\n",
       "1     200\n",
       "2     300\n",
       "3     400\n",
       "4     500\n",
       "5     600\n",
       "6     700\n",
       "7     800\n",
       "8     900\n",
       "9    1000\n",
       "dtype: int64"
      ]
     },
     "execution_count": 16,
     "metadata": {},
     "output_type": "execute_result"
    }
   ],
   "source": [
    "nums = pd.Series(range(100, 1001, 100))\n",
    "nums\n",
    "# dtype: int64 => 해당 시리즈 데이터 안에 있는 타입(64비트)"
   ]
  },
  {
   "cell_type": "code",
   "execution_count": 17,
   "id": "09db8d69",
   "metadata": {},
   "outputs": [
    {
     "data": {
      "text/plain": [
       "0    100\n",
       "1    200\n",
       "2    300\n",
       "3    400\n",
       "4    500\n",
       "dtype: int64"
      ]
     },
     "execution_count": 17,
     "metadata": {},
     "output_type": "execute_result"
    }
   ],
   "source": [
    "nums.head()"
   ]
  },
  {
   "cell_type": "code",
   "execution_count": 18,
   "id": "ea7b453d",
   "metadata": {},
   "outputs": [
    {
     "data": {
      "text/plain": [
       "0    100\n",
       "1    200\n",
       "2    300\n",
       "dtype: int64"
      ]
     },
     "execution_count": 18,
     "metadata": {},
     "output_type": "execute_result"
    }
   ],
   "source": [
    "nums.head(n=3)\n",
    "# 3개만 보고 싶어요"
   ]
  },
  {
   "cell_type": "code",
   "execution_count": 19,
   "id": "ff9def7a",
   "metadata": {},
   "outputs": [
    {
     "data": {
      "text/plain": [
       "0    100\n",
       "1    200\n",
       "dtype: int64"
      ]
     },
     "execution_count": 19,
     "metadata": {},
     "output_type": "execute_result"
    }
   ],
   "source": [
    "nums.head(2)\n",
    "# 2개만 보고 싶어요 "
   ]
  },
  {
   "cell_type": "code",
   "execution_count": 20,
   "id": "3f1d35ce",
   "metadata": {},
   "outputs": [
    {
     "data": {
      "text/plain": [
       "5     600\n",
       "6     700\n",
       "7     800\n",
       "8     900\n",
       "9    1000\n",
       "dtype: int64"
      ]
     },
     "execution_count": 20,
     "metadata": {},
     "output_type": "execute_result"
    }
   ],
   "source": [
    "# 뒤에서 5개  <=> head\n",
    "nums.tail()"
   ]
  },
  {
   "cell_type": "code",
   "execution_count": 21,
   "id": "a30bcd06",
   "metadata": {},
   "outputs": [
    {
     "data": {
      "text/plain": [
       "7     800\n",
       "8     900\n",
       "9    1000\n",
       "dtype: int64"
      ]
     },
     "execution_count": 21,
     "metadata": {},
     "output_type": "execute_result"
    }
   ],
   "source": [
    "nums.tail(3)"
   ]
  },
  {
   "cell_type": "code",
   "execution_count": 22,
   "id": "cf580d8b",
   "metadata": {},
   "outputs": [
    {
     "data": {
      "text/plain": [
       "8     900\n",
       "9    1000\n",
       "dtype: int64"
      ]
     },
     "execution_count": 22,
     "metadata": {},
     "output_type": "execute_result"
    }
   ],
   "source": [
    "nums.tail(n=2)"
   ]
  },
  {
   "cell_type": "code",
   "execution_count": 23,
   "id": "9dc81a59",
   "metadata": {},
   "outputs": [
    {
     "name": "stdout",
     "output_type": "stream",
     "text": [
      "10\n",
      "5500\n"
     ]
    }
   ],
   "source": [
    "print(nums.count())\n",
    "print(nums.sum())\n",
    "# 요소의 갯수, 요소들의 총합"
   ]
  },
  {
   "cell_type": "code",
   "execution_count": 24,
   "id": "cd0bb8f8",
   "metadata": {},
   "outputs": [
    {
     "data": {
      "text/plain": [
       "200"
      ]
     },
     "execution_count": 24,
     "metadata": {},
     "output_type": "execute_result"
    }
   ],
   "source": [
    "nums[1]"
   ]
  },
  {
   "cell_type": "code",
   "execution_count": 25,
   "id": "452abd38",
   "metadata": {},
   "outputs": [
    {
     "data": {
      "text/plain": [
       "0     100.0\n",
       "1       NaN\n",
       "2     300.0\n",
       "3     400.0\n",
       "4     500.0\n",
       "5     600.0\n",
       "6     700.0\n",
       "7     800.0\n",
       "8     900.0\n",
       "9    1000.0\n",
       "dtype: float64"
      ]
     },
     "execution_count": 25,
     "metadata": {},
     "output_type": "execute_result"
    }
   ],
   "source": [
    "nums[1] = np.nan\n",
    "nums\n",
    "# 위에서 nums[1]를 해서 200이 빠져서 지금 200이 Nan이 된 것"
   ]
  },
  {
   "cell_type": "code",
   "execution_count": 26,
   "id": "90f434f8",
   "metadata": {},
   "outputs": [
    {
     "name": "stdout",
     "output_type": "stream",
     "text": [
      "9\n",
      "5300.0\n"
     ]
    }
   ],
   "source": [
    "print(nums.count())\n",
    "print(nums.sum())\n",
    "# 위에서 10/5500이었는데 지금은 200이 빠진 값으로 나온다\n",
    "# NaN 는 추가가 안되는걸 확인"
   ]
  },
  {
   "cell_type": "code",
   "execution_count": 31,
   "id": "eed72342",
   "metadata": {},
   "outputs": [
    {
     "name": "stdout",
     "output_type": "stream",
     "text": [
      "누적합 : |n0     100.0\n",
      "1       NaN\n",
      "2     400.0\n",
      "3     800.0\n",
      "4    1300.0\n",
      "5    1900.0\n",
      "6    2600.0\n",
      "7    3400.0\n",
      "8    4300.0\n",
      "9    5300.0\n",
      "dtype: float64\n",
      "평균 : 588.8888888888889\n",
      "중위값 : 600.0\n",
      "표준편차 : 293.4469476943168\n",
      "max : 1000.0 / min : 100.0\n",
      "describe : |ncount       9.000000\n",
      "mean      588.888889\n",
      "std       293.446948\n",
      "min       100.000000\n",
      "25%       400.000000\n",
      "50%       600.000000\n",
      "75%       800.000000\n",
      "max      1000.000000\n",
      "dtype: float64\n"
     ]
    }
   ],
   "source": [
    "print(f\"누적합 : |n{nums.cumsum()}\")\n",
    "print(f\"평균 : {nums.mean()}\")\n",
    "print(f\"중위값 : {nums.median()}\")\n",
    "print(f\"표준편차 : {nums.std()}\")\n",
    "print(f\"max : {nums.max()} / min : {nums.min()}\")\n",
    "print(f\"describe : |n{nums.describe()}\")\n",
    "# 평균 구할 때 nan을 미포함  평균을 나눌 때 숫자가 아닌걸로 나눌 수 없으니까"
   ]
  },
  {
   "cell_type": "code",
   "execution_count": 32,
   "id": "6daf3da5",
   "metadata": {},
   "outputs": [
    {
     "data": {
      "text/plain": [
       "nan"
      ]
     },
     "execution_count": 32,
     "metadata": {},
     "output_type": "execute_result"
    }
   ],
   "source": [
    "nums.sum(skipna=False)\n",
    "# 이건 nan을 포함한 값인데 만약 nan을 포함해버리면 이는 더이상 숫자가 아니게 되는 것."
   ]
  },
  {
   "cell_type": "code",
   "execution_count": 33,
   "id": "732acdda",
   "metadata": {},
   "outputs": [
    {
     "data": {
      "text/plain": [
       "1000회     [12, 2, 8, 22, 42, 32, 39]\n",
       "1001회    [6, 10, 12, 14, 20, 42, 15]\n",
       "dtype: object"
      ]
     },
     "execution_count": 33,
     "metadata": {},
     "output_type": "execute_result"
    }
   ],
   "source": [
    "num_list = [\n",
    "    [12, 2, 8, 22, 42, 32, 39],\n",
    "    [6, 10, 12, 14, 20, 42, 15]\n",
    "]\n",
    "lotto_list = pd.Series(num_list, index=[\"1000회\", \"1001회\"])\n",
    "lotto_list"
   ]
  },
  {
   "cell_type": "code",
   "execution_count": 35,
   "id": "a2b134a6",
   "metadata": {},
   "outputs": [
    {
     "data": {
      "text/plain": [
       "1000회     [19, 2, 8, 22, 42, 32, 39]\n",
       "1001회    [6, 10, 12, 14, 20, 42, 15]\n",
       "dtype: object"
      ]
     },
     "execution_count": 35,
     "metadata": {},
     "output_type": "execute_result"
    }
   ],
   "source": [
    "num_dict = {\"1000회\" : [19, 2, 8, 22, 42, 32, 39],\n",
    "           \"1001회\" : [6, 10, 12, 14 ,20, 42, 15]}\n",
    "lotto_dict = pd.Series(num_dict)\n",
    "lotto_dict\n",
    "# Series = index : value 형태로 가능"
   ]
  },
  {
   "cell_type": "code",
   "execution_count": 38,
   "id": "d1f90fa5",
   "metadata": {},
   "outputs": [
    {
     "data": {
      "text/plain": [
       "0    CaptainAerica\n",
       "1             Thor\n",
       "2             Hulk\n",
       "3          IronMan\n",
       "4       BlackWidow\n",
       "5          Hawkeye\n",
       "6             Hulk\n",
       "dtype: object"
      ]
     },
     "execution_count": 38,
     "metadata": {},
     "output_type": "execute_result"
    }
   ],
   "source": [
    "heroes = [\"CaptainAerica\", \"Thor\", \"Hulk\", \"IronMan\", \"BlackWidow\", \"Hawkeye\", \"Hulk\"]\n",
    "avengers = pd.Series(heroes)\n",
    "avengers"
   ]
  },
  {
   "cell_type": "code",
   "execution_count": 40,
   "id": "34f467b9",
   "metadata": {},
   "outputs": [
    {
     "data": {
      "text/plain": [
       "False"
      ]
     },
     "execution_count": 40,
     "metadata": {},
     "output_type": "execute_result"
    }
   ],
   "source": [
    "avengers.is_unique\n",
    "# 겹치는 애가 있어서 unique하지 않아"
   ]
  },
  {
   "cell_type": "code",
   "execution_count": 41,
   "id": "61c26c82",
   "metadata": {},
   "outputs": [
    {
     "data": {
      "text/plain": [
       "array(['CaptainAerica', 'Thor', 'Hulk', 'IronMan', 'BlackWidow',\n",
       "       'Hawkeye'], dtype=object)"
      ]
     },
     "execution_count": 41,
     "metadata": {},
     "output_type": "execute_result"
    }
   ],
   "source": [
    "avengers.unique()\n",
    "# 형태가 numpy.ndarray 일 것 같은데?"
   ]
  },
  {
   "cell_type": "code",
   "execution_count": 43,
   "id": "040130d4",
   "metadata": {},
   "outputs": [
    {
     "data": {
      "text/plain": [
       "numpy.ndarray"
      ]
     },
     "execution_count": 43,
     "metadata": {},
     "output_type": "execute_result"
    }
   ],
   "source": [
    "# 찍어보자\n",
    "type(avengers.unique())"
   ]
  },
  {
   "cell_type": "code",
   "execution_count": 44,
   "id": "7c92d737",
   "metadata": {},
   "outputs": [
    {
     "data": {
      "text/plain": [
       "'BlackWidow'"
      ]
     },
     "execution_count": 44,
     "metadata": {},
     "output_type": "execute_result"
    }
   ],
   "source": [
    "avengers.min()\n",
    "# abc 순서 askll 순서로 정렬"
   ]
  },
  {
   "cell_type": "code",
   "execution_count": 45,
   "id": "eacb49a7",
   "metadata": {},
   "outputs": [
    {
     "data": {
      "text/plain": [
       "'Thor'"
      ]
     },
     "execution_count": 45,
     "metadata": {},
     "output_type": "execute_result"
    }
   ],
   "source": [
    "avengers.max()\n",
    "# abc 순서 askll 순서로 정렬"
   ]
  },
  {
   "cell_type": "code",
   "execution_count": 46,
   "id": "80f16c7b",
   "metadata": {},
   "outputs": [
    {
     "data": {
      "text/plain": [
       "4       BlackWidow\n",
       "0    CaptainAerica\n",
       "5          Hawkeye\n",
       "2             Hulk\n",
       "6             Hulk\n",
       "3          IronMan\n",
       "1             Thor\n",
       "dtype: object"
      ]
     },
     "execution_count": 46,
     "metadata": {},
     "output_type": "execute_result"
    }
   ],
   "source": [
    "avengers.sort_values()"
   ]
  },
  {
   "cell_type": "code",
   "execution_count": 47,
   "id": "f1fd6fc8",
   "metadata": {},
   "outputs": [
    {
     "data": {
      "text/plain": [
       "['CaptainAerica', 'Thor', 'Hulk', 'IronMan', 'BlackWidow', 'Hawkeye', 'Hulk']"
      ]
     },
     "execution_count": 47,
     "metadata": {},
     "output_type": "execute_result"
    }
   ],
   "source": [
    "list(avengers)"
   ]
  },
  {
   "cell_type": "code",
   "execution_count": 48,
   "id": "52e0dfae",
   "metadata": {},
   "outputs": [
    {
     "data": {
      "text/plain": [
       "{0: 'CaptainAerica',\n",
       " 1: 'Thor',\n",
       " 2: 'Hulk',\n",
       " 3: 'IronMan',\n",
       " 4: 'BlackWidow',\n",
       " 5: 'Hawkeye',\n",
       " 6: 'Hulk'}"
      ]
     },
     "execution_count": 48,
     "metadata": {},
     "output_type": "execute_result"
    }
   ],
   "source": [
    "dict(avengers)"
   ]
  },
  {
   "cell_type": "code",
   "execution_count": 49,
   "id": "4e6b527d",
   "metadata": {},
   "outputs": [
    {
     "data": {
      "text/plain": [
       "False"
      ]
     },
     "execution_count": 49,
     "metadata": {},
     "output_type": "execute_result"
    }
   ],
   "source": [
    "\"Hawkeye\" in avengers\n",
    "# 인덱스가 키 값으로 잡혀있어서 False로 나온다\n",
    "# 두 개가 하나로 묶여있다가 dict으로 index:value로 만들어졌다.\n",
    "# 시리즈를 딕셔너리로 바꿀 수도 있다.\n",
    "# 그러면 값으로 찾는게 아니라 인덱스로 찾는거야\n",
    "# 인덱스에서 찾을 때 맞는 걸 찾아주는구나\n",
    "# 그러면 값으로 찾고 싶으면 어떻게 해야할까? ==> 찾아보기"
   ]
  },
  {
   "cell_type": "code",
   "execution_count": 50,
   "id": "00ea12b9",
   "metadata": {},
   "outputs": [
    {
     "data": {
      "text/plain": [
       "True"
      ]
     },
     "execution_count": 50,
     "metadata": {},
     "output_type": "execute_result"
    }
   ],
   "source": [
    "5 in avengers"
   ]
  },
  {
   "cell_type": "code",
   "execution_count": 51,
   "id": "c9b966ca",
   "metadata": {},
   "outputs": [
    {
     "name": "stdout",
     "output_type": "stream",
     "text": [
      "0    1\n",
      "1    2\n",
      "2    3\n",
      "3    4\n",
      "4    5\n",
      "dtype: int64\n",
      "0    1\n",
      "1    3\n",
      "2    5\n",
      "3    7\n",
      "4    9\n",
      "dtype: int64\n"
     ]
    }
   ],
   "source": [
    "series01 = pd.Series([1, 2, 3, 4, 5])\n",
    "series02 = pd.Series([1, 3, 5, 7, 9])\n",
    "print(series01)\n",
    "print(series02)"
   ]
  },
  {
   "cell_type": "code",
   "execution_count": 52,
   "id": "332d4224",
   "metadata": {},
   "outputs": [
    {
     "data": {
      "text/plain": [
       "0     6\n",
       "1     7\n",
       "2     8\n",
       "3     9\n",
       "4    10\n",
       "dtype: int64"
      ]
     },
     "execution_count": 52,
     "metadata": {},
     "output_type": "execute_result"
    }
   ],
   "source": [
    "series01+5"
   ]
  },
  {
   "cell_type": "code",
   "execution_count": 53,
   "id": "8c1cf400",
   "metadata": {},
   "outputs": [
    {
     "data": {
      "text/plain": [
       "0     6\n",
       "1     7\n",
       "2     8\n",
       "3     9\n",
       "4    10\n",
       "dtype: int64"
      ]
     },
     "execution_count": 53,
     "metadata": {},
     "output_type": "execute_result"
    }
   ],
   "source": [
    "series01.add(5)"
   ]
  },
  {
   "cell_type": "code",
   "execution_count": 54,
   "id": "abedf68c",
   "metadata": {},
   "outputs": [
    {
     "data": {
      "text/plain": [
       "0   -4\n",
       "1   -3\n",
       "2   -2\n",
       "3   -1\n",
       "4    0\n",
       "dtype: int64"
      ]
     },
     "execution_count": 54,
     "metadata": {},
     "output_type": "execute_result"
    }
   ],
   "source": [
    "series01 -5"
   ]
  },
  {
   "cell_type": "code",
   "execution_count": 55,
   "id": "2f18b484",
   "metadata": {},
   "outputs": [
    {
     "data": {
      "text/plain": [
       "0   -4\n",
       "1   -3\n",
       "2   -2\n",
       "3   -1\n",
       "4    0\n",
       "dtype: int64"
      ]
     },
     "execution_count": 55,
     "metadata": {},
     "output_type": "execute_result"
    }
   ],
   "source": [
    "series01.sub(5)"
   ]
  },
  {
   "cell_type": "code",
   "execution_count": 56,
   "id": "bbbc1343",
   "metadata": {},
   "outputs": [
    {
     "data": {
      "text/plain": [
       "0   -4\n",
       "1   -3\n",
       "2   -2\n",
       "3   -1\n",
       "4    0\n",
       "dtype: int64"
      ]
     },
     "execution_count": 56,
     "metadata": {},
     "output_type": "execute_result"
    }
   ],
   "source": [
    "series01.subtract(5)"
   ]
  },
  {
   "cell_type": "code",
   "execution_count": 57,
   "id": "73a84204",
   "metadata": {},
   "outputs": [
    {
     "data": {
      "text/plain": [
       "0     True\n",
       "1    False\n",
       "2    False\n",
       "3    False\n",
       "4    False\n",
       "dtype: bool"
      ]
     },
     "execution_count": 57,
     "metadata": {},
     "output_type": "execute_result"
    }
   ],
   "source": [
    "series01 == series02\n",
    "# index별로 비교해서 다시 series로 나온다.\n",
    "# 닽은 인덱스여야 가능하다."
   ]
  },
  {
   "cell_type": "code",
   "execution_count": 59,
   "id": "31cbdc37",
   "metadata": {},
   "outputs": [
    {
     "name": "stdout",
     "output_type": "stream",
     "text": [
      "0    False\n",
      "1     True\n",
      "2     True\n",
      "3     True\n",
      "4     True\n",
      "dtype: bool\n",
      "0    False\n",
      "1     True\n",
      "2     True\n",
      "3     True\n",
      "4     True\n",
      "dtype: bool\n"
     ]
    }
   ],
   "source": [
    "print(series01 != series02)\n",
    "print(series01.ne(series02))"
   ]
  },
  {
   "cell_type": "code",
   "execution_count": 60,
   "id": "1a27cdd6",
   "metadata": {},
   "outputs": [
    {
     "name": "stdout",
     "output_type": "stream",
     "text": [
      "a    1\n",
      "b    2\n",
      "c    3\n",
      "d    4\n",
      "e    5\n",
      "dtype: int64\n",
      "c     6\n",
      "d     7\n",
      "e     8\n",
      "f     9\n",
      "g    10\n",
      "dtype: int64\n"
     ]
    }
   ],
   "source": [
    "series03 = pd.Series([1, 2, 3, 4, 5], index=[\"a\", \"b\", \"c\", \"d\", \"e\"])\n",
    "series04 = pd.Series([6, 7, 8, 9, 10], index=[\"c\", \"d\", \"e\", \"f\", \"g\"])\n",
    "print(series03)\n",
    "print(series04)"
   ]
  },
  {
   "cell_type": "code",
   "execution_count": 61,
   "id": "f8011e88",
   "metadata": {},
   "outputs": [
    {
     "data": {
      "text/plain": [
       "a     NaN\n",
       "b     NaN\n",
       "c     9.0\n",
       "d    11.0\n",
       "e    13.0\n",
       "f     NaN\n",
       "g     NaN\n",
       "dtype: float64"
      ]
     },
     "execution_count": 61,
     "metadata": {},
     "output_type": "execute_result"
    }
   ],
   "source": [
    "series03 + series04\n",
    "# 왜 이렇게 나올까? => 인덱스끼리 더해주는구나 \n",
    "# 덧셈도 비교도 인덱스끼리해준다.  \n",
    "# 이 때 같은 인덱스끼리 하고 그렇지 않은 인덱스는 NaN으로 치환한다."
   ]
  },
  {
   "cell_type": "code",
   "execution_count": null,
   "id": "82e3f305",
   "metadata": {},
   "outputs": [],
   "source": []
  }
 ],
 "metadata": {
  "kernelspec": {
   "display_name": "Python 3 (ipykernel)",
   "language": "python",
   "name": "python3"
  },
  "language_info": {
   "codemirror_mode": {
    "name": "ipython",
    "version": 3
   },
   "file_extension": ".py",
   "mimetype": "text/x-python",
   "name": "python",
   "nbconvert_exporter": "python",
   "pygments_lexer": "ipython3",
   "version": "3.10.11"
  }
 },
 "nbformat": 4,
 "nbformat_minor": 5
}
