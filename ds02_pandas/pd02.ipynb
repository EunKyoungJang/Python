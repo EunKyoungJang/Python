{
 "cells": [
  {
   "cell_type": "code",
   "execution_count": 1,
   "id": "d16d4689",
   "metadata": {},
   "outputs": [],
   "source": [
    "from IPython.core.interactiveshell import InteractiveShell\n",
    "InteractiveShell.ast_node_interactivity=\"all\""
   ]
  },
  {
   "cell_type": "code",
   "execution_count": 2,
   "id": "88e1d681",
   "metadata": {},
   "outputs": [],
   "source": [
    "import numpy as np\n",
    "import pandas as pd"
   ]
  },
  {
   "cell_type": "code",
   "execution_count": 3,
   "id": "2cf6aaba",
   "metadata": {},
   "outputs": [
    {
     "data": {
      "text/plain": [
       "array([[ 3,  3, 79],\n",
       "       [38, 71, 77],\n",
       "       [50, 42, 86]])"
      ]
     },
     "execution_count": 3,
     "metadata": {},
     "output_type": "execute_result"
    }
   ],
   "source": [
    "random_num = np. random.randint(1, 101, [3, 3])\n",
    "random_num"
   ]
  },
  {
   "cell_type": "code",
   "execution_count": 4,
   "id": "ef8266d7",
   "metadata": {},
   "outputs": [
    {
     "data": {
      "text/html": [
       "<div>\n",
       "<style scoped>\n",
       "    .dataframe tbody tr th:only-of-type {\n",
       "        vertical-align: middle;\n",
       "    }\n",
       "\n",
       "    .dataframe tbody tr th {\n",
       "        vertical-align: top;\n",
       "    }\n",
       "\n",
       "    .dataframe thead th {\n",
       "        text-align: right;\n",
       "    }\n",
       "</style>\n",
       "<table border=\"1\" class=\"dataframe\">\n",
       "  <thead>\n",
       "    <tr style=\"text-align: right;\">\n",
       "      <th></th>\n",
       "      <th>0</th>\n",
       "      <th>1</th>\n",
       "      <th>2</th>\n",
       "    </tr>\n",
       "  </thead>\n",
       "  <tbody>\n",
       "    <tr>\n",
       "      <th>0</th>\n",
       "      <td>3</td>\n",
       "      <td>3</td>\n",
       "      <td>79</td>\n",
       "    </tr>\n",
       "    <tr>\n",
       "      <th>1</th>\n",
       "      <td>38</td>\n",
       "      <td>71</td>\n",
       "      <td>77</td>\n",
       "    </tr>\n",
       "    <tr>\n",
       "      <th>2</th>\n",
       "      <td>50</td>\n",
       "      <td>42</td>\n",
       "      <td>86</td>\n",
       "    </tr>\n",
       "  </tbody>\n",
       "</table>\n",
       "</div>"
      ],
      "text/plain": [
       "    0   1   2\n",
       "0   3   3  79\n",
       "1  38  71  77\n",
       "2  50  42  86"
      ]
     },
     "execution_count": 4,
     "metadata": {},
     "output_type": "execute_result"
    }
   ],
   "source": [
    "df_num = pd.DataFrame(random_num)\n",
    "df_num\n",
    "# DataFrame  표와 같이 row, culom 생성"
   ]
  },
  {
   "cell_type": "code",
   "execution_count": 5,
   "id": "63a5d75c",
   "metadata": {},
   "outputs": [
    {
     "data": {
      "text/html": [
       "<div>\n",
       "<style scoped>\n",
       "    .dataframe tbody tr th:only-of-type {\n",
       "        vertical-align: middle;\n",
       "    }\n",
       "\n",
       "    .dataframe tbody tr th {\n",
       "        vertical-align: top;\n",
       "    }\n",
       "\n",
       "    .dataframe thead th {\n",
       "        text-align: right;\n",
       "    }\n",
       "</style>\n",
       "<table border=\"1\" class=\"dataframe\">\n",
       "  <thead>\n",
       "    <tr style=\"text-align: right;\">\n",
       "      <th></th>\n",
       "      <th>0</th>\n",
       "      <th>1</th>\n",
       "      <th>2</th>\n",
       "    </tr>\n",
       "  </thead>\n",
       "  <tbody>\n",
       "    <tr>\n",
       "      <th>row1</th>\n",
       "      <td>3</td>\n",
       "      <td>3</td>\n",
       "      <td>79</td>\n",
       "    </tr>\n",
       "    <tr>\n",
       "      <th>row2</th>\n",
       "      <td>38</td>\n",
       "      <td>71</td>\n",
       "      <td>77</td>\n",
       "    </tr>\n",
       "    <tr>\n",
       "      <th>row3</th>\n",
       "      <td>50</td>\n",
       "      <td>42</td>\n",
       "      <td>86</td>\n",
       "    </tr>\n",
       "  </tbody>\n",
       "</table>\n",
       "</div>"
      ],
      "text/plain": [
       "       0   1   2\n",
       "row1   3   3  79\n",
       "row2  38  71  77\n",
       "row3  50  42  86"
      ]
     },
     "execution_count": 5,
     "metadata": {},
     "output_type": "execute_result"
    }
   ],
   "source": [
    "df_num = pd.DataFrame(random_num, index=[\"row1\", \"row2\", \"row3\"])\n",
    "df_num"
   ]
  },
  {
   "cell_type": "code",
   "execution_count": 8,
   "id": "c0200710",
   "metadata": {},
   "outputs": [
    {
     "data": {
      "text/html": [
       "<div>\n",
       "<style scoped>\n",
       "    .dataframe tbody tr th:only-of-type {\n",
       "        vertical-align: middle;\n",
       "    }\n",
       "\n",
       "    .dataframe tbody tr th {\n",
       "        vertical-align: top;\n",
       "    }\n",
       "\n",
       "    .dataframe thead th {\n",
       "        text-align: right;\n",
       "    }\n",
       "</style>\n",
       "<table border=\"1\" class=\"dataframe\">\n",
       "  <thead>\n",
       "    <tr style=\"text-align: right;\">\n",
       "      <th></th>\n",
       "      <th>col1</th>\n",
       "      <th>col2</th>\n",
       "      <th>col3</th>\n",
       "    </tr>\n",
       "  </thead>\n",
       "  <tbody>\n",
       "    <tr>\n",
       "      <th>row1</th>\n",
       "      <td>3</td>\n",
       "      <td>3</td>\n",
       "      <td>79</td>\n",
       "    </tr>\n",
       "    <tr>\n",
       "      <th>row2</th>\n",
       "      <td>38</td>\n",
       "      <td>71</td>\n",
       "      <td>77</td>\n",
       "    </tr>\n",
       "    <tr>\n",
       "      <th>row3</th>\n",
       "      <td>50</td>\n",
       "      <td>42</td>\n",
       "      <td>86</td>\n",
       "    </tr>\n",
       "  </tbody>\n",
       "</table>\n",
       "</div>"
      ],
      "text/plain": [
       "      col1  col2  col3\n",
       "row1     3     3    79\n",
       "row2    38    71    77\n",
       "row3    50    42    86"
      ]
     },
     "execution_count": 8,
     "metadata": {},
     "output_type": "execute_result"
    }
   ],
   "source": [
    "df_num = pd.DataFrame(random_num, \n",
    "                      index=[\"row1\", \"row2\", \"row3\"],\n",
    "                     columns=[\"col1\", \"col2\", \"col3\"])\n",
    "df_num\n",
    "# 얘네가 사실은 인덱스구나  rows랑 col"
   ]
  },
  {
   "cell_type": "code",
   "execution_count": 10,
   "id": "3f5f3b2e",
   "metadata": {},
   "outputs": [
    {
     "data": {
      "text/plain": [
       "{'title': ['개미', '고구려', '드래곤라자', '퇴마록'],\n",
       " 'writer': ['베르나르베르베르', '김진명', '이영도', '이우혁'],\n",
       " 'publisher': ['열린책들', '이타북스', '황금가지', '들녘'],\n",
       " '1st-edition': ['2013-05-30', '2011-02-28', '1998-05-30', '1994-01-01'],\n",
       " 'price': [15800, 15800, 6300, 8550]}"
      ]
     },
     "execution_count": 10,
     "metadata": {},
     "output_type": "execute_result"
    }
   ],
   "source": [
    "books = {\"title\":[\"개미\", \"고구려\", \"드래곤라자\", \"퇴마록\"],\n",
    "        \"writer\":[\"베르나르베르베르\", \"김진명\", \"이영도\", \"이우혁\"],\n",
    "        \"publisher\":[\"열린책들\", \"이타북스\", \"황금가지\", \"들녘\"],\n",
    "        \"1st-edition\":[\"2013-05-30\", \"2011-02-28\", \"1998-05-30\", \"1994-01-01\"],\n",
    "        \"price\": [15800, 15800, 6300, 8550]}\n",
    "books"
   ]
  },
  {
   "cell_type": "code",
   "execution_count": 12,
   "id": "6479aa6f",
   "metadata": {},
   "outputs": [
    {
     "data": {
      "text/html": [
       "<div>\n",
       "<style scoped>\n",
       "    .dataframe tbody tr th:only-of-type {\n",
       "        vertical-align: middle;\n",
       "    }\n",
       "\n",
       "    .dataframe tbody tr th {\n",
       "        vertical-align: top;\n",
       "    }\n",
       "\n",
       "    .dataframe thead th {\n",
       "        text-align: right;\n",
       "    }\n",
       "</style>\n",
       "<table border=\"1\" class=\"dataframe\">\n",
       "  <thead>\n",
       "    <tr style=\"text-align: right;\">\n",
       "      <th></th>\n",
       "      <th>title</th>\n",
       "      <th>writer</th>\n",
       "      <th>publisher</th>\n",
       "      <th>1st-edition</th>\n",
       "      <th>price</th>\n",
       "    </tr>\n",
       "  </thead>\n",
       "  <tbody>\n",
       "    <tr>\n",
       "      <th>0</th>\n",
       "      <td>개미</td>\n",
       "      <td>베르나르베르베르</td>\n",
       "      <td>열린책들</td>\n",
       "      <td>2013-05-30</td>\n",
       "      <td>15800</td>\n",
       "    </tr>\n",
       "    <tr>\n",
       "      <th>1</th>\n",
       "      <td>고구려</td>\n",
       "      <td>김진명</td>\n",
       "      <td>이타북스</td>\n",
       "      <td>2011-02-28</td>\n",
       "      <td>15800</td>\n",
       "    </tr>\n",
       "    <tr>\n",
       "      <th>2</th>\n",
       "      <td>드래곤라자</td>\n",
       "      <td>이영도</td>\n",
       "      <td>황금가지</td>\n",
       "      <td>1998-05-30</td>\n",
       "      <td>6300</td>\n",
       "    </tr>\n",
       "    <tr>\n",
       "      <th>3</th>\n",
       "      <td>퇴마록</td>\n",
       "      <td>이우혁</td>\n",
       "      <td>들녘</td>\n",
       "      <td>1994-01-01</td>\n",
       "      <td>8550</td>\n",
       "    </tr>\n",
       "  </tbody>\n",
       "</table>\n",
       "</div>"
      ],
      "text/plain": [
       "   title    writer publisher 1st-edition  price\n",
       "0     개미  베르나르베르베르      열린책들  2013-05-30  15800\n",
       "1    고구려       김진명      이타북스  2011-02-28  15800\n",
       "2  드래곤라자       이영도      황금가지  1998-05-30   6300\n",
       "3    퇴마록       이우혁        들녘  1994-01-01   8550"
      ]
     },
     "execution_count": 12,
     "metadata": {},
     "output_type": "execute_result"
    }
   ],
   "source": [
    "df_books = pd.DataFrame(books)\n",
    "df_books"
   ]
  },
  {
   "cell_type": "code",
   "execution_count": 13,
   "id": "9f04d2df",
   "metadata": {},
   "outputs": [
    {
     "data": {
      "text/plain": [
       "RangeIndex(start=0, stop=4, step=1)"
      ]
     },
     "execution_count": 13,
     "metadata": {},
     "output_type": "execute_result"
    },
    {
     "data": {
      "text/plain": [
       "Index(['title', 'writer', 'publisher', '1st-edition', 'price'], dtype='object')"
      ]
     },
     "execution_count": 13,
     "metadata": {},
     "output_type": "execute_result"
    },
    {
     "data": {
      "text/plain": [
       "(4, 5)"
      ]
     },
     "execution_count": 13,
     "metadata": {},
     "output_type": "execute_result"
    },
    {
     "data": {
      "text/plain": [
       "20"
      ]
     },
     "execution_count": 13,
     "metadata": {},
     "output_type": "execute_result"
    },
    {
     "data": {
      "text/plain": [
       "title          object\n",
       "writer         object\n",
       "publisher      object\n",
       "1st-edition    object\n",
       "price           int64\n",
       "dtype: object"
      ]
     },
     "execution_count": 13,
     "metadata": {},
     "output_type": "execute_result"
    },
    {
     "data": {
      "text/plain": [
       "title          4\n",
       "writer         4\n",
       "publisher      4\n",
       "1st-edition    4\n",
       "price          4\n",
       "dtype: int64"
      ]
     },
     "execution_count": 13,
     "metadata": {},
     "output_type": "execute_result"
    }
   ],
   "source": [
    "df_books.index\n",
    "df_books.columns\n",
    "df_books.shape  #4, 5  행렬\n",
    "df_books.size\n",
    "df_books.dtypes  # 어제 ndarray는 문자가 있으면 나머지도 다 문자로 바꿨는데 지금은 아니네? price\n",
    "df_books.count()"
   ]
  },
  {
   "cell_type": "code",
   "execution_count": 16,
   "id": "ba50aa6b",
   "metadata": {},
   "outputs": [
    {
     "data": {
      "text/plain": [
       "<bound method DataFrame.info of    title    writer publisher 1st-edition  price\n",
       "0     개미  베르나르베르베르      열린책들  2013-05-30  15800\n",
       "1    고구려       김진명      이타북스  2011-02-28  15800\n",
       "2  드래곤라자       이영도      황금가지  1998-05-30   6300\n",
       "3    퇴마록       이우혁        들녘  1994-01-01   8550>"
      ]
     },
     "execution_count": 16,
     "metadata": {},
     "output_type": "execute_result"
    },
    {
     "data": {
      "text/plain": [
       "method"
      ]
     },
     "execution_count": 16,
     "metadata": {},
     "output_type": "execute_result"
    }
   ],
   "source": [
    "df_books.info\n",
    "type(df_books.info)"
   ]
  },
  {
   "cell_type": "code",
   "execution_count": 17,
   "id": "4ff20a74",
   "metadata": {},
   "outputs": [
    {
     "name": "stdout",
     "output_type": "stream",
     "text": [
      "<class 'pandas.core.frame.DataFrame'>\n",
      "RangeIndex: 4 entries, 0 to 3\n",
      "Data columns (total 5 columns):\n",
      " #   Column       Non-Null Count  Dtype \n",
      "---  ------       --------------  ----- \n",
      " 0   title        4 non-null      object\n",
      " 1   writer       4 non-null      object\n",
      " 2   publisher    4 non-null      object\n",
      " 3   1st-edition  4 non-null      object\n",
      " 4   price        4 non-null      int64 \n",
      "dtypes: int64(1), object(4)\n",
      "memory usage: 288.0+ bytes\n",
      "<class 'pandas.core.frame.DataFrame'>\n",
      "RangeIndex: 4 entries, 0 to 3\n",
      "Data columns (total 5 columns):\n",
      " #   Column       Non-Null Count  Dtype \n",
      "---  ------       --------------  ----- \n",
      " 0   title        4 non-null      object\n",
      " 1   writer       4 non-null      object\n",
      " 2   publisher    4 non-null      object\n",
      " 3   1st-edition  4 non-null      object\n",
      " 4   price        4 non-null      int64 \n",
      "dtypes: int64(1), object(4)\n",
      "memory usage: 288.0+ bytes\n"
     ]
    },
    {
     "data": {
      "text/plain": [
       "NoneType"
      ]
     },
     "execution_count": 17,
     "metadata": {},
     "output_type": "execute_result"
    }
   ],
   "source": [
    "df_books.info()\n",
    "type(df_books.info())\n",
    "# ()는 무슨 차이일까?  df_books.info은 함수 만들어 놓은거고 df_books.info()는 함수 실행하는 것"
   ]
  },
  {
   "cell_type": "code",
   "execution_count": 19,
   "id": "37b4dfd0",
   "metadata": {},
   "outputs": [
    {
     "data": {
      "text/plain": [
       "0       개미\n",
       "1      고구려\n",
       "2    드래곤라자\n",
       "3      퇴마록\n",
       "Name: title, dtype: object"
      ]
     },
     "execution_count": 19,
     "metadata": {},
     "output_type": "execute_result"
    },
    {
     "data": {
      "text/plain": [
       "pandas.core.series.Series"
      ]
     },
     "execution_count": 19,
     "metadata": {},
     "output_type": "execute_result"
    }
   ],
   "source": [
    "df_books[\"title\"]\n",
    "type(df_books[\"title\"])\n",
    "#  series type이네?  데이터는 시리즈가 여러개 포함되어있다 라고 생각하면 된다 했는데\n",
    "# DataFrane 자체가 시리즈인가?  반대인가? 시리즈가 여러개인게 DataFrane인가?"
   ]
  },
  {
   "cell_type": "code",
   "execution_count": 20,
   "id": "c93176c8",
   "metadata": {},
   "outputs": [
    {
     "data": {
      "text/plain": [
       "'드래곤라자'"
      ]
     },
     "execution_count": 20,
     "metadata": {},
     "output_type": "execute_result"
    }
   ],
   "source": [
    "# 내가 원하는걸 가져오려면 어떻게 해야할까? 인덱스로 가져오면 된다.\n",
    "df_books[\"title\"][2]"
   ]
  },
  {
   "cell_type": "code",
   "execution_count": 21,
   "id": "3eb3e4df",
   "metadata": {},
   "outputs": [
    {
     "data": {
      "text/plain": [
       "15800"
      ]
     },
     "execution_count": 21,
     "metadata": {},
     "output_type": "execute_result"
    }
   ],
   "source": [
    "df_books[\"price\"].max()"
   ]
  },
  {
   "cell_type": "code",
   "execution_count": 22,
   "id": "97fa1f0a",
   "metadata": {},
   "outputs": [
    {
     "data": {
      "text/plain": [
       "2     6300\n",
       "3     8550\n",
       "0    15800\n",
       "1    15800\n",
       "Name: price, dtype: int64"
      ]
     },
     "execution_count": 22,
     "metadata": {},
     "output_type": "execute_result"
    }
   ],
   "source": [
    "df_books[\"price\"].sort_values()\n",
    "# .sort_values 낮은값부터 높은 값으로 출력하고 싶을 때"
   ]
  },
  {
   "cell_type": "code",
   "execution_count": 23,
   "id": "9610fa14",
   "metadata": {},
   "outputs": [
    {
     "data": {
      "text/html": [
       "<div>\n",
       "<style scoped>\n",
       "    .dataframe tbody tr th:only-of-type {\n",
       "        vertical-align: middle;\n",
       "    }\n",
       "\n",
       "    .dataframe tbody tr th {\n",
       "        vertical-align: top;\n",
       "    }\n",
       "\n",
       "    .dataframe thead th {\n",
       "        text-align: right;\n",
       "    }\n",
       "</style>\n",
       "<table border=\"1\" class=\"dataframe\">\n",
       "  <thead>\n",
       "    <tr style=\"text-align: right;\">\n",
       "      <th></th>\n",
       "      <th>title</th>\n",
       "      <th>writer</th>\n",
       "      <th>publisher</th>\n",
       "      <th>1st-edition</th>\n",
       "      <th>price</th>\n",
       "    </tr>\n",
       "  </thead>\n",
       "  <tbody>\n",
       "    <tr>\n",
       "      <th>2</th>\n",
       "      <td>드래곤라자</td>\n",
       "      <td>이영도</td>\n",
       "      <td>황금가지</td>\n",
       "      <td>1998-05-30</td>\n",
       "      <td>6300</td>\n",
       "    </tr>\n",
       "    <tr>\n",
       "      <th>3</th>\n",
       "      <td>퇴마록</td>\n",
       "      <td>이우혁</td>\n",
       "      <td>들녘</td>\n",
       "      <td>1994-01-01</td>\n",
       "      <td>8550</td>\n",
       "    </tr>\n",
       "    <tr>\n",
       "      <th>0</th>\n",
       "      <td>개미</td>\n",
       "      <td>베르나르베르베르</td>\n",
       "      <td>열린책들</td>\n",
       "      <td>2013-05-30</td>\n",
       "      <td>15800</td>\n",
       "    </tr>\n",
       "    <tr>\n",
       "      <th>1</th>\n",
       "      <td>고구려</td>\n",
       "      <td>김진명</td>\n",
       "      <td>이타북스</td>\n",
       "      <td>2011-02-28</td>\n",
       "      <td>15800</td>\n",
       "    </tr>\n",
       "  </tbody>\n",
       "</table>\n",
       "</div>"
      ],
      "text/plain": [
       "   title    writer publisher 1st-edition  price\n",
       "2  드래곤라자       이영도      황금가지  1998-05-30   6300\n",
       "3    퇴마록       이우혁        들녘  1994-01-01   8550\n",
       "0     개미  베르나르베르베르      열린책들  2013-05-30  15800\n",
       "1    고구려       김진명      이타북스  2011-02-28  15800"
      ]
     },
     "execution_count": 23,
     "metadata": {},
     "output_type": "execute_result"
    }
   ],
   "source": [
    "# 가격을 기준으로 정렬하기\n",
    "df_books.sort_values(by=\"price\")"
   ]
  },
  {
   "cell_type": "code",
   "execution_count": 24,
   "id": "292b8ad2",
   "metadata": {},
   "outputs": [
    {
     "data": {
      "text/html": [
       "<div>\n",
       "<style scoped>\n",
       "    .dataframe tbody tr th:only-of-type {\n",
       "        vertical-align: middle;\n",
       "    }\n",
       "\n",
       "    .dataframe tbody tr th {\n",
       "        vertical-align: top;\n",
       "    }\n",
       "\n",
       "    .dataframe thead th {\n",
       "        text-align: right;\n",
       "    }\n",
       "</style>\n",
       "<table border=\"1\" class=\"dataframe\">\n",
       "  <thead>\n",
       "    <tr style=\"text-align: right;\">\n",
       "      <th></th>\n",
       "      <th>title</th>\n",
       "      <th>writer</th>\n",
       "      <th>publisher</th>\n",
       "      <th>1st-edition</th>\n",
       "      <th>price</th>\n",
       "    </tr>\n",
       "  </thead>\n",
       "  <tbody>\n",
       "    <tr>\n",
       "      <th>0</th>\n",
       "      <td>개미</td>\n",
       "      <td>베르나르베르베르</td>\n",
       "      <td>열린책들</td>\n",
       "      <td>2013-05-30</td>\n",
       "      <td>15800</td>\n",
       "    </tr>\n",
       "    <tr>\n",
       "      <th>1</th>\n",
       "      <td>고구려</td>\n",
       "      <td>김진명</td>\n",
       "      <td>이타북스</td>\n",
       "      <td>2011-02-28</td>\n",
       "      <td>15800</td>\n",
       "    </tr>\n",
       "    <tr>\n",
       "      <th>3</th>\n",
       "      <td>퇴마록</td>\n",
       "      <td>이우혁</td>\n",
       "      <td>들녘</td>\n",
       "      <td>1994-01-01</td>\n",
       "      <td>8550</td>\n",
       "    </tr>\n",
       "    <tr>\n",
       "      <th>2</th>\n",
       "      <td>드래곤라자</td>\n",
       "      <td>이영도</td>\n",
       "      <td>황금가지</td>\n",
       "      <td>1998-05-30</td>\n",
       "      <td>6300</td>\n",
       "    </tr>\n",
       "  </tbody>\n",
       "</table>\n",
       "</div>"
      ],
      "text/plain": [
       "   title    writer publisher 1st-edition  price\n",
       "0     개미  베르나르베르베르      열린책들  2013-05-30  15800\n",
       "1    고구려       김진명      이타북스  2011-02-28  15800\n",
       "3    퇴마록       이우혁        들녘  1994-01-01   8550\n",
       "2  드래곤라자       이영도      황금가지  1998-05-30   6300"
      ]
     },
     "execution_count": 24,
     "metadata": {},
     "output_type": "execute_result"
    }
   ],
   "source": [
    "# 거꾸로 출력해보기\n",
    "df_books.sort_values(by=\"price\",ascending=False)"
   ]
  },
  {
   "cell_type": "code",
   "execution_count": 26,
   "id": "546c3d5c",
   "metadata": {},
   "outputs": [
    {
     "data": {
      "text/html": [
       "<div>\n",
       "<style scoped>\n",
       "    .dataframe tbody tr th:only-of-type {\n",
       "        vertical-align: middle;\n",
       "    }\n",
       "\n",
       "    .dataframe tbody tr th {\n",
       "        vertical-align: top;\n",
       "    }\n",
       "\n",
       "    .dataframe thead th {\n",
       "        text-align: right;\n",
       "    }\n",
       "</style>\n",
       "<table border=\"1\" class=\"dataframe\">\n",
       "  <thead>\n",
       "    <tr style=\"text-align: right;\">\n",
       "      <th></th>\n",
       "      <th>title</th>\n",
       "      <th>writer</th>\n",
       "      <th>publisher</th>\n",
       "      <th>1st-edition</th>\n",
       "      <th>price</th>\n",
       "    </tr>\n",
       "  </thead>\n",
       "  <tbody>\n",
       "    <tr>\n",
       "      <th>1</th>\n",
       "      <td>고구려</td>\n",
       "      <td>김진명</td>\n",
       "      <td>이타북스</td>\n",
       "      <td>2011-02-28</td>\n",
       "      <td>15800</td>\n",
       "    </tr>\n",
       "    <tr>\n",
       "      <th>0</th>\n",
       "      <td>개미</td>\n",
       "      <td>베르나르베르베르</td>\n",
       "      <td>열린책들</td>\n",
       "      <td>2013-05-30</td>\n",
       "      <td>15800</td>\n",
       "    </tr>\n",
       "    <tr>\n",
       "      <th>3</th>\n",
       "      <td>퇴마록</td>\n",
       "      <td>이우혁</td>\n",
       "      <td>들녘</td>\n",
       "      <td>1994-01-01</td>\n",
       "      <td>8550</td>\n",
       "    </tr>\n",
       "    <tr>\n",
       "      <th>2</th>\n",
       "      <td>드래곤라자</td>\n",
       "      <td>이영도</td>\n",
       "      <td>황금가지</td>\n",
       "      <td>1998-05-30</td>\n",
       "      <td>6300</td>\n",
       "    </tr>\n",
       "  </tbody>\n",
       "</table>\n",
       "</div>"
      ],
      "text/plain": [
       "   title    writer publisher 1st-edition  price\n",
       "1    고구려       김진명      이타북스  2011-02-28  15800\n",
       "0     개미  베르나르베르베르      열린책들  2013-05-30  15800\n",
       "3    퇴마록       이우혁        들녘  1994-01-01   8550\n",
       "2  드래곤라자       이영도      황금가지  1998-05-30   6300"
      ]
     },
     "execution_count": 26,
     "metadata": {},
     "output_type": "execute_result"
    },
    {
     "data": {
      "text/html": [
       "<div>\n",
       "<style scoped>\n",
       "    .dataframe tbody tr th:only-of-type {\n",
       "        vertical-align: middle;\n",
       "    }\n",
       "\n",
       "    .dataframe tbody tr th {\n",
       "        vertical-align: top;\n",
       "    }\n",
       "\n",
       "    .dataframe thead th {\n",
       "        text-align: right;\n",
       "    }\n",
       "</style>\n",
       "<table border=\"1\" class=\"dataframe\">\n",
       "  <thead>\n",
       "    <tr style=\"text-align: right;\">\n",
       "      <th></th>\n",
       "      <th>title</th>\n",
       "      <th>writer</th>\n",
       "      <th>publisher</th>\n",
       "      <th>1st-edition</th>\n",
       "      <th>price</th>\n",
       "    </tr>\n",
       "  </thead>\n",
       "  <tbody>\n",
       "    <tr>\n",
       "      <th>0</th>\n",
       "      <td>개미</td>\n",
       "      <td>베르나르베르베르</td>\n",
       "      <td>열린책들</td>\n",
       "      <td>2013-05-30</td>\n",
       "      <td>15800</td>\n",
       "    </tr>\n",
       "    <tr>\n",
       "      <th>1</th>\n",
       "      <td>고구려</td>\n",
       "      <td>김진명</td>\n",
       "      <td>이타북스</td>\n",
       "      <td>2011-02-28</td>\n",
       "      <td>15800</td>\n",
       "    </tr>\n",
       "    <tr>\n",
       "      <th>2</th>\n",
       "      <td>드래곤라자</td>\n",
       "      <td>이영도</td>\n",
       "      <td>황금가지</td>\n",
       "      <td>1998-05-30</td>\n",
       "      <td>6300</td>\n",
       "    </tr>\n",
       "    <tr>\n",
       "      <th>3</th>\n",
       "      <td>퇴마록</td>\n",
       "      <td>이우혁</td>\n",
       "      <td>들녘</td>\n",
       "      <td>1994-01-01</td>\n",
       "      <td>8550</td>\n",
       "    </tr>\n",
       "  </tbody>\n",
       "</table>\n",
       "</div>"
      ],
      "text/plain": [
       "   title    writer publisher 1st-edition  price\n",
       "0     개미  베르나르베르베르      열린책들  2013-05-30  15800\n",
       "1    고구려       김진명      이타북스  2011-02-28  15800\n",
       "2  드래곤라자       이영도      황금가지  1998-05-30   6300\n",
       "3    퇴마록       이우혁        들녘  1994-01-01   8550"
      ]
     },
     "execution_count": 26,
     "metadata": {},
     "output_type": "execute_result"
    }
   ],
   "source": [
    "# 가격과 초판인쇄를 가격이 큰 것부터, 초판 인쇄는 작은 것 부터 \n",
    "df_books.sort_values(by=[\"price\", \"1st-edition\"],\n",
    "                    ascending=[False, True])\n",
    "df_books"
   ]
  },
  {
   "cell_type": "code",
   "execution_count": 27,
   "id": "d40c14b1",
   "metadata": {},
   "outputs": [
    {
     "data": {
      "text/html": [
       "<div>\n",
       "<style scoped>\n",
       "    .dataframe tbody tr th:only-of-type {\n",
       "        vertical-align: middle;\n",
       "    }\n",
       "\n",
       "    .dataframe tbody tr th {\n",
       "        vertical-align: top;\n",
       "    }\n",
       "\n",
       "    .dataframe thead th {\n",
       "        text-align: right;\n",
       "    }\n",
       "</style>\n",
       "<table border=\"1\" class=\"dataframe\">\n",
       "  <thead>\n",
       "    <tr style=\"text-align: right;\">\n",
       "      <th></th>\n",
       "      <th>1st-edition</th>\n",
       "      <th>price</th>\n",
       "      <th>publisher</th>\n",
       "      <th>title</th>\n",
       "      <th>writer</th>\n",
       "    </tr>\n",
       "  </thead>\n",
       "  <tbody>\n",
       "    <tr>\n",
       "      <th>0</th>\n",
       "      <td>2013-05-30</td>\n",
       "      <td>15800</td>\n",
       "      <td>열린책들</td>\n",
       "      <td>개미</td>\n",
       "      <td>베르나르베르베르</td>\n",
       "    </tr>\n",
       "    <tr>\n",
       "      <th>1</th>\n",
       "      <td>2011-02-28</td>\n",
       "      <td>15800</td>\n",
       "      <td>이타북스</td>\n",
       "      <td>고구려</td>\n",
       "      <td>김진명</td>\n",
       "    </tr>\n",
       "    <tr>\n",
       "      <th>2</th>\n",
       "      <td>1998-05-30</td>\n",
       "      <td>6300</td>\n",
       "      <td>황금가지</td>\n",
       "      <td>드래곤라자</td>\n",
       "      <td>이영도</td>\n",
       "    </tr>\n",
       "    <tr>\n",
       "      <th>3</th>\n",
       "      <td>1994-01-01</td>\n",
       "      <td>8550</td>\n",
       "      <td>들녘</td>\n",
       "      <td>퇴마록</td>\n",
       "      <td>이우혁</td>\n",
       "    </tr>\n",
       "  </tbody>\n",
       "</table>\n",
       "</div>"
      ],
      "text/plain": [
       "  1st-edition  price publisher  title    writer\n",
       "0  2013-05-30  15800      열린책들     개미  베르나르베르베르\n",
       "1  2011-02-28  15800      이타북스    고구려       김진명\n",
       "2  1998-05-30   6300      황금가지  드래곤라자       이영도\n",
       "3  1994-01-01   8550        들녘    퇴마록       이우혁"
      ]
     },
     "execution_count": 27,
     "metadata": {},
     "output_type": "execute_result"
    }
   ],
   "source": [
    "df_books.sort_index(axis=1)"
   ]
  },
  {
   "cell_type": "code",
   "execution_count": 28,
   "id": "d7968ceb",
   "metadata": {},
   "outputs": [
    {
     "data": {
      "text/html": [
       "<div>\n",
       "<style scoped>\n",
       "    .dataframe tbody tr th:only-of-type {\n",
       "        vertical-align: middle;\n",
       "    }\n",
       "\n",
       "    .dataframe tbody tr th {\n",
       "        vertical-align: top;\n",
       "    }\n",
       "\n",
       "    .dataframe thead th {\n",
       "        text-align: right;\n",
       "    }\n",
       "</style>\n",
       "<table border=\"1\" class=\"dataframe\">\n",
       "  <thead>\n",
       "    <tr style=\"text-align: right;\">\n",
       "      <th></th>\n",
       "      <th>title</th>\n",
       "      <th>writer</th>\n",
       "      <th>publisher</th>\n",
       "      <th>1st-edition</th>\n",
       "      <th>price</th>\n",
       "    </tr>\n",
       "  </thead>\n",
       "  <tbody>\n",
       "    <tr>\n",
       "      <th>0</th>\n",
       "      <td>개미</td>\n",
       "      <td>베르나르베르베르</td>\n",
       "      <td>열린책들</td>\n",
       "      <td>2013-05-30</td>\n",
       "      <td>15800</td>\n",
       "    </tr>\n",
       "    <tr>\n",
       "      <th>1</th>\n",
       "      <td>고구려</td>\n",
       "      <td>김진명</td>\n",
       "      <td>이타북스</td>\n",
       "      <td>2011-02-28</td>\n",
       "      <td>15800</td>\n",
       "    </tr>\n",
       "    <tr>\n",
       "      <th>3</th>\n",
       "      <td>퇴마록</td>\n",
       "      <td>이우혁</td>\n",
       "      <td>들녘</td>\n",
       "      <td>1994-01-01</td>\n",
       "      <td>8550</td>\n",
       "    </tr>\n",
       "    <tr>\n",
       "      <th>2</th>\n",
       "      <td>드래곤라자</td>\n",
       "      <td>이영도</td>\n",
       "      <td>황금가지</td>\n",
       "      <td>1998-05-30</td>\n",
       "      <td>6300</td>\n",
       "    </tr>\n",
       "  </tbody>\n",
       "</table>\n",
       "</div>"
      ],
      "text/plain": [
       "   title    writer publisher 1st-edition  price\n",
       "0     개미  베르나르베르베르      열린책들  2013-05-30  15800\n",
       "1    고구려       김진명      이타북스  2011-02-28  15800\n",
       "3    퇴마록       이우혁        들녘  1994-01-01   8550\n",
       "2  드래곤라자       이영도      황금가지  1998-05-30   6300"
      ]
     },
     "execution_count": 28,
     "metadata": {},
     "output_type": "execute_result"
    }
   ],
   "source": [
    "df_books.sort_values(by=\"price\",ascending=False)"
   ]
  },
  {
   "cell_type": "code",
   "execution_count": 29,
   "id": "23a6ef31",
   "metadata": {},
   "outputs": [
    {
     "data": {
      "text/plain": [
       "RangeIndex(start=0, stop=4, step=1)"
      ]
     },
     "execution_count": 29,
     "metadata": {},
     "output_type": "execute_result"
    },
    {
     "data": {
      "text/plain": [
       "array([['개미', '베르나르베르베르', '열린책들', '2013-05-30', 15800],\n",
       "       ['고구려', '김진명', '이타북스', '2011-02-28', 15800],\n",
       "       ['드래곤라자', '이영도', '황금가지', '1998-05-30', 6300],\n",
       "       ['퇴마록', '이우혁', '들녘', '1994-01-01', 8550]], dtype=object)"
      ]
     },
     "execution_count": 29,
     "metadata": {},
     "output_type": "execute_result"
    }
   ],
   "source": [
    "df_books.index\n",
    "df_books.values"
   ]
  },
  {
   "cell_type": "code",
   "execution_count": 30,
   "id": "929236e5",
   "metadata": {},
   "outputs": [
    {
     "data": {
      "text/plain": [
       "0       개미\n",
       "1      고구려\n",
       "2    드래곤라자\n",
       "3      퇴마록\n",
       "Name: title, dtype: object"
      ]
     },
     "execution_count": 30,
     "metadata": {},
     "output_type": "execute_result"
    }
   ],
   "source": [
    "df_books[\"title\"]"
   ]
  },
  {
   "cell_type": "code",
   "execution_count": 31,
   "id": "382467c1",
   "metadata": {},
   "outputs": [
    {
     "data": {
      "text/plain": [
       "0       개미\n",
       "1      고구려\n",
       "2    드래곤라자\n",
       "3      퇴마록\n",
       "Name: title, dtype: object"
      ]
     },
     "execution_count": 31,
     "metadata": {},
     "output_type": "execute_result"
    }
   ],
   "source": [
    "df_books.title"
   ]
  },
  {
   "cell_type": "code",
   "execution_count": 32,
   "id": "aa2b95e5",
   "metadata": {},
   "outputs": [
    {
     "data": {
      "text/html": [
       "<div>\n",
       "<style scoped>\n",
       "    .dataframe tbody tr th:only-of-type {\n",
       "        vertical-align: middle;\n",
       "    }\n",
       "\n",
       "    .dataframe tbody tr th {\n",
       "        vertical-align: top;\n",
       "    }\n",
       "\n",
       "    .dataframe thead th {\n",
       "        text-align: right;\n",
       "    }\n",
       "</style>\n",
       "<table border=\"1\" class=\"dataframe\">\n",
       "  <thead>\n",
       "    <tr style=\"text-align: right;\">\n",
       "      <th></th>\n",
       "      <th>title</th>\n",
       "      <th>writer</th>\n",
       "      <th>publisher</th>\n",
       "      <th>1st-edition</th>\n",
       "      <th>price</th>\n",
       "    </tr>\n",
       "  </thead>\n",
       "  <tbody>\n",
       "    <tr>\n",
       "      <th>0</th>\n",
       "      <td>개미</td>\n",
       "      <td>베르나르베르베르</td>\n",
       "      <td>열린책들</td>\n",
       "      <td>2013-05-30</td>\n",
       "      <td>15800</td>\n",
       "    </tr>\n",
       "    <tr>\n",
       "      <th>1</th>\n",
       "      <td>고구려</td>\n",
       "      <td>김진명</td>\n",
       "      <td>이타북스</td>\n",
       "      <td>2011-02-28</td>\n",
       "      <td>15800</td>\n",
       "    </tr>\n",
       "    <tr>\n",
       "      <th>3</th>\n",
       "      <td>퇴마록</td>\n",
       "      <td>이우혁</td>\n",
       "      <td>들녘</td>\n",
       "      <td>1994-01-01</td>\n",
       "      <td>8550</td>\n",
       "    </tr>\n",
       "  </tbody>\n",
       "</table>\n",
       "</div>"
      ],
      "text/plain": [
       "  title    writer publisher 1st-edition  price\n",
       "0    개미  베르나르베르베르      열린책들  2013-05-30  15800\n",
       "1   고구려       김진명      이타북스  2011-02-28  15800\n",
       "3   퇴마록       이우혁        들녘  1994-01-01   8550"
      ]
     },
     "execution_count": 32,
     "metadata": {},
     "output_type": "execute_result"
    }
   ],
   "source": [
    "# 가격 높은순으로 3개 골라줘\n",
    "df_books.nlargest(3, columns=\"price\")"
   ]
  },
  {
   "cell_type": "code",
   "execution_count": 33,
   "id": "78946911",
   "metadata": {},
   "outputs": [
    {
     "data": {
      "text/html": [
       "<div>\n",
       "<style scoped>\n",
       "    .dataframe tbody tr th:only-of-type {\n",
       "        vertical-align: middle;\n",
       "    }\n",
       "\n",
       "    .dataframe tbody tr th {\n",
       "        vertical-align: top;\n",
       "    }\n",
       "\n",
       "    .dataframe thead th {\n",
       "        text-align: right;\n",
       "    }\n",
       "</style>\n",
       "<table border=\"1\" class=\"dataframe\">\n",
       "  <thead>\n",
       "    <tr style=\"text-align: right;\">\n",
       "      <th></th>\n",
       "      <th>title</th>\n",
       "      <th>writer</th>\n",
       "      <th>publisher</th>\n",
       "      <th>1st-edition</th>\n",
       "      <th>price</th>\n",
       "    </tr>\n",
       "  </thead>\n",
       "  <tbody>\n",
       "    <tr>\n",
       "      <th>2</th>\n",
       "      <td>드래곤라자</td>\n",
       "      <td>이영도</td>\n",
       "      <td>황금가지</td>\n",
       "      <td>1998-05-30</td>\n",
       "      <td>6300</td>\n",
       "    </tr>\n",
       "    <tr>\n",
       "      <th>3</th>\n",
       "      <td>퇴마록</td>\n",
       "      <td>이우혁</td>\n",
       "      <td>들녘</td>\n",
       "      <td>1994-01-01</td>\n",
       "      <td>8550</td>\n",
       "    </tr>\n",
       "    <tr>\n",
       "      <th>0</th>\n",
       "      <td>개미</td>\n",
       "      <td>베르나르베르베르</td>\n",
       "      <td>열린책들</td>\n",
       "      <td>2013-05-30</td>\n",
       "      <td>15800</td>\n",
       "    </tr>\n",
       "  </tbody>\n",
       "</table>\n",
       "</div>"
      ],
      "text/plain": [
       "   title    writer publisher 1st-edition  price\n",
       "2  드래곤라자       이영도      황금가지  1998-05-30   6300\n",
       "3    퇴마록       이우혁        들녘  1994-01-01   8550\n",
       "0     개미  베르나르베르베르      열린책들  2013-05-30  15800"
      ]
     },
     "execution_count": 33,
     "metadata": {},
     "output_type": "execute_result"
    }
   ],
   "source": [
    "# 가격 낮은순으로 3개 골라줘\n",
    "df_books.nsmallest(3, columns=\"price\")"
   ]
  },
  {
   "cell_type": "code",
   "execution_count": 34,
   "id": "6801b56f",
   "metadata": {},
   "outputs": [
    {
     "data": {
      "text/plain": [
       "title                                     개미고구려드래곤라자퇴마록\n",
       "writer                                베르나르베르베르김진명이영도이우혁\n",
       "publisher                                열린책들이타북스황금가지들녘\n",
       "1st-edition    2013-05-302011-02-281998-05-301994-01-01\n",
       "price                                             46450\n",
       "dtype: object"
      ]
     },
     "execution_count": 34,
     "metadata": {},
     "output_type": "execute_result"
    }
   ],
   "source": [
    "df_books.sum()"
   ]
  },
  {
   "cell_type": "code",
   "execution_count": 35,
   "id": "561bdf3e",
   "metadata": {},
   "outputs": [
    {
     "data": {
      "text/html": [
       "<div>\n",
       "<style scoped>\n",
       "    .dataframe tbody tr th:only-of-type {\n",
       "        vertical-align: middle;\n",
       "    }\n",
       "\n",
       "    .dataframe tbody tr th {\n",
       "        vertical-align: top;\n",
       "    }\n",
       "\n",
       "    .dataframe thead th {\n",
       "        text-align: right;\n",
       "    }\n",
       "</style>\n",
       "<table border=\"1\" class=\"dataframe\">\n",
       "  <thead>\n",
       "    <tr style=\"text-align: right;\">\n",
       "      <th></th>\n",
       "      <th>writer</th>\n",
       "      <th>publisher</th>\n",
       "      <th>1st-edition</th>\n",
       "      <th>price</th>\n",
       "    </tr>\n",
       "    <tr>\n",
       "      <th>title</th>\n",
       "      <th></th>\n",
       "      <th></th>\n",
       "      <th></th>\n",
       "      <th></th>\n",
       "    </tr>\n",
       "  </thead>\n",
       "  <tbody>\n",
       "    <tr>\n",
       "      <th>개미</th>\n",
       "      <td>베르나르베르베르</td>\n",
       "      <td>열린책들</td>\n",
       "      <td>2013-05-30</td>\n",
       "      <td>15800</td>\n",
       "    </tr>\n",
       "    <tr>\n",
       "      <th>고구려</th>\n",
       "      <td>김진명</td>\n",
       "      <td>이타북스</td>\n",
       "      <td>2011-02-28</td>\n",
       "      <td>15800</td>\n",
       "    </tr>\n",
       "    <tr>\n",
       "      <th>드래곤라자</th>\n",
       "      <td>이영도</td>\n",
       "      <td>황금가지</td>\n",
       "      <td>1998-05-30</td>\n",
       "      <td>6300</td>\n",
       "    </tr>\n",
       "    <tr>\n",
       "      <th>퇴마록</th>\n",
       "      <td>이우혁</td>\n",
       "      <td>들녘</td>\n",
       "      <td>1994-01-01</td>\n",
       "      <td>8550</td>\n",
       "    </tr>\n",
       "  </tbody>\n",
       "</table>\n",
       "</div>"
      ],
      "text/plain": [
       "         writer publisher 1st-edition  price\n",
       "title                                       \n",
       "개미     베르나르베르베르      열린책들  2013-05-30  15800\n",
       "고구려         김진명      이타북스  2011-02-28  15800\n",
       "드래곤라자       이영도      황금가지  1998-05-30   6300\n",
       "퇴마록         이우혁        들녘  1994-01-01   8550"
      ]
     },
     "execution_count": 35,
     "metadata": {},
     "output_type": "execute_result"
    }
   ],
   "source": [
    "df_title = df_books.set_index(\"title\")\n",
    "df_title"
   ]
  },
  {
   "cell_type": "code",
   "execution_count": 40,
   "id": "c4a87c47",
   "metadata": {},
   "outputs": [
    {
     "data": {
      "text/html": [
       "<div>\n",
       "<style scoped>\n",
       "    .dataframe tbody tr th:only-of-type {\n",
       "        vertical-align: middle;\n",
       "    }\n",
       "\n",
       "    .dataframe tbody tr th {\n",
       "        vertical-align: top;\n",
       "    }\n",
       "\n",
       "    .dataframe thead th {\n",
       "        text-align: right;\n",
       "    }\n",
       "</style>\n",
       "<table border=\"1\" class=\"dataframe\">\n",
       "  <thead>\n",
       "    <tr style=\"text-align: right;\">\n",
       "      <th></th>\n",
       "      <th>title</th>\n",
       "      <th>writer</th>\n",
       "      <th>publisher</th>\n",
       "      <th>1st-edition</th>\n",
       "      <th>price</th>\n",
       "    </tr>\n",
       "  </thead>\n",
       "  <tbody>\n",
       "    <tr>\n",
       "      <th>0</th>\n",
       "      <td>개미</td>\n",
       "      <td>베르나르베르베르</td>\n",
       "      <td>열린책들</td>\n",
       "      <td>2013-05-30</td>\n",
       "      <td>15800</td>\n",
       "    </tr>\n",
       "    <tr>\n",
       "      <th>1</th>\n",
       "      <td>고구려</td>\n",
       "      <td>김진명</td>\n",
       "      <td>이타북스</td>\n",
       "      <td>2011-02-28</td>\n",
       "      <td>15800</td>\n",
       "    </tr>\n",
       "    <tr>\n",
       "      <th>2</th>\n",
       "      <td>드래곤라자</td>\n",
       "      <td>이영도</td>\n",
       "      <td>황금가지</td>\n",
       "      <td>1998-05-30</td>\n",
       "      <td>6300</td>\n",
       "    </tr>\n",
       "    <tr>\n",
       "      <th>3</th>\n",
       "      <td>퇴마록</td>\n",
       "      <td>이우혁</td>\n",
       "      <td>들녘</td>\n",
       "      <td>1994-01-01</td>\n",
       "      <td>8550</td>\n",
       "    </tr>\n",
       "  </tbody>\n",
       "</table>\n",
       "</div>"
      ],
      "text/plain": [
       "   title    writer publisher 1st-edition  price\n",
       "0     개미  베르나르베르베르      열린책들  2013-05-30  15800\n",
       "1    고구려       김진명      이타북스  2011-02-28  15800\n",
       "2  드래곤라자       이영도      황금가지  1998-05-30   6300\n",
       "3    퇴마록       이우혁        들녘  1994-01-01   8550"
      ]
     },
     "execution_count": 40,
     "metadata": {},
     "output_type": "execute_result"
    },
    {
     "data": {
      "text/html": [
       "<div>\n",
       "<style scoped>\n",
       "    .dataframe tbody tr th:only-of-type {\n",
       "        vertical-align: middle;\n",
       "    }\n",
       "\n",
       "    .dataframe tbody tr th {\n",
       "        vertical-align: top;\n",
       "    }\n",
       "\n",
       "    .dataframe thead th {\n",
       "        text-align: right;\n",
       "    }\n",
       "</style>\n",
       "<table border=\"1\" class=\"dataframe\">\n",
       "  <thead>\n",
       "    <tr style=\"text-align: right;\">\n",
       "      <th></th>\n",
       "      <th>writer</th>\n",
       "      <th>publisher</th>\n",
       "      <th>1st-edition</th>\n",
       "      <th>price</th>\n",
       "    </tr>\n",
       "    <tr>\n",
       "      <th>title</th>\n",
       "      <th></th>\n",
       "      <th></th>\n",
       "      <th></th>\n",
       "      <th></th>\n",
       "    </tr>\n",
       "  </thead>\n",
       "  <tbody>\n",
       "    <tr>\n",
       "      <th>개미</th>\n",
       "      <td>베르나르베르베르</td>\n",
       "      <td>열린책들</td>\n",
       "      <td>2013-05-30</td>\n",
       "      <td>15800</td>\n",
       "    </tr>\n",
       "    <tr>\n",
       "      <th>고구려</th>\n",
       "      <td>김진명</td>\n",
       "      <td>이타북스</td>\n",
       "      <td>2011-02-28</td>\n",
       "      <td>15800</td>\n",
       "    </tr>\n",
       "    <tr>\n",
       "      <th>드래곤라자</th>\n",
       "      <td>이영도</td>\n",
       "      <td>황금가지</td>\n",
       "      <td>1998-05-30</td>\n",
       "      <td>6300</td>\n",
       "    </tr>\n",
       "    <tr>\n",
       "      <th>퇴마록</th>\n",
       "      <td>이우혁</td>\n",
       "      <td>들녘</td>\n",
       "      <td>1994-01-01</td>\n",
       "      <td>8550</td>\n",
       "    </tr>\n",
       "  </tbody>\n",
       "</table>\n",
       "</div>"
      ],
      "text/plain": [
       "         writer publisher 1st-edition  price\n",
       "title                                       \n",
       "개미     베르나르베르베르      열린책들  2013-05-30  15800\n",
       "고구려         김진명      이타북스  2011-02-28  15800\n",
       "드래곤라자       이영도      황금가지  1998-05-30   6300\n",
       "퇴마록         이우혁        들녘  1994-01-01   8550"
      ]
     },
     "execution_count": 40,
     "metadata": {},
     "output_type": "execute_result"
    }
   ],
   "source": [
    "df_books\n",
    "df_title\n",
    "# 컬럼 값을 인덱스로 바꾸어버린 것  그래서 앞에 숫자가 사라지고 "
   ]
  },
  {
   "cell_type": "code",
   "execution_count": 39,
   "id": "b483be19",
   "metadata": {},
   "outputs": [
    {
     "data": {
      "text/plain": [
       "'베르나르베르베르'"
      ]
     },
     "execution_count": 39,
     "metadata": {},
     "output_type": "execute_result"
    },
    {
     "data": {
      "text/plain": [
       "'김진명'"
      ]
     },
     "execution_count": 39,
     "metadata": {},
     "output_type": "execute_result"
    }
   ],
   "source": [
    "\n",
    "df_books[\"writer\"][0]\n",
    "df_title[\"writer\"][\"고구려\"]"
   ]
  },
  {
   "cell_type": "code",
   "execution_count": 41,
   "id": "edabc864",
   "metadata": {},
   "outputs": [
    {
     "data": {
      "text/html": [
       "<div>\n",
       "<style scoped>\n",
       "    .dataframe tbody tr th:only-of-type {\n",
       "        vertical-align: middle;\n",
       "    }\n",
       "\n",
       "    .dataframe tbody tr th {\n",
       "        vertical-align: top;\n",
       "    }\n",
       "\n",
       "    .dataframe thead th {\n",
       "        text-align: right;\n",
       "    }\n",
       "</style>\n",
       "<table border=\"1\" class=\"dataframe\">\n",
       "  <thead>\n",
       "    <tr style=\"text-align: right;\">\n",
       "      <th></th>\n",
       "      <th>title</th>\n",
       "      <th>writer</th>\n",
       "      <th>publisher</th>\n",
       "      <th>1st-edition</th>\n",
       "      <th>price</th>\n",
       "    </tr>\n",
       "  </thead>\n",
       "  <tbody>\n",
       "    <tr>\n",
       "      <th>0</th>\n",
       "      <td>개미</td>\n",
       "      <td>베르나르베르베르</td>\n",
       "      <td>열린책들</td>\n",
       "      <td>2013-05-30</td>\n",
       "      <td>15800</td>\n",
       "    </tr>\n",
       "    <tr>\n",
       "      <th>1</th>\n",
       "      <td>고구려</td>\n",
       "      <td>김진명</td>\n",
       "      <td>이타북스</td>\n",
       "      <td>2011-02-28</td>\n",
       "      <td>15800</td>\n",
       "    </tr>\n",
       "    <tr>\n",
       "      <th>2</th>\n",
       "      <td>드래곤라자</td>\n",
       "      <td>이영도</td>\n",
       "      <td>황금가지</td>\n",
       "      <td>1998-05-30</td>\n",
       "      <td>6300</td>\n",
       "    </tr>\n",
       "    <tr>\n",
       "      <th>3</th>\n",
       "      <td>퇴마록</td>\n",
       "      <td>이우혁</td>\n",
       "      <td>들녘</td>\n",
       "      <td>1994-01-01</td>\n",
       "      <td>8550</td>\n",
       "    </tr>\n",
       "  </tbody>\n",
       "</table>\n",
       "</div>"
      ],
      "text/plain": [
       "   title    writer publisher 1st-edition  price\n",
       "0     개미  베르나르베르베르      열린책들  2013-05-30  15800\n",
       "1    고구려       김진명      이타북스  2011-02-28  15800\n",
       "2  드래곤라자       이영도      황금가지  1998-05-30   6300\n",
       "3    퇴마록       이우혁        들녘  1994-01-01   8550"
      ]
     },
     "execution_count": 41,
     "metadata": {},
     "output_type": "execute_result"
    }
   ],
   "source": [
    "df_title.reset_index()\n",
    "# reset_index()하면 다시 인덱스 01234가 되는 것"
   ]
  },
  {
   "cell_type": "code",
   "execution_count": 42,
   "id": "41045bac",
   "metadata": {},
   "outputs": [
    {
     "data": {
      "text/plain": [
       "writer                                베르나르베르베르김진명이영도이우혁\n",
       "publisher                                열린책들이타북스황금가지들녘\n",
       "1st-edition    2013-05-302011-02-281998-05-301994-01-01\n",
       "price                                             46450\n",
       "dtype: object"
      ]
     },
     "execution_count": 42,
     "metadata": {},
     "output_type": "execute_result"
    }
   ],
   "source": [
    "df_title.sum()"
   ]
  },
  {
   "cell_type": "code",
   "execution_count": 43,
   "id": "3b42c4a0",
   "metadata": {},
   "outputs": [
    {
     "data": {
      "text/plain": [
       "price    46450\n",
       "dtype: int64"
      ]
     },
     "execution_count": 43,
     "metadata": {},
     "output_type": "execute_result"
    }
   ],
   "source": [
    "# 숫자값이 하나면 하나의 컬럼만 더한다.\n",
    "df_title.sum(numeric_only=True)"
   ]
  },
  {
   "cell_type": "code",
   "execution_count": 45,
   "id": "428f4c98",
   "metadata": {},
   "outputs": [
    {
     "data": {
      "text/plain": [
       "price    12175.0\n",
       "dtype: float64"
      ]
     },
     "execution_count": 45,
     "metadata": {},
     "output_type": "execute_result"
    }
   ],
   "source": [
    "df_title.median(numeric_only=True)"
   ]
  },
  {
   "cell_type": "code",
   "execution_count": 47,
   "id": "989a8383",
   "metadata": {},
   "outputs": [
    {
     "data": {
      "text/plain": [
       "title\n",
       "개미       2013-05-30\n",
       "고구려      2011-02-28\n",
       "드래곤라자    1998-05-30\n",
       "퇴마록      1994-01-01\n",
       "Name: 1st-edition, dtype: object"
      ]
     },
     "execution_count": 47,
     "metadata": {},
     "output_type": "execute_result"
    }
   ],
   "source": [
    "df_title[\"1st-edition\"]\n",
    "# object 문자열 객체"
   ]
  },
  {
   "cell_type": "code",
   "execution_count": 50,
   "id": "9bb05ff9",
   "metadata": {},
   "outputs": [],
   "source": [
    "df_title[\"1st-edition\"] = pd.to_datetime(df_title[\"1st-edition\"])\n",
    "#  datetime64[ns]  공식문서 확인하기"
   ]
  },
  {
   "cell_type": "code",
   "execution_count": 51,
   "id": "29ebc356",
   "metadata": {
    "scrolled": true
   },
   "outputs": [
    {
     "name": "stdout",
     "output_type": "stream",
     "text": [
      "<class 'pandas.core.frame.DataFrame'>\n",
      "Index: 4 entries, 개미 to 퇴마록\n",
      "Data columns (total 4 columns):\n",
      " #   Column       Non-Null Count  Dtype         \n",
      "---  ------       --------------  -----         \n",
      " 0   writer       4 non-null      object        \n",
      " 1   publisher    4 non-null      object        \n",
      " 2   1st-edition  4 non-null      datetime64[ns]\n",
      " 3   price        4 non-null      int64         \n",
      "dtypes: datetime64[ns](1), int64(1), object(2)\n",
      "memory usage: 332.0+ bytes\n"
     ]
    }
   ],
   "source": [
    "df_title.info()"
   ]
  },
  {
   "cell_type": "code",
   "execution_count": 55,
   "id": "d9ee806c",
   "metadata": {},
   "outputs": [
    {
     "data": {
      "text/html": [
       "<div>\n",
       "<style scoped>\n",
       "    .dataframe tbody tr th:only-of-type {\n",
       "        vertical-align: middle;\n",
       "    }\n",
       "\n",
       "    .dataframe tbody tr th {\n",
       "        vertical-align: top;\n",
       "    }\n",
       "\n",
       "    .dataframe thead th {\n",
       "        text-align: right;\n",
       "    }\n",
       "</style>\n",
       "<table border=\"1\" class=\"dataframe\">\n",
       "  <thead>\n",
       "    <tr style=\"text-align: right;\">\n",
       "      <th></th>\n",
       "      <th>title</th>\n",
       "      <th>writer</th>\n",
       "      <th>publisher</th>\n",
       "      <th>1st-edition</th>\n",
       "    </tr>\n",
       "  </thead>\n",
       "  <tbody>\n",
       "    <tr>\n",
       "      <th>0</th>\n",
       "      <td>개미</td>\n",
       "      <td>베르나르베르베르</td>\n",
       "      <td>열린책들</td>\n",
       "      <td>2013-05-30</td>\n",
       "    </tr>\n",
       "    <tr>\n",
       "      <th>1</th>\n",
       "      <td>고구려</td>\n",
       "      <td>김진명</td>\n",
       "      <td>이타북스</td>\n",
       "      <td>2011-02-28</td>\n",
       "    </tr>\n",
       "    <tr>\n",
       "      <th>2</th>\n",
       "      <td>드래곤라자</td>\n",
       "      <td>이영도</td>\n",
       "      <td>황금가지</td>\n",
       "      <td>1998-05-30</td>\n",
       "    </tr>\n",
       "    <tr>\n",
       "      <th>3</th>\n",
       "      <td>퇴마록</td>\n",
       "      <td>이우혁</td>\n",
       "      <td>들녘</td>\n",
       "      <td>1994-01-01</td>\n",
       "    </tr>\n",
       "  </tbody>\n",
       "</table>\n",
       "</div>"
      ],
      "text/plain": [
       "   title    writer publisher 1st-edition\n",
       "0     개미  베르나르베르베르      열린책들  2013-05-30\n",
       "1    고구려       김진명      이타북스  2011-02-28\n",
       "2  드래곤라자       이영도      황금가지  1998-05-30\n",
       "3    퇴마록       이우혁        들녘  1994-01-01"
      ]
     },
     "execution_count": 55,
     "metadata": {},
     "output_type": "execute_result"
    }
   ],
   "source": [
    "df_books.select_dtypes(\"object\")"
   ]
  },
  {
   "cell_type": "code",
   "execution_count": 56,
   "id": "81312caf",
   "metadata": {},
   "outputs": [
    {
     "data": {
      "text/html": [
       "<div>\n",
       "<style scoped>\n",
       "    .dataframe tbody tr th:only-of-type {\n",
       "        vertical-align: middle;\n",
       "    }\n",
       "\n",
       "    .dataframe tbody tr th {\n",
       "        vertical-align: top;\n",
       "    }\n",
       "\n",
       "    .dataframe thead th {\n",
       "        text-align: right;\n",
       "    }\n",
       "</style>\n",
       "<table border=\"1\" class=\"dataframe\">\n",
       "  <thead>\n",
       "    <tr style=\"text-align: right;\">\n",
       "      <th></th>\n",
       "      <th>writer</th>\n",
       "      <th>publisher</th>\n",
       "    </tr>\n",
       "    <tr>\n",
       "      <th>title</th>\n",
       "      <th></th>\n",
       "      <th></th>\n",
       "    </tr>\n",
       "  </thead>\n",
       "  <tbody>\n",
       "    <tr>\n",
       "      <th>개미</th>\n",
       "      <td>베르나르베르베르</td>\n",
       "      <td>열린책들</td>\n",
       "    </tr>\n",
       "    <tr>\n",
       "      <th>고구려</th>\n",
       "      <td>김진명</td>\n",
       "      <td>이타북스</td>\n",
       "    </tr>\n",
       "    <tr>\n",
       "      <th>드래곤라자</th>\n",
       "      <td>이영도</td>\n",
       "      <td>황금가지</td>\n",
       "    </tr>\n",
       "    <tr>\n",
       "      <th>퇴마록</th>\n",
       "      <td>이우혁</td>\n",
       "      <td>들녘</td>\n",
       "    </tr>\n",
       "  </tbody>\n",
       "</table>\n",
       "</div>"
      ],
      "text/plain": [
       "         writer publisher\n",
       "title                    \n",
       "개미     베르나르베르베르      열린책들\n",
       "고구려         김진명      이타북스\n",
       "드래곤라자       이영도      황금가지\n",
       "퇴마록         이우혁        들녘"
      ]
     },
     "execution_count": 56,
     "metadata": {},
     "output_type": "execute_result"
    }
   ],
   "source": [
    "df_title.select_dtypes(\"object\")"
   ]
  },
  {
   "cell_type": "code",
   "execution_count": 58,
   "id": "6cd353af",
   "metadata": {},
   "outputs": [
    {
     "data": {
      "text/html": [
       "<div>\n",
       "<style scoped>\n",
       "    .dataframe tbody tr th:only-of-type {\n",
       "        vertical-align: middle;\n",
       "    }\n",
       "\n",
       "    .dataframe tbody tr th {\n",
       "        vertical-align: top;\n",
       "    }\n",
       "\n",
       "    .dataframe thead th {\n",
       "        text-align: right;\n",
       "    }\n",
       "</style>\n",
       "<table border=\"1\" class=\"dataframe\">\n",
       "  <thead>\n",
       "    <tr style=\"text-align: right;\">\n",
       "      <th></th>\n",
       "      <th>writer</th>\n",
       "      <th>publisher</th>\n",
       "    </tr>\n",
       "    <tr>\n",
       "      <th>title</th>\n",
       "      <th></th>\n",
       "      <th></th>\n",
       "    </tr>\n",
       "  </thead>\n",
       "  <tbody>\n",
       "    <tr>\n",
       "      <th>개미</th>\n",
       "      <td>베르나르베르베르</td>\n",
       "      <td>열린책들</td>\n",
       "    </tr>\n",
       "    <tr>\n",
       "      <th>고구려</th>\n",
       "      <td>김진명</td>\n",
       "      <td>이타북스</td>\n",
       "    </tr>\n",
       "    <tr>\n",
       "      <th>드래곤라자</th>\n",
       "      <td>이영도</td>\n",
       "      <td>황금가지</td>\n",
       "    </tr>\n",
       "    <tr>\n",
       "      <th>퇴마록</th>\n",
       "      <td>이우혁</td>\n",
       "      <td>들녘</td>\n",
       "    </tr>\n",
       "  </tbody>\n",
       "</table>\n",
       "</div>"
      ],
      "text/plain": [
       "         writer publisher\n",
       "title                    \n",
       "개미     베르나르베르베르      열린책들\n",
       "고구려         김진명      이타북스\n",
       "드래곤라자       이영도      황금가지\n",
       "퇴마록         이우혁        들녘"
      ]
     },
     "execution_count": 58,
     "metadata": {},
     "output_type": "execute_result"
    }
   ],
   "source": [
    "df_title.select_dtypes(include=\"object\")"
   ]
  },
  {
   "cell_type": "code",
   "execution_count": 60,
   "id": "60e20b20",
   "metadata": {},
   "outputs": [
    {
     "data": {
      "text/html": [
       "<div>\n",
       "<style scoped>\n",
       "    .dataframe tbody tr th:only-of-type {\n",
       "        vertical-align: middle;\n",
       "    }\n",
       "\n",
       "    .dataframe tbody tr th {\n",
       "        vertical-align: top;\n",
       "    }\n",
       "\n",
       "    .dataframe thead th {\n",
       "        text-align: right;\n",
       "    }\n",
       "</style>\n",
       "<table border=\"1\" class=\"dataframe\">\n",
       "  <thead>\n",
       "    <tr style=\"text-align: right;\">\n",
       "      <th></th>\n",
       "      <th>1st-edition</th>\n",
       "      <th>price</th>\n",
       "    </tr>\n",
       "    <tr>\n",
       "      <th>title</th>\n",
       "      <th></th>\n",
       "      <th></th>\n",
       "    </tr>\n",
       "  </thead>\n",
       "  <tbody>\n",
       "    <tr>\n",
       "      <th>개미</th>\n",
       "      <td>2013-05-30</td>\n",
       "      <td>15800</td>\n",
       "    </tr>\n",
       "    <tr>\n",
       "      <th>고구려</th>\n",
       "      <td>2011-02-28</td>\n",
       "      <td>15800</td>\n",
       "    </tr>\n",
       "    <tr>\n",
       "      <th>드래곤라자</th>\n",
       "      <td>1998-05-30</td>\n",
       "      <td>6300</td>\n",
       "    </tr>\n",
       "    <tr>\n",
       "      <th>퇴마록</th>\n",
       "      <td>1994-01-01</td>\n",
       "      <td>8550</td>\n",
       "    </tr>\n",
       "  </tbody>\n",
       "</table>\n",
       "</div>"
      ],
      "text/plain": [
       "      1st-edition  price\n",
       "title                   \n",
       "개미     2013-05-30  15800\n",
       "고구려    2011-02-28  15800\n",
       "드래곤라자  1998-05-30   6300\n",
       "퇴마록    1994-01-01   8550"
      ]
     },
     "execution_count": 60,
     "metadata": {},
     "output_type": "execute_result"
    }
   ],
   "source": [
    "df_title.select_dtypes(exclude=\"object\")"
   ]
  },
  {
   "cell_type": "code",
   "execution_count": 61,
   "id": "79e604ca",
   "metadata": {},
   "outputs": [
    {
     "data": {
      "text/html": [
       "<div>\n",
       "<style scoped>\n",
       "    .dataframe tbody tr th:only-of-type {\n",
       "        vertical-align: middle;\n",
       "    }\n",
       "\n",
       "    .dataframe tbody tr th {\n",
       "        vertical-align: top;\n",
       "    }\n",
       "\n",
       "    .dataframe thead th {\n",
       "        text-align: right;\n",
       "    }\n",
       "</style>\n",
       "<table border=\"1\" class=\"dataframe\">\n",
       "  <thead>\n",
       "    <tr style=\"text-align: right;\">\n",
       "      <th></th>\n",
       "      <th>writer</th>\n",
       "      <th>publisher</th>\n",
       "      <th>1st-edition</th>\n",
       "      <th>price</th>\n",
       "    </tr>\n",
       "    <tr>\n",
       "      <th>title</th>\n",
       "      <th></th>\n",
       "      <th></th>\n",
       "      <th></th>\n",
       "      <th></th>\n",
       "    </tr>\n",
       "  </thead>\n",
       "  <tbody>\n",
       "    <tr>\n",
       "      <th>개미</th>\n",
       "      <td>베르나르베르베르</td>\n",
       "      <td>열린책들</td>\n",
       "      <td>2013-05-30</td>\n",
       "      <td>15800</td>\n",
       "    </tr>\n",
       "    <tr>\n",
       "      <th>고구려</th>\n",
       "      <td>김진명</td>\n",
       "      <td>이타북스</td>\n",
       "      <td>2011-02-28</td>\n",
       "      <td>15800</td>\n",
       "    </tr>\n",
       "    <tr>\n",
       "      <th>드래곤라자</th>\n",
       "      <td>이영도</td>\n",
       "      <td>황금가지</td>\n",
       "      <td>1998-05-30</td>\n",
       "      <td>6300</td>\n",
       "    </tr>\n",
       "    <tr>\n",
       "      <th>퇴마록</th>\n",
       "      <td>이우혁</td>\n",
       "      <td>들녘</td>\n",
       "      <td>1994-01-01</td>\n",
       "      <td>8550</td>\n",
       "    </tr>\n",
       "  </tbody>\n",
       "</table>\n",
       "</div>"
      ],
      "text/plain": [
       "         writer publisher 1st-edition  price\n",
       "title                                       \n",
       "개미     베르나르베르베르      열린책들  2013-05-30  15800\n",
       "고구려         김진명      이타북스  2011-02-28  15800\n",
       "드래곤라자       이영도      황금가지  1998-05-30   6300\n",
       "퇴마록         이우혁        들녘  1994-01-01   8550"
      ]
     },
     "execution_count": 61,
     "metadata": {},
     "output_type": "execute_result"
    }
   ],
   "source": [
    "df_title"
   ]
  },
  {
   "cell_type": "code",
   "execution_count": 64,
   "id": "9e4e7ed8",
   "metadata": {},
   "outputs": [
    {
     "data": {
      "text/html": [
       "<div>\n",
       "<style scoped>\n",
       "    .dataframe tbody tr th:only-of-type {\n",
       "        vertical-align: middle;\n",
       "    }\n",
       "\n",
       "    .dataframe tbody tr th {\n",
       "        vertical-align: top;\n",
       "    }\n",
       "\n",
       "    .dataframe thead th {\n",
       "        text-align: right;\n",
       "    }\n",
       "</style>\n",
       "<table border=\"1\" class=\"dataframe\">\n",
       "  <thead>\n",
       "    <tr style=\"text-align: right;\">\n",
       "      <th></th>\n",
       "      <th>writer</th>\n",
       "      <th>price</th>\n",
       "    </tr>\n",
       "    <tr>\n",
       "      <th>title</th>\n",
       "      <th></th>\n",
       "      <th></th>\n",
       "    </tr>\n",
       "  </thead>\n",
       "  <tbody>\n",
       "    <tr>\n",
       "      <th>개미</th>\n",
       "      <td>베르나르베르베르</td>\n",
       "      <td>15800</td>\n",
       "    </tr>\n",
       "    <tr>\n",
       "      <th>고구려</th>\n",
       "      <td>김진명</td>\n",
       "      <td>15800</td>\n",
       "    </tr>\n",
       "    <tr>\n",
       "      <th>드래곤라자</th>\n",
       "      <td>이영도</td>\n",
       "      <td>6300</td>\n",
       "    </tr>\n",
       "    <tr>\n",
       "      <th>퇴마록</th>\n",
       "      <td>이우혁</td>\n",
       "      <td>8550</td>\n",
       "    </tr>\n",
       "  </tbody>\n",
       "</table>\n",
       "</div>"
      ],
      "text/plain": [
       "         writer  price\n",
       "title                 \n",
       "개미     베르나르베르베르  15800\n",
       "고구려         김진명  15800\n",
       "드래곤라자       이영도   6300\n",
       "퇴마록         이우혁   8550"
      ]
     },
     "execution_count": 64,
     "metadata": {},
     "output_type": "execute_result"
    }
   ],
   "source": [
    "df_title[[\"writer\",\"price\"]]"
   ]
  },
  {
   "cell_type": "code",
   "execution_count": 67,
   "id": "bf4224e4",
   "metadata": {},
   "outputs": [
    {
     "data": {
      "text/plain": [
       "title\n",
       "개미       베르나르베르베르\n",
       "고구려           김진명\n",
       "드래곤라자         이영도\n",
       "퇴마록           이우혁\n",
       "Name: writer, dtype: object"
      ]
     },
     "execution_count": 67,
     "metadata": {},
     "output_type": "execute_result"
    },
    {
     "data": {
      "text/plain": [
       "pandas.core.series.Series"
      ]
     },
     "execution_count": 67,
     "metadata": {},
     "output_type": "execute_result"
    }
   ],
   "source": [
    "df_title[\"writer\"]\n",
    "type(df_title[\"writer\"])\n",
    "# series\n",
    "#  df_title[\"writer\"] 1차원이고  df_title[[\"writer\"]] 과는 차원이 다르다  2차원"
   ]
  },
  {
   "cell_type": "code",
   "execution_count": 68,
   "id": "117f351d",
   "metadata": {},
   "outputs": [
    {
     "data": {
      "text/html": [
       "<div>\n",
       "<style scoped>\n",
       "    .dataframe tbody tr th:only-of-type {\n",
       "        vertical-align: middle;\n",
       "    }\n",
       "\n",
       "    .dataframe tbody tr th {\n",
       "        vertical-align: top;\n",
       "    }\n",
       "\n",
       "    .dataframe thead th {\n",
       "        text-align: right;\n",
       "    }\n",
       "</style>\n",
       "<table border=\"1\" class=\"dataframe\">\n",
       "  <thead>\n",
       "    <tr style=\"text-align: right;\">\n",
       "      <th></th>\n",
       "      <th>writer</th>\n",
       "    </tr>\n",
       "    <tr>\n",
       "      <th>title</th>\n",
       "      <th></th>\n",
       "    </tr>\n",
       "  </thead>\n",
       "  <tbody>\n",
       "    <tr>\n",
       "      <th>개미</th>\n",
       "      <td>베르나르베르베르</td>\n",
       "    </tr>\n",
       "    <tr>\n",
       "      <th>고구려</th>\n",
       "      <td>김진명</td>\n",
       "    </tr>\n",
       "    <tr>\n",
       "      <th>드래곤라자</th>\n",
       "      <td>이영도</td>\n",
       "    </tr>\n",
       "    <tr>\n",
       "      <th>퇴마록</th>\n",
       "      <td>이우혁</td>\n",
       "    </tr>\n",
       "  </tbody>\n",
       "</table>\n",
       "</div>"
      ],
      "text/plain": [
       "         writer\n",
       "title          \n",
       "개미     베르나르베르베르\n",
       "고구려         김진명\n",
       "드래곤라자       이영도\n",
       "퇴마록         이우혁"
      ]
     },
     "execution_count": 68,
     "metadata": {},
     "output_type": "execute_result"
    },
    {
     "data": {
      "text/plain": [
       "pandas.core.frame.DataFrame"
      ]
     },
     "execution_count": 68,
     "metadata": {},
     "output_type": "execute_result"
    }
   ],
   "source": [
    "df_title[[\"writer\"]]\n",
    "type(df_title[[\"writer\"]])\n",
    "#  dataframe  DataFrame안에는 시리즈들+인덱스만 들어간다"
   ]
  },
  {
   "cell_type": "code",
   "execution_count": 69,
   "id": "adbc2ae3",
   "metadata": {
    "scrolled": true
   },
   "outputs": [
    {
     "data": {
      "text/plain": [
       "writer                         이영도\n",
       "publisher                     황금가지\n",
       "1st-edition    1998-05-30 00:00:00\n",
       "price                         6300\n",
       "Name: 드래곤라자, dtype: object"
      ]
     },
     "execution_count": 69,
     "metadata": {},
     "output_type": "execute_result"
    }
   ],
   "source": [
    "df_title.loc[\"드래곤라자\"]\n",
    "#  컬럼이 아니라 index로 찾고 싶을 때 loc를 사용한다.\n",
    "# loc이 index로 검색하는거에요\n",
    "# 아까 datetime으로 바꿔서 뒤에 00:00:00 가 나오는 것"
   ]
  },
  {
   "cell_type": "code",
   "execution_count": 72,
   "id": "3556e90f",
   "metadata": {},
   "outputs": [
    {
     "data": {
      "text/html": [
       "<div>\n",
       "<style scoped>\n",
       "    .dataframe tbody tr th:only-of-type {\n",
       "        vertical-align: middle;\n",
       "    }\n",
       "\n",
       "    .dataframe tbody tr th {\n",
       "        vertical-align: top;\n",
       "    }\n",
       "\n",
       "    .dataframe thead th {\n",
       "        text-align: right;\n",
       "    }\n",
       "</style>\n",
       "<table border=\"1\" class=\"dataframe\">\n",
       "  <thead>\n",
       "    <tr style=\"text-align: right;\">\n",
       "      <th></th>\n",
       "      <th>writer</th>\n",
       "      <th>publisher</th>\n",
       "      <th>1st-edition</th>\n",
       "      <th>price</th>\n",
       "    </tr>\n",
       "    <tr>\n",
       "      <th>title</th>\n",
       "      <th></th>\n",
       "      <th></th>\n",
       "      <th></th>\n",
       "      <th></th>\n",
       "    </tr>\n",
       "  </thead>\n",
       "  <tbody>\n",
       "    <tr>\n",
       "      <th>개미</th>\n",
       "      <td>베르나르베르베르</td>\n",
       "      <td>열린책들</td>\n",
       "      <td>2013-05-30</td>\n",
       "      <td>15800</td>\n",
       "    </tr>\n",
       "    <tr>\n",
       "      <th>고구려</th>\n",
       "      <td>김진명</td>\n",
       "      <td>이타북스</td>\n",
       "      <td>2011-02-28</td>\n",
       "      <td>15800</td>\n",
       "    </tr>\n",
       "    <tr>\n",
       "      <th>드래곤라자</th>\n",
       "      <td>이영도</td>\n",
       "      <td>황금가지</td>\n",
       "      <td>1998-05-30</td>\n",
       "      <td>6300</td>\n",
       "    </tr>\n",
       "    <tr>\n",
       "      <th>퇴마록</th>\n",
       "      <td>이우혁</td>\n",
       "      <td>들녘</td>\n",
       "      <td>1994-01-01</td>\n",
       "      <td>8550</td>\n",
       "    </tr>\n",
       "  </tbody>\n",
       "</table>\n",
       "</div>"
      ],
      "text/plain": [
       "         writer publisher 1st-edition  price\n",
       "title                                       \n",
       "개미     베르나르베르베르      열린책들  2013-05-30  15800\n",
       "고구려         김진명      이타북스  2011-02-28  15800\n",
       "드래곤라자       이영도      황금가지  1998-05-30   6300\n",
       "퇴마록         이우혁        들녘  1994-01-01   8550"
      ]
     },
     "execution_count": 72,
     "metadata": {},
     "output_type": "execute_result"
    }
   ],
   "source": [
    "df_title\n",
    "# df_title은 제목이 index인 상태에요"
   ]
  },
  {
   "cell_type": "code",
   "execution_count": 71,
   "id": "135e49e3",
   "metadata": {},
   "outputs": [
    {
     "data": {
      "text/html": [
       "<div>\n",
       "<style scoped>\n",
       "    .dataframe tbody tr th:only-of-type {\n",
       "        vertical-align: middle;\n",
       "    }\n",
       "\n",
       "    .dataframe tbody tr th {\n",
       "        vertical-align: top;\n",
       "    }\n",
       "\n",
       "    .dataframe thead th {\n",
       "        text-align: right;\n",
       "    }\n",
       "</style>\n",
       "<table border=\"1\" class=\"dataframe\">\n",
       "  <thead>\n",
       "    <tr style=\"text-align: right;\">\n",
       "      <th></th>\n",
       "      <th>writer</th>\n",
       "      <th>publisher</th>\n",
       "      <th>1st-edition</th>\n",
       "      <th>price</th>\n",
       "    </tr>\n",
       "    <tr>\n",
       "      <th>title</th>\n",
       "      <th></th>\n",
       "      <th></th>\n",
       "      <th></th>\n",
       "      <th></th>\n",
       "    </tr>\n",
       "  </thead>\n",
       "  <tbody>\n",
       "    <tr>\n",
       "      <th>드래곤라자</th>\n",
       "      <td>이영도</td>\n",
       "      <td>황금가지</td>\n",
       "      <td>1998-05-30</td>\n",
       "      <td>6300</td>\n",
       "    </tr>\n",
       "    <tr>\n",
       "      <th>퇴마록</th>\n",
       "      <td>이우혁</td>\n",
       "      <td>들녘</td>\n",
       "      <td>1994-01-01</td>\n",
       "      <td>8550</td>\n",
       "    </tr>\n",
       "  </tbody>\n",
       "</table>\n",
       "</div>"
      ],
      "text/plain": [
       "      writer publisher 1st-edition  price\n",
       "title                                    \n",
       "드래곤라자    이영도      황금가지  1998-05-30   6300\n",
       "퇴마록      이우혁        들녘  1994-01-01   8550"
      ]
     },
     "execution_count": 71,
     "metadata": {},
     "output_type": "execute_result"
    }
   ],
   "source": [
    "df_title.loc[[\"드래곤라자\", \"퇴마록\"]]"
   ]
  },
  {
   "cell_type": "code",
   "execution_count": 73,
   "id": "7f2882fe",
   "metadata": {},
   "outputs": [
    {
     "data": {
      "text/plain": [
       "writer                    베르나르베르베르\n",
       "publisher                     열린책들\n",
       "1st-edition    2013-05-30 00:00:00\n",
       "price                        15800\n",
       "Name: 개미, dtype: object"
      ]
     },
     "execution_count": 73,
     "metadata": {},
     "output_type": "execute_result"
    }
   ],
   "source": [
    "df_title.iloc[0]\n",
    "# iloc : index location   인덱스에 있는 줄 하나를 row로 가져온다.\n",
    "# loc는 인덱스 이름으로 가져오는데 iloc는 번지수로 가져오는구나\n",
    "# ^^차이점"
   ]
  },
  {
   "cell_type": "code",
   "execution_count": 74,
   "id": "d55a20e1",
   "metadata": {},
   "outputs": [
    {
     "data": {
      "text/html": [
       "<div>\n",
       "<style scoped>\n",
       "    .dataframe tbody tr th:only-of-type {\n",
       "        vertical-align: middle;\n",
       "    }\n",
       "\n",
       "    .dataframe tbody tr th {\n",
       "        vertical-align: top;\n",
       "    }\n",
       "\n",
       "    .dataframe thead th {\n",
       "        text-align: right;\n",
       "    }\n",
       "</style>\n",
       "<table border=\"1\" class=\"dataframe\">\n",
       "  <thead>\n",
       "    <tr style=\"text-align: right;\">\n",
       "      <th></th>\n",
       "      <th>writer</th>\n",
       "      <th>publisher</th>\n",
       "      <th>1st-edition</th>\n",
       "      <th>price</th>\n",
       "    </tr>\n",
       "    <tr>\n",
       "      <th>title</th>\n",
       "      <th></th>\n",
       "      <th></th>\n",
       "      <th></th>\n",
       "      <th></th>\n",
       "    </tr>\n",
       "  </thead>\n",
       "  <tbody>\n",
       "    <tr>\n",
       "      <th>드래곤라자</th>\n",
       "      <td>이영도</td>\n",
       "      <td>황금가지</td>\n",
       "      <td>1998-05-30</td>\n",
       "      <td>6300</td>\n",
       "    </tr>\n",
       "    <tr>\n",
       "      <th>퇴마록</th>\n",
       "      <td>이우혁</td>\n",
       "      <td>들녘</td>\n",
       "      <td>1994-01-01</td>\n",
       "      <td>8550</td>\n",
       "    </tr>\n",
       "  </tbody>\n",
       "</table>\n",
       "</div>"
      ],
      "text/plain": [
       "      writer publisher 1st-edition  price\n",
       "title                                    \n",
       "드래곤라자    이영도      황금가지  1998-05-30   6300\n",
       "퇴마록      이우혁        들녘  1994-01-01   8550"
      ]
     },
     "execution_count": 74,
     "metadata": {},
     "output_type": "execute_result"
    }
   ],
   "source": [
    "df_title.iloc[2:4]"
   ]
  },
  {
   "cell_type": "code",
   "execution_count": null,
   "id": "77530881",
   "metadata": {},
   "outputs": [],
   "source": []
  }
 ],
 "metadata": {
  "kernelspec": {
   "display_name": "Python 3 (ipykernel)",
   "language": "python",
   "name": "python3"
  },
  "language_info": {
   "codemirror_mode": {
    "name": "ipython",
    "version": 3
   },
   "file_extension": ".py",
   "mimetype": "text/x-python",
   "name": "python",
   "nbconvert_exporter": "python",
   "pygments_lexer": "ipython3",
   "version": "3.10.11"
  }
 },
 "nbformat": 4,
 "nbformat_minor": 5
}
