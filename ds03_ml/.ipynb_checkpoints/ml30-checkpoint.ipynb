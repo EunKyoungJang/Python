{
 "cells": [
  {
   "cell_type": "markdown",
   "id": "c75f131b",
   "metadata": {},
   "source": [
    "lightgbm(Light Gradient Boosting Machine)\n",
    "- Microsoft Research (MSR) 을 중심으로 한 팀에서 발표\n",
    "- xgboost 와 매우 비슷(속도가 더 빠르고 가볍다.)\n",
    "-> XGB등 이전의 decision tree 기반 boosting은 높은 정밀도를 기대하는 반면, 분할하는데 시간이 걸렸다.\n",
    "\n",
    "특징\n",
    "- level wise에서 leaf wise : 손실이 가장 줄어드는 노드에서 나누기 \n",
    "- histogram based : 연속 값의 특징량을 히스토그램화하여 bin 단위로 분할\n",
    "- gradient-based one-side sampling(GOSS) : 기울기가 작은 데이터는 랜덤 샘플링\n",
    "- Excusive Feature Bundling(EFB) : 복수의 특징량을 bundle하고 정리해 하나의 특징량과 같이 취급\n",
    "\n",
    "\n",
    "xgboost의 단점을 개선했다.\n",
    "boosting 알고리즘이다 = 이전 학습내용을 다음 학습내용에 적용   문제는 이상치에 대한 영향을 많이 받는다.\n",
    "xgboost는 그런 오차를 적당히 잘라낼 수 있는 녀석\n",
    "lightgbm는 xgboost에서 좀 더 개선했다."
   ]
  },
  {
   "cell_type": "code",
   "execution_count": 21,
   "id": "52d5ddd5",
   "metadata": {},
   "outputs": [
    {
     "name": "stdout",
     "output_type": "stream",
     "text": [
      "Collecting lightgbm==3.3.5\n",
      "  Downloading lightgbm-3.3.5-py3-none-win_amd64.whl (1.0 MB)\n",
      "                                              0.0/1.0 MB ? eta -:--:--\n",
      "                                              0.0/1.0 MB ? eta -:--:--\n",
      "     -                                        0.0/1.0 MB 495.5 kB/s eta 0:00:02\n",
      "     ------------                             0.3/1.0 MB 2.8 MB/s eta 0:00:01\n",
      "     ------------------------------           0.8/1.0 MB 4.9 MB/s eta 0:00:01\n",
      "     ---------------------------------------  1.0/1.0 MB 5.9 MB/s eta 0:00:01\n",
      "     ---------------------------------------- 1.0/1.0 MB 5.0 MB/s eta 0:00:00\n",
      "Requirement already satisfied: wheel in c:\\program files (x86)\\anaconda3\\envs\\dsde04\\lib\\site-packages (from lightgbm==3.3.5) (0.38.4)\n",
      "Requirement already satisfied: numpy in c:\\program files (x86)\\anaconda3\\envs\\dsde04\\lib\\site-packages (from lightgbm==3.3.5) (1.23.5)\n",
      "Requirement already satisfied: scipy in c:\\program files (x86)\\anaconda3\\envs\\dsde04\\lib\\site-packages (from lightgbm==3.3.5) (1.10.1)\n",
      "Requirement already satisfied: scikit-learn!=0.22.0 in c:\\program files (x86)\\anaconda3\\envs\\dsde04\\lib\\site-packages (from lightgbm==3.3.5) (1.3.0)\n",
      "Requirement already satisfied: joblib>=1.1.1 in c:\\program files (x86)\\anaconda3\\envs\\dsde04\\lib\\site-packages (from scikit-learn!=0.22.0->lightgbm==3.3.5) (1.3.1)\n",
      "Requirement already satisfied: threadpoolctl>=2.0.0 in c:\\program files (x86)\\anaconda3\\envs\\dsde04\\lib\\site-packages (from scikit-learn!=0.22.0->lightgbm==3.3.5) (3.1.0)\n",
      "Installing collected packages: lightgbm\n",
      "Successfully installed lightgbm-3.3.5\n",
      "Note: you may need to restart the kernel to use updated packages.\n"
     ]
    }
   ],
   "source": [
    "# %pip install lightgbm==3.3.5"
   ]
  },
  {
   "cell_type": "code",
   "execution_count": 1,
   "id": "954d611c",
   "metadata": {},
   "outputs": [],
   "source": [
    "import lightgbm as lgb"
   ]
  },
  {
   "cell_type": "code",
   "execution_count": 2,
   "id": "90c02f98",
   "metadata": {},
   "outputs": [],
   "source": [
    "from sklearn.datasets import load_breast_cancer\n",
    "from sklearn.model_selection import train_test_split\n",
    "from sklearn.metrics import accuracy_score"
   ]
  },
  {
   "cell_type": "code",
   "execution_count": 3,
   "id": "356b4ca5",
   "metadata": {},
   "outputs": [
    {
     "data": {
      "text/plain": [
       "'3.3.5'"
      ]
     },
     "execution_count": 3,
     "metadata": {},
     "output_type": "execute_result"
    }
   ],
   "source": [
    "lgb.__version__"
   ]
  },
  {
   "cell_type": "code",
   "execution_count": 4,
   "id": "88357b44",
   "metadata": {},
   "outputs": [],
   "source": [
    "cancer = load_breast_cancer()\n",
    "x = cancer.data\n",
    "y = cancer.target"
   ]
  },
  {
   "cell_type": "code",
   "execution_count": 5,
   "id": "391393d3",
   "metadata": {},
   "outputs": [],
   "source": [
    "x_train, x_test, y_train, y_test = train_test_split(x, y, test_size=0.3, random_state=1)"
   ]
  },
  {
   "cell_type": "code",
   "execution_count": 6,
   "id": "7950750e",
   "metadata": {},
   "outputs": [],
   "source": [
    "\"\"\"\n",
    "boosting_type : defualt 'gbdt'\n",
    "    - gbdt : Gradient Boosting Decision Tree\n",
    "    - dart : Dropouts meet Multiple Additive Regerssion Trees\n",
    "    - rf : Random Forest\n",
    "\"\"\"\n",
    "\n",
    "model = lgb.LGBMClassifier(boosting_type=\"gbdt\", max_depth=5, n_jobs=-1, random_state=1)"
   ]
  },
  {
   "cell_type": "code",
   "execution_count": 7,
   "id": "5630ba7c",
   "metadata": {},
   "outputs": [
    {
     "name": "stdout",
     "output_type": "stream",
     "text": [
      "[1]\tvalid_0's binary_logloss: 0.589722\n",
      "[2]\tvalid_0's binary_logloss: 0.538687\n",
      "[3]\tvalid_0's binary_logloss: 0.494425\n",
      "[4]\tvalid_0's binary_logloss: 0.458171\n",
      "[5]\tvalid_0's binary_logloss: 0.430399\n",
      "[6]\tvalid_0's binary_logloss: 0.404291\n",
      "[7]\tvalid_0's binary_logloss: 0.375154\n",
      "[8]\tvalid_0's binary_logloss: 0.350736\n",
      "[9]\tvalid_0's binary_logloss: 0.332197\n",
      "[10]\tvalid_0's binary_logloss: 0.310245\n",
      "[11]\tvalid_0's binary_logloss: 0.296321\n",
      "[12]\tvalid_0's binary_logloss: 0.280628\n",
      "[13]\tvalid_0's binary_logloss: 0.26601\n",
      "[14]\tvalid_0's binary_logloss: 0.253103\n",
      "[15]\tvalid_0's binary_logloss: 0.238807\n",
      "[16]\tvalid_0's binary_logloss: 0.232099\n",
      "[17]\tvalid_0's binary_logloss: 0.219775\n",
      "[18]\tvalid_0's binary_logloss: 0.211003\n",
      "[19]\tvalid_0's binary_logloss: 0.204291\n",
      "[20]\tvalid_0's binary_logloss: 0.195394\n",
      "[21]\tvalid_0's binary_logloss: 0.189031\n",
      "[22]\tvalid_0's binary_logloss: 0.183785\n",
      "[23]\tvalid_0's binary_logloss: 0.178688\n",
      "[24]\tvalid_0's binary_logloss: 0.173643\n",
      "[25]\tvalid_0's binary_logloss: 0.168697\n",
      "[26]\tvalid_0's binary_logloss: 0.165059\n",
      "[27]\tvalid_0's binary_logloss: 0.162012\n",
      "[28]\tvalid_0's binary_logloss: 0.159073\n",
      "[29]\tvalid_0's binary_logloss: 0.156794\n",
      "[30]\tvalid_0's binary_logloss: 0.154139\n",
      "[31]\tvalid_0's binary_logloss: 0.151319\n",
      "[32]\tvalid_0's binary_logloss: 0.147881\n",
      "[33]\tvalid_0's binary_logloss: 0.146777\n",
      "[34]\tvalid_0's binary_logloss: 0.144882\n",
      "[35]\tvalid_0's binary_logloss: 0.141772\n",
      "[36]\tvalid_0's binary_logloss: 0.139831\n",
      "[37]\tvalid_0's binary_logloss: 0.137325\n",
      "[38]\tvalid_0's binary_logloss: 0.136482\n",
      "[39]\tvalid_0's binary_logloss: 0.133643\n",
      "[40]\tvalid_0's binary_logloss: 0.133366\n",
      "[41]\tvalid_0's binary_logloss: 0.13336\n",
      "[42]\tvalid_0's binary_logloss: 0.131769\n",
      "[43]\tvalid_0's binary_logloss: 0.130508\n",
      "[44]\tvalid_0's binary_logloss: 0.131077\n",
      "[45]\tvalid_0's binary_logloss: 0.130148\n",
      "[46]\tvalid_0's binary_logloss: 0.128733\n",
      "[47]\tvalid_0's binary_logloss: 0.129495\n",
      "[48]\tvalid_0's binary_logloss: 0.128073\n",
      "[49]\tvalid_0's binary_logloss: 0.127072\n",
      "[50]\tvalid_0's binary_logloss: 0.125341\n",
      "[51]\tvalid_0's binary_logloss: 0.124812\n",
      "[52]\tvalid_0's binary_logloss: 0.123062\n",
      "[53]\tvalid_0's binary_logloss: 0.122817\n",
      "[54]\tvalid_0's binary_logloss: 0.122081\n",
      "[55]\tvalid_0's binary_logloss: 0.120905\n",
      "[56]\tvalid_0's binary_logloss: 0.119967\n",
      "[57]\tvalid_0's binary_logloss: 0.119487\n",
      "[58]\tvalid_0's binary_logloss: 0.118922\n",
      "[59]\tvalid_0's binary_logloss: 0.120675\n",
      "[60]\tvalid_0's binary_logloss: 0.120207\n",
      "[61]\tvalid_0's binary_logloss: 0.120818\n",
      "[62]\tvalid_0's binary_logloss: 0.121317\n",
      "[63]\tvalid_0's binary_logloss: 0.120342\n",
      "[64]\tvalid_0's binary_logloss: 0.120906\n",
      "[65]\tvalid_0's binary_logloss: 0.122222\n",
      "[66]\tvalid_0's binary_logloss: 0.120697\n",
      "[67]\tvalid_0's binary_logloss: 0.12136\n",
      "[68]\tvalid_0's binary_logloss: 0.121001\n"
     ]
    },
    {
     "name": "stderr",
     "output_type": "stream",
     "text": [
      "C:\\Program Files (x86)\\ANACONDA3\\envs\\dsde04\\lib\\site-packages\\lightgbm\\sklearn.py:726: UserWarning: 'early_stopping_rounds' argument is deprecated and will be removed in a future release of LightGBM. Pass 'early_stopping()' callback via 'callbacks' argument instead.\n",
      "  _log_warning(\"'early_stopping_rounds' argument is deprecated and will be removed in a future release of LightGBM. \"\n",
      "C:\\Program Files (x86)\\ANACONDA3\\envs\\dsde04\\lib\\site-packages\\lightgbm\\sklearn.py:736: UserWarning: 'verbose' argument is deprecated and will be removed in a future release of LightGBM. Pass 'log_evaluation()' callback via 'callbacks' argument instead.\n",
      "  _log_warning(\"'verbose' argument is deprecated and will be removed in a future release of LightGBM. \"\n"
     ]
    },
    {
     "data": {
      "text/html": [
       "<style>#sk-container-id-1 {color: black;}#sk-container-id-1 pre{padding: 0;}#sk-container-id-1 div.sk-toggleable {background-color: white;}#sk-container-id-1 label.sk-toggleable__label {cursor: pointer;display: block;width: 100%;margin-bottom: 0;padding: 0.3em;box-sizing: border-box;text-align: center;}#sk-container-id-1 label.sk-toggleable__label-arrow:before {content: \"▸\";float: left;margin-right: 0.25em;color: #696969;}#sk-container-id-1 label.sk-toggleable__label-arrow:hover:before {color: black;}#sk-container-id-1 div.sk-estimator:hover label.sk-toggleable__label-arrow:before {color: black;}#sk-container-id-1 div.sk-toggleable__content {max-height: 0;max-width: 0;overflow: hidden;text-align: left;background-color: #f0f8ff;}#sk-container-id-1 div.sk-toggleable__content pre {margin: 0.2em;color: black;border-radius: 0.25em;background-color: #f0f8ff;}#sk-container-id-1 input.sk-toggleable__control:checked~div.sk-toggleable__content {max-height: 200px;max-width: 100%;overflow: auto;}#sk-container-id-1 input.sk-toggleable__control:checked~label.sk-toggleable__label-arrow:before {content: \"▾\";}#sk-container-id-1 div.sk-estimator input.sk-toggleable__control:checked~label.sk-toggleable__label {background-color: #d4ebff;}#sk-container-id-1 div.sk-label input.sk-toggleable__control:checked~label.sk-toggleable__label {background-color: #d4ebff;}#sk-container-id-1 input.sk-hidden--visually {border: 0;clip: rect(1px 1px 1px 1px);clip: rect(1px, 1px, 1px, 1px);height: 1px;margin: -1px;overflow: hidden;padding: 0;position: absolute;width: 1px;}#sk-container-id-1 div.sk-estimator {font-family: monospace;background-color: #f0f8ff;border: 1px dotted black;border-radius: 0.25em;box-sizing: border-box;margin-bottom: 0.5em;}#sk-container-id-1 div.sk-estimator:hover {background-color: #d4ebff;}#sk-container-id-1 div.sk-parallel-item::after {content: \"\";width: 100%;border-bottom: 1px solid gray;flex-grow: 1;}#sk-container-id-1 div.sk-label:hover label.sk-toggleable__label {background-color: #d4ebff;}#sk-container-id-1 div.sk-serial::before {content: \"\";position: absolute;border-left: 1px solid gray;box-sizing: border-box;top: 0;bottom: 0;left: 50%;z-index: 0;}#sk-container-id-1 div.sk-serial {display: flex;flex-direction: column;align-items: center;background-color: white;padding-right: 0.2em;padding-left: 0.2em;position: relative;}#sk-container-id-1 div.sk-item {position: relative;z-index: 1;}#sk-container-id-1 div.sk-parallel {display: flex;align-items: stretch;justify-content: center;background-color: white;position: relative;}#sk-container-id-1 div.sk-item::before, #sk-container-id-1 div.sk-parallel-item::before {content: \"\";position: absolute;border-left: 1px solid gray;box-sizing: border-box;top: 0;bottom: 0;left: 50%;z-index: -1;}#sk-container-id-1 div.sk-parallel-item {display: flex;flex-direction: column;z-index: 1;position: relative;background-color: white;}#sk-container-id-1 div.sk-parallel-item:first-child::after {align-self: flex-end;width: 50%;}#sk-container-id-1 div.sk-parallel-item:last-child::after {align-self: flex-start;width: 50%;}#sk-container-id-1 div.sk-parallel-item:only-child::after {width: 0;}#sk-container-id-1 div.sk-dashed-wrapped {border: 1px dashed gray;margin: 0 0.4em 0.5em 0.4em;box-sizing: border-box;padding-bottom: 0.4em;background-color: white;}#sk-container-id-1 div.sk-label label {font-family: monospace;font-weight: bold;display: inline-block;line-height: 1.2em;}#sk-container-id-1 div.sk-label-container {text-align: center;}#sk-container-id-1 div.sk-container {/* jupyter's `normalize.less` sets `[hidden] { display: none; }` but bootstrap.min.css set `[hidden] { display: none !important; }` so we also need the `!important` here to be able to override the default hidden behavior on the sphinx rendered scikit-learn.org. See: https://github.com/scikit-learn/scikit-learn/issues/21755 */display: inline-block !important;position: relative;}#sk-container-id-1 div.sk-text-repr-fallback {display: none;}</style><div id=\"sk-container-id-1\" class=\"sk-top-container\"><div class=\"sk-text-repr-fallback\"><pre>LGBMClassifier(max_depth=5, random_state=1)</pre><b>In a Jupyter environment, please rerun this cell to show the HTML representation or trust the notebook. <br />On GitHub, the HTML representation is unable to render, please try loading this page with nbviewer.org.</b></div><div class=\"sk-container\" hidden><div class=\"sk-item\"><div class=\"sk-estimator sk-toggleable\"><input class=\"sk-toggleable__control sk-hidden--visually\" id=\"sk-estimator-id-1\" type=\"checkbox\" checked><label for=\"sk-estimator-id-1\" class=\"sk-toggleable__label sk-toggleable__label-arrow\">LGBMClassifier</label><div class=\"sk-toggleable__content\"><pre>LGBMClassifier(max_depth=5, random_state=1)</pre></div></div></div></div></div>"
      ],
      "text/plain": [
       "LGBMClassifier(max_depth=5, random_state=1)"
      ]
     },
     "execution_count": 7,
     "metadata": {},
     "output_type": "execute_result"
    }
   ],
   "source": [
    "eval_set = [(x_test, y_test)]\n",
    "model.fit(x_train, y_train, eval_set = eval_set, early_stopping_rounds=10, verbose=True)"
   ]
  },
  {
   "cell_type": "code",
   "execution_count": 8,
   "id": "259ff2a6",
   "metadata": {},
   "outputs": [
    {
     "data": {
      "text/plain": [
       "58"
      ]
     },
     "execution_count": 8,
     "metadata": {},
     "output_type": "execute_result"
    }
   ],
   "source": [
    "model.best_iteration_"
   ]
  },
  {
   "cell_type": "markdown",
   "id": "43da5bfb",
   "metadata": {},
   "source": []
  },
  {
   "cell_type": "code",
   "execution_count": null,
   "id": "119ea2a9",
   "metadata": {},
   "outputs": [],
   "source": []
  },
  {
   "cell_type": "code",
   "execution_count": null,
   "id": "b3cf27b1",
   "metadata": {},
   "outputs": [],
   "source": []
  }
 ],
 "metadata": {
  "kernelspec": {
   "display_name": "Python 3 (ipykernel)",
   "language": "python",
   "name": "python3"
  },
  "language_info": {
   "codemirror_mode": {
    "name": "ipython",
    "version": 3
   },
   "file_extension": ".py",
   "mimetype": "text/x-python",
   "name": "python",
   "nbconvert_exporter": "python",
   "pygments_lexer": "ipython3",
   "version": "3.10.11"
  }
 },
 "nbformat": 4,
 "nbformat_minor": 5
}
