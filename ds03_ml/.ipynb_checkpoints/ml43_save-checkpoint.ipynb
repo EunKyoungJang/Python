{
 "cells": [
  {
   "cell_type": "code",
   "execution_count": 1,
   "id": "caf9c384",
   "metadata": {},
   "outputs": [],
   "source": [
    "from sklearn.ensemble import RandomForestClassifier\n",
    "from sklearn.datasets import load_iris\n",
    "import joblib"
   ]
  },
  {
   "cell_type": "code",
   "execution_count": 2,
   "id": "e493d294",
   "metadata": {},
   "outputs": [],
   "source": [
    "iris = load_iris()"
   ]
  },
  {
   "cell_type": "code",
   "execution_count": 4,
   "id": "b457bfb9",
   "metadata": {},
   "outputs": [],
   "source": [
    "model = RandomForestClassifier().fit(iris.data, iris.target)"
   ]
  },
  {
   "cell_type": "code",
   "execution_count": 5,
   "id": "49dddda1",
   "metadata": {},
   "outputs": [
    {
     "data": {
      "text/plain": [
       "['iris_random_forest.pkl']"
      ]
     },
     "execution_count": 5,
     "metadata": {},
     "output_type": "execute_result"
    }
   ],
   "source": [
    "# picing(sklearn은 python객체로 저장)\n",
    "joblib.dump(model, \"iris_random_forest.pkl\")"
   ]
  },
  {
   "cell_type": "code",
   "execution_count": null,
   "id": "dffa2f4a",
   "metadata": {},
   "outputs": [],
   "source": [
    "# picing: 파이썬 객체 저장\n",
    "# unpicing : 파이썬으로 다시 불러오기\n",
    "\n",
    "# 원하는 것만 빼서 공유하겠다 43-44 파일"
   ]
  }
 ],
 "metadata": {
  "kernelspec": {
   "display_name": "Python 3 (ipykernel)",
   "language": "python",
   "name": "python3"
  },
  "language_info": {
   "codemirror_mode": {
    "name": "ipython",
    "version": 3
   },
   "file_extension": ".py",
   "mimetype": "text/x-python",
   "name": "python",
   "nbconvert_exporter": "python",
   "pygments_lexer": "ipython3",
   "version": "3.10.11"
  }
 },
 "nbformat": 4,
 "nbformat_minor": 5
}
