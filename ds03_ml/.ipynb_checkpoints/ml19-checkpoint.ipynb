{
 "cells": [
  {
   "cell_type": "code",
   "execution_count": 6,
   "id": "40301288",
   "metadata": {},
   "outputs": [],
   "source": [
    "from sklearn.datasets import load_iris\n",
    "from sklearn.model_selection import train_test_split\n",
    "from sklearn.svm import SVC"
   ]
  },
  {
   "cell_type": "code",
   "execution_count": null,
   "id": "079cd8c5",
   "metadata": {},
   "outputs": [],
   "source": [
    "Linear SVC"
   ]
  },
  {
   "cell_type": "code",
   "execution_count": 7,
   "id": "36abb2b3",
   "metadata": {},
   "outputs": [],
   "source": [
    "# 모델의 학습 결과를 조금 더 높이기 위해서 하는게 하이터파라미터 튜닝이라고 한다.\n",
    "# 어떤 값일 때 학습이 더 잘되나 한 번 확인해보자"
   ]
  },
  {
   "cell_type": "code",
   "execution_count": null,
   "id": "ef306331",
   "metadata": {},
   "outputs": [],
   "source": [
    "# 훈련을 하기 위한 train\n",
    "# 하이퍼 파라미터 튜닝을 위한 valid  \n",
    "# 모델을 검증을 위한 test  \n",
    "# train valid test\n",
    "# train_test_split은 2가지로밖에 못 나눔\n",
    "# 20%를 테스트로 놓고 싶어요 20% (0.2)\n",
    "# 80% 20%(test) "
   ]
  },
  {
   "cell_type": "code",
   "execution_count": 8,
   "id": "a2428408",
   "metadata": {},
   "outputs": [],
   "source": [
    "iris = load_iris()\n",
    "x_train_valid, x_test, y_train_valid, y_test = train_test_split(iris.data, iris.target, test_size=0.2, random_state=1)"
   ]
  },
  {
   "cell_type": "code",
   "execution_count": 10,
   "id": "77a5f0c8",
   "metadata": {},
   "outputs": [],
   "source": [
    "x_train, x_valid, y_train, y_valid = train_test_split(x_train_valid, y_train_valid, test_size=0.25, random_state=1)"
   ]
  },
  {
   "cell_type": "code",
   "execution_count": 13,
   "id": "4b06f964",
   "metadata": {},
   "outputs": [
    {
     "name": "stdout",
     "output_type": "stream",
     "text": [
      "train:90|n valid:30|ntest:30\n"
     ]
    }
   ],
   "source": [
    "print(f\"train:{x_train.shape[0]}|n valid:{x_valid.shape[0]}|n\" + f\"test:{x_test.shape[0]}\")"
   ]
  },
  {
   "cell_type": "code",
   "execution_count": 21,
   "id": "1a6e04b8",
   "metadata": {},
   "outputs": [
    {
     "name": "stdout",
     "output_type": "stream",
     "text": [
      "train: 90\n",
      "valid: 30\n",
      "test: 30\n"
     ]
    }
   ],
   "source": [
    "print(f\"train: {x_train.shape[0]}\")\n",
    "print(f\"valid: {x_valid.shape[0]}\")\n",
    "print(f\"test: {x_test.shape[0]}\")"
   ]
  },
  {
   "cell_type": "code",
   "execution_count": 14,
   "id": "901ad0c1",
   "metadata": {},
   "outputs": [],
   "source": [
    "# 둘의 차이점\n",
    "# train data 모델이 재료로 만들어져 있는지 마지막에 딱 한 번만 볼거야\n",
    "# valid = 반복적으로 사용가능"
   ]
  },
  {
   "cell_type": "code",
   "execution_count": 22,
   "id": "84e2c00f",
   "metadata": {},
   "outputs": [
    {
     "name": "stdout",
     "output_type": "stream",
     "text": [
      "gamma:0.001|C:0.001 -> score:0.36666666666666664\n",
      "gamma:0.001|C:0.01 -> score:0.36666666666666664\n",
      "gamma:0.001|C:0.1 -> score:0.36666666666666664\n",
      "gamma:0.001|C:1 -> score:0.6666666666666666\n",
      "gamma:0.001|C:10 -> score:0.9666666666666667\n",
      "gamma:0.001|C:100 -> score:0.9666666666666667\n",
      "gamma:0.01|C:0.001 -> score:0.36666666666666664\n",
      "gamma:0.01|C:0.01 -> score:0.36666666666666664\n",
      "gamma:0.01|C:0.1 -> score:0.6666666666666666\n",
      "gamma:0.01|C:1 -> score:0.9666666666666667\n",
      "gamma:0.01|C:10 -> score:0.9666666666666667\n",
      "gamma:0.01|C:100 -> score:0.9666666666666667\n",
      "gamma:0.1|C:0.001 -> score:0.36666666666666664\n",
      "gamma:0.1|C:0.01 -> score:0.36666666666666664\n",
      "gamma:0.1|C:0.1 -> score:0.9333333333333333\n",
      "gamma:0.1|C:1 -> score:0.9666666666666667\n",
      "gamma:0.1|C:10 -> score:0.9666666666666667\n",
      "gamma:0.1|C:100 -> score:0.9666666666666667\n",
      "gamma:1|C:0.001 -> score:0.36666666666666664\n",
      "gamma:1|C:0.01 -> score:0.36666666666666664\n",
      "gamma:1|C:0.1 -> score:0.9666666666666667\n",
      "gamma:1|C:1 -> score:0.9666666666666667\n",
      "gamma:1|C:10 -> score:0.9666666666666667\n",
      "gamma:1|C:100 -> score:0.9333333333333333\n",
      "gamma:10|C:0.001 -> score:0.36666666666666664\n",
      "gamma:10|C:0.01 -> score:0.36666666666666664\n",
      "gamma:10|C:0.1 -> score:0.4\n",
      "gamma:10|C:1 -> score:0.9\n",
      "gamma:10|C:10 -> score:0.9333333333333333\n",
      "gamma:10|C:100 -> score:0.9333333333333333\n",
      "gamma:100|C:0.001 -> score:0.36666666666666664\n",
      "gamma:100|C:0.01 -> score:0.36666666666666664\n",
      "gamma:100|C:0.1 -> score:0.36666666666666664\n",
      "gamma:100|C:1 -> score:0.5333333333333333\n",
      "gamma:100|C:10 -> score:0.5666666666666667\n",
      "gamma:100|C:100 -> score:0.5666666666666667\n"
     ]
    }
   ],
   "source": [
    "best_score = 0\n",
    "for gamma in [0.001, 0.01, 0.1, 1, 10, 100]:\n",
    "    for C in [0.001, 0.01, 0.1, 1, 10, 100]:\n",
    "        model = SVC(gamma=gamma, C=C)\n",
    "        model.fit(x_train, y_train)\n",
    "        score = model.score(x_valid, y_valid)\n",
    "        \n",
    "        print(f\"gamma:{gamma}|C:{C} -> score:{score}\")\n",
    "        \n",
    "        if score > best_score:\n",
    "            best_score = score\n",
    "            best_parameters = {\"gamma\": gamma, \"C\": C}\n",
    "        \n",
    "# svc에서 gamma랑 c 역할은?\n",
    "# gamma : 경계의 복잡도 (서포트 벡터의 영향력이 미치는 거리 - 표준 편차)\n",
    "# C(cost) : 이상치 혀용 (낮으면 많이 허용, 높으면 적게 허용)\n",
    "\n",
    "\n",
    "# model = SVC(gamma=gamma, C=C) 해당 모델의 파라미터를 바꾸면서 성능을 높여주자\n",
    "# 점수가 가장 잘 나오는 gamma와 C는 누구냐?\n",
    "# 아래처럼 바꾸면서 score가 가장 높은 값을 찾고 싶어요~\n",
    "# 내가 바꿔볼 수 있는건 이것저것 바꿔보면서 성능을 높여주고 싶어"
   ]
  },
  {
   "cell_type": "code",
   "execution_count": 16,
   "id": "91a7796b",
   "metadata": {},
   "outputs": [],
   "source": [
    "best_model = SVC(**best_parameters)"
   ]
  },
  {
   "cell_type": "code",
   "execution_count": 18,
   "id": "f732d03a",
   "metadata": {},
   "outputs": [],
   "source": [
    "best_model.fit(x_train_valid, y_train_valid)\n",
    "test_score = best_model.score(x_test, y_test)"
   ]
  },
  {
   "cell_type": "code",
   "execution_count": 19,
   "id": "010fbf20",
   "metadata": {},
   "outputs": [
    {
     "name": "stdout",
     "output_type": "stream",
     "text": [
      "valid best score : 0.9666666666666667\n",
      "best params : {'gamma': 0.001, 'C': 10}\n",
      "test score : 0.9333333333333333\n"
     ]
    }
   ],
   "source": [
    "print(f\"valid best score : {best_score}\")\n",
    "print(f\"best params : {best_parameters}\")\n",
    "print(f\"test score : {test_score}\")"
   ]
  },
  {
   "cell_type": "code",
   "execution_count": 24,
   "id": "71918cb4",
   "metadata": {},
   "outputs": [],
   "source": [
    "# 근데 일일히 저렇게 for gamma in [0.001, 0.01, 0.1, 1, 10, 100]: 하나하나 지정해줘야되??\n",
    "from sklearn.model_selection import GridSearchCV"
   ]
  },
  {
   "cell_type": "code",
   "execution_count": 25,
   "id": "bcf41df9",
   "metadata": {},
   "outputs": [],
   "source": [
    "x_train, x_test, y_train, y_test = train_test_split(iris.data, iris.target, test_size=0.2, random_state=1)"
   ]
  },
  {
   "cell_type": "code",
   "execution_count": 28,
   "id": "87b59000",
   "metadata": {},
   "outputs": [
    {
     "data": {
      "text/plain": [
       "dict_keys(['C', 'break_ties', 'cache_size', 'class_weight', 'coef0', 'decision_function_shape', 'degree', 'gamma', 'kernel', 'max_iter', 'probability', 'random_state', 'shrinking', 'tol', 'verbose'])"
      ]
     },
     "execution_count": 28,
     "metadata": {},
     "output_type": "execute_result"
    }
   ],
   "source": [
    "model = SVC()\n",
    "model.get_params().keys()\n",
    "# 이 모델에서 사용할 수 있는 prameter들이 나온다."
   ]
  },
  {
   "cell_type": "code",
   "execution_count": 31,
   "id": "265847a8",
   "metadata": {},
   "outputs": [
    {
     "name": "stderr",
     "output_type": "stream",
     "text": [
      "C:\\Program Files (x86)\\ANACONDA3\\envs\\dsde04\\lib\\site-packages\\sklearn\\model_selection\\_validation.py:425: FitFailedWarning: \n",
      "10 fits failed out of a total of 40.\n",
      "The score on these train-test partitions for these parameters will be set to nan.\n",
      "If these failures are not expected, you can try to debug them by setting error_score='raise'.\n",
      "\n",
      "Below are more details about the failures:\n",
      "--------------------------------------------------------------------------------\n",
      "10 fits failed with the following error:\n",
      "Traceback (most recent call last):\n",
      "  File \"C:\\Program Files (x86)\\ANACONDA3\\envs\\dsde04\\lib\\site-packages\\sklearn\\model_selection\\_validation.py\", line 732, in _fit_and_score\n",
      "    estimator.fit(X_train, y_train, **fit_params)\n",
      "  File \"C:\\Program Files (x86)\\ANACONDA3\\envs\\dsde04\\lib\\site-packages\\sklearn\\base.py\", line 1144, in wrapper\n",
      "    estimator._validate_params()\n",
      "  File \"C:\\Program Files (x86)\\ANACONDA3\\envs\\dsde04\\lib\\site-packages\\sklearn\\base.py\", line 637, in _validate_params\n",
      "    validate_parameter_constraints(\n",
      "  File \"C:\\Program Files (x86)\\ANACONDA3\\envs\\dsde04\\lib\\site-packages\\sklearn\\utils\\_param_validation.py\", line 95, in validate_parameter_constraints\n",
      "    raise InvalidParameterError(\n",
      "sklearn.utils._param_validation.InvalidParameterError: The 'kernel' parameter of SVC must be a str among {'sigmoid', 'rbf', 'linear', 'poly', 'precomputed'} or a callable. Got 'ploy' instead.\n",
      "\n",
      "  warnings.warn(some_fits_failed_message, FitFailedWarning)\n",
      "C:\\Program Files (x86)\\ANACONDA3\\envs\\dsde04\\lib\\site-packages\\sklearn\\model_selection\\_search.py:976: UserWarning: One or more of the test scores are non-finite: [0.98333333        nan 0.975      0.36666667 0.975             nan\n",
      " 0.975      0.36666667]\n",
      "  warnings.warn(\n"
     ]
    },
    {
     "data": {
      "text/html": [
       "<style>#sk-container-id-1 {color: black;}#sk-container-id-1 pre{padding: 0;}#sk-container-id-1 div.sk-toggleable {background-color: white;}#sk-container-id-1 label.sk-toggleable__label {cursor: pointer;display: block;width: 100%;margin-bottom: 0;padding: 0.3em;box-sizing: border-box;text-align: center;}#sk-container-id-1 label.sk-toggleable__label-arrow:before {content: \"▸\";float: left;margin-right: 0.25em;color: #696969;}#sk-container-id-1 label.sk-toggleable__label-arrow:hover:before {color: black;}#sk-container-id-1 div.sk-estimator:hover label.sk-toggleable__label-arrow:before {color: black;}#sk-container-id-1 div.sk-toggleable__content {max-height: 0;max-width: 0;overflow: hidden;text-align: left;background-color: #f0f8ff;}#sk-container-id-1 div.sk-toggleable__content pre {margin: 0.2em;color: black;border-radius: 0.25em;background-color: #f0f8ff;}#sk-container-id-1 input.sk-toggleable__control:checked~div.sk-toggleable__content {max-height: 200px;max-width: 100%;overflow: auto;}#sk-container-id-1 input.sk-toggleable__control:checked~label.sk-toggleable__label-arrow:before {content: \"▾\";}#sk-container-id-1 div.sk-estimator input.sk-toggleable__control:checked~label.sk-toggleable__label {background-color: #d4ebff;}#sk-container-id-1 div.sk-label input.sk-toggleable__control:checked~label.sk-toggleable__label {background-color: #d4ebff;}#sk-container-id-1 input.sk-hidden--visually {border: 0;clip: rect(1px 1px 1px 1px);clip: rect(1px, 1px, 1px, 1px);height: 1px;margin: -1px;overflow: hidden;padding: 0;position: absolute;width: 1px;}#sk-container-id-1 div.sk-estimator {font-family: monospace;background-color: #f0f8ff;border: 1px dotted black;border-radius: 0.25em;box-sizing: border-box;margin-bottom: 0.5em;}#sk-container-id-1 div.sk-estimator:hover {background-color: #d4ebff;}#sk-container-id-1 div.sk-parallel-item::after {content: \"\";width: 100%;border-bottom: 1px solid gray;flex-grow: 1;}#sk-container-id-1 div.sk-label:hover label.sk-toggleable__label {background-color: #d4ebff;}#sk-container-id-1 div.sk-serial::before {content: \"\";position: absolute;border-left: 1px solid gray;box-sizing: border-box;top: 0;bottom: 0;left: 50%;z-index: 0;}#sk-container-id-1 div.sk-serial {display: flex;flex-direction: column;align-items: center;background-color: white;padding-right: 0.2em;padding-left: 0.2em;position: relative;}#sk-container-id-1 div.sk-item {position: relative;z-index: 1;}#sk-container-id-1 div.sk-parallel {display: flex;align-items: stretch;justify-content: center;background-color: white;position: relative;}#sk-container-id-1 div.sk-item::before, #sk-container-id-1 div.sk-parallel-item::before {content: \"\";position: absolute;border-left: 1px solid gray;box-sizing: border-box;top: 0;bottom: 0;left: 50%;z-index: -1;}#sk-container-id-1 div.sk-parallel-item {display: flex;flex-direction: column;z-index: 1;position: relative;background-color: white;}#sk-container-id-1 div.sk-parallel-item:first-child::after {align-self: flex-end;width: 50%;}#sk-container-id-1 div.sk-parallel-item:last-child::after {align-self: flex-start;width: 50%;}#sk-container-id-1 div.sk-parallel-item:only-child::after {width: 0;}#sk-container-id-1 div.sk-dashed-wrapped {border: 1px dashed gray;margin: 0 0.4em 0.5em 0.4em;box-sizing: border-box;padding-bottom: 0.4em;background-color: white;}#sk-container-id-1 div.sk-label label {font-family: monospace;font-weight: bold;display: inline-block;line-height: 1.2em;}#sk-container-id-1 div.sk-label-container {text-align: center;}#sk-container-id-1 div.sk-container {/* jupyter's `normalize.less` sets `[hidden] { display: none; }` but bootstrap.min.css set `[hidden] { display: none !important; }` so we also need the `!important` here to be able to override the default hidden behavior on the sphinx rendered scikit-learn.org. See: https://github.com/scikit-learn/scikit-learn/issues/21755 */display: inline-block !important;position: relative;}#sk-container-id-1 div.sk-text-repr-fallback {display: none;}</style><div id=\"sk-container-id-1\" class=\"sk-top-container\"><div class=\"sk-text-repr-fallback\"><pre>GridSearchCV(estimator=SVC(),\n",
       "             param_grid={&#x27;C&#x27;: [1, 2],\n",
       "                         &#x27;kernel&#x27;: [&#x27;linear&#x27;, &#x27;ploy&#x27;, &#x27;rbf&#x27;, &#x27;sigmoid&#x27;]})</pre><b>In a Jupyter environment, please rerun this cell to show the HTML representation or trust the notebook. <br />On GitHub, the HTML representation is unable to render, please try loading this page with nbviewer.org.</b></div><div class=\"sk-container\" hidden><div class=\"sk-item sk-dashed-wrapped\"><div class=\"sk-label-container\"><div class=\"sk-label sk-toggleable\"><input class=\"sk-toggleable__control sk-hidden--visually\" id=\"sk-estimator-id-1\" type=\"checkbox\" ><label for=\"sk-estimator-id-1\" class=\"sk-toggleable__label sk-toggleable__label-arrow\">GridSearchCV</label><div class=\"sk-toggleable__content\"><pre>GridSearchCV(estimator=SVC(),\n",
       "             param_grid={&#x27;C&#x27;: [1, 2],\n",
       "                         &#x27;kernel&#x27;: [&#x27;linear&#x27;, &#x27;ploy&#x27;, &#x27;rbf&#x27;, &#x27;sigmoid&#x27;]})</pre></div></div></div><div class=\"sk-parallel\"><div class=\"sk-parallel-item\"><div class=\"sk-item\"><div class=\"sk-label-container\"><div class=\"sk-label sk-toggleable\"><input class=\"sk-toggleable__control sk-hidden--visually\" id=\"sk-estimator-id-2\" type=\"checkbox\" ><label for=\"sk-estimator-id-2\" class=\"sk-toggleable__label sk-toggleable__label-arrow\">estimator: SVC</label><div class=\"sk-toggleable__content\"><pre>SVC()</pre></div></div></div><div class=\"sk-serial\"><div class=\"sk-item\"><div class=\"sk-estimator sk-toggleable\"><input class=\"sk-toggleable__control sk-hidden--visually\" id=\"sk-estimator-id-3\" type=\"checkbox\" ><label for=\"sk-estimator-id-3\" class=\"sk-toggleable__label sk-toggleable__label-arrow\">SVC</label><div class=\"sk-toggleable__content\"><pre>SVC()</pre></div></div></div></div></div></div></div></div></div></div>"
      ],
      "text/plain": [
       "GridSearchCV(estimator=SVC(),\n",
       "             param_grid={'C': [1, 2],\n",
       "                         'kernel': ['linear', 'ploy', 'rbf', 'sigmoid']})"
      ]
     },
     "execution_count": 31,
     "metadata": {},
     "output_type": "execute_result"
    }
   ],
   "source": [
    "kernel_list = [\"linear\", \"ploy\", \"rbf\", \"sigmoid\"]\n",
    "C_list = [1, 2]\n",
    "params = {\"kernel\":kernel_list, \"C\":C_list}\n",
    "# 모델도 여러개 넣을 수 있어요. 그건 각자 해보기\n",
    "\n",
    "gscv_model = GridSearchCV(model, params)\n",
    "gscv_model.fit(x_train, y_train)\n",
    "# kernel 초평면의 형태"
   ]
  },
  {
   "cell_type": "code",
   "execution_count": 33,
   "id": "92aaa59c",
   "metadata": {},
   "outputs": [
    {
     "name": "stdout",
     "output_type": "stream",
     "text": [
      "score:1.0\n",
      "best params : {'C': 1, 'kernel': 'linear'}\n",
      "best valid score : 0.9833333333333334\n",
      "best model : SVC(C=1, kernel='linear')\n"
     ]
    }
   ],
   "source": [
    "print(f\"score:{gscv_model.score(x_test, y_test)}\")\n",
    "print(f\"best params : {gscv_model.best_params_}\")\n",
    "print(f\"best valid score : {gscv_model.best_score_}\")\n",
    "print(f\"best model : {gscv_model.best_estimator_}\")"
   ]
  },
  {
   "cell_type": "code",
   "execution_count": null,
   "id": "8285cced",
   "metadata": {},
   "outputs": [],
   "source": []
  },
  {
   "cell_type": "code",
   "execution_count": null,
   "id": "9ff76bfb",
   "metadata": {},
   "outputs": [],
   "source": [
    "#학습 결과 (=모델 성능)더 좋게 검증 데이터셋을 추가하자 : k\n",
    "5개 디폴트 4개 학습하고 1개 검증하자\n",
    "\n",
    "fold cross validation\n",
    "- 최적의 파라미터를 찾자 : 하이퍼 파라미터 튜닝\n",
    "    "
   ]
  },
  {
   "cell_type": "code",
   "execution_count": null,
   "id": "5ad0586d",
   "metadata": {},
   "outputs": [],
   "source": []
  }
 ],
 "metadata": {
  "kernelspec": {
   "display_name": "Python 3 (ipykernel)",
   "language": "python",
   "name": "python3"
  },
  "language_info": {
   "codemirror_mode": {
    "name": "ipython",
    "version": 3
   },
   "file_extension": ".py",
   "mimetype": "text/x-python",
   "name": "python",
   "nbconvert_exporter": "python",
   "pygments_lexer": "ipython3",
   "version": "3.10.11"
  }
 },
 "nbformat": 4,
 "nbformat_minor": 5
}
