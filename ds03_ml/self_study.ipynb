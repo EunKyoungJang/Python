{
 "cells": [
  {
   "cell_type": "code",
   "execution_count": 1,
   "id": "611ce1a6",
   "metadata": {},
   "outputs": [],
   "source": [
    "import pandas as pd\n",
    "import numpy as np"
   ]
  },
  {
   "cell_type": "code",
   "execution_count": 2,
   "id": "a62012f0",
   "metadata": {},
   "outputs": [
    {
     "name": "stdout",
     "output_type": "stream",
     "text": [
      "<class 'numpy.ndarray'>\n"
     ]
    }
   ],
   "source": [
    "array1=np.array([1, 2, 3])\n",
    "print(type(array1))"
   ]
  },
  {
   "cell_type": "code",
   "execution_count": 3,
   "id": "720481a4",
   "metadata": {},
   "outputs": [
    {
     "name": "stdout",
     "output_type": "stream",
     "text": [
      "(3,)\n"
     ]
    }
   ],
   "source": [
    "print(array1.shape)\n",
    "# 1차원 array 3개"
   ]
  },
  {
   "cell_type": "code",
   "execution_count": 5,
   "id": "aa193429",
   "metadata": {},
   "outputs": [],
   "source": [
    "# -------"
   ]
  },
  {
   "cell_type": "code",
   "execution_count": 6,
   "id": "9bd1d356",
   "metadata": {},
   "outputs": [],
   "source": [
    "array2=np.array([[1, 2, 3],[2, 3, 4]])"
   ]
  },
  {
   "cell_type": "code",
   "execution_count": 7,
   "id": "fdbdbc04",
   "metadata": {},
   "outputs": [
    {
     "name": "stdout",
     "output_type": "stream",
     "text": [
      "<class 'numpy.ndarray'>\n"
     ]
    }
   ],
   "source": [
    "array2=np.array([[1, 2, 3],[2, 3, 4]])\n",
    "print(type(array2))"
   ]
  },
  {
   "cell_type": "code",
   "execution_count": 8,
   "id": "dfacda60",
   "metadata": {},
   "outputs": [
    {
     "name": "stdout",
     "output_type": "stream",
     "text": [
      "(2, 3)\n"
     ]
    }
   ],
   "source": [
    "print(array2.shape)\n",
    "# 2차원 array  2행(row)3열(column) \n",
    "# 2*3=6 총 6개의 데이터를 가지고 있음"
   ]
  },
  {
   "cell_type": "code",
   "execution_count": 9,
   "id": "09662250",
   "metadata": {},
   "outputs": [],
   "source": [
    "# ---------"
   ]
  },
  {
   "cell_type": "code",
   "execution_count": 10,
   "id": "fe7a6a44",
   "metadata": {},
   "outputs": [],
   "source": [
    "array3=np.array([[1, 2, 3]])"
   ]
  },
  {
   "cell_type": "code",
   "execution_count": 11,
   "id": "4efa8048",
   "metadata": {},
   "outputs": [
    {
     "name": "stdout",
     "output_type": "stream",
     "text": [
      "<class 'numpy.ndarray'>\n"
     ]
    }
   ],
   "source": [
    "array3=np.array([[1, 2, 3]])\n",
    "print(type(array3))"
   ]
  },
  {
   "cell_type": "code",
   "execution_count": 12,
   "id": "1d96865a",
   "metadata": {},
   "outputs": [
    {
     "name": "stdout",
     "output_type": "stream",
     "text": [
      "(1, 3)\n"
     ]
    }
   ],
   "source": [
    "print(array3.shape)\n",
    "#  [[]] 2차원 데이터\n",
    "# 1행 3열  1*3=3 총 3개의 데이터를 가지고 있음\n",
    "# 1차원일 땐 (3,) 같은 데이터 건수여도 이렇게 표시 안해줬는데 2차원에선 (1, 3) 이렇게 표현해줬다."
   ]
  },
  {
   "cell_type": "code",
   "execution_count": 13,
   "id": "9bac94a3",
   "metadata": {},
   "outputs": [],
   "source": [
    "# ----차원 알아보기"
   ]
  },
  {
   "cell_type": "code",
   "execution_count": 14,
   "id": "0006cf56",
   "metadata": {},
   "outputs": [
    {
     "name": "stdout",
     "output_type": "stream",
     "text": [
      "array1:1차원, array2:2차원, array3:2차원\n"
     ]
    }
   ],
   "source": [
    "print('array1:{0}차원, array2:{1}차원, array3:{2}차원'.format(array1.ndim, array2.ndim, array3.ndim))"
   ]
  },
  {
   "cell_type": "code",
   "execution_count": 15,
   "id": "6683dc22",
   "metadata": {},
   "outputs": [
    {
     "name": "stdout",
     "output_type": "stream",
     "text": [
      "1 차원\n",
      "2 차원\n",
      "2 차원\n"
     ]
    }
   ],
   "source": [
    "print(array1.ndim,\"차원\")\n",
    "print(array2.ndim,\"차원\")\n",
    "print(array3.ndim,\"차원\")"
   ]
  },
  {
   "cell_type": "code",
   "execution_count": 16,
   "id": "0bc33212",
   "metadata": {},
   "outputs": [
    {
     "name": "stdout",
     "output_type": "stream",
     "text": [
      "[1. 2. 3.] float64\n"
     ]
    }
   ],
   "source": [
    "array_int = np.array([1, 2, 3])\n",
    "array_float = array_int.astype('float64')\n",
    "print(array_float, array_float.dtype)"
   ]
  },
  {
   "cell_type": "code",
   "execution_count": 24,
   "id": "c356c9c3",
   "metadata": {},
   "outputs": [
    {
     "name": "stdout",
     "output_type": "stream",
     "text": [
      "[0 1 2 3 4 5 6 7 8 9]\n",
      "int32 (10,)\n"
     ]
    }
   ],
   "source": [
    "sequence_array = np.arange(10)\n",
    "print(sequence_array)\n",
    "print(sequence_array.dtype, sequence_array.shape)\n",
    "# int32 (10,)  1차원에 10개의 값이 있다."
   ]
  },
  {
   "cell_type": "code",
   "execution_count": 25,
   "id": "3a2cfdae",
   "metadata": {},
   "outputs": [
    {
     "ename": "SyntaxError",
     "evalue": "invalid syntax. Maybe you meant '==' or ':=' instead of '='? (3494806358.py, line 1)",
     "output_type": "error",
     "traceback": [
      "\u001b[1;36m  Cell \u001b[1;32mIn[25], line 1\u001b[1;36m\u001b[0m\n\u001b[1;33m    zero_array = np.zeros((3, 2)), dtype = 'int32'\u001b[0m\n\u001b[1;37m    ^\u001b[0m\n\u001b[1;31mSyntaxError\u001b[0m\u001b[1;31m:\u001b[0m invalid syntax. Maybe you meant '==' or ':=' instead of '='?\n"
     ]
    }
   ],
   "source": [
    "zero_array = np.zeros((3, 2)), dtype = 'int32'\n",
    "print(zero_array)"
   ]
  },
  {
   "cell_type": "code",
   "execution_count": null,
   "id": "43e3c0b2",
   "metadata": {},
   "outputs": [],
   "source": []
  }
 ],
 "metadata": {
  "kernelspec": {
   "display_name": "Python 3 (ipykernel)",
   "language": "python",
   "name": "python3"
  },
  "language_info": {
   "codemirror_mode": {
    "name": "ipython",
    "version": 3
   },
   "file_extension": ".py",
   "mimetype": "text/x-python",
   "name": "python",
   "nbconvert_exporter": "python",
   "pygments_lexer": "ipython3",
   "version": "3.10.11"
  }
 },
 "nbformat": 4,
 "nbformat_minor": 5
}
