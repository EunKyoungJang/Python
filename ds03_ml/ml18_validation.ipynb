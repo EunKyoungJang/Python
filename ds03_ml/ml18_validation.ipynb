{
 "cells": [
  {
   "cell_type": "code",
   "execution_count": 1,
   "id": "90a12359",
   "metadata": {},
   "outputs": [],
   "source": [
    "from sklearn.datasets import load_iris\n",
    "from sklearn.linear_model import LogisticRegression\n",
    "from sklearn.model_selection import cross_val_score"
   ]
  },
  {
   "cell_type": "code",
   "execution_count": 2,
   "id": "7746d2dd",
   "metadata": {},
   "outputs": [],
   "source": [
    "iris = load_iris()\n",
    "x = iris.data\n",
    "y = iris.target"
   ]
  },
  {
   "cell_type": "code",
   "execution_count": 3,
   "id": "d84d965a",
   "metadata": {},
   "outputs": [
    {
     "name": "stdout",
     "output_type": "stream",
     "text": [
      "(150, 4)\n",
      "(150,)\n"
     ]
    }
   ],
   "source": [
    "print(x.shape)\n",
    "print(y.shape)"
   ]
  },
  {
   "cell_type": "code",
   "execution_count": 4,
   "id": "d94d198b",
   "metadata": {},
   "outputs": [
    {
     "name": "stdout",
     "output_type": "stream",
     "text": [
      "['sepal length (cm)', 'sepal width (cm)', 'petal length (cm)', 'petal width (cm)']\n",
      "['setosa' 'versicolor' 'virginica']\n"
     ]
    }
   ],
   "source": [
    "print(iris.feature_names)\n",
    "print(iris.target_names)"
   ]
  },
  {
   "cell_type": "code",
   "execution_count": 7,
   "id": "26fdd821",
   "metadata": {},
   "outputs": [],
   "source": [
    "# max_iter =  반복 횟수\n",
    "model = LogisticRegression(max_iter=1000)\n",
    "# 학습을 1000번할건데 4개는 테스트시키고 1개는 검사하고"
   ]
  },
  {
   "cell_type": "code",
   "execution_count": 8,
   "id": "f83efb93",
   "metadata": {},
   "outputs": [
    {
     "data": {
      "text/plain": [
       "array([0.96666667, 1.        , 0.93333333, 0.96666667, 1.        ])"
      ]
     },
     "execution_count": 8,
     "metadata": {},
     "output_type": "execute_result"
    }
   ],
   "source": [
    "score = cross_val_score(model, x, y)\n",
    "score"
   ]
  },
  {
   "cell_type": "code",
   "execution_count": null,
   "id": "30773187",
   "metadata": {},
   "outputs": [],
   "source": [
    "k fold cross validation : k 겹 교차 검증 (default 5)\n",
    "epochs 1 : train, train, train, train, valid\n",
    "epochs 2 : train, train, train, valid, train\n",
    "epochs 3 : train, train, valid, train, train\n",
    "epochs 4 : train, valid, train, train, train\n",
    "epochs 5 : valid, train, train, train, train\n",
    "    \n",
    "-> train set을 k개로 나누어서 학습하고 돌아가면서 검증\n",
    "\n",
    "#     epoch 학습  epochs 학습들\n",
    "# 테스트셋은 한 번만 쓴다. 가장 마지막에 모델 평가할 때 \n",
    "# 근데 학습 중간중간에 내가 잘 하고 있나? 라는 생각이 들 때\n",
    "# 학습하는 데이터를 잘라서 하나는 검증 데이터로 쓰겠다.\n",
    "# 5개로 잘라서 학습할 때마다 학습이 잘 되고 있는지에 대한 평가를 할 수 있다. =>  그게 cross validation 결과\n",
    "# 모델 뒤에 cv가 이  cross validation의 줄임말"
   ]
  },
  {
   "cell_type": "code",
   "execution_count": 9,
   "id": "81ab38a9",
   "metadata": {},
   "outputs": [
    {
     "data": {
      "text/plain": [
       "array([1.        , 0.93333333, 1.        , 1.        , 0.93333333,\n",
       "       0.93333333, 0.93333333, 1.        , 1.        , 1.        ])"
      ]
     },
     "execution_count": 9,
     "metadata": {},
     "output_type": "execute_result"
    }
   ],
   "source": [
    "# cross_val_score : 교차 검증\n",
    "scores = cross_val_score(model, x, y, cv=10)\n",
    "scores\n",
    "#  cv의 디폴트값은 5인데 이번에는 10이야\n",
    "# 10개 쪼개서 한 그룹씩  10번 검증이아니라  => 10개로 쪼개는게 train 9개 valid 1개 "
   ]
  },
  {
   "cell_type": "code",
   "execution_count": null,
   "id": "2685cc5a",
   "metadata": {},
   "outputs": [],
   "source": [
    "# 결국 총 1000번 반복학습할건데 \n",
    "# 5개 구간(그룹)으로 나눠서 그룹은 세로로 보자\n",
    "# 1000번이 끝날 때까지 반복\n",
    "# https://scikit-learn.org/stable/modules/cross_validation.html#cross-validation"
   ]
  },
  {
   "cell_type": "code",
   "execution_count": 12,
   "id": "b4b804c9",
   "metadata": {},
   "outputs": [],
   "source": [
    "from sklearn.model_selection import cross_validate"
   ]
  },
  {
   "cell_type": "code",
   "execution_count": 13,
   "id": "1abb69dd",
   "metadata": {},
   "outputs": [
    {
     "data": {
      "text/plain": [
       "{'fit_time': array([0.02897906, 0.02898335, 0.02198577, 0.02498436, 0.0209868 ]),\n",
       " 'score_time': array([0.00100136, 0.00099945, 0.00100064, 0.0009973 , 0.00099897]),\n",
       " 'test_score': array([0.96666667, 1.        , 0.93333333, 0.96666667, 1.        ]),\n",
       " 'train_score': array([0.96666667, 0.96666667, 0.98333333, 0.98333333, 0.975     ])}"
      ]
     },
     "execution_count": 13,
     "metadata": {},
     "output_type": "execute_result"
    }
   ],
   "source": [
    "res = cross_validate(model, x, y, return_train_score=True)\n",
    "res"
   ]
  },
  {
   "cell_type": "code",
   "execution_count": 14,
   "id": "b872dedf",
   "metadata": {},
   "outputs": [],
   "source": [
    "import pandas as pd"
   ]
  },
  {
   "cell_type": "code",
   "execution_count": 20,
   "id": "e42b22cc",
   "metadata": {},
   "outputs": [],
   "source": [
    "from sklearn.model_selection import KFold"
   ]
  },
  {
   "cell_type": "code",
   "execution_count": 21,
   "id": "c1d46149",
   "metadata": {},
   "outputs": [
    {
     "data": {
      "text/plain": [
       "array([0., 0., 0.])"
      ]
     },
     "execution_count": 21,
     "metadata": {},
     "output_type": "execute_result"
    }
   ],
   "source": [
    "kfold = KFold(n_splits=3)\n",
    "cross_val_score(model, x, y, cv=kfold)\n",
    "# 학습 시킬 때 150을 3개로 잘라서 \n",
    "# setosa, 버지컬러, 버지니카 각각 다른방법 3가지로 학습을 시키면 어떻게 될까?\n",
    "# -> 안된다. 그래서 결과가 아래와 같이 나오는 것\n",
    "# 이럴 땐 어떻게 해야하나?"
   ]
  },
  {
   "cell_type": "code",
   "execution_count": 25,
   "id": "892f5800",
   "metadata": {},
   "outputs": [
    {
     "data": {
      "text/plain": [
       "array([0.98, 0.94, 0.96])"
      ]
     },
     "execution_count": 25,
     "metadata": {},
     "output_type": "execute_result"
    }
   ],
   "source": [
    "# 검증 방법이 다른데 검증을 하고 싶다면 kfold, shuffle을 써주면 된다.\n",
    "kfold = KFold(n_splits=3, shuffle=True, random_state=1)\n",
    "cross_val_score(model, x, y, cv=kfold)\n",
    "\n",
    "# KFold 를 사용하면 옵션을 더 많이 사용할 수 있다."
   ]
  },
  {
   "cell_type": "code",
   "execution_count": 26,
   "id": "e8ae9801",
   "metadata": {},
   "outputs": [
    {
     "data": {
      "text/plain": [
       "array([0.29333333, 0.33333333])"
      ]
     },
     "execution_count": 26,
     "metadata": {},
     "output_type": "execute_result"
    }
   ],
   "source": [
    "kfold = KFold(n_splits=2)\n",
    "cross_val_score(model, x, y, cv=kfold)"
   ]
  },
  {
   "cell_type": "code",
   "execution_count": null,
   "id": "86948930",
   "metadata": {},
   "outputs": [],
   "source": []
  }
 ],
 "metadata": {
  "kernelspec": {
   "display_name": "Python 3 (ipykernel)",
   "language": "python",
   "name": "python3"
  },
  "language_info": {
   "codemirror_mode": {
    "name": "ipython",
    "version": 3
   },
   "file_extension": ".py",
   "mimetype": "text/x-python",
   "name": "python",
   "nbconvert_exporter": "python",
   "pygments_lexer": "ipython3",
   "version": "3.10.11"
  }
 },
 "nbformat": 4,
 "nbformat_minor": 5
}
