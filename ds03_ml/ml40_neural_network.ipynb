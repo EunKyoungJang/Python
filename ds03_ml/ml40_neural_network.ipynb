{
 "cells": [
  {
   "cell_type": "code",
   "execution_count": 1,
   "id": "1db62d14",
   "metadata": {},
   "outputs": [],
   "source": [
    "from sklearn.datasets import load_iris\n",
    "from sklearn.model_selection import train_test_split\n",
    "from sklearn.neural_network import MLPClassifier"
   ]
  },
  {
   "cell_type": "code",
   "execution_count": 3,
   "id": "77a7f65c",
   "metadata": {},
   "outputs": [],
   "source": [
    "iris = load_iris()\n",
    "x = iris.data\n",
    "y = iris.target"
   ]
  },
  {
   "cell_type": "code",
   "execution_count": 4,
   "id": "be27c0ad",
   "metadata": {},
   "outputs": [],
   "source": [
    "x_train, x_test, y_train, y_test = train_test_split(x, y, test_size=0.3, random_state=1)"
   ]
  },
  {
   "cell_type": "code",
   "execution_count": 5,
   "id": "fa3512b7",
   "metadata": {},
   "outputs": [
    {
     "name": "stderr",
     "output_type": "stream",
     "text": [
      "C:\\Program Files (x86)\\ANACONDA3\\envs\\dsde04\\lib\\site-packages\\sklearn\\neural_network\\_multilayer_perceptron.py:691: ConvergenceWarning: Stochastic Optimizer: Maximum iterations (200) reached and the optimization hasn't converged yet.\n",
      "  warnings.warn(\n"
     ]
    },
    {
     "data": {
      "text/html": [
       "<style>#sk-container-id-1 {color: black;}#sk-container-id-1 pre{padding: 0;}#sk-container-id-1 div.sk-toggleable {background-color: white;}#sk-container-id-1 label.sk-toggleable__label {cursor: pointer;display: block;width: 100%;margin-bottom: 0;padding: 0.3em;box-sizing: border-box;text-align: center;}#sk-container-id-1 label.sk-toggleable__label-arrow:before {content: \"▸\";float: left;margin-right: 0.25em;color: #696969;}#sk-container-id-1 label.sk-toggleable__label-arrow:hover:before {color: black;}#sk-container-id-1 div.sk-estimator:hover label.sk-toggleable__label-arrow:before {color: black;}#sk-container-id-1 div.sk-toggleable__content {max-height: 0;max-width: 0;overflow: hidden;text-align: left;background-color: #f0f8ff;}#sk-container-id-1 div.sk-toggleable__content pre {margin: 0.2em;color: black;border-radius: 0.25em;background-color: #f0f8ff;}#sk-container-id-1 input.sk-toggleable__control:checked~div.sk-toggleable__content {max-height: 200px;max-width: 100%;overflow: auto;}#sk-container-id-1 input.sk-toggleable__control:checked~label.sk-toggleable__label-arrow:before {content: \"▾\";}#sk-container-id-1 div.sk-estimator input.sk-toggleable__control:checked~label.sk-toggleable__label {background-color: #d4ebff;}#sk-container-id-1 div.sk-label input.sk-toggleable__control:checked~label.sk-toggleable__label {background-color: #d4ebff;}#sk-container-id-1 input.sk-hidden--visually {border: 0;clip: rect(1px 1px 1px 1px);clip: rect(1px, 1px, 1px, 1px);height: 1px;margin: -1px;overflow: hidden;padding: 0;position: absolute;width: 1px;}#sk-container-id-1 div.sk-estimator {font-family: monospace;background-color: #f0f8ff;border: 1px dotted black;border-radius: 0.25em;box-sizing: border-box;margin-bottom: 0.5em;}#sk-container-id-1 div.sk-estimator:hover {background-color: #d4ebff;}#sk-container-id-1 div.sk-parallel-item::after {content: \"\";width: 100%;border-bottom: 1px solid gray;flex-grow: 1;}#sk-container-id-1 div.sk-label:hover label.sk-toggleable__label {background-color: #d4ebff;}#sk-container-id-1 div.sk-serial::before {content: \"\";position: absolute;border-left: 1px solid gray;box-sizing: border-box;top: 0;bottom: 0;left: 50%;z-index: 0;}#sk-container-id-1 div.sk-serial {display: flex;flex-direction: column;align-items: center;background-color: white;padding-right: 0.2em;padding-left: 0.2em;position: relative;}#sk-container-id-1 div.sk-item {position: relative;z-index: 1;}#sk-container-id-1 div.sk-parallel {display: flex;align-items: stretch;justify-content: center;background-color: white;position: relative;}#sk-container-id-1 div.sk-item::before, #sk-container-id-1 div.sk-parallel-item::before {content: \"\";position: absolute;border-left: 1px solid gray;box-sizing: border-box;top: 0;bottom: 0;left: 50%;z-index: -1;}#sk-container-id-1 div.sk-parallel-item {display: flex;flex-direction: column;z-index: 1;position: relative;background-color: white;}#sk-container-id-1 div.sk-parallel-item:first-child::after {align-self: flex-end;width: 50%;}#sk-container-id-1 div.sk-parallel-item:last-child::after {align-self: flex-start;width: 50%;}#sk-container-id-1 div.sk-parallel-item:only-child::after {width: 0;}#sk-container-id-1 div.sk-dashed-wrapped {border: 1px dashed gray;margin: 0 0.4em 0.5em 0.4em;box-sizing: border-box;padding-bottom: 0.4em;background-color: white;}#sk-container-id-1 div.sk-label label {font-family: monospace;font-weight: bold;display: inline-block;line-height: 1.2em;}#sk-container-id-1 div.sk-label-container {text-align: center;}#sk-container-id-1 div.sk-container {/* jupyter's `normalize.less` sets `[hidden] { display: none; }` but bootstrap.min.css set `[hidden] { display: none !important; }` so we also need the `!important` here to be able to override the default hidden behavior on the sphinx rendered scikit-learn.org. See: https://github.com/scikit-learn/scikit-learn/issues/21755 */display: inline-block !important;position: relative;}#sk-container-id-1 div.sk-text-repr-fallback {display: none;}</style><div id=\"sk-container-id-1\" class=\"sk-top-container\"><div class=\"sk-text-repr-fallback\"><pre>MLPClassifier(hidden_layer_sizes=(4, 80, 80, 40))</pre><b>In a Jupyter environment, please rerun this cell to show the HTML representation or trust the notebook. <br />On GitHub, the HTML representation is unable to render, please try loading this page with nbviewer.org.</b></div><div class=\"sk-container\" hidden><div class=\"sk-item\"><div class=\"sk-estimator sk-toggleable\"><input class=\"sk-toggleable__control sk-hidden--visually\" id=\"sk-estimator-id-1\" type=\"checkbox\" checked><label for=\"sk-estimator-id-1\" class=\"sk-toggleable__label sk-toggleable__label-arrow\">MLPClassifier</label><div class=\"sk-toggleable__content\"><pre>MLPClassifier(hidden_layer_sizes=(4, 80, 80, 40))</pre></div></div></div></div></div>"
      ],
      "text/plain": [
       "MLPClassifier(hidden_layer_sizes=(4, 80, 80, 40))"
      ]
     },
     "execution_count": 5,
     "metadata": {},
     "output_type": "execute_result"
    }
   ],
   "source": [
    "model = MLPClassifier(hidden_layer_sizes=(4, 80, 80, 40))\n",
    "model.fit(x_train, y_train)"
   ]
  },
  {
   "cell_type": "code",
   "execution_count": 9,
   "id": "420db1ec",
   "metadata": {
    "scrolled": true
   },
   "outputs": [
    {
     "name": "stdout",
     "output_type": "stream",
     "text": [
      "[5.8 4.  1.2 0.2] 예측 : setosa / 실제 : setosa\n",
      "[5.1 2.5 3.  1.1] 예측 : versicolor / 실제 : versicolor\n",
      "[6.6 3.  4.4 1.4] 예측 : versicolor / 실제 : versicolor\n",
      "[5.4 3.9 1.3 0.4] 예측 : setosa / 실제 : setosa\n",
      "[7.9 3.8 6.4 2. ] 예측 : versicolor / 실제 : virginica\n",
      "[6.3 3.3 4.7 1.6] 예측 : versicolor / 실제 : versicolor\n",
      "[6.9 3.1 5.1 2.3] 예측 : virginica / 실제 : virginica\n",
      "[5.1 3.8 1.9 0.4] 예측 : setosa / 실제 : setosa\n",
      "[4.7 3.2 1.6 0.2] 예측 : setosa / 실제 : setosa\n",
      "[6.9 3.2 5.7 2.3] 예측 : virginica / 실제 : virginica\n",
      "[5.6 2.7 4.2 1.3] 예측 : versicolor / 실제 : versicolor\n",
      "[5.4 3.9 1.7 0.4] 예측 : setosa / 실제 : setosa\n",
      "[7.1 3.  5.9 2.1] 예측 : virginica / 실제 : virginica\n",
      "[6.4 3.2 4.5 1.5] 예측 : versicolor / 실제 : versicolor\n",
      "[6.  2.9 4.5 1.5] 예측 : versicolor / 실제 : versicolor\n",
      "[4.4 3.2 1.3 0.2] 예측 : setosa / 실제 : setosa\n",
      "[5.8 2.6 4.  1.2] 예측 : versicolor / 실제 : versicolor\n",
      "[5.6 3.  4.5 1.5] 예측 : virginica / 실제 : versicolor\n",
      "[5.4 3.4 1.5 0.4] 예측 : setosa / 실제 : setosa\n",
      "[5.  3.2 1.2 0.2] 예측 : setosa / 실제 : setosa\n",
      "[5.5 2.6 4.4 1.2] 예측 : versicolor / 실제 : versicolor\n",
      "[5.4 3.  4.5 1.5] 예측 : virginica / 실제 : versicolor\n",
      "[6.7 3.  5.  1.7] 예측 : versicolor / 실제 : versicolor\n",
      "[5.  3.5 1.3 0.3] 예측 : setosa / 실제 : setosa\n",
      "[7.2 3.2 6.  1.8] 예측 : versicolor / 실제 : virginica\n",
      "[5.7 2.8 4.1 1.3] 예측 : versicolor / 실제 : versicolor\n",
      "[5.5 4.2 1.4 0.2] 예측 : setosa / 실제 : setosa\n",
      "[5.1 3.8 1.5 0.3] 예측 : setosa / 실제 : setosa\n",
      "[6.1 2.8 4.7 1.2] 예측 : versicolor / 실제 : versicolor\n",
      "[6.3 2.5 5.  1.9] 예측 : virginica / 실제 : virginica\n",
      "[6.1 3.  4.6 1.4] 예측 : versicolor / 실제 : versicolor\n",
      "[7.7 3.  6.1 2.3] 예측 : virginica / 실제 : virginica\n",
      "[5.6 2.5 3.9 1.1] 예측 : versicolor / 실제 : versicolor\n",
      "[6.4 2.8 5.6 2.1] 예측 : virginica / 실제 : virginica\n",
      "[5.8 2.8 5.1 2.4] 예측 : virginica / 실제 : virginica\n",
      "[5.3 3.7 1.5 0.2] 예측 : setosa / 실제 : setosa\n",
      "[5.5 2.3 4.  1.3] 예측 : versicolor / 실제 : versicolor\n",
      "[5.2 3.4 1.4 0.2] 예측 : setosa / 실제 : setosa\n",
      "[6.5 2.8 4.6 1.5] 예측 : versicolor / 실제 : versicolor\n",
      "[6.7 2.5 5.8 1.8] 예측 : virginica / 실제 : virginica\n",
      "[6.8 3.  5.5 2.1] 예측 : virginica / 실제 : virginica\n",
      "[5.1 3.5 1.4 0.3] 예측 : setosa / 실제 : setosa\n",
      "[6.  2.2 5.  1.5] 예측 : virginica / 실제 : virginica\n",
      "[6.3 2.9 5.6 1.8] 예측 : virginica / 실제 : virginica\n",
      "[6.6 2.9 4.6 1.3] 예측 : versicolor / 실제 : versicolor\n"
     ]
    }
   ],
   "source": [
    "pred = model.predict(x_test)\n",
    "for i in range(len(x_test)):\n",
    "    print(f\"{x_test[i]} 예측 : {iris.target_names[int(pred[i])]}\" + f\" / 실제 : {iris.target_names[y_test[i]]}\")"
   ]
  },
  {
   "cell_type": "code",
   "execution_count": null,
   "id": "122580c3",
   "metadata": {},
   "outputs": [],
   "source": [
    "model."
   ]
  }
 ],
 "metadata": {
  "kernelspec": {
   "display_name": "Python 3 (ipykernel)",
   "language": "python",
   "name": "python3"
  },
  "language_info": {
   "codemirror_mode": {
    "name": "ipython",
    "version": 3
   },
   "file_extension": ".py",
   "mimetype": "text/x-python",
   "name": "python",
   "nbconvert_exporter": "python",
   "pygments_lexer": "ipython3",
   "version": "3.10.11"
  }
 },
 "nbformat": 4,
 "nbformat_minor": 5
}
