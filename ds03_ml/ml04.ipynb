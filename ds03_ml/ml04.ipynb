{
 "cells": [
  {
   "cell_type": "code",
   "execution_count": 1,
   "id": "2f7af997",
   "metadata": {},
   "outputs": [
    {
     "name": "stdout",
     "output_type": "stream",
     "text": [
      "Collecting scikit-learn\n",
      "  Downloading scikit_learn-1.3.0-cp310-cp310-win_amd64.whl (9.2 MB)\n",
      "                                              0.0/9.2 MB ? eta -:--:--\n",
      "                                              0.0/9.2 MB 1.3 MB/s eta 0:00:08\n",
      "     -                                        0.3/9.2 MB 4.2 MB/s eta 0:00:03\n",
      "     ------                                   1.6/9.2 MB 16.6 MB/s eta 0:00:01\n",
      "     ----------                               2.5/9.2 MB 20.1 MB/s eta 0:00:01\n",
      "     ---------------                          3.6/9.2 MB 20.7 MB/s eta 0:00:01\n",
      "     ------------------                       4.2/9.2 MB 22.2 MB/s eta 0:00:01\n",
      "     ------------------                       4.2/9.2 MB 22.2 MB/s eta 0:00:01\n",
      "     ------------------                       4.2/9.2 MB 22.2 MB/s eta 0:00:01\n",
      "     ----------------------                   5.1/9.2 MB 16.3 MB/s eta 0:00:01\n",
      "     ----------------------------------       8.0/9.2 MB 23.3 MB/s eta 0:00:01\n",
      "     ---------------------------------------  9.2/9.2 MB 25.6 MB/s eta 0:00:01\n",
      "     ---------------------------------------- 9.2/9.2 MB 22.7 MB/s eta 0:00:00\n",
      "Requirement already satisfied: numpy>=1.17.3 in c:\\users\\student\\anaconda3\\envs\\dsde04\\lib\\site-packages (from scikit-learn) (1.25.0)\n",
      "Requirement already satisfied: scipy>=1.5.0 in c:\\users\\student\\anaconda3\\envs\\dsde04\\lib\\site-packages (from scikit-learn) (1.11.1)\n",
      "Collecting joblib>=1.1.1 (from scikit-learn)\n",
      "  Downloading joblib-1.3.1-py3-none-any.whl (301 kB)\n",
      "                                              0.0/302.0 kB ? eta -:--:--\n",
      "     ------------------------------------- 302.0/302.0 kB 18.2 MB/s eta 0:00:00\n",
      "Collecting threadpoolctl>=2.0.0 (from scikit-learn)\n",
      "  Downloading threadpoolctl-3.1.0-py3-none-any.whl (14 kB)\n",
      "Installing collected packages: threadpoolctl, joblib, scikit-learn\n",
      "Successfully installed joblib-1.3.1 scikit-learn-1.3.0 threadpoolctl-3.1.0\n",
      "Note: you may need to restart the kernel to use updated packages.\n"
     ]
    }
   ],
   "source": [
    "%pip install scikit-learn"
   ]
  },
  {
   "cell_type": "code",
   "execution_count": 13,
   "id": "9c2c7619",
   "metadata": {},
   "outputs": [],
   "source": [
    "import numpy as np\n",
    "import matplotlib.pyplot as plt\n",
    "from sklearn.model_selection import train_test_split\n",
    "from sklearn.linear_model import LinearRegression"
   ]
  },
  {
   "cell_type": "code",
   "execution_count": 14,
   "id": "fb34352f",
   "metadata": {},
   "outputs": [],
   "source": [
    "# 데이터 준비\n",
    "x = 10 * np.random.rand(100, 1)\n",
    "y = 3 * x + 1 + np.random.randn(100, 1)"
   ]
  },
  {
   "cell_type": "code",
   "execution_count": 15,
   "id": "f3f5704f",
   "metadata": {},
   "outputs": [
    {
     "name": "stdout",
     "output_type": "stream",
     "text": [
      "[[7.34937157]\n",
      " [7.07878568]\n",
      " [9.31281697]\n",
      " [0.5135437 ]\n",
      " [7.27219186]\n",
      " [2.13455765]\n",
      " [9.27814523]\n",
      " [4.49556999]\n",
      " [7.46553064]\n",
      " [1.66660429]\n",
      " [7.76301362]\n",
      " [7.95620582]\n",
      " [5.8386233 ]\n",
      " [1.09229215]\n",
      " [7.30651043]\n",
      " [1.80289741]\n",
      " [1.74495749]\n",
      " [9.05302819]\n",
      " [0.59843618]\n",
      " [0.46303879]\n",
      " [9.90060335]\n",
      " [3.81017716]\n",
      " [8.27402393]\n",
      " [3.8687577 ]\n",
      " [2.18768769]\n",
      " [9.46405533]\n",
      " [4.00371662]\n",
      " [2.14956223]\n",
      " [2.77094484]\n",
      " [9.3991704 ]\n",
      " [3.10930484]\n",
      " [9.02194145]\n",
      " [8.30026544]\n",
      " [2.57472766]\n",
      " [0.03993546]\n",
      " [5.81299085]\n",
      " [0.38054288]\n",
      " [4.80326974]\n",
      " [2.55196312]\n",
      " [2.51942105]\n",
      " [2.5161486 ]\n",
      " [6.62122931]\n",
      " [3.73892749]\n",
      " [1.374194  ]\n",
      " [4.06182191]\n",
      " [0.64539723]\n",
      " [5.4000045 ]\n",
      " [6.72861424]\n",
      " [3.14575126]\n",
      " [4.40998136]\n",
      " [0.37167233]\n",
      " [0.38857475]\n",
      " [6.76437543]\n",
      " [5.63167498]\n",
      " [4.13820098]\n",
      " [4.18208934]\n",
      " [8.99966881]\n",
      " [7.01981141]\n",
      " [1.00730912]\n",
      " [4.97920056]\n",
      " [4.21808122]\n",
      " [9.95243607]\n",
      " [7.55525787]\n",
      " [7.1861177 ]\n",
      " [2.22424478]\n",
      " [8.29692526]\n",
      " [8.0813575 ]\n",
      " [9.66941132]\n",
      " [4.03044284]\n",
      " [0.04491941]\n",
      " [7.76066942]\n",
      " [8.56679559]\n",
      " [9.65598289]\n",
      " [5.09936448]\n",
      " [1.1651973 ]\n",
      " [4.86982061]\n",
      " [0.75121227]\n",
      " [7.69872991]\n",
      " [9.98707742]\n",
      " [3.45582443]\n",
      " [6.30614339]\n",
      " [0.1249648 ]\n",
      " [4.31897878]\n",
      " [1.18485294]\n",
      " [9.21088794]\n",
      " [8.51291977]\n",
      " [9.62228015]\n",
      " [3.45906458]\n",
      " [7.28680915]\n",
      " [4.5287288 ]\n",
      " [4.36151924]\n",
      " [5.06811675]\n",
      " [0.84469813]\n",
      " [8.02760795]\n",
      " [9.80274786]\n",
      " [3.507817  ]\n",
      " [0.63208671]\n",
      " [6.73120464]\n",
      " [8.23465635]\n",
      " [9.06973533]]\n",
      "[[23.27198611]\n",
      " [20.47702129]\n",
      " [28.98877034]\n",
      " [ 1.8930358 ]\n",
      " [21.97784673]\n",
      " [ 6.5244359 ]\n",
      " [28.91814399]\n",
      " [14.78627583]\n",
      " [25.63509606]\n",
      " [ 6.64222828]\n",
      " [24.33606485]\n",
      " [24.49400221]\n",
      " [20.62249091]\n",
      " [ 6.17260799]\n",
      " [22.83096815]\n",
      " [ 7.77903722]\n",
      " [ 6.92743937]\n",
      " [27.5194655 ]\n",
      " [ 2.262754  ]\n",
      " [ 3.92995325]\n",
      " [29.78300185]\n",
      " [11.69186227]\n",
      " [25.71270163]\n",
      " [12.8512186 ]\n",
      " [ 7.00255426]\n",
      " [28.92524012]\n",
      " [11.69367681]\n",
      " [ 7.66427178]\n",
      " [ 9.06531379]\n",
      " [27.88196968]\n",
      " [ 9.57882715]\n",
      " [27.60169186]\n",
      " [25.5213568 ]\n",
      " [ 8.54697697]\n",
      " [ 0.99673448]\n",
      " [19.43244374]\n",
      " [ 3.05460447]\n",
      " [14.14740815]\n",
      " [ 7.71825735]\n",
      " [ 9.50506968]\n",
      " [ 6.80801621]\n",
      " [21.28580938]\n",
      " [10.08486775]\n",
      " [ 4.5126386 ]\n",
      " [13.81090109]\n",
      " [ 2.30824125]\n",
      " [17.27311767]\n",
      " [19.36981499]\n",
      " [10.18241788]\n",
      " [14.49654676]\n",
      " [-0.53579147]\n",
      " [ 3.18189274]\n",
      " [21.33665653]\n",
      " [17.5312333 ]\n",
      " [14.21862402]\n",
      " [14.87224271]\n",
      " [29.10619833]\n",
      " [21.61201959]\n",
      " [ 5.14659172]\n",
      " [16.20767218]\n",
      " [11.70710926]\n",
      " [30.37641557]\n",
      " [24.16736617]\n",
      " [21.36619079]\n",
      " [ 8.93049615]\n",
      " [27.03200177]\n",
      " [25.38752534]\n",
      " [29.54399495]\n",
      " [14.03461495]\n",
      " [ 0.53128942]\n",
      " [22.59539321]\n",
      " [26.49675048]\n",
      " [30.41552644]\n",
      " [18.84781997]\n",
      " [ 3.67171656]\n",
      " [15.52985599]\n",
      " [ 3.45496089]\n",
      " [24.30557151]\n",
      " [30.37069847]\n",
      " [11.00064529]\n",
      " [19.27580059]\n",
      " [ 1.67019662]\n",
      " [15.33839929]\n",
      " [ 3.4400888 ]\n",
      " [27.40072221]\n",
      " [27.25299232]\n",
      " [27.71512236]\n",
      " [11.32675028]\n",
      " [21.8838944 ]\n",
      " [15.36030738]\n",
      " [14.25095374]\n",
      " [15.76210512]\n",
      " [ 5.29108357]\n",
      " [27.46702029]\n",
      " [31.27779822]\n",
      " [11.56232088]\n",
      " [ 3.20920603]\n",
      " [22.86726468]\n",
      " [24.30762078]\n",
      " [26.2340354 ]]\n"
     ]
    }
   ],
   "source": [
    "print(x)\n",
    "print(y)"
   ]
  },
  {
   "cell_type": "code",
   "execution_count": 16,
   "id": "513732d6",
   "metadata": {},
   "outputs": [
    {
     "data": {
      "text/plain": [
       "<matplotlib.collections.PathCollection at 0x27bdbb1c6d0>"
      ]
     },
     "execution_count": 16,
     "metadata": {},
     "output_type": "execute_result"
    },
    {
     "data": {
      "image/png": "[encoded data removed]",
      "text/plain": [
       "<Figure size 640x480 with 1 Axes>"
      ]
     },
     "metadata": {},
     "output_type": "display_data"
    }
   ],
   "source": [
    "plt.scatter(x, y)"
   ]
  },
  {
   "cell_type": "code",
   "execution_count": 17,
   "id": "ceb4b6ac",
   "metadata": {},
   "outputs": [],
   "source": [
    "# 데이터 분할\n",
    "x_train, x_test, y_train, y_test = train_test_split(x, y,\n",
    "                                                   test_size=0.3,\n",
    "                                                   random_state=1)"
   ]
  },
  {
   "cell_type": "code",
   "execution_count": 18,
   "id": "2bb4f08d",
   "metadata": {},
   "outputs": [
    {
     "name": "stdout",
     "output_type": "stream",
     "text": [
      "[[9.66941132]\n",
      " [9.06973533]\n",
      " [4.13820098]\n",
      " [3.507817  ]\n",
      " [7.28680915]\n",
      " [2.5161486 ]\n",
      " [3.14575126]\n",
      " [4.97920056]\n",
      " [3.8687577 ]\n",
      " [0.03993546]\n",
      " [9.62228015]\n",
      " [5.63167498]\n",
      " [7.69872991]\n",
      " [1.80289741]\n",
      " [1.18485294]\n",
      " [6.62122931]\n",
      " [0.64539723]\n",
      " [5.06811675]\n",
      " [4.00371662]\n",
      " [8.23465635]\n",
      " [1.374194  ]\n",
      " [4.18208934]\n",
      " [2.18768769]\n",
      " [7.27219186]\n",
      " [1.00730912]\n",
      " [4.40998136]\n",
      " [3.81017716]\n",
      " [3.45906458]\n",
      " [0.5135437 ]\n",
      " [1.1651973 ]\n",
      " [3.10930484]\n",
      " [8.0813575 ]\n",
      " [7.76066942]\n",
      " [3.73892749]\n",
      " [6.72861424]\n",
      " [4.5287288 ]\n",
      " [7.46553064]\n",
      " [4.21808122]\n",
      " [7.34937157]\n",
      " [4.36151924]\n",
      " [7.01981141]\n",
      " [8.27402393]\n",
      " [9.95243607]\n",
      " [7.1861177 ]\n",
      " [4.49556999]\n",
      " [0.63208671]\n",
      " [1.09229215]\n",
      " [4.03044284]\n",
      " [8.51291977]\n",
      " [7.30651043]\n",
      " [9.3991704 ]\n",
      " [2.77094484]\n",
      " [7.95620582]\n",
      " [0.59843618]\n",
      " [9.90060335]\n",
      " [0.37167233]\n",
      " [9.46405533]\n",
      " [9.27814523]\n",
      " [8.56679559]\n",
      " [0.75121227]\n",
      " [7.07878568]\n",
      " [1.74495749]\n",
      " [2.22424478]\n",
      " [3.45582443]\n",
      " [2.13455765]\n",
      " [4.86982061]\n",
      " [1.66660429]\n",
      " [9.65598289]\n",
      " [5.8386233 ]\n",
      " [4.80326974]]\n",
      "[[6.30614339]\n",
      " [9.21088794]\n",
      " [2.57472766]\n",
      " [0.1249648 ]\n",
      " [8.02760795]\n",
      " [9.05302819]\n",
      " [0.38054288]\n",
      " [4.31897878]\n",
      " [0.04491941]\n",
      " [8.29692526]\n",
      " [0.84469813]\n",
      " [2.51942105]\n",
      " [8.99966881]\n",
      " [6.76437543]\n",
      " [0.38857475]\n",
      " [8.30026544]\n",
      " [9.02194145]\n",
      " [4.06182191]\n",
      " [9.98707742]\n",
      " [7.76301362]\n",
      " [9.31281697]\n",
      " [5.09936448]\n",
      " [6.73120464]\n",
      " [7.55525787]\n",
      " [0.46303879]\n",
      " [5.81299085]\n",
      " [9.80274786]\n",
      " [2.14956223]\n",
      " [5.4000045 ]\n",
      " [2.55196312]]\n"
     ]
    }
   ],
   "source": [
    "print(x_train)\n",
    "print(x_test)"
   ]
  },
  {
   "cell_type": "code",
   "execution_count": 19,
   "id": "fa61e9ff",
   "metadata": {},
   "outputs": [],
   "source": [
    "# 모델 선택\n",
    "model = LinearRegression()"
   ]
  },
  {
   "cell_type": "code",
   "execution_count": 20,
   "id": "56476c3b",
   "metadata": {},
   "outputs": [
    {
     "data": {
      "text/html": [
       "<style>#sk-container-id-1 {color: black;}#sk-container-id-1 pre{padding: 0;}#sk-container-id-1 div.sk-toggleable {background-color: white;}#sk-container-id-1 label.sk-toggleable__label {cursor: pointer;display: block;width: 100%;margin-bottom: 0;padding: 0.3em;box-sizing: border-box;text-align: center;}#sk-container-id-1 label.sk-toggleable__label-arrow:before {content: \"▸\";float: left;margin-right: 0.25em;color: #696969;}#sk-container-id-1 label.sk-toggleable__label-arrow:hover:before {color: black;}#sk-container-id-1 div.sk-estimator:hover label.sk-toggleable__label-arrow:before {color: black;}#sk-container-id-1 div.sk-toggleable__content {max-height: 0;max-width: 0;overflow: hidden;text-align: left;background-color: #f0f8ff;}#sk-container-id-1 div.sk-toggleable__content pre {margin: 0.2em;color: black;border-radius: 0.25em;background-color: #f0f8ff;}#sk-container-id-1 input.sk-toggleable__control:checked~div.sk-toggleable__content {max-height: 200px;max-width: 100%;overflow: auto;}#sk-container-id-1 input.sk-toggleable__control:checked~label.sk-toggleable__label-arrow:before {content: \"▾\";}#sk-container-id-1 div.sk-estimator input.sk-toggleable__control:checked~label.sk-toggleable__label {background-color: #d4ebff;}#sk-container-id-1 div.sk-label input.sk-toggleable__control:checked~label.sk-toggleable__label {background-color: #d4ebff;}#sk-container-id-1 input.sk-hidden--visually {border: 0;clip: rect(1px 1px 1px 1px);clip: rect(1px, 1px, 1px, 1px);height: 1px;margin: -1px;overflow: hidden;padding: 0;position: absolute;width: 1px;}#sk-container-id-1 div.sk-estimator {font-family: monospace;background-color: #f0f8ff;border: 1px dotted black;border-radius: 0.25em;box-sizing: border-box;margin-bottom: 0.5em;}#sk-container-id-1 div.sk-estimator:hover {background-color: #d4ebff;}#sk-container-id-1 div.sk-parallel-item::after {content: \"\";width: 100%;border-bottom: 1px solid gray;flex-grow: 1;}#sk-container-id-1 div.sk-label:hover label.sk-toggleable__label {background-color: #d4ebff;}#sk-container-id-1 div.sk-serial::before {content: \"\";position: absolute;border-left: 1px solid gray;box-sizing: border-box;top: 0;bottom: 0;left: 50%;z-index: 0;}#sk-container-id-1 div.sk-serial {display: flex;flex-direction: column;align-items: center;background-color: white;padding-right: 0.2em;padding-left: 0.2em;position: relative;}#sk-container-id-1 div.sk-item {position: relative;z-index: 1;}#sk-container-id-1 div.sk-parallel {display: flex;align-items: stretch;justify-content: center;background-color: white;position: relative;}#sk-container-id-1 div.sk-item::before, #sk-container-id-1 div.sk-parallel-item::before {content: \"\";position: absolute;border-left: 1px solid gray;box-sizing: border-box;top: 0;bottom: 0;left: 50%;z-index: -1;}#sk-container-id-1 div.sk-parallel-item {display: flex;flex-direction: column;z-index: 1;position: relative;background-color: white;}#sk-container-id-1 div.sk-parallel-item:first-child::after {align-self: flex-end;width: 50%;}#sk-container-id-1 div.sk-parallel-item:last-child::after {align-self: flex-start;width: 50%;}#sk-container-id-1 div.sk-parallel-item:only-child::after {width: 0;}#sk-container-id-1 div.sk-dashed-wrapped {border: 1px dashed gray;margin: 0 0.4em 0.5em 0.4em;box-sizing: border-box;padding-bottom: 0.4em;background-color: white;}#sk-container-id-1 div.sk-label label {font-family: monospace;font-weight: bold;display: inline-block;line-height: 1.2em;}#sk-container-id-1 div.sk-label-container {text-align: center;}#sk-container-id-1 div.sk-container {/* jupyter's `normalize.less` sets `[hidden] { display: none; }` but bootstrap.min.css set `[hidden] { display: none !important; }` so we also need the `!important` here to be able to override the default hidden behavior on the sphinx rendered scikit-learn.org. See: https://github.com/scikit-learn/scikit-learn/issues/21755 */display: inline-block !important;position: relative;}#sk-container-id-1 div.sk-text-repr-fallback {display: none;}</style><div id=\"sk-container-id-1\" class=\"sk-top-container\"><div class=\"sk-text-repr-fallback\"><pre>LinearRegression()</pre><b>In a Jupyter environment, please rerun this cell to show the HTML representation or trust the notebook. <br />On GitHub, the HTML representation is unable to render, please try loading this page with nbviewer.org.</b></div><div class=\"sk-container\" hidden><div class=\"sk-item\"><div class=\"sk-estimator sk-toggleable\"><input class=\"sk-toggleable__control sk-hidden--visually\" id=\"sk-estimator-id-1\" type=\"checkbox\" checked><label for=\"sk-estimator-id-1\" class=\"sk-toggleable__label sk-toggleable__label-arrow\">LinearRegression</label><div class=\"sk-toggleable__content\"><pre>LinearRegression()</pre></div></div></div></div></div>"
      ],
      "text/plain": [
       "LinearRegression()"
      ]
     },
     "execution_count": 20,
     "metadata": {},
     "output_type": "execute_result"
    }
   ],
   "source": [
    "# 모델 학습\n",
    "model.fit(x_train, y_train)"
   ]
  },
  {
   "cell_type": "code",
   "execution_count": 22,
   "id": "d0e94ffe",
   "metadata": {},
   "outputs": [
    {
     "data": {
      "text/plain": [
       "array([[19.57288461],\n",
       "       [28.14991932],\n",
       "       [ 8.55488226],\n",
       "       [ 1.3213026 ],\n",
       "       [24.65596885],\n",
       "       [27.68379621],\n",
       "       [ 2.07596522],\n",
       "       [13.70524994],\n",
       "       [ 1.08494721],\n",
       "       [25.45120022],\n",
       "       [ 3.44650764],\n",
       "       [ 8.39157471],\n",
       "       [27.52623838],\n",
       "       [20.92593718],\n",
       "       [ 2.09968145],\n",
       "       [25.46106297],\n",
       "       [27.59200429],\n",
       "       [12.94592555],\n",
       "       [30.44182622],\n",
       "       [23.87468337],\n",
       "       [28.45089201],\n",
       "       [16.00954732],\n",
       "       [20.82799155],\n",
       "       [23.261229  ],\n",
       "       [ 2.31955642],\n",
       "       [18.1167199 ],\n",
       "       [29.89754394],\n",
       "       [ 7.2994677 ],\n",
       "       [16.89726733],\n",
       "       [ 8.48766388]])"
      ]
     },
     "execution_count": 22,
     "metadata": {},
     "output_type": "execute_result"
    }
   ],
   "source": [
    "# 예측\n",
    "predict = model.predict(x_test)\n",
    "predict"
   ]
  },
  {
   "cell_type": "code",
   "execution_count": 23,
   "id": "10840e9c",
   "metadata": {},
   "outputs": [
    {
     "data": {
      "image/png": "[encoded data removed]",
      "text/plain": [
       "<Figure size 640x480 with 1 Axes>"
      ]
     },
     "metadata": {},
     "output_type": "display_data"
    }
   ],
   "source": [
    "plt.plot(x, y, 'o')\n",
    "plt.plot(x_test, predict)\n",
    "plt.show()"
   ]
  },
  {
   "cell_type": "code",
   "execution_count": 25,
   "id": "6c9599b4",
   "metadata": {},
   "outputs": [
    {
     "data": {
      "text/plain": [
       "array([[27.5272163]])"
      ]
     },
     "execution_count": 25,
     "metadata": {},
     "output_type": "execute_result"
    }
   ],
   "source": [
    "model.predict([[9]])"
   ]
  },
  {
   "cell_type": "code",
   "execution_count": null,
   "id": "01d963f3",
   "metadata": {},
   "outputs": [],
   "source": []
  }
 ],
 "metadata": {
  "kernelspec": {
   "display_name": "Python 3 (ipykernel)",
   "language": "python",
   "name": "python3"
  },
  "language_info": {
   "codemirror_mode": {
    "name": "ipython",
    "version": 3
   },
   "file_extension": ".py",
   "mimetype": "text/x-python",
   "name": "python",
   "nbconvert_exporter": "python",
   "pygments_lexer": "ipython3",
   "version": "3.10.11"
  }
 },
 "nbformat": 4,
 "nbformat_minor": 5
}
