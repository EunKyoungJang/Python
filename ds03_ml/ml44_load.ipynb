{
 "cells": [
  {
   "cell_type": "code",
   "execution_count": 1,
   "id": "99991c42",
   "metadata": {},
   "outputs": [],
   "source": [
    "import joblib"
   ]
  },
  {
   "cell_type": "code",
   "execution_count": 2,
   "id": "bba4b774",
   "metadata": {},
   "outputs": [],
   "source": [
    "model = joblib.load(\"iris_random_forest.pkl\")"
   ]
  },
  {
   "cell_type": "code",
   "execution_count": 3,
   "id": "54e86b13",
   "metadata": {},
   "outputs": [],
   "source": [
    "iris_test = [[5.0, 3.0, 1.1, 0.9]]"
   ]
  },
  {
   "cell_type": "code",
   "execution_count": 4,
   "id": "c299d13d",
   "metadata": {},
   "outputs": [
    {
     "data": {
      "text/plain": [
       "array([0])"
      ]
     },
     "execution_count": 4,
     "metadata": {},
     "output_type": "execute_result"
    }
   ],
   "source": [
    "model.predict(iris_test)\n",
    "# setosa"
   ]
  },
  {
   "cell_type": "code",
   "execution_count": null,
   "id": "9209ae5a",
   "metadata": {},
   "outputs": [],
   "source": [
    "# class, python, 함수로 만들어서 사용해야한다. 주피터로 하면 안됨\n",
    "\n",
    "\n",
    "# 연진님 노티\n",
    "\n",
    "# 주피터로 만든 코드를 클래스나 함수로 만들어 파이썬 코드로 만들기\n",
    "# 그 파이썬 코드로 만들어 사용할 때 장고에 가져다올려놓고 그대로 쓰면\n",
    "# 학습을 매번 돌리면 지금이야 금방 나오지만\n",
    "# 딥러닝 한 걸 계속 돌려야하니 시간이 옴총나게 매일 나온다\n",
    "# 그렇게 되면 안됨(사용자가 쓸때마다 시간이 걸리면 안되니)\n",
    "\n",
    "# 고로 그렇게 하는 게 아니라\n",
    "# 이미 학습 완료 파일 저장해놓고 불러다가 예측만 해서 예측된 것을 서비스로 요청 응답해줘야함\n",
    "#"
   ]
  }
 ],
 "metadata": {
  "kernelspec": {
   "display_name": "Python 3 (ipykernel)",
   "language": "python",
   "name": "python3"
  },
  "language_info": {
   "codemirror_mode": {
    "name": "ipython",
    "version": 3
   },
   "file_extension": ".py",
   "mimetype": "text/x-python",
   "name": "python",
   "nbconvert_exporter": "python",
   "pygments_lexer": "ipython3",
   "version": "3.10.11"
  }
 },
 "nbformat": 4,
 "nbformat_minor": 5
}
